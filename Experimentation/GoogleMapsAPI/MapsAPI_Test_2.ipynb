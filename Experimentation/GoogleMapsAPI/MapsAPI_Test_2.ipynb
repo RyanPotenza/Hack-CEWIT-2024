{
 "cells": [
  {
   "cell_type": "code",
   "execution_count": 117,
   "metadata": {},
   "outputs": [],
   "source": [
    "import googlemaps\n",
    "import pandas as pd\n",
    "\n",
    "import plotly.express as px\n",
    "import plotly.graph_objects as go\n",
    "\n",
    "from typing import List, Dict, Any, Tuple"
   ]
  },
  {
   "cell_type": "code",
   "execution_count": 118,
   "metadata": {},
   "outputs": [],
   "source": [
    "with open(\"../../APIKey.txt\") as f:\n",
    "    api_key = f.readline()"
   ]
  },
  {
   "cell_type": "code",
   "execution_count": 119,
   "metadata": {},
   "outputs": [],
   "source": [
    "class GooglePlacesClient:\n",
    "    def __init__(self, api_key: str):\n",
    "        \"\"\"\n",
    "        Initializes the GooglePlacesClient with a given API key.\n",
    "\n",
    "        :param api_key: Google Places API key.\n",
    "        \"\"\"\n",
    "        self.client = googlemaps.Client(key=api_key)\n",
    "\n",
    "    def find_nearby_charging_stations(self, location: Tuple[float, float],  radius: int = 50000) -> List[dict]:\n",
    "        \"\"\"\n",
    "        Finds nearby EV charging stations within a specified radius from the current location.\n",
    "\n",
    "        :param location: A tuple containing the latitude and longitude of the current location.\n",
    "        :param radius: Search radius in meters. Default is 10,000 meters (10 km).\n",
    "        :return: A list of dictionaries containing information about each charging station found.\n",
    "        \"\"\"\n",
    "        results = self.client.places_nearby(\n",
    "            location=location,\n",
    "            radius=radius,\n",
    "            type=\"electric_vehicle_charging_station\"\n",
    "        )\n",
    "\n",
    "        if not results or 'results' not in results or len(results['results']) == 0:\n",
    "            return []\n",
    "\n",
    "        return results['results']"
   ]
  },
  {
   "cell_type": "code",
   "execution_count": 120,
   "metadata": {},
   "outputs": [],
   "source": [
    "class GoogleMapsClient:\n",
    "    def __init__(self, api_key: str):\n",
    "        self.client = googlemaps.Client(key=api_key)\n",
    "\n",
    "    def get_route(self, start: Tuple[float, float], end: Tuple[float, float]) -> dict:\n",
    "        \"\"\"\n",
    "        Fetches route information from start to end using Google Maps API.\n",
    "\n",
    "        :param start: A tuple containing the latitude and longitude of the start point.\n",
    "        :param end: A tuple containing the latitude and longitude of the end point.\n",
    "        :return: Route information as a dictionary.\n",
    "        \"\"\"\n",
    "        routes = self.client.directions(start, end, mode=\"driving\", units=\"metric\")\n",
    "        if not routes:\n",
    "            raise ValueError(\"No routes found\")\n",
    "        return routes[0]\n"
   ]
  },
  {
   "cell_type": "code",
   "execution_count": 121,
   "metadata": {},
   "outputs": [],
   "source": [
    "class EVRoutePlanner:\n",
    "    def __init__(self, api_key: str, start: Tuple[float, float], end: Tuple[float, float], vehicle_range: int):\n",
    "        \"\"\"\n",
    "        Initializes the EVRoutePlanner with start, end locations, and the EV's range.\n",
    "\n",
    "        :param api_key: API key for accessing Google Maps and Places APIs.\n",
    "        :param start: Start location as a tuple (latitude, longitude).\n",
    "        :param end: End location as a tuple (latitude, longitude).\n",
    "        :param vehicle_range: The EV's range on a full charge in meters.\n",
    "        \"\"\"\n",
    "        self.maps_client = GoogleMapsClient(api_key)\n",
    "        self.places_client = GooglePlacesClient(api_key)\n",
    "        self.start = start\n",
    "        self.end = end\n",
    "        self.vehicle_range = vehicle_range\n",
    "        self.route = []\n",
    "        self.total_distance = 0\n",
    "\n",
    "        self.charging_stations = []\n",
    "\n",
    "    def calculate_route(self) -> List[dict]:\n",
    "        \"\"\"\n",
    "        Calculates the route, including necessary charging stops based on the EV's range.\n",
    "\n",
    "        :return: A list of route segments, including charging stops.\n",
    "        \"\"\"\n",
    "        current_location = self.start\n",
    "        keepGoing = True\n",
    "        while keepGoing:\n",
    "            # try:\n",
    "            print(current_location, self.end)\n",
    "            route_segment = self.maps_client.get_route(current_location, self.end)\n",
    "            nodes = self._route_to_nodes(route_segment)\n",
    "            print(nodes)\n",
    "            # self.end = (nodes[-1]['lat'], nodes[-1]['lng'])\n",
    "            for i, node in enumerate(nodes):\n",
    "                print(f\"Processing node {i + 1} of {len(nodes)}\")\n",
    "                if self._requires_charge(node, nodes, i):\n",
    "                    charging_station_route = node['nearest_ev_route_segment']\n",
    "\n",
    "                    # We must add the route nodes to the route list\n",
    "                    for step in charging_station_route['steps']:\n",
    "                        self.route.append({\n",
    "                            'lat': step['start_location']['lat'],\n",
    "                            'lng': step['start_location']['lng'],\n",
    "                            'dist': step['distance']['value']\n",
    "                        })\n",
    "                        self.total_distance += step['distance']['value']\n",
    "\n",
    "                    # Reset the distance \n",
    "                    self.total_distance = 0\n",
    "\n",
    "                    # Add the charging station to the charging stations list\n",
    "                    self.charging_stations.append({\n",
    "                        'lat': charging_station_route['start_location']['lat'],\n",
    "                        'lng': charging_station_route['start_location']['lng']\n",
    "                    })\n",
    "\n",
    "                    # Recalculate route from charging station to end\n",
    "                    #print  out the start and end location of charging station route\n",
    "                    print(f\"Charging station route start: {charging_station_route['start_location']}\")\n",
    "                    print(f\"Charging station route end: {charging_station_route['end_location']}\")\n",
    "                    current_location = (charging_station_route['steps'][-1]['end_location']['lat'], charging_station_route['steps'][-1]['end_location']['lng'])\n",
    "                    break\n",
    "                else:\n",
    "                    self.route.append(node)\n",
    "                    self.total_distance += node['dist']\n",
    "                    if i == len(nodes) - 1:\n",
    "                        # current_location = self.end\n",
    "                        keepGoing = False\n",
    "            # except Exception as e:\n",
    "            #     print(f\"Error calculating route: {e}\")\n",
    "            #     break\n",
    "        return self.route\n",
    "    \n",
    "    def _requires_charge(self, current_node, nodes, current_node_i) -> bool:\n",
    "        \"\"\"\n",
    "        Determines if charging is required based on the EV's current range,\n",
    "        the distance to the next node, and the distance from the next node to the nearest charging station.\n",
    "\n",
    "        :param current_node: The current node in the route.\n",
    "        :param nodes: List of all nodes\n",
    "        :param current_node_i: The index of the current node in the list of nodes\n",
    "        :return: True if charging is required before reaching the next node, False otherwise.\n",
    "        \"\"\"\n",
    "\n",
    "        if not nodes:\n",
    "            return False\n",
    "        if 'nearest_ev_station_distance' in current_node:\n",
    "            currentDist = self.total_distance\n",
    "            while current_node_i < len(nodes):\n",
    "                currentDist += nodes[current_node_i]['dist']\n",
    "                if 'nearest_ev_station_distance' in nodes[current_node_i]:\n",
    "                    currentDist += nodes[current_node_i]['nearest_ev_station_distance']\n",
    "                    print(f\"Nearest station distance: {nodes[current_node_i]['nearest_ev_station_distance']}\")\n",
    "                    print(f\"Current distance: {currentDist}\")\n",
    "                    print(f\"EV range: {self.vehicle_range}\")\n",
    "                    return currentDist > self.vehicle_range\n",
    "                current_node_i += 1\n",
    "            return False\n",
    "        # if not next_node:\n",
    "        #     return False\n",
    "        # if 'nearest_ev_station_distance' in current_node:\n",
    "        #     distance_to_next_node = current_node['dist']\n",
    "        #     distance_from_next_node_to_nearest_station = next_node.get('nearest_ev_station_distance', float('inf'))\n",
    "        \n",
    "        #     # Calculate total distance from current node to next node and then to its nearest charging station\n",
    "        #     total_distance = distance_to_next_node + distance_from_next_node_to_nearest_station + self.total_distance\n",
    "        #     print(distance_from_next_node_to_nearest_station)\n",
    "\n",
    "        #     print(f\"Total distance: {total_distance}\")\n",
    "        #     # print(f\"EV range: {self\n",
    "        \n",
    "        #     # Compare total distance with the EV's remaining range\n",
    "        #     if total_distance > self.vehicle_range:\n",
    "        #         return True\n",
    "        # return False\n",
    "\n",
    "    def _route_to_nodes(self, route_segment) -> List[dict]:\n",
    "        \"\"\"\n",
    "        Converts a route segment to a list of nodes, where each node represents a step in the route\n",
    "        with its start location (latitude and longitude) and distance.\n",
    "\n",
    "        :param route_segment: Segment of the route as returned by the Google Maps API.\n",
    "        :return: A list of nodes, each containing latitude, longitude, and distance.\n",
    "        \"\"\"\n",
    "        nodes = []\n",
    "        # Iterate through each step in the route segment\n",
    "        for step in route_segment['legs'][0]['steps']:\n",
    "            node = {\n",
    "                'lat': step['start_location']['lat'],\n",
    "                'lng': step['start_location']['lng'],\n",
    "                'dist': step['distance']['value']  # Distance in meters\n",
    "            }\n",
    "            # Calculate the distance to the nearest EV charging station\n",
    "            # nearest_station = self._find_nearest_charging_station(node['lat'], node['lng'])\n",
    "            nearest_stations = self.places_client.find_nearby_charging_stations((node['lat'], node['lng']))#[0]['geometry']['location']\n",
    "\n",
    "            # Based on the results, find the one that is closest to the destination\n",
    "            nearest_station = None\n",
    "            nearest_station_distance = float('inf')\n",
    "            nearest_station_route = None\n",
    "            i = 0\n",
    "            for station in nearest_stations:\n",
    "                if i > 3: break\n",
    "                i+=1\n",
    "                station_location = station['geometry']['location']\n",
    "                station_route = self.maps_client.get_route((node['lat'], node['lng']), (station_location['lat'], station_location['lng']))\n",
    "                station_distance = station_route['legs'][0]['distance']['value']\n",
    "                if station_distance < nearest_station_distance:\n",
    "                    nearest_station = station\n",
    "                    nearest_station_distance = station_distance\n",
    "                    nearest_station_route = station_route['legs'][0]\n",
    "            if nearest_station:\n",
    "                node['nearest_ev_station'] = nearest_station\n",
    "                node['nearest_ev_station_distance'] = nearest_station_distance\n",
    "                node['nearest_ev_route_segment'] = nearest_station_route\n",
    "\n",
    "\n",
    "            nodes.append(node)\n",
    "        # Append the end location of the last step to ensure the route is fully covered\n",
    "        last_step = route_segment['legs'][0]['steps'][-1]\n",
    "        nodes.append({\n",
    "            'lat': last_step['end_location']['lat'],\n",
    "            'lng': last_step['end_location']['lng'],\n",
    "            'dist': 0  # No additional distance from the last node\n",
    "        })\n",
    "        return nodes\n",
    "    \n",
    "    \n"
   ]
  },
  {
   "cell_type": "code",
   "execution_count": 122,
   "metadata": {},
   "outputs": [
    {
     "name": "stdout",
     "output_type": "stream",
     "text": [
      "(40.743462, -74.029068) (40.783611, -74.69812)\n",
      "[{'lat': 40.7434694, 'lng': -74.02906639999999, 'dist': 152, 'nearest_ev_station': {'business_status': 'OPERATIONAL', 'geometry': {'location': {'lat': 40.7393875, 'lng': -74.0280172}, 'viewport': {'northeast': {'lat': 40.74078078029149, 'lng': -74.0264609697085}, 'southwest': {'lat': 40.7380828197085, 'lng': -74.02915893029152}}}, 'icon': 'https://maps.gstatic.com/mapfiles/place_api/icons/v1/png_71/lodging-71.png', 'icon_background_color': '#909CE1', 'icon_mask_base_uri': 'https://maps.gstatic.com/mapfiles/place_api/icons/v2/hotel_pinlet', 'name': 'W Hoboken', 'photos': [{'height': 480, 'html_attributions': ['<a href=\"https://maps.google.com/maps/contrib/117733675958693972426\">W Hoboken</a>'], 'photo_reference': 'ATplDJaDxGfRftjx3eVjEEW51WHLWm5SoUMN11qwPt-gt3LLOoDR-R3n4wIs4A7_BjgD4OujdEzjeAea8NuKnhvRAmu6V0BNUlznTa4fpSCYPmrDyDqB3BiJOldFoQxQO6J7qTnvXKY7na5vjqWx8v0Y8SX3TJ1POgzUXFYq1AGhk8o6FPxU', 'width': 320}], 'place_id': 'ChIJ67eiTOBZwokRvqTgL4UexRk', 'plus_code': {'compound_code': 'PXQC+QQ Hoboken, NJ, USA', 'global_code': '87G7PXQC+QQ'}, 'rating': 4.4, 'reference': 'ChIJ67eiTOBZwokRvqTgL4UexRk', 'scope': 'GOOGLE', 'types': ['lodging', 'point_of_interest', 'establishment'], 'user_ratings_total': 1834, 'vicinity': '225 River Street, Hoboken'}, 'nearest_ev_station_distance': 605, 'nearest_ev_route_segment': {'distance': {'text': '0.6 km', 'value': 605}, 'duration': {'text': '4 mins', 'value': 213}, 'end_address': '225 River St, Hoboken, NJ 07030, USA', 'end_location': {'lat': 40.7394067, 'lng': -74.0281227}, 'start_address': '603 Washington St, Hoboken, NJ 07030, USA', 'start_location': {'lat': 40.7434694, 'lng': -74.02906639999999}, 'steps': [{'distance': {'text': '0.1 km', 'value': 145}, 'duration': {'text': '1 min', 'value': 44}, 'end_location': {'lat': 40.7422009, 'lng': -74.0294637}, 'html_instructions': 'Head <b>south</b> on <b>Washington St</b> toward <b>5th St</b>', 'polyline': {'points': 'uutwFtxybMhB^`@JpB`@'}, 'start_location': {'lat': 40.7434694, 'lng': -74.02906639999999}, 'travel_mode': 'DRIVING'}, {'distance': {'text': '94 m', 'value': 94}, 'duration': {'text': '1 min', 'value': 49}, 'end_location': {'lat': 40.7420204, 'lng': -74.0283681}, 'html_instructions': 'Turn <b>left</b> at the 1st cross street onto <b>5th St</b>', 'maneuver': 'turn-left', 'polyline': {'points': 'wmtwFb{ybMPqBPgB'}, 'start_location': {'lat': 40.7422009, 'lng': -74.0294637}, 'travel_mode': 'DRIVING'}, {'distance': {'text': '0.3 km', 'value': 252}, 'duration': {'text': '1 min', 'value': 61}, 'end_location': {'lat': 40.7398185, 'lng': -74.0290546}, 'html_instructions': 'Turn <b>right</b> onto <b>Hudson St</b>', 'maneuver': 'turn-right', 'polyline': {'points': 'sltwFhtybMJ@h@LNBt@Nr@NJBlAVfB`@dAT'}, 'start_location': {'lat': 40.7420204, 'lng': -74.0283681}, 'travel_mode': 'DRIVING'}, {'distance': {'text': '87 m', 'value': 87}, 'duration': {'text': '1 min', 'value': 37}, 'end_location': {'lat': 40.7396405, 'lng': -74.0280485}, 'html_instructions': 'Turn <b>left</b> onto <b>3rd St</b>', 'maneuver': 'turn-left', 'polyline': {'points': '{~swFpxybMNwARoB'}, 'start_location': {'lat': 40.7398185, 'lng': -74.0290546}, 'travel_mode': 'DRIVING'}, {'distance': {'text': '27 m', 'value': 27}, 'duration': {'text': '1 min', 'value': 22}, 'end_location': {'lat': 40.7394067, 'lng': -74.0281227}, 'html_instructions': 'Turn <b>right</b> at the 1st cross street onto <b>River St</b><div style=\"font-size:0.9em\">Destination will be on the left</div>', 'maneuver': 'turn-right', 'polyline': {'points': 'w}swFhrybMl@L'}, 'start_location': {'lat': 40.7396405, 'lng': -74.0280485}, 'travel_mode': 'DRIVING'}], 'traffic_speed_entry': [], 'via_waypoint': []}}, {'lat': 40.7437773, 'lng': -74.0308202, 'dist': 894, 'nearest_ev_station': {'business_status': 'OPERATIONAL', 'geometry': {'location': {'lat': 40.7297195, 'lng': -74.04018409999999}, 'viewport': {'northeast': {'lat': 40.73099128029149, 'lng': -74.03882491970849}, 'southwest': {'lat': 40.7282933197085, 'lng': -74.0415228802915}}}, 'icon': 'https://maps.gstatic.com/mapfiles/place_api/icons/v1/png_71/lodging-71.png', 'icon_background_color': '#909CE1', 'icon_mask_base_uri': 'https://maps.gstatic.com/mapfiles/place_api/icons/v2/hotel_pinlet', 'name': 'The Holland', 'photos': [{'height': 3024, 'html_attributions': ['<a href=\"https://maps.google.com/maps/contrib/114301486042376686495\">Hannes Bend</a>'], 'photo_reference': 'ATplDJax9SAxUxWacuajYPcWlz6-qA-cK9-7Qvy4Xj6IkOTLAhLhr-pdeIsIzFXvmkrl2DbbFUMpmQ_Y3g-couHQN8j_OxasN8QwJx-CgLC98YG6a91nsvhpWE_ch8fgec6YvahYQ_blAuebUQAhODVNslFXVfMNWPjYeey8p7b90rW12rHU', 'width': 4032}], 'place_id': 'ChIJZUYhllFXwokR2MwaIb3ugEs', 'plus_code': {'compound_code': 'PXH5+VW Jersey City, NJ, USA', 'global_code': '87G7PXH5+VW'}, 'rating': 4.2, 'reference': 'ChIJZUYhllFXwokR2MwaIb3ugEs', 'scope': 'GOOGLE', 'types': ['lodging', 'point_of_interest', 'establishment'], 'user_ratings_total': 1117, 'vicinity': '175 12th Street, Jersey City'}, 'nearest_ev_station_distance': 2218, 'nearest_ev_route_segment': {'distance': {'text': '2.2 km', 'value': 2218}, 'duration': {'text': '8 mins', 'value': 497}, 'end_address': '175 11th St, Jersey City, NJ 07310, USA', 'end_location': {'lat': 40.7295614, 'lng': -74.04021259999999}, 'start_address': '537 Garden St, Hoboken, NJ 07030, USA', 'start_location': {'lat': 40.7437773, 'lng': -74.0308202}, 'steps': [{'distance': {'text': '0.9 km', 'value': 894}, 'duration': {'text': '3 mins', 'value': 186}, 'end_location': {'lat': 40.7359385, 'lng': -74.0331996}, 'html_instructions': 'Head <b>south</b> on <b>Garden St</b> toward <b>5th St</b>', 'polyline': {'points': 'swtwFrczbMnB`@b@HfB\\\\zA\\\\~A\\\\pB`@jCh@hB`@`@HpBb@rCj@hB\\\\jB^pBb@PB|@R~@R'}, 'start_location': {'lat': 40.7437773, 'lng': -74.0308202}, 'travel_mode': 'DRIVING'}, {'distance': {'text': '0.5 km', 'value': 464}, 'duration': {'text': '1 min', 'value': 83}, 'end_location': {'lat': 40.7368639, 'lng': -74.0385733}, 'html_instructions': 'Turn <b>right</b> onto <b>County Rd 681</b>', 'maneuver': 'turn-right', 'polyline': {'points': 'sfswFnrzbMa@xD_@zDqBxSC`@'}, 'start_location': {'lat': 40.7359385, 'lng': -74.0331996}, 'travel_mode': 'DRIVING'}, {'distance': {'text': '0.8 km', 'value': 825}, 'duration': {'text': '4 mins', 'value': 216}, 'end_location': {'lat': 40.7295164, 'lng': -74.0398008}, 'html_instructions': 'Turn <b>left</b> onto <b>Henderson St</b>/<wbr/><b>Marin Blvd</b><div style=\"font-size:0.9em\">Continue to follow Marin Blvd</div>', 'maneuver': 'turn-left', 'polyline': {'points': 'klswF`t{bMJBj@LF@FBF?^DfAH`BNfCR~AJN@lAJF@j@D|BRfBPb@Bd@DPBf@DTLLBf@DXBd@Bn@Fp@Fh@Df@DN@VB`@BVBP@H@'}, 'start_location': {'lat': 40.7368639, 'lng': -74.0385733}, 'travel_mode': 'DRIVING'}, {'distance': {'text': '35 m', 'value': 35}, 'duration': {'text': '1 min', 'value': 12}, 'end_location': {'lat': 40.7295614, 'lng': -74.04021259999999}, 'html_instructions': 'Turn <b>right</b><div style=\"font-size:0.9em\">Destination will be on the right</div>', 'maneuver': 'turn-right', 'polyline': {'points': 'o~qwFv{{bMCh@Cf@'}, 'start_location': {'lat': 40.7295164, 'lng': -74.0398008}, 'travel_mode': 'DRIVING'}], 'traffic_speed_entry': [], 'via_waypoint': []}}, {'lat': 40.7359385, 'lng': -74.0331996, 'dist': 522, 'nearest_ev_station': {'business_status': 'OPERATIONAL', 'geometry': {'location': {'lat': 40.7297195, 'lng': -74.04018409999999}, 'viewport': {'northeast': {'lat': 40.73099128029149, 'lng': -74.03882491970849}, 'southwest': {'lat': 40.7282933197085, 'lng': -74.0415228802915}}}, 'icon': 'https://maps.gstatic.com/mapfiles/place_api/icons/v1/png_71/lodging-71.png', 'icon_background_color': '#909CE1', 'icon_mask_base_uri': 'https://maps.gstatic.com/mapfiles/place_api/icons/v2/hotel_pinlet', 'name': 'The Holland', 'photos': [{'height': 3024, 'html_attributions': ['<a href=\"https://maps.google.com/maps/contrib/114301486042376686495\">Hannes Bend</a>'], 'photo_reference': 'ATplDJaYmvChBJ2tPe4rwJ56xcSGZPkVD9QV4zJmoOC0MRI46fH3f3DZmGDzWgvQQwV6hn0NlsQQLsHEbNf-5ALpEhpMsRgOVbJ8nJWQZo9bY7JmVJlm3ero9Q3Xm_ZbkNB6U50Zyzi4Egcp9MCKBiwrEyRc3bIpBSoxWeJnxhzL9AOQrrMg', 'width': 4032}], 'place_id': 'ChIJZUYhllFXwokR2MwaIb3ugEs', 'plus_code': {'compound_code': 'PXH5+VW Jersey City, NJ, USA', 'global_code': '87G7PXH5+VW'}, 'rating': 4.2, 'reference': 'ChIJZUYhllFXwokR2MwaIb3ugEs', 'scope': 'GOOGLE', 'types': ['lodging', 'point_of_interest', 'establishment'], 'user_ratings_total': 1117, 'vicinity': '175 12th Street, Jersey City'}, 'nearest_ev_station_distance': 1324, 'nearest_ev_route_segment': {'distance': {'text': '1.3 km', 'value': 1324}, 'duration': {'text': '5 mins', 'value': 308}, 'end_address': '175 11th St, Jersey City, NJ 07310, USA', 'end_location': {'lat': 40.7295614, 'lng': -74.04021259999999}, 'start_address': '200 Observer Hwy, Hoboken, NJ 07030, USA', 'start_location': {'lat': 40.7359385, 'lng': -74.0331996}, 'steps': [{'distance': {'text': '0.5 km', 'value': 464}, 'duration': {'text': '1 min', 'value': 80}, 'end_location': {'lat': 40.7368639, 'lng': -74.0385733}, 'html_instructions': 'Head <b>west</b> on <b>County Rd 681</b> toward <b>Park Ave</b>', 'polyline': {'points': 'sfswFnrzbMa@xD_@zDqBxSC`@'}, 'start_location': {'lat': 40.7359385, 'lng': -74.0331996}, 'travel_mode': 'DRIVING'}, {'distance': {'text': '0.8 km', 'value': 825}, 'duration': {'text': '4 mins', 'value': 216}, 'end_location': {'lat': 40.7295164, 'lng': -74.0398008}, 'html_instructions': 'Turn <b>left</b> onto <b>Henderson St</b>/<wbr/><b>Marin Blvd</b><div style=\"font-size:0.9em\">Continue to follow Marin Blvd</div>', 'maneuver': 'turn-left', 'polyline': {'points': 'klswF`t{bMJBj@LF@FBF?^DfAH`BNfCR~AJN@lAJF@j@D|BRfBPb@Bd@DPBf@DTLLBf@DXBd@Bn@Fp@Fh@Df@DN@VB`@BVBP@H@'}, 'start_location': {'lat': 40.7368639, 'lng': -74.0385733}, 'travel_mode': 'DRIVING'}, {'distance': {'text': '35 m', 'value': 35}, 'duration': {'text': '1 min', 'value': 12}, 'end_location': {'lat': 40.7295614, 'lng': -74.04021259999999}, 'html_instructions': 'Turn <b>right</b><div style=\"font-size:0.9em\">Destination will be on the right</div>', 'maneuver': 'turn-right', 'polyline': {'points': 'o~qwFv{{bMCh@Cf@'}, 'start_location': {'lat': 40.7295164, 'lng': -74.0398008}, 'travel_mode': 'DRIVING'}], 'traffic_speed_entry': [], 'via_waypoint': []}}, {'lat': 40.7368213, 'lng': -74.03925219999999, 'dist': 353, 'nearest_ev_station': {'business_status': 'OPERATIONAL', 'geometry': {'location': {'lat': 40.7297195, 'lng': -74.04018409999999}, 'viewport': {'northeast': {'lat': 40.73099128029149, 'lng': -74.03882491970849}, 'southwest': {'lat': 40.7282933197085, 'lng': -74.0415228802915}}}, 'icon': 'https://maps.gstatic.com/mapfiles/place_api/icons/v1/png_71/lodging-71.png', 'icon_background_color': '#909CE1', 'icon_mask_base_uri': 'https://maps.gstatic.com/mapfiles/place_api/icons/v2/hotel_pinlet', 'name': 'The Holland', 'photos': [{'height': 3024, 'html_attributions': ['<a href=\"https://maps.google.com/maps/contrib/114301486042376686495\">Hannes Bend</a>'], 'photo_reference': 'ATplDJZoM3zVe7ZjrJEzRSszeiK1RWGfkA09b4AwZIwdmJwP1gLpB_Ql-TgFT2IYy6aDcB6vN7p0fCmijfM9WO8uDOFQu51bOQen7Vo68LPwYTU3dDHcXNX8G5jARzqOHVdjS1TJNUFV3AHMOgrindoTx_nnnShiLpSPZatLItPYHPJxuxew', 'width': 4032}], 'place_id': 'ChIJZUYhllFXwokR2MwaIb3ugEs', 'plus_code': {'compound_code': 'PXH5+VW Jersey City, NJ, USA', 'global_code': '87G7PXH5+VW'}, 'rating': 4.2, 'reference': 'ChIJZUYhllFXwokR2MwaIb3ugEs', 'scope': 'GOOGLE', 'types': ['lodging', 'point_of_interest', 'establishment'], 'user_ratings_total': 1117, 'vicinity': '175 12th Street, Jersey City'}, 'nearest_ev_station_distance': 910, 'nearest_ev_route_segment': {'distance': {'text': '0.9 km', 'value': 910}, 'duration': {'text': '4 mins', 'value': 253}, 'end_address': '175 11th St, Jersey City, NJ 07310, USA', 'end_location': {'lat': 40.7295614, 'lng': -74.04021259999999}, 'start_address': '5 Observer Hwy, Hoboken, NJ 07030, USA', 'start_location': {'lat': 40.7368213, 'lng': -74.03925219999999}, 'steps': [{'distance': {'text': '42 m', 'value': 42}, 'duration': {'text': '1 min', 'value': 14}, 'end_location': {'lat': 40.7368521, 'lng': -74.0387557}, 'html_instructions': 'Head <b>east</b> on <b>Newark St.</b>', 'polyline': {'points': 'clswFhx{bMCY?OAS?c@'}, 'start_location': {'lat': 40.7368213, 'lng': -74.03925219999999}, 'travel_mode': 'DRIVING'}, {'distance': {'text': '0.8 km', 'value': 833}, 'duration': {'text': '4 mins', 'value': 227}, 'end_location': {'lat': 40.7295164, 'lng': -74.0398008}, 'html_instructions': 'Turn <b>right</b> onto <b>Henderson St</b>/<wbr/><b>Marin Blvd</b><div style=\"font-size:0.9em\">Continue to follow Marin Blvd</div>', 'maneuver': 'turn-right', 'polyline': {'points': 'ilswFfu{bMHa@j@LF@FBF?^DfAH`BNfCR~AJN@lAJF@j@D|BRfBPb@Bd@DPBf@DTLLBf@DXBd@Bn@Fp@Fh@Df@DN@VB`@BVBP@H@'}, 'start_location': {'lat': 40.7368521, 'lng': -74.0387557}, 'travel_mode': 'DRIVING'}, {'distance': {'text': '35 m', 'value': 35}, 'duration': {'text': '1 min', 'value': 12}, 'end_location': {'lat': 40.7295614, 'lng': -74.04021259999999}, 'html_instructions': 'Turn <b>right</b><div style=\"font-size:0.9em\">Destination will be on the right</div>', 'maneuver': 'turn-right', 'polyline': {'points': 'o~qwFv{{bMCh@Cf@'}, 'start_location': {'lat': 40.7295164, 'lng': -74.0398008}, 'travel_mode': 'DRIVING'}], 'traffic_speed_entry': [], 'via_waypoint': []}}, {'lat': 40.7362133, 'lng': -74.04336529999999, 'dist': 483, 'nearest_ev_station': {'business_status': 'OPERATIONAL', 'geometry': {'location': {'lat': 40.7297195, 'lng': -74.04018409999999}, 'viewport': {'northeast': {'lat': 40.73099128029149, 'lng': -74.03882491970849}, 'southwest': {'lat': 40.7282933197085, 'lng': -74.0415228802915}}}, 'icon': 'https://maps.gstatic.com/mapfiles/place_api/icons/v1/png_71/lodging-71.png', 'icon_background_color': '#909CE1', 'icon_mask_base_uri': 'https://maps.gstatic.com/mapfiles/place_api/icons/v2/hotel_pinlet', 'name': 'The Holland', 'photos': [{'height': 3024, 'html_attributions': ['<a href=\"https://maps.google.com/maps/contrib/114301486042376686495\">Hannes Bend</a>'], 'photo_reference': 'ATplDJaULw9-6KTfCE5myQi3kT_GA6Xjey24ftK3KNWgLtVy98TXBNqAhdlWHaknqojNY2PwZqTAxGAVKV7m6QiRRYe0IYbIk3--tEr-UpcuNJ_0ZW2gVZ5IjNeL_X8yijqkSUd8maIjr_L9k5kA_VEmqXjtSFSJTrNb0em62lBg0dJP1XAl', 'width': 4032}], 'place_id': 'ChIJZUYhllFXwokR2MwaIb3ugEs', 'plus_code': {'compound_code': 'PXH5+VW Jersey City, NJ, USA', 'global_code': '87G7PXH5+VW'}, 'rating': 4.2, 'reference': 'ChIJZUYhllFXwokR2MwaIb3ugEs', 'scope': 'GOOGLE', 'types': ['lodging', 'point_of_interest', 'establishment'], 'user_ratings_total': 1117, 'vicinity': '175 12th Street, Jersey City'}, 'nearest_ev_station_distance': 1159, 'nearest_ev_route_segment': {'distance': {'text': '1.2 km', 'value': 1159}, 'duration': {'text': '5 mins', 'value': 278}, 'end_address': '175 11th St, Jersey City, NJ 07310, USA', 'end_location': {'lat': 40.7295614, 'lng': -74.04021259999999}, 'start_address': '866 Jersey Ave, Jersey City, NJ 07310, USA', 'start_location': {'lat': 40.7362133, 'lng': -74.04336529999999}, 'steps': [{'distance': {'text': '0.2 km', 'value': 164}, 'duration': {'text': '1 min', 'value': 28}, 'end_location': {'lat': 40.7349858, 'lng': -74.0439698}, 'html_instructions': 'Head <b>west</b> on <b>Jersey Ave</b>/<wbr/><b>Newark St.</b><div style=\"font-size:0.9em\">Continue to follow Jersey Ave</div>', 'polyline': {'points': 'ihswF`r|bMH|@@DBD@DBB@BD@B@X@J@hAFJ@j@Fh@D'}, 'start_location': {'lat': 40.7362133, 'lng': -74.04336529999999}, 'travel_mode': 'DRIVING'}, {'distance': {'text': '0.4 km', 'value': 433}, 'duration': {'text': '1 min', 'value': 76}, 'end_location': {'lat': 40.7342098, 'lng': -74.03902470000001}, 'html_instructions': 'Turn <b>left</b> onto <b>18th St</b>', 'maneuver': 'turn-left', 'polyline': {'points': 'u`swFxu|bMH@V_GDkABYBW@MDQFe@BKBIBODQBQDUBUDa@Do@?ONsED]D]BMDQHS'}, 'start_location': {'lat': 40.7349858, 'lng': -74.0439698}, 'travel_mode': 'DRIVING'}, {'distance': {'text': '0.5 km', 'value': 527}, 'duration': {'text': '3 mins', 'value': 162}, 'end_location': {'lat': 40.7295164, 'lng': -74.0398008}, 'html_instructions': 'Turn <b>right</b> onto <b>Marin Blvd</b>', 'maneuver': 'turn-right', 'polyline': {'points': 'y{rwFzv{bMlAJF@j@D|BRfBPb@Bd@DPBf@DTLLBf@DXBd@Bn@Fp@Fh@Df@DN@VB`@BVBP@H@'}, 'start_location': {'lat': 40.7342098, 'lng': -74.03902470000001}, 'travel_mode': 'DRIVING'}, {'distance': {'text': '35 m', 'value': 35}, 'duration': {'text': '1 min', 'value': 12}, 'end_location': {'lat': 40.7295614, 'lng': -74.04021259999999}, 'html_instructions': 'Turn <b>right</b><div style=\"font-size:0.9em\">Destination will be on the right</div>', 'maneuver': 'turn-right', 'polyline': {'points': 'o~qwFv{{bMCh@Cf@'}, 'start_location': {'lat': 40.7295164, 'lng': -74.0398008}, 'travel_mode': 'DRIVING'}], 'traffic_speed_entry': [], 'via_waypoint': []}}, {'lat': 40.7321369, 'lng': -74.0444018, 'dist': 175, 'nearest_ev_station': {'business_status': 'OPERATIONAL', 'geometry': {'location': {'lat': 40.7297195, 'lng': -74.04018409999999}, 'viewport': {'northeast': {'lat': 40.73099128029149, 'lng': -74.03882491970849}, 'southwest': {'lat': 40.7282933197085, 'lng': -74.0415228802915}}}, 'icon': 'https://maps.gstatic.com/mapfiles/place_api/icons/v1/png_71/lodging-71.png', 'icon_background_color': '#909CE1', 'icon_mask_base_uri': 'https://maps.gstatic.com/mapfiles/place_api/icons/v2/hotel_pinlet', 'name': 'The Holland', 'photos': [{'height': 3024, 'html_attributions': ['<a href=\"https://maps.google.com/maps/contrib/114301486042376686495\">Hannes Bend</a>'], 'photo_reference': 'ATplDJaOexJuntcIO4b6pW76X4EJGK6zjWfyBr38_9jLrsbr4He0t4rRPMqFTnIhU4HIQDmidFiGO9LyrCg3cP194aHx6c3ug06D_4ze49sp8kQscIHevfZLAZsWPvlzpE4nWtw_1Roi56DvZbFozoY_7ONmYW56_QihUg0GXua8-x7Q-hPr', 'width': 4032}], 'place_id': 'ChIJZUYhllFXwokR2MwaIb3ugEs', 'plus_code': {'compound_code': 'PXH5+VW Jersey City, NJ, USA', 'global_code': '87G7PXH5+VW'}, 'rating': 4.2, 'reference': 'ChIJZUYhllFXwokR2MwaIb3ugEs', 'scope': 'GOOGLE', 'types': ['lodging', 'point_of_interest', 'establishment'], 'user_ratings_total': 1117, 'vicinity': '175 12th Street, Jersey City'}, 'nearest_ev_station_distance': 627, 'nearest_ev_route_segment': {'distance': {'text': '0.6 km', 'value': 627}, 'duration': {'text': '4 mins', 'value': 220}, 'end_address': '175 11th St, Jersey City, NJ 07310, USA', 'end_location': {'lat': 40.7295614, 'lng': -74.04021259999999}, 'start_address': '248 14th St, Jersey City, NJ 07310, USA', 'start_location': {'lat': 40.7321369, 'lng': -74.0444018}, 'steps': [{'distance': {'text': '0.2 km', 'value': 177}, 'duration': {'text': '1 min', 'value': 88}, 'end_location': {'lat': 40.73056709999999, 'lng': -74.04467029999999}, 'html_instructions': 'Head <b>southwest</b> on <b>Jersey Ave</b> toward <b>I-78 W</b>', 'polyline': {'points': '{nrwFnx|bMVLb@DbAHr@Ft@Fn@B^B'}, 'start_location': {'lat': 40.7321369, 'lng': -74.0444018}, 'travel_mode': 'DRIVING'}, {'distance': {'text': '0.3 km', 'value': 335}, 'duration': {'text': '1 min', 'value': 85}, 'end_location': {'lat': 40.730129, 'lng': -74.0407645}, 'html_instructions': 'Turn <b>left</b> onto <b>12th St</b>', 'maneuver': 'turn-left', 'polyline': {'points': 'aerwFdz|bMBUBQBGBGFMBi@Be@Bu@D{@D{@@M@e@H_B@U?KB]@ODcABo@Bm@BcA'}, 'start_location': {'lat': 40.73056709999999, 'lng': -74.04467029999999}, 'travel_mode': 'DRIVING'}, {'distance': {'text': '31 m', 'value': 31}, 'duration': {'text': '1 min', 'value': 9}, 'end_location': {'lat': 40.730038, 'lng': -74.0404202}, 'html_instructions': 'Slight <b>right</b> to stay on <b>12th St</b>', 'maneuver': 'turn-slight-right', 'polyline': {'points': 'ibrwFva|bMFOHs@'}, 'start_location': {'lat': 40.730129, 'lng': -74.0407645}, 'travel_mode': 'DRIVING'}, {'distance': {'text': '52 m', 'value': 52}, 'duration': {'text': '1 min', 'value': 14}, 'end_location': {'lat': 40.7296003, 'lng': -74.0405897}, 'html_instructions': 'Turn <b>right</b>', 'maneuver': 'turn-right', 'polyline': {'points': 'warwFr_|bMHHDDHBJDp@F'}, 'start_location': {'lat': 40.730038, 'lng': -74.0404202}, 'travel_mode': 'DRIVING'}, {'distance': {'text': '32 m', 'value': 32}, 'duration': {'text': '1 min', 'value': 24}, 'end_location': {'lat': 40.7295614, 'lng': -74.04021259999999}, 'html_instructions': 'Turn <b>left</b><div style=\"font-size:0.9em\">Destination will be on the left</div>', 'maneuver': 'turn-left', 'polyline': {'points': '__rwFt`|bMFeA?E'}, 'start_location': {'lat': 40.7296003, 'lng': -74.0405897}, 'travel_mode': 'DRIVING'}], 'traffic_speed_entry': [], 'via_waypoint': []}}, {'lat': 40.7319276, 'lng': -74.04635809999999, 'dist': 324, 'nearest_ev_station': {'business_status': 'OPERATIONAL', 'geometry': {'location': {'lat': 40.7297195, 'lng': -74.04018409999999}, 'viewport': {'northeast': {'lat': 40.73099128029149, 'lng': -74.03882491970849}, 'southwest': {'lat': 40.7282933197085, 'lng': -74.0415228802915}}}, 'icon': 'https://maps.gstatic.com/mapfiles/place_api/icons/v1/png_71/lodging-71.png', 'icon_background_color': '#909CE1', 'icon_mask_base_uri': 'https://maps.gstatic.com/mapfiles/place_api/icons/v2/hotel_pinlet', 'name': 'The Holland', 'photos': [{'height': 3024, 'html_attributions': ['<a href=\"https://maps.google.com/maps/contrib/114301486042376686495\">Hannes Bend</a>'], 'photo_reference': 'ATplDJb1vDafNu9SQt2dX-gAdw-Yq3LRn93k2c2ltzvYJcU2YaRTpw-OxR4b4AGkbM-6Ev-5JhABq43pNxQO5XK2zTep2R9yusMxyWXVkI5Hi1-3PRn74Nb0CMMsU5StCiW6IMuI2rIXt5thRlr8YaxLK1Hzz-Eh3pcsnrAeHZRx2a3A1Hiy', 'width': 4032}], 'place_id': 'ChIJZUYhllFXwokR2MwaIb3ugEs', 'plus_code': {'compound_code': 'PXH5+VW Jersey City, NJ, USA', 'global_code': '87G7PXH5+VW'}, 'rating': 4.2, 'reference': 'ChIJZUYhllFXwokR2MwaIb3ugEs', 'scope': 'GOOGLE', 'types': ['lodging', 'point_of_interest', 'establishment'], 'user_ratings_total': 1117, 'vicinity': '175 12th Street, Jersey City'}, 'nearest_ev_station_distance': 1754, 'nearest_ev_route_segment': {'distance': {'text': '1.8 km', 'value': 1754}, 'duration': {'text': '7 mins', 'value': 398}, 'end_address': '175 11th St, Jersey City, NJ 07310, USA', 'end_location': {'lat': 40.7295614, 'lng': -74.04021259999999}, 'start_address': '50 14th St, Jersey City, NJ 07310, USA', 'start_location': {'lat': 40.7319276, 'lng': -74.04635809999999}, 'steps': [{'distance': {'text': '0.3 km', 'value': 324}, 'duration': {'text': '1 min', 'value': 21}, 'end_location': {'lat': 40.7313096, 'lng': -74.05010829999999}, 'html_instructions': 'Head <b>west</b> on <b>NJ-139 W</b>', 'polyline': {'points': 'qmrwFvd}bMBb@BR?H@H@VBNBj@BVJhBBV?@@VBZDZBXD\\\\Hp@PrANfAPzA'}, 'start_location': {'lat': 40.7319276, 'lng': -74.04635809999999}, 'travel_mode': 'DRIVING'}, {'distance': {'text': '0.2 km', 'value': 234}, 'duration': {'text': '1 min', 'value': 37}, 'end_location': {'lat': 40.7319191, 'lng': -74.0526415}, 'html_instructions': 'Take the exit toward <b>Kennedy Blvd</b>/<wbr/><b>Jersey City</b>', 'maneuver': 'ramp-right', 'polyline': {'points': 'uirwFd|}bMAB?D?F?FB^Bv@A|@?ZGt@EVG`@ENCLWp@c@v@a@t@'}, 'start_location': {'lat': 40.7313096, 'lng': -74.05010829999999}, 'travel_mode': 'DRIVING'}, {'distance': {'text': '0.3 km', 'value': 292}, 'duration': {'text': '1 min', 'value': 76}, 'end_location': {'lat': 40.7310874, 'lng': -74.0500165}, 'html_instructions': 'Make a <b>U-turn</b> at <b>Palisade Ave</b> (signs for <b>NJ-139 E</b>)', 'maneuver': 'uturn-left', 'polyline': {'points': 'omrwF~k~bMPXNRXc@FM@AJSHQVm@FONg@F[DUF_@D_@B_@@S@G@Y?Y?U?eBK['}, 'start_location': {'lat': 40.7319191, 'lng': -74.0526415}, 'travel_mode': 'DRIVING'}, {'distance': {'text': '0.8 km', 'value': 789}, 'duration': {'text': '4 mins', 'value': 217}, 'end_location': {'lat': 40.730129, 'lng': -74.0407645}, 'html_instructions': 'Merge onto <b>NJ-139 E</b>', 'maneuver': 'merge', 'polyline': {'points': 'ihrwFr{}bMB_@Bq@DwAJcCD{@Bq@Dq@D_AFyAHaBBa@@_@H}BNqBDq@BUBQBGBGFMBi@Be@Bu@D{@D{@@M@e@H_B@U?KB]@ODcABo@Bm@BcA'}, 'start_location': {'lat': 40.7310874, 'lng': -74.0500165}, 'travel_mode': 'DRIVING'}, {'distance': {'text': '31 m', 'value': 31}, 'duration': {'text': '1 min', 'value': 9}, 'end_location': {'lat': 40.730038, 'lng': -74.0404202}, 'html_instructions': 'Slight <b>right</b> onto <b>12th St</b>', 'maneuver': 'turn-slight-right', 'polyline': {'points': 'ibrwFva|bMFOHs@'}, 'start_location': {'lat': 40.730129, 'lng': -74.0407645}, 'travel_mode': 'DRIVING'}, {'distance': {'text': '52 m', 'value': 52}, 'duration': {'text': '1 min', 'value': 14}, 'end_location': {'lat': 40.7296003, 'lng': -74.0405897}, 'html_instructions': 'Turn <b>right</b>', 'maneuver': 'turn-right', 'polyline': {'points': 'warwFr_|bMHHDDHBJDp@F'}, 'start_location': {'lat': 40.730038, 'lng': -74.0404202}, 'travel_mode': 'DRIVING'}, {'distance': {'text': '32 m', 'value': 32}, 'duration': {'text': '1 min', 'value': 24}, 'end_location': {'lat': 40.7295614, 'lng': -74.04021259999999}, 'html_instructions': 'Turn <b>left</b><div style=\"font-size:0.9em\">Destination will be on the left</div>', 'maneuver': 'turn-left', 'polyline': {'points': '__rwFt`|bMFeA?E'}, 'start_location': {'lat': 40.7296003, 'lng': -74.0405897}, 'travel_mode': 'DRIVING'}], 'traffic_speed_entry': [], 'via_waypoint': []}}, {'lat': 40.7313096, 'lng': -74.05010829999999, 'dist': 1920, 'nearest_ev_station': {'business_status': 'OPERATIONAL', 'geometry': {'location': {'lat': 40.7297195, 'lng': -74.04018409999999}, 'viewport': {'northeast': {'lat': 40.73099128029149, 'lng': -74.03882491970849}, 'southwest': {'lat': 40.7282933197085, 'lng': -74.0415228802915}}}, 'icon': 'https://maps.gstatic.com/mapfiles/place_api/icons/v1/png_71/lodging-71.png', 'icon_background_color': '#909CE1', 'icon_mask_base_uri': 'https://maps.gstatic.com/mapfiles/place_api/icons/v2/hotel_pinlet', 'name': 'The Holland', 'photos': [{'height': 3024, 'html_attributions': ['<a href=\"https://maps.google.com/maps/contrib/114301486042376686495\">Hannes Bend</a>'], 'photo_reference': 'ATplDJaSPF92PNMfD4NvivzAccM_ZzMGQ9STxg67rRJgbnCInXOJwnPxrJIir4Z1rWQsBcPLJjPRFnmkK_xnqbkZy56r00ElaoJKGZ14nbZ3lDWBMnY-KHdkTjjDE8nfJpib9U_SOLfHO22cV3HeXC8PySSlgnEFaXM1aYKQQzeP5H7p_t1X', 'width': 4032}], 'place_id': 'ChIJZUYhllFXwokR2MwaIb3ugEs', 'plus_code': {'compound_code': 'PXH5+VW Jersey City, NJ, USA', 'global_code': '87G7PXH5+VW'}, 'rating': 4.2, 'reference': 'ChIJZUYhllFXwokR2MwaIb3ugEs', 'scope': 'GOOGLE', 'types': ['lodging', 'point_of_interest', 'establishment'], 'user_ratings_total': 1117, 'vicinity': '175 12th Street, Jersey City'}, 'nearest_ev_station_distance': 1430, 'nearest_ev_route_segment': {'distance': {'text': '1.4 km', 'value': 1430}, 'duration': {'text': '6 mins', 'value': 377}, 'end_address': '175 11th St, Jersey City, NJ 07310, USA', 'end_location': {'lat': 40.7295614, 'lng': -74.04021259999999}, 'start_address': '605 Monmouth St, Jersey City, NJ 07302, USA', 'start_location': {'lat': 40.7313096, 'lng': -74.05010829999999}, 'steps': [{'distance': {'text': '0.2 km', 'value': 234}, 'duration': {'text': '1 min', 'value': 37}, 'end_location': {'lat': 40.7319191, 'lng': -74.0526415}, 'html_instructions': 'Head <b>west</b> toward <b>Hoboken Ave</b>', 'polyline': {'points': 'uirwFd|}bMAB?D?F?FB^Bv@A|@?ZGt@EVG`@ENCLWp@c@v@a@t@'}, 'start_location': {'lat': 40.7313096, 'lng': -74.05010829999999}, 'travel_mode': 'DRIVING'}, {'distance': {'text': '0.3 km', 'value': 292}, 'duration': {'text': '1 min', 'value': 76}, 'end_location': {'lat': 40.7310874, 'lng': -74.0500165}, 'html_instructions': 'Make a <b>U-turn</b> at <b>Palisade Ave</b> (signs for <b>NJ-139 E</b>)', 'maneuver': 'uturn-left', 'polyline': {'points': 'omrwF~k~bMPXNRXc@FM@AJSHQVm@FONg@F[DUF_@D_@B_@@S@G@Y?Y?U?eBK['}, 'start_location': {'lat': 40.7319191, 'lng': -74.0526415}, 'travel_mode': 'DRIVING'}, {'distance': {'text': '0.8 km', 'value': 789}, 'duration': {'text': '4 mins', 'value': 217}, 'end_location': {'lat': 40.730129, 'lng': -74.0407645}, 'html_instructions': 'Merge onto <b>NJ-139 E</b>', 'maneuver': 'merge', 'polyline': {'points': 'ihrwFr{}bMB_@Bq@DwAJcCD{@Bq@Dq@D_AFyAHaBBa@@_@H}BNqBDq@BUBQBGBGFMBi@Be@Bu@D{@D{@@M@e@H_B@U?KB]@ODcABo@Bm@BcA'}, 'start_location': {'lat': 40.7310874, 'lng': -74.0500165}, 'travel_mode': 'DRIVING'}, {'distance': {'text': '31 m', 'value': 31}, 'duration': {'text': '1 min', 'value': 9}, 'end_location': {'lat': 40.730038, 'lng': -74.0404202}, 'html_instructions': 'Slight <b>right</b> onto <b>12th St</b>', 'maneuver': 'turn-slight-right', 'polyline': {'points': 'ibrwFva|bMFOHs@'}, 'start_location': {'lat': 40.730129, 'lng': -74.0407645}, 'travel_mode': 'DRIVING'}, {'distance': {'text': '52 m', 'value': 52}, 'duration': {'text': '1 min', 'value': 14}, 'end_location': {'lat': 40.7296003, 'lng': -74.0405897}, 'html_instructions': 'Turn <b>right</b>', 'maneuver': 'turn-right', 'polyline': {'points': 'warwFr_|bMHHDDHBJDp@F'}, 'start_location': {'lat': 40.730038, 'lng': -74.0404202}, 'travel_mode': 'DRIVING'}, {'distance': {'text': '32 m', 'value': 32}, 'duration': {'text': '1 min', 'value': 24}, 'end_location': {'lat': 40.7295614, 'lng': -74.04021259999999}, 'html_instructions': 'Turn <b>left</b><div style=\"font-size:0.9em\">Destination will be on the left</div>', 'maneuver': 'turn-left', 'polyline': {'points': '__rwFt`|bMFeA?E'}, 'start_location': {'lat': 40.7296003, 'lng': -74.0405897}, 'travel_mode': 'DRIVING'}], 'traffic_speed_entry': [], 'via_waypoint': []}}, {'lat': 40.7391415, 'lng': -74.0684769, 'dist': 5365, 'nearest_ev_station': {'business_status': 'OPERATIONAL', 'geometry': {'location': {'lat': 40.73297100000001, 'lng': -74.06752569999999}, 'viewport': {'northeast': {'lat': 40.73427383029149, 'lng': -74.06627986970848}, 'southwest': {'lat': 40.7315758697085, 'lng': -74.0689778302915}}}, 'icon': 'https://maps.gstatic.com/mapfiles/place_api/icons/v1/png_71/lodging-71.png', 'icon_background_color': '#909CE1', 'icon_mask_base_uri': 'https://maps.gstatic.com/mapfiles/place_api/icons/v2/hotel_pinlet', 'name': 'Ramada by Wyndham Jersey City', 'opening_hours': {'open_now': True}, 'photos': [{'height': 402, 'html_attributions': ['<a href=\"https://maps.google.com/maps/contrib/102310924998711258025\">Ramada by Wyndham Jersey City</a>'], 'photo_reference': 'ATplDJaH1HMzQ5aRqX2WDSoJV5cYYto_2uC6HBIM_EtLkwiwe468Ca3agg2_XOG2VWVF2_UnSQFm9rKF6T9Rikqkbr01L_cxs52fI_ne2KTD-E9-vxlBKpDFV5GxcdpmVGonK_rL0JD8R04sqSB9CZhwo3jlFOAU08hBm1sNZ-NFgLe1Nr0q', 'width': 715}], 'place_id': 'ChIJC238cC5XwokRFOHUXBMV8Kw', 'plus_code': {'compound_code': 'PWMJ+5X Jersey City, NJ, USA', 'global_code': '87G7PWMJ+5X'}, 'rating': 3.6, 'reference': 'ChIJC238cC5XwokRFOHUXBMV8Kw', 'scope': 'GOOGLE', 'types': ['lodging', 'point_of_interest', 'establishment'], 'user_ratings_total': 1355, 'vicinity': '65 Tonnelle Avenue, Jersey City'}, 'nearest_ev_station_distance': 12453, 'nearest_ev_route_segment': {'distance': {'text': '12.5 km', 'value': 12453}, 'duration': {'text': '17 mins', 'value': 1047}, 'end_address': '65 Tonnelle Ave, Jersey City, NJ 07306, USA', 'end_location': {'lat': 40.7328664, 'lng': -74.0676658}, 'start_address': '388 St Pauls Ave, Jersey City, NJ 07306, USA', 'start_location': {'lat': 40.7391415, 'lng': -74.0684769}, 'steps': [{'distance': {'text': '4.8 km', 'value': 4828}, 'duration': {'text': '4 mins', 'value': 213}, 'end_location': {'lat': 40.734648, 'lng': -74.1250383}, 'html_instructions': 'Head <b>west</b> on <b>US-1 S</b>/<wbr/><b>US-9 S</b>', 'polyline': {'points': 'szswF~nacM?R?RB|@@v@Bp@@j@BbA?P@l@@Z@\\\\Bp@@b@B\\\\@XBZB\\\\BZ?LFr@Dl@Hr@RxBHt@Hx@Jv@N~AP`BFb@?@?@\\\\zCb@bEBXD`@D\\\\LdAD`@BTZpCPlBV~BV`CZjCTbCDn@D^?H@HDp@D^?@`@bDJ~@RlBZ~B@LDZBTFb@Hp@TzB\\\\jDFd@B`@DVBR@L@FBVB`@F^D^?DLhAJfABZ@TB\\\\Ft@B\\\\@XB\\\\@P?D@ZBX@\\\\Bv@@\\\\@Z@X@X@T@F@Z@ZBr@Bz@Dv@Bp@@f@Dz@?P@F@h@Dt@@b@Dr@@Z@ZB\\\\Bn@?B?@?F?@@R@L@J?@@V@X@X?@Bb@@P@`@@XB\\\\@\\\\B^@Z@T?HBV@XBp@BXBz@B^@ZV~CBnA@dAB~A@f@?~@@^@tA?t@@`C@`C@|@@hB@fB?X?RArA?d@Cz@Az@?h@Ar@?@?B?@CdAAhAAd@Ad@CfCEpB?@?\\\\Ap@CrBAl@EpBEbDAdAAdAAf@A\\\\ChAA`ACjBCnCA`@Ah@?FGnAChB?^ElCG`EEdDEzAApAA|@ChA?T?H?F?H?JAL?\\\\?ZAV?z@?Z@b@@\\\\@XBx@?@BZ@ZB^B^B^Ht@DXDZBTPhA@DDXFTHd@Jd@'}, 'start_location': {'lat': 40.7391415, 'lng': -74.0684769}, 'travel_mode': 'DRIVING'}, {'distance': {'text': '0.6 km', 'value': 623}, 'duration': {'text': '1 min', 'value': 48}, 'end_location': {'lat': 40.7348016, 'lng': -74.1323742}, 'html_instructions': 'Take the exit toward <b>Raymond Blvd</b>/<wbr/><b>Newark</b>', 'maneuver': 'ramp-right', 'polyline': {'points': 'q~rwFnplcM?BCv@A@CZCN?BAFEXALCNCR?B?@ABAFANCL?BCLALANCNANCPAPAPAPAP?P?LAL?J?L?H?P?T?B?@?@@h@@~@@H?@?@?B@R?F?J@PF`D?DB`A?Z@n@?P?@@Z?R@X?R@Z?h@?D@l@@R?Z@R?Z?N?B@Z?@@p@'}, 'start_location': {'lat': 40.734648, 'lng': -74.1250383}, 'travel_mode': 'DRIVING'}, {'distance': {'text': '0.2 km', 'value': 177}, 'duration': {'text': '1 min', 'value': 53}, 'end_location': {'lat': 40.733243, 'lng': -74.1319582}, 'html_instructions': 'Turn <b>left</b> onto <b>Lockwood St</b>', 'maneuver': 'turn-left', 'polyline': {'points': 'o_swFh~mcMh@IdAQJArB_@@?`@Ib@I'}, 'start_location': {'lat': 40.7348016, 'lng': -74.1323742}, 'travel_mode': 'DRIVING'}, {'distance': {'text': '0.3 km', 'value': 334}, 'duration': {'text': '1 min', 'value': 37}, 'end_location': {'lat': 40.7343813, 'lng': -74.12829479999999}, 'html_instructions': 'Turn <b>left</b> onto <b>Ferry St</b>', 'maneuver': 'turn-left', 'polyline': {'points': 'wurwFv{mcMy@kCEQGYIc@s@qDa@wBIc@Ic@GY_@uB'}, 'start_location': {'lat': 40.733243, 'lng': -74.1319582}, 'travel_mode': 'DRIVING'}, {'distance': {'text': '0.8 km', 'value': 826}, 'duration': {'text': '1 min', 'value': 60}, 'end_location': {'lat': 40.7326155, 'lng': -74.1189275}, 'html_instructions': 'Continue onto <b>Raymond Blvd</b>', 'polyline': {'points': '{|rwFxdmcMMw@Gg@Ee@?EASAU?E?W?_@?_@@Y@WBs@LiA@C?EJs@?C?C@AD[@GVmBVcB?A?CBO?CRuABYHi@BURqANcAH]@G?ABK?A?CJ_@dBoIBMRgA?ARmAd@}C'}, 'start_location': {'lat': 40.7343813, 'lng': -74.12829479999999}, 'travel_mode': 'DRIVING'}, {'distance': {'text': '2.4 km', 'value': 2407}, 'duration': {'text': '3 mins', 'value': 154}, 'end_location': {'lat': 40.7247924, 'lng': -74.09239079999999}, 'html_instructions': 'Continue onto <b>US-1 Truck N</b>/<wbr/><b>US-9 Truck N</b>/<wbr/><b>Lincoln Hwy Passaic River Brg</b><div style=\"font-size:0.9em\">Continue to follow US-1 Truck N/<wbr/>US-9 Truck N</div>', 'polyline': {'points': '{qrwFhjkcMRsAHi@?C@ALgABO?A?A@AFi@R{AR{AViBL{@PkAJs@?AFa@?AJo@x@yF?A@E@M@EBQ@IZ}BBOXwANw@DQv@aED[Jc@l@{C^gBJc@F]F[|AsHLk@rAoGP{@DSHe@j@wCF]Jk@Hc@NiALcAj@aEj@}DN}@P_ARcAJk@d@eCf@aCNu@Ry@Pw@V_ADQj@iBHQFSL]Xw@Rg@Tk@^eAPe@Pc@Z}@Ne@HYHY@AJ_@Pq@@CLe@BKVeA^cBPu@'}, 'start_location': {'lat': 40.7326155, 'lng': -74.1189275}, 'travel_mode': 'DRIVING'}, {'distance': {'text': '0.3 km', 'value': 252}, 'duration': {'text': '1 min', 'value': 89}, 'end_location': {'lat': 40.72456469999999, 'lng': -74.0895033}, 'html_instructions': 'Keep <b>left</b>', 'maneuver': 'keep-left', 'polyline': {'points': '}`qwFldfcM@W@C?A@GP}@Jc@\\\\yABQDUAO?SAQYaG'}, 'start_location': {'lat': 40.7247924, 'lng': -74.09239079999999}, 'travel_mode': 'DRIVING'}, {'distance': {'text': '2.0 km', 'value': 1974}, 'duration': {'text': '3 mins', 'value': 181}, 'end_location': {'lat': 40.7371059, 'lng': -74.0754273}, 'html_instructions': 'Turn <b>left</b> onto <b>US-1 Truck N</b>/<wbr/><b>US-9 Truck N</b>', 'maneuver': 'turn-left', 'polyline': {'points': 'o_qwFjrecMGQCIEEKQcAs@c@[MKKIMIMIIGIEGCGAEA]SsCgBIEWMKGuBiAGC[Q}FgDk@[SM{A}@}AeA_As@OYq@i@a@]o@k@k@i@c@_@_@a@oAqAUUUYaBiBc@i@wEmFc@i@a@c@QUmBwBUWm@s@MMMOA?Y]g@k@k@o@g@i@USgA{@m@a@UQSQMMSUGMGQEKCQG[CY?E?W@Q?I@U?AHc@Lk@F[DUp@mDDO@O'}, 'start_location': {'lat': 40.72456469999999, 'lng': -74.0895033}, 'travel_mode': 'DRIVING'}, {'distance': {'text': '0.7 km', 'value': 742}, 'duration': {'text': '2 mins', 'value': 145}, 'end_location': {'lat': 40.7348665, 'lng': -74.067145}, 'html_instructions': 'Keep <b>right</b> to continue on <b>Broadway</b>', 'maneuver': 'keep-right', 'polyline': {'points': '}mswFlzbcML]Nu@@G?C?EJg@@_@FW`@yBr@oDP}@`@oB\\\\oBv@}Dj@}DZsBPeAl@qDPaADW?AHg@'}, 'start_location': {'lat': 40.7371059, 'lng': -74.0754273}, 'travel_mode': 'DRIVING'}, {'distance': {'text': '72 m', 'value': 72}, 'duration': {'text': '1 min', 'value': 15}, 'end_location': {'lat': 40.7342288, 'lng': -74.06727719999999}, 'html_instructions': 'Turn <b>right</b> onto <b>Tonnelle Ave</b>', 'maneuver': 'turn-right', 'polyline': {'points': '}_swFrfacMLD^FPBPBVBT@'}, 'start_location': {'lat': 40.7348665, 'lng': -74.067145}, 'travel_mode': 'DRIVING'}, {'distance': {'text': '0.2 km', 'value': 170}, 'duration': {'text': '1 min', 'value': 36}, 'end_location': {'lat': 40.7328355, 'lng': -74.0681103}, 'html_instructions': 'Slight <b>right</b> onto <b>Garrison Ave</b>', 'maneuver': 'turn-slight-right', 'polyline': {'points': '}{rwFngacMj@VTL@?r@\\\\nAp@PJJD`@RLH'}, 'start_location': {'lat': 40.7342288, 'lng': -74.06727719999999}, 'travel_mode': 'DRIVING'}, {'distance': {'text': '48 m', 'value': 48}, 'duration': {'text': '1 min', 'value': 16}, 'end_location': {'lat': 40.7328664, 'lng': -74.0676658}, 'html_instructions': 'Turn <b>left</b>', 'maneuver': 'turn-left', 'polyline': {'points': 'gsrwFtlacMPq@?C?C@C?C?AAAACACCAIEEA'}, 'start_location': {'lat': 40.7328355, 'lng': -74.0681103}, 'travel_mode': 'DRIVING'}], 'traffic_speed_entry': [], 'via_waypoint': []}}, {'lat': 40.7318911, 'lng': -74.1302585, 'dist': 206, 'nearest_ev_station': {'business_status': 'OPERATIONAL', 'geometry': {'location': {'lat': 40.7104845, 'lng': -74.1569779}, 'viewport': {'northeast': {'lat': 40.7117643802915, 'lng': -74.1556235197085}, 'southwest': {'lat': 40.7090664197085, 'lng': -74.1583214802915}}}, 'icon': 'https://maps.gstatic.com/mapfiles/place_api/icons/v1/png_71/lodging-71.png', 'icon_background_color': '#909CE1', 'icon_mask_base_uri': 'https://maps.gstatic.com/mapfiles/place_api/icons/v2/hotel_pinlet', 'name': 'Howard Johnson by Wyndham Newark Airport', 'opening_hours': {'open_now': True}, 'photos': [{'height': 2252, 'html_attributions': ['<a href=\"https://maps.google.com/maps/contrib/103613087939293957945\">1Clickz Away</a>'], 'photo_reference': 'ATplDJapoZ6vKZNW0wGKg_Hg_q2PRm-o4pNCv7C4I4EihtHLd2t8cj33O-MZsjE7QA55TEVk0Jhdj8TAa9cTLi_wn1gTOqcqa19-FifHbTnWS_hcFGPUwJOsEI07zeXyjV6dkTEFUni4qKVMtmpoRz5KgjHdaCtdN2nKYhnMZdE4eRw4RvTC', 'width': 4000}], 'place_id': 'ChIJx5afmrBTwokRFqUaUGqNJqY', 'plus_code': {'compound_code': 'PR6V+56 Newark, NJ, USA', 'global_code': '87G7PR6V+56'}, 'rating': 3, 'reference': 'ChIJx5afmrBTwokRFqUaUGqNJqY', 'scope': 'GOOGLE', 'types': ['lodging', 'point_of_interest', 'establishment'], 'user_ratings_total': 1672, 'vicinity': '20 Frontage Road, Newark'}, 'nearest_ev_station_distance': 4539, 'nearest_ev_route_segment': {'distance': {'text': '4.5 km', 'value': 4539}, 'duration': {'text': '5 mins', 'value': 296}, 'end_address': '20 Frontage Rd, Newark, NJ 07114, USA', 'end_location': {'lat': 40.7103466, 'lng': -74.156983}, 'start_address': '170-176 Raymond Blvd, Newark, NJ 07105, USA', 'start_location': {'lat': 40.7318911, 'lng': -74.1302585}, 'steps': [{'distance': {'text': '0.2 km', 'value': 206}, 'duration': {'text': '1 min', 'value': 9}, 'end_location': {'lat': 40.7308684, 'lng': -74.1322955}, 'html_instructions': 'Head <b>west</b>', 'polyline': {'points': 'imrwFbqmcMF\\\\N`@Th@Pb@LXl@rAd@dATf@FNJ\\\\'}, 'start_location': {'lat': 40.7318911, 'lng': -74.1302585}, 'travel_mode': 'DRIVING'}, {'distance': {'text': '3.2 km', 'value': 3172}, 'duration': {'text': '2 mins', 'value': 133}, 'end_location': {'lat': 40.7114983, 'lng': -74.1587432}, 'html_instructions': 'Continue onto <b>US-1 Truck S</b>/<wbr/><b>US-9 Truck S</b>', 'polyline': {'points': '}frwFz}mcMPZP^Xn@xA`DHP@@~@pBlAhCHPTd@DJbAtB@B\\\\r@h@jAFNZp@^v@jAfCd@~@h@hAJVR\\\\LTLVLXVj@JVLTJVLVJTLXJTJTLXLVXj@JTLXLVVh@LVLVJTLTLXHPDHHNJTLVXj@JVLVJVLTJVLVLVXl@@BHPLVLVVj@LVLVJVJRJTLVLTLVLVHNLXDHHNLRFLBBFLT`@\\\\j@Vf@NTNXZj@LTLT^v@Rb@JTJVJVJVJVVn@JVJVFPN\\\\JVJVHPL\\\\JTJVJTLVVl@Zl@JVLVJTLVJTHNBDLVJVLVJTJTLVLTJVJRLXXl@lAhCXl@LTLVRb@b@t@Xd@TZLRPRNPJJDFFF@?LNPLLLNJ^VZR\\\\R\\\\Px@b@TLVLLHh@T^PJDPH?@JD`@P^Rb@PTJRHl@Zf@T@?rAn@LHf@TnAj@r@\\\\`Ad@lDdBHDl@\\\\NLJHd@Z'}, 'start_location': {'lat': 40.7308684, 'lng': -74.1322955}, 'travel_mode': 'DRIVING'}, {'distance': {'text': '0.1 km', 'value': 100}, 'duration': {'text': '1 min', 'value': 5}, 'end_location': {'lat': 40.71091089999999, 'lng': -74.1596234}, 'html_instructions': 'Take the exit toward <b>N Area</b>', 'maneuver': 'ramp-right', 'polyline': {'points': '{mnwFbcscMJZ@BVTRZ^n@Zl@'}, 'start_location': {'lat': 40.7114983, 'lng': -74.1587432}, 'travel_mode': 'DRIVING'}, {'distance': {'text': '0.3 km', 'value': 269}, 'duration': {'text': '1 min', 'value': 24}, 'end_location': {'lat': 40.7115414, 'lng': -74.1620478}, 'html_instructions': 'Keep <b>right</b>, follow signs for <b>Frontage Road</b>', 'maneuver': 'keep-right', 'polyline': {'points': 'ejnwFrhscM?H?DBJ@@@HJXBL@B@HBJ@L@F@HDV?J@B?J?L?F?HARAT?DAFALALAHA@CLCLENAFCDCJEHKRGLILKP]`@MDI?ICGCMI'}, 'start_location': {'lat': 40.71091089999999, 'lng': -74.1596234}, 'travel_mode': 'DRIVING'}, {'distance': {'text': '0.5 km', 'value': 519}, 'duration': {'text': '1 min', 'value': 48}, 'end_location': {'lat': 40.7111414, 'lng': -74.15709269999999}, 'html_instructions': 'Turn <b>right</b> onto <b>Frontage Rd</b>', 'maneuver': 'turn-right', 'polyline': {'points': 'cnnwFxwscMHYPu@`@wANg@BOBO@A@K?A?A@I?I@MAQ?OAUCUESAEGQQc@MQKMMKk@_@UQOQGMISCMCOAI?K?M@M@I?EBMBI?A@EJa@HYDQZiADOHWDKBGDM@AFO?AFGDC?AFCDAFAFAF?L@'}, 'start_location': {'lat': 40.7115414, 'lng': -74.1620478}, 'travel_mode': 'DRIVING'}, {'distance': {'text': '0.1 km', 'value': 117}, 'duration': {'text': '1 min', 'value': 18}, 'end_location': {'lat': 40.7104464, 'lng': -74.15605959999999}, 'html_instructions': 'Turn <b>left</b> onto <b>Olympia Dr</b>', 'maneuver': 'turn-left', 'polyline': {'points': 'sknwFxxrcMJWDG~@{Ah@}@LS'}, 'start_location': {'lat': 40.7111414, 'lng': -74.15709269999999}, 'travel_mode': 'DRIVING'}, {'distance': {'text': '63 m', 'value': 63}, 'duration': {'text': '1 min', 'value': 21}, 'end_location': {'lat': 40.7099307, 'lng': -74.15636599999999}, 'html_instructions': 'Turn <b>right</b>', 'maneuver': 'turn-right', 'polyline': {'points': 'ignwFjrrcM`@TdAf@'}, 'start_location': {'lat': 40.7104464, 'lng': -74.15605959999999}, 'travel_mode': 'DRIVING'}, {'distance': {'text': '75 m', 'value': 75}, 'duration': {'text': '1 min', 'value': 28}, 'end_location': {'lat': 40.71026579999999, 'lng': -74.1571182}, 'html_instructions': 'Turn <b>right</b>', 'maneuver': 'turn-right', 'polyline': {'points': 'adnwFhtrcMe@lAO^GLA@?@A@A@?B?H?B'}, 'start_location': {'lat': 40.7099307, 'lng': -74.15636599999999}, 'travel_mode': 'DRIVING'}, {'distance': {'text': '18 m', 'value': 18}, 'duration': {'text': '1 min', 'value': 10}, 'end_location': {'lat': 40.7103466, 'lng': -74.156983}, 'html_instructions': 'Turn <b>right</b><div style=\"font-size:0.9em\">Destination will be on the left</div>', 'maneuver': 'turn-right', 'polyline': {'points': 'efnwF~xrcMC?CACCAAAA?A?O'}, 'start_location': {'lat': 40.71026579999999, 'lng': -74.1571182}, 'travel_mode': 'DRIVING'}], 'traffic_speed_entry': [], 'via_waypoint': []}}, {'lat': 40.7308684, 'lng': -74.1322955, 'dist': 3172, 'nearest_ev_station': {'business_status': 'OPERATIONAL', 'geometry': {'location': {'lat': 40.7104845, 'lng': -74.1569779}, 'viewport': {'northeast': {'lat': 40.7117643802915, 'lng': -74.1556235197085}, 'southwest': {'lat': 40.7090664197085, 'lng': -74.1583214802915}}}, 'icon': 'https://maps.gstatic.com/mapfiles/place_api/icons/v1/png_71/lodging-71.png', 'icon_background_color': '#909CE1', 'icon_mask_base_uri': 'https://maps.gstatic.com/mapfiles/place_api/icons/v2/hotel_pinlet', 'name': 'Howard Johnson by Wyndham Newark Airport', 'opening_hours': {'open_now': True}, 'photos': [{'height': 2252, 'html_attributions': ['<a href=\"https://maps.google.com/maps/contrib/103613087939293957945\">1Clickz Away</a>'], 'photo_reference': 'ATplDJZYc_QD5HlrwPdQAL6jODCR2G3iqxnaKXJqNzEx8BsG4-eBJAaYH5sQkS3868R433HXlKMUiDGJXZGEh2kRwZZ4GO7536PjogQjdoKZESJNQFaFSTd9wbNV718P0irFkIODZli3j5MvcXABIlabIMFvsDh6dJshhSkytMDGcaAlcKSW', 'width': 4000}], 'place_id': 'ChIJx5afmrBTwokRFqUaUGqNJqY', 'plus_code': {'compound_code': 'PR6V+56 Newark, NJ, USA', 'global_code': '87G7PR6V+56'}, 'rating': 3, 'reference': 'ChIJx5afmrBTwokRFqUaUGqNJqY', 'scope': 'GOOGLE', 'types': ['lodging', 'point_of_interest', 'establishment'], 'user_ratings_total': 1672, 'vicinity': '20 Frontage Road, Newark'}, 'nearest_ev_station_distance': 4333, 'nearest_ev_route_segment': {'distance': {'text': '4.3 km', 'value': 4333}, 'duration': {'text': '5 mins', 'value': 287}, 'end_address': '20 Frontage Rd, Newark, NJ 07114, USA', 'end_location': {'lat': 40.7103466, 'lng': -74.156983}, 'start_address': '100 Foundry St, Newark, NJ 07105, USA', 'start_location': {'lat': 40.7308684, 'lng': -74.1322955}, 'steps': [{'distance': {'text': '3.2 km', 'value': 3172}, 'duration': {'text': '2 mins', 'value': 133}, 'end_location': {'lat': 40.7114983, 'lng': -74.1587432}, 'html_instructions': 'Head <b>southwest</b> on <b>US-1 Truck S</b>/<wbr/><b>US-9 Truck S</b>', 'polyline': {'points': '}frwFz}mcMPZP^Xn@xA`DHP@@~@pBlAhCHPTd@DJbAtB@B\\\\r@h@jAFNZp@^v@jAfCd@~@h@hAJVR\\\\LTLVLXVj@JVLTJVLVJTLXJTJTLXLVXj@JTLXLVVh@LVLVJTLTLXHPDHHNJTLVXj@JVLVJVLTJVLVLVXl@@BHPLVLVVj@LVLVJVJRJTLVLTLVLVHNLXDHHNLRFLBBFLT`@\\\\j@Vf@NTNXZj@LTLT^v@Rb@JTJVJVJVJVVn@JVJVFPN\\\\JVJVHPL\\\\JTJVJTLVVl@Zl@JVLVJTLVJTHNBDLVJVLVJTJTLVLTJVJRLXXl@lAhCXl@LTLVRb@b@t@Xd@TZLRPRNPJJDFFF@?LNPLLLNJ^VZR\\\\R\\\\Px@b@TLVLLHh@T^PJDPH?@JD`@P^Rb@PTJRHl@Zf@T@?rAn@LHf@TnAj@r@\\\\`Ad@lDdBHDl@\\\\NLJHd@Z'}, 'start_location': {'lat': 40.7308684, 'lng': -74.1322955}, 'travel_mode': 'DRIVING'}, {'distance': {'text': '0.1 km', 'value': 100}, 'duration': {'text': '1 min', 'value': 5}, 'end_location': {'lat': 40.71091089999999, 'lng': -74.1596234}, 'html_instructions': 'Take the exit toward <b>N Area</b>', 'maneuver': 'ramp-right', 'polyline': {'points': '{mnwFbcscMJZ@BVTRZ^n@Zl@'}, 'start_location': {'lat': 40.7114983, 'lng': -74.1587432}, 'travel_mode': 'DRIVING'}, {'distance': {'text': '0.3 km', 'value': 269}, 'duration': {'text': '1 min', 'value': 24}, 'end_location': {'lat': 40.7115414, 'lng': -74.1620478}, 'html_instructions': 'Keep <b>right</b>, follow signs for <b>Frontage Road</b>', 'maneuver': 'keep-right', 'polyline': {'points': 'ejnwFrhscM?H?DBJ@@@HJXBL@B@HBJ@L@F@HDV?J@B?J?L?F?HARAT?DAFALALAHA@CLCLENAFCDCJEHKRGLILKP]`@MDI?ICGCMI'}, 'start_location': {'lat': 40.71091089999999, 'lng': -74.1596234}, 'travel_mode': 'DRIVING'}, {'distance': {'text': '0.5 km', 'value': 519}, 'duration': {'text': '1 min', 'value': 48}, 'end_location': {'lat': 40.7111414, 'lng': -74.15709269999999}, 'html_instructions': 'Turn <b>right</b> onto <b>Frontage Rd</b>', 'maneuver': 'turn-right', 'polyline': {'points': 'cnnwFxwscMHYPu@`@wANg@BOBO@A@K?A?A@I?I@MAQ?OAUCUESAEGQQc@MQKMMKk@_@UQOQGMISCMCOAI?K?M@M@I?EBMBI?A@EJa@HYDQZiADOHWDKBGDM@AFO?AFGDC?AFCDAFAFAF?L@'}, 'start_location': {'lat': 40.7115414, 'lng': -74.1620478}, 'travel_mode': 'DRIVING'}, {'distance': {'text': '0.1 km', 'value': 117}, 'duration': {'text': '1 min', 'value': 18}, 'end_location': {'lat': 40.7104464, 'lng': -74.15605959999999}, 'html_instructions': 'Turn <b>left</b> onto <b>Olympia Dr</b>', 'maneuver': 'turn-left', 'polyline': {'points': 'sknwFxxrcMJWDG~@{Ah@}@LS'}, 'start_location': {'lat': 40.7111414, 'lng': -74.15709269999999}, 'travel_mode': 'DRIVING'}, {'distance': {'text': '63 m', 'value': 63}, 'duration': {'text': '1 min', 'value': 21}, 'end_location': {'lat': 40.7099307, 'lng': -74.15636599999999}, 'html_instructions': 'Turn <b>right</b>', 'maneuver': 'turn-right', 'polyline': {'points': 'ignwFjrrcM`@TdAf@'}, 'start_location': {'lat': 40.7104464, 'lng': -74.15605959999999}, 'travel_mode': 'DRIVING'}, {'distance': {'text': '75 m', 'value': 75}, 'duration': {'text': '1 min', 'value': 28}, 'end_location': {'lat': 40.71026579999999, 'lng': -74.1571182}, 'html_instructions': 'Turn <b>right</b>', 'maneuver': 'turn-right', 'polyline': {'points': 'adnwFhtrcMe@lAO^GLA@?@A@A@?B?H?B'}, 'start_location': {'lat': 40.7099307, 'lng': -74.15636599999999}, 'travel_mode': 'DRIVING'}, {'distance': {'text': '18 m', 'value': 18}, 'duration': {'text': '1 min', 'value': 10}, 'end_location': {'lat': 40.7103466, 'lng': -74.156983}, 'html_instructions': 'Turn <b>right</b><div style=\"font-size:0.9em\">Destination will be on the left</div>', 'maneuver': 'turn-right', 'polyline': {'points': 'efnwF~xrcMC?CACCAAAA?A?O'}, 'start_location': {'lat': 40.71026579999999, 'lng': -74.1571182}, 'travel_mode': 'DRIVING'}], 'traffic_speed_entry': [], 'via_waypoint': []}}, {'lat': 40.7114983, 'lng': -74.1587432, 'dist': 338, 'nearest_ev_station': {'business_status': 'OPERATIONAL', 'geometry': {'location': {'lat': 40.7128433, 'lng': -74.1642943}, 'viewport': {'northeast': {'lat': 40.71397253029149, 'lng': -74.16297226970848}, 'southwest': {'lat': 40.7112745697085, 'lng': -74.1656702302915}}}, 'icon': 'https://maps.gstatic.com/mapfiles/place_api/icons/v1/png_71/lodging-71.png', 'icon_background_color': '#909CE1', 'icon_mask_base_uri': 'https://maps.gstatic.com/mapfiles/place_api/icons/v2/hotel_pinlet', 'name': 'DoubleTree by Hilton Newark Airport', 'photos': [{'height': 5252, 'html_attributions': ['<a href=\"https://maps.google.com/maps/contrib/116283067075243953099\">DoubleTree by Hilton Newark Airport</a>'], 'photo_reference': 'ATplDJavZwM9K9rakWnAqidLzqzH88D2lKx6ApdzkF5Y_MGLSnyAQx9vmnmLO6OaKKM47za5LOYQlbwpsMrCtWwQ4c9e7S4pCeic2THhAF9n4cjWn2jR32RwCCGHhyDQtsEPMAgpafE8jAm1QsM7teL3qM5ACyMZswnjQ8pGfpCBFNjNdQ_K', 'width': 7691}], 'place_id': 'ChIJYyIc5qVTwokRBKNJJzY_ewE', 'plus_code': {'compound_code': 'PR7P+47 Newark, NJ, USA', 'global_code': '87G7PR7P+47'}, 'rating': 3.8, 'reference': 'ChIJYyIc5qVTwokRBKNJJzY_ewE', 'scope': 'GOOGLE', 'types': ['lodging', 'point_of_interest', 'establishment'], 'user_ratings_total': 4843, 'vicinity': '128 Frontage Road, Newark'}, 'nearest_ev_station_distance': 906, 'nearest_ev_route_segment': {'distance': {'text': '0.9 km', 'value': 906}, 'duration': {'text': '3 mins', 'value': 159}, 'end_address': '128 Frontage Rd, Newark, NJ 07114, USA', 'end_location': {'lat': 40.7131485, 'lng': -74.16461819999999}, 'start_address': '58 Frontage Rd, Newark, NJ 07114, USA', 'start_location': {'lat': 40.7114983, 'lng': -74.1587432}, 'steps': [{'distance': {'text': '0.1 km', 'value': 100}, 'duration': {'text': '1 min', 'value': 5}, 'end_location': {'lat': 40.71091089999999, 'lng': -74.1596234}, 'html_instructions': 'Head <b>southwest</b>', 'polyline': {'points': '{mnwFbcscMJZ@BVTRZ^n@Zl@'}, 'start_location': {'lat': 40.7114983, 'lng': -74.1587432}, 'travel_mode': 'DRIVING'}, {'distance': {'text': '0.3 km', 'value': 269}, 'duration': {'text': '1 min', 'value': 24}, 'end_location': {'lat': 40.7115414, 'lng': -74.1620478}, 'html_instructions': 'Keep <b>right</b>, follow signs for <b>Frontage Road</b>', 'maneuver': 'keep-right', 'polyline': {'points': 'ejnwFrhscM?H?DBJ@@@HJXBL@B@HBJ@L@F@HDV?J@B?J?L?F?HARAT?DAFALALAHA@CLCLENAFCDCJEHKRGLILKP]`@MDI?ICGCMI'}, 'start_location': {'lat': 40.71091089999999, 'lng': -74.1596234}, 'travel_mode': 'DRIVING'}, {'distance': {'text': '0.2 km', 'value': 201}, 'duration': {'text': '1 min', 'value': 25}, 'end_location': {'lat': 40.7119449, 'lng': -74.1643579}, 'html_instructions': 'Turn <b>left</b> onto <b>Frontage Rd</b>', 'maneuver': 'turn-left', 'polyline': {'points': 'cnnwFxwscMOl@Mf@CRG\\\\CTG`@Ef@CXCVANAZC^A^A\\\\?^?H'}, 'start_location': {'lat': 40.7115414, 'lng': -74.1620478}, 'travel_mode': 'DRIVING'}, {'distance': {'text': '46 m', 'value': 46}, 'duration': {'text': '1 min', 'value': 39}, 'end_location': {'lat': 40.7122806, 'lng': -74.16411599999999}, 'html_instructions': 'Turn <b>right</b>', 'maneuver': 'turn-right', 'polyline': {'points': 'spnwFfftcMG?KAE?GAEA?ACCCGEGCGGIAA'}, 'start_location': {'lat': 40.7119449, 'lng': -74.1643579}, 'travel_mode': 'DRIVING'}, {'distance': {'text': '0.2 km', 'value': 249}, 'duration': {'text': '1 min', 'value': 52}, 'end_location': {'lat': 40.7134912, 'lng': -74.1645047}, 'html_instructions': 'Turn <b>right</b>', 'maneuver': 'turn-right', 'polyline': {'points': 'wrnwFvdtcM@w@?I?CAA?AAACCGCKCk@MGAoAWk@MGAC??@A@A??@A@AFCb@C`@KdC'}, 'start_location': {'lat': 40.7122806, 'lng': -74.16411599999999}, 'travel_mode': 'DRIVING'}, {'distance': {'text': '41 m', 'value': 41}, 'duration': {'text': '1 min', 'value': 14}, 'end_location': {'lat': 40.7131485, 'lng': -74.16461819999999}, 'html_instructions': 'Turn <b>left</b>', 'maneuver': 'turn-left', 'polyline': {'points': 'iznwFbgtcMXDD?LAB@B??@BBDFBB'}, 'start_location': {'lat': 40.7134912, 'lng': -74.1645047}, 'travel_mode': 'DRIVING'}], 'traffic_speed_entry': [], 'via_waypoint': []}}, {'lat': 40.7105596, 'lng': -74.1622959, 'dist': 14420, 'nearest_ev_station': {'business_status': 'OPERATIONAL', 'geometry': {'location': {'lat': 40.7104845, 'lng': -74.1569779}, 'viewport': {'northeast': {'lat': 40.7117643802915, 'lng': -74.1556235197085}, 'southwest': {'lat': 40.7090664197085, 'lng': -74.1583214802915}}}, 'icon': 'https://maps.gstatic.com/mapfiles/place_api/icons/v1/png_71/lodging-71.png', 'icon_background_color': '#909CE1', 'icon_mask_base_uri': 'https://maps.gstatic.com/mapfiles/place_api/icons/v2/hotel_pinlet', 'name': 'Howard Johnson by Wyndham Newark Airport', 'opening_hours': {'open_now': True}, 'photos': [{'height': 2252, 'html_attributions': ['<a href=\"https://maps.google.com/maps/contrib/103613087939293957945\">1Clickz Away</a>'], 'photo_reference': 'ATplDJbr1HnVo1YZ5wXiMccXfgMSCor0ndEMmGQbdkUrDs2YJl2W25MH2mvq3gj_vT3ObnTjK4miB5iW5qNhbJKHcPM73ocbWlb3F2kgmE7eYoKYux6FiLDE1Rl6gy-UjUuG5F42rptwBo3DOF9v_e2xcU6X3Cf5cIRo8TBe0HMC78iAAkWR', 'width': 4000}], 'place_id': 'ChIJx5afmrBTwokRFqUaUGqNJqY', 'plus_code': {'compound_code': 'PR6V+56 Newark, NJ, USA', 'global_code': '87G7PR6V+56'}, 'rating': 3, 'reference': 'ChIJx5afmrBTwokRFqUaUGqNJqY', 'scope': 'GOOGLE', 'types': ['lodging', 'point_of_interest', 'establishment'], 'user_ratings_total': 1672, 'vicinity': '20 Frontage Road, Newark'}, 'nearest_ev_station_distance': 3203, 'nearest_ev_route_segment': {'distance': {'text': '3.2 km', 'value': 3203}, 'duration': {'text': '6 mins', 'value': 354}, 'end_address': '20 Frontage Rd, Newark, NJ 07114, USA', 'end_location': {'lat': 40.7103466, 'lng': -74.156983}, 'start_address': 'Phillipsburg–Newark Expy, Newark, NJ 07114, USA', 'start_location': {'lat': 40.7105596, 'lng': -74.1622959}, 'steps': [{'distance': {'text': '1.1 km', 'value': 1079}, 'duration': {'text': '1 min', 'value': 65}, 'end_location': {'lat': 40.7079318, 'lng': -74.1611333}, 'html_instructions': 'Head <b>northwest</b>', 'polyline': {'points': '_hnwFjyscMMN?@a@nAg@hBY~@ELOl@GVA@CNCPCPCRAPARAZ?D?P?RBd@Ff@Tt@?@@L@DLVLRJNBDPRb@`@\\\\RFDTJTFb@LLBP@RBR?TCNBPEPCNGRIVKNKNMLKNO@APSNQZm@LWJUJYFUHYFYDYD[B[B[@[DuCFaD@m@@q@?W@[@aB@W?U?c@?AAG'}, 'start_location': {'lat': 40.7105596, 'lng': -74.1622959}, 'travel_mode': 'DRIVING'}, {'distance': {'text': '0.3 km', 'value': 315}, 'duration': {'text': '1 min', 'value': 30}, 'end_location': {'lat': 40.7071452, 'lng': -74.15765569999999}, 'html_instructions': 'Continue onto <b>Port St</b>', 'polyline': {'points': 'qwmwF`rscM@s@FqF@[Ba@BUD[BOH_@Ha@La@L[\\\\w@n@wA'}, 'start_location': {'lat': 40.7079318, 'lng': -74.1611333}, 'travel_mode': 'DRIVING'}, {'distance': {'text': '49 m', 'value': 49}, 'duration': {'text': '1 min', 'value': 15}, 'end_location': {'lat': 40.7067317, 'lng': -74.1577776}, 'html_instructions': 'Turn <b>right</b> toward <b>Brewster Rd</b>', 'maneuver': 'turn-right', 'polyline': {'points': 'urmwFj|rcMVED?D?HBDBJFRL'}, 'start_location': {'lat': 40.7071452, 'lng': -74.15765569999999}, 'travel_mode': 'DRIVING'}, {'distance': {'text': '83 m', 'value': 83}, 'duration': {'text': '1 min', 'value': 18}, 'end_location': {'lat': 40.7070594, 'lng': -74.1586605}, 'html_instructions': 'Turn <b>right</b> onto <b>Brewster Rd</b>', 'maneuver': 'turn-right', 'polyline': {'points': 'apmwFb}rcMq@pCO\\\\'}, 'start_location': {'lat': 40.7067317, 'lng': -74.1577776}, 'travel_mode': 'DRIVING'}, {'distance': {'text': '64 m', 'value': 64}, 'duration': {'text': '1 min', 'value': 25}, 'end_location': {'lat': 40.7075434, 'lng': -74.15838099999999}, 'html_instructions': 'Turn <b>right</b> to stay on <b>Brewster Rd</b>', 'maneuver': 'turn-right', 'polyline': {'points': 'crmwFrbscMMDI@KAMCm@y@'}, 'start_location': {'lat': 40.7070594, 'lng': -74.1586605}, 'travel_mode': 'DRIVING'}, {'distance': {'text': '0.2 km', 'value': 191}, 'duration': {'text': '1 min', 'value': 22}, 'end_location': {'lat': 40.7080174, 'lng': -74.16020879999999}, 'html_instructions': 'Turn <b>left</b> onto <b>Port St</b>', 'maneuver': 'turn-left', 'polyline': {'points': 'cumwFz`scMW[Od@M^Mh@Kl@Eh@En@CpC'}, 'start_location': {'lat': 40.7075434, 'lng': -74.15838099999999}, 'travel_mode': 'DRIVING'}, {'distance': {'text': '0.1 km', 'value': 131}, 'duration': {'text': '1 min', 'value': 10}, 'end_location': {'lat': 40.7081037, 'lng': -74.1617558}, 'html_instructions': 'Keep <b>left</b>', 'maneuver': 'keep-left', 'polyline': {'points': 'cxmwFhlscMAvA?~@AN?JAXCl@Ex@'}, 'start_location': {'lat': 40.7080174, 'lng': -74.16020879999999}, 'travel_mode': 'DRIVING'}, {'distance': {'text': '1.0 km', 'value': 1018}, 'duration': {'text': '2 mins', 'value': 92}, 'end_location': {'lat': 40.7111414, 'lng': -74.15709269999999}, 'html_instructions': 'Take the <b>Frontage Road</b> exit', 'maneuver': 'ramp-right', 'polyline': {'points': 'sxmwF~uscMKTKb@CJCJAHCDCFA?CBEBEBE?E?CAEAECCCCEACCICMIc@Ic@CMAEIUIm@CQCKE[CSAOCOCYAUAY?O?M?O@O@U@G?G@IBI@IBK@IBGDGDGDEDEDCFCDCF?DAF?F@F@FBFBFDBDDDBDDFBJ@F@H@J@J?H?@?HAN?NCXCXCN?BEVGVERELGNITIDGBK@I@I@I?GCE?EAECGEIGIKSWOYGMKU{@gB[q@EKEKCKCKCMEW?EAKAKEgAASCOCMCMEMGOCEIMOUEIg@{@k@_AOMMWGKCGECGICACACCME'}, 'start_location': {'lat': 40.7081037, 'lng': -74.1617558}, 'travel_mode': 'DRIVING'}, {'distance': {'text': '0.1 km', 'value': 117}, 'duration': {'text': '1 min', 'value': 18}, 'end_location': {'lat': 40.7104464, 'lng': -74.15605959999999}, 'html_instructions': 'Turn <b>right</b> onto <b>Olympia Dr</b>', 'maneuver': 'turn-right', 'polyline': {'points': 'sknwFxxrcMJWDG~@{Ah@}@LS'}, 'start_location': {'lat': 40.7111414, 'lng': -74.15709269999999}, 'travel_mode': 'DRIVING'}, {'distance': {'text': '63 m', 'value': 63}, 'duration': {'text': '1 min', 'value': 21}, 'end_location': {'lat': 40.7099307, 'lng': -74.15636599999999}, 'html_instructions': 'Turn <b>right</b>', 'maneuver': 'turn-right', 'polyline': {'points': 'ignwFjrrcM`@TdAf@'}, 'start_location': {'lat': 40.7104464, 'lng': -74.15605959999999}, 'travel_mode': 'DRIVING'}, {'distance': {'text': '75 m', 'value': 75}, 'duration': {'text': '1 min', 'value': 28}, 'end_location': {'lat': 40.71026579999999, 'lng': -74.1571182}, 'html_instructions': 'Turn <b>right</b>', 'maneuver': 'turn-right', 'polyline': {'points': 'adnwFhtrcMe@lAO^GLA@?@A@A@?B?H?B'}, 'start_location': {'lat': 40.7099307, 'lng': -74.15636599999999}, 'travel_mode': 'DRIVING'}, {'distance': {'text': '18 m', 'value': 18}, 'duration': {'text': '1 min', 'value': 10}, 'end_location': {'lat': 40.7103466, 'lng': -74.156983}, 'html_instructions': 'Turn <b>right</b><div style=\"font-size:0.9em\">Destination will be on the left</div>', 'maneuver': 'turn-right', 'polyline': {'points': 'efnwF~xrcMC?CACCAAAA?A?O'}, 'start_location': {'lat': 40.71026579999999, 'lng': -74.1571182}, 'travel_mode': 'DRIVING'}], 'traffic_speed_entry': [], 'via_waypoint': []}}, {'lat': 40.7120916, 'lng': -74.32269939999999, 'dist': 28688, 'nearest_ev_station': {'business_status': 'OPERATIONAL', 'geometry': {'location': {'lat': 40.7127936, 'lng': -74.3536318}, 'viewport': {'northeast': {'lat': 40.7139466302915, 'lng': -74.35244356970851}, 'southwest': {'lat': 40.7112486697085, 'lng': -74.35514153029152}}}, 'icon': 'https://maps.gstatic.com/mapfiles/place_api/icons/v1/png_71/hospital-71.png', 'icon_background_color': '#F88181', 'icon_mask_base_uri': 'https://maps.gstatic.com/mapfiles/place_api/icons/v2/hospital-H_pinlet', 'name': 'Overlook Medical Center', 'opening_hours': {'open_now': True}, 'photos': [{'height': 3456, 'html_attributions': ['<a href=\"https://maps.google.com/maps/contrib/117189985822389219722\">N10 Fit</a>'], 'photo_reference': 'ATplDJZKNMRC5f-VrVbbhnqnxqnCoEtM-09IzWIJXCwiVJcgjB8Q6V-xOA_eC9j_devAdFDhzZU54pF4_zgKa_ukVpjnaANztk-_QP7xUIIzdCQXMRabUJGKMlVdXjcWr4sRcuKvaLJtMl81yaQ9PsmCoHWVk3GFjMsAg4VfihOZ1bkmkpmQ', 'width': 4608}], 'place_id': 'ChIJ_T3G7Euuw4kROmbfmRsu7jo', 'plus_code': {'compound_code': 'PJ7W+4G Summit, NJ, USA', 'global_code': '87G7PJ7W+4G'}, 'rating': 3, 'reference': 'ChIJ_T3G7Euuw4kROmbfmRsu7jo', 'scope': 'GOOGLE', 'types': ['hospital', 'point_of_interest', 'health', 'establishment'], 'user_ratings_total': 842, 'vicinity': '99 Beauvoir Avenue, Summit'}, 'nearest_ev_station_distance': 15953, 'nearest_ev_route_segment': {'distance': {'text': '16.0 km', 'value': 15953}, 'duration': {'text': '16 mins', 'value': 957}, 'end_address': '99 Beauvoir Ave, Summit, NJ 07901, USA', 'end_location': {'lat': 40.7130276, 'lng': -74.3536551}, 'start_address': '115 Short Hills Ave, Springfield, NJ 07081, USA', 'start_location': {'lat': 40.7120916, 'lng': -74.32269939999999}, 'steps': [{'distance': {'text': '8.0 km', 'value': 7966}, 'duration': {'text': '4 mins', 'value': 267}, 'end_location': {'lat': 40.6763804, 'lng': -74.402456}, 'html_instructions': 'Head <b>west</b> on <b>I-78 W</b>', 'polyline': {'points': 'qqnwFzcsdMDp@BZBZDj@HdABXD\\\\Fx@Hv@@L@LFt@Fl@@JBXHv@Fj@Fd@LrAJv@?@Hr@Jx@BXD\\\\BTF\\\\BXDXDZDXBVFZJr@DXDZBL@DF^Jp@Lp@F\\\\FVLr@Lp@FXBNJb@DXDL?@@FXnAv@jDPp@Pp@Nl@H\\\\@@FTFVRn@FVHXRn@FVDJLb@HXHVFRX`AL`@BPDJFVHVTn@^`ALZJVHVTl@@?HTL\\\\Rd@Rf@Rd@Pb@JTVl@\\\\r@t@~AXl@PZHNZj@Zl@BDHPJPXh@FH\\\\p@h@`Af@z@f@`Ar@nADHdB|Ct@tADFxAnCR^t@zAd@bADH^v@Vj@h@pAb@lAj@`BRj@Nd@Nh@Z`APl@?BZlAf@nBPz@XnAPbATxARvAHd@TjBBZHt@BVHv@@XJrAHnABj@@HHjBHbB?HHnBJhCDnAJ~BRpF@^Dz@@VB^@\\\\BVDh@?HBZBZBZBVBZHv@Fl@@BB\\\\Jv@Hl@DZHh@TxALr@BNBHDZH^P`A@@Np@Nt@Nn@FVf@nBHZLd@FVRp@FT^pAp@xBFNRl@Rl@h@|Al@bBXr@|A~DzAnDN\\\\Zp@jAfCz@hBT`@t@zAXj@T`@`@v@t@tAR`@R\\\\T`@t@rAnAxBFJ|@xAj@`Af@x@^j@FJ@@b@p@NTNVLRRXRZn@bARZr@fA@@fA`BhC`ET\\\\Vb@p@bANVFHHNNRHLLRp@bAtAzBPVHL\\\\j@hAdBtAvBFHV`@\\\\j@v@jAl@~@`@n@p@hAXf@f@x@t@xAf@bAj@nATf@LV?@Tf@@?N^HRBFdA~BTf@fAdCf@hAJVXl@bA`CTd@jBfEZt@Xn@`@|@jAhCRf@lAlC`@~@`@|@r@bBdA|Bh@nAXl@P^p@xANZh@jA\\\\r@Tf@l@lA`@x@Tb@z@bBFLHNDHXh@jAvB^n@~@`BbAbB`A|A'}, 'start_location': {'lat': 40.7120916, 'lng': -74.32269939999999}, 'travel_mode': 'DRIVING'}, {'distance': {'text': '0.5 km', 'value': 534}, 'duration': {'text': '1 min', 'value': 32}, 'end_location': {'lat': 40.6747582, 'lng': -74.407595}, 'html_instructions': 'Take exit <b>43</b> toward <b>New Providence</b>/<wbr/><b>Berkeley Heights</b>', 'maneuver': 'ramp-right', 'polyline': {'points': 'krgwFjvbeMFf@@@BDjBjDFLXf@Vb@RX`@l@b@n@^j@@BFHLT?@@@NZP^FLHRFPHVFP?@BJBLBN?@BP@L?L?D@XAL?@?FE\\\\CRCNGPELEHOZORMNA@Qd@'}, 'start_location': {'lat': 40.6763804, 'lng': -74.402456}, 'travel_mode': 'DRIVING'}, {'distance': {'text': '0.4 km', 'value': 357}, 'duration': {'text': '1 min', 'value': 33}, 'end_location': {'lat': 40.677612, 'lng': -74.409508}, 'html_instructions': 'Merge onto <b>Diamond Hill Rd</b>', 'maneuver': 'merge', 'polyline': {'points': 'ghgwFnvceMWRwBxAeBjAc@XSJA?kAp@UJw@`@[NWLMFUHWL'}, 'start_location': {'lat': 40.6747582, 'lng': -74.407595}, 'travel_mode': 'DRIVING'}, {'distance': {'text': '1.2 km', 'value': 1185}, 'duration': {'text': '2 mins', 'value': 91}, 'end_location': {'lat': 40.6792734, 'lng': -74.3959917}, 'html_instructions': 'Turn <b>right</b> onto <b>McMane Ave</b>', 'maneuver': 'turn-right', 'polyline': {'points': 'azgwFlbdeMCo@EgAAUCm@SeFG}AEoA?MI}AAk@ACC}@Ce@GyAG}AKmCGmBAOIcBCaC?oB?G?sA@A?g@@C@y@@c@BiABy@?]@c@AMAOAKAKEOCKYu@_@aA?AmA{CmAyCCICKAEAE?K?M@SBQJS'}, 'start_location': {'lat': 40.677612, 'lng': -74.409508}, 'travel_mode': 'DRIVING'}, {'distance': {'text': '5.3 km', 'value': 5258}, 'duration': {'text': '7 mins', 'value': 394}, 'end_location': {'lat': 40.7114031, 'lng': -74.351677}, 'html_instructions': 'Turn <b>left</b> onto <b>Glenside Ave</b>', 'maneuver': 'turn-left', 'polyline': {'points': 'mdhwF|maeMVSLKUk@Se@CGSe@A?_AqBo@iAGQkA{B]e@a@o@OMU[QYY_@GICCi@q@w@aAu@_AMO[e@OQACKQACS]OY]u@a@_Ae@cAIQgAaC{@iBG[GMUg@i@kAUg@O_@Ue@Se@_@y@Sg@KSGQ_@{@]w@OQQa@MYUe@{@}A[g@Yc@MSIMq@eAEGQYo@{@Wa@a@k@m@{@o@_AW_@Yc@c@o@MSs@aAa@q@i@{@gAiBWc@m@gA_BkCWc@_BmCWc@Wc@o@eAWc@Wa@Wc@Wc@Wc@m@eAWc@Wc@_@k@OUGKYc@MUIKOU_@o@OUq@cAGMg@w@Wc@a@m@OUWc@IKWa@i@{@_@k@?AMUIKEIGMKQQa@MUCGMWMYKWKYEOAAEOUu@Su@?A_@sA?AEMIYYgAEMW_AGUKc@CGMi@GQIW?AEMEOEICIGKEKGKQYYc@IMGKEEEGA?MOKMKIMKSQQKy@m@}@m@OKOK}@o@sCsBECu@m@_FuDQSUWaBcCU[MQcB}BW[ACCCS]EGQUACiAaBc@q@a@i@e@g@GGQUGISWqAaBq@{@SWGGQQUWu@cA_@c@W[Y]SYGKGKS_@GOKQMWUg@IQGMEKEICEKMMQa@k@QUKKIKqBeCw@}@c@g@g@k@m@q@e@g@u@u@yCsCEESSAAOOOQKOOU?AKQM[s@{AwAsCa@YMIKGMGCAk@U]YGESGEEEAA?EAE?M?'}, 'start_location': {'lat': 40.6792734, 'lng': -74.3959917}, 'travel_mode': 'DRIVING'}, {'distance': {'text': '0.1 km', 'value': 136}, 'duration': {'text': '1 min', 'value': 26}, 'end_location': {'lat': 40.7108624, 'lng': -74.35303990000001}, 'html_instructions': 'Turn <b>left</b> onto <b>Morris Ave</b>', 'maneuver': 'turn-left', 'polyline': {'points': 'gmnwF~xxdMIFFN`@hALVL^P^?@Rn@Hb@'}, 'start_location': {'lat': 40.7114031, 'lng': -74.351677}, 'travel_mode': 'DRIVING'}, {'distance': {'text': '0.4 km', 'value': 393}, 'duration': {'text': '1 min', 'value': 78}, 'end_location': {'lat': 40.71360720000001, 'lng': -74.3525733}, 'html_instructions': 'Turn <b>right</b> onto <b>Lower Overlook Rd</b>', 'maneuver': 'turn-right', 'polyline': {'points': '{inwFnaydMMDE@A?E?A?ECA?[UMICCKIA?EEKKEECEAAEGKKe@{@k@u@CCSSCCAASOGEGCGCGCWGKCOCMAMAM?M?I@A?GBKBGBGDGFCBILA@CFa@dAADADCDAFCJCLAHAH'}, 'start_location': {'lat': 40.7108624, 'lng': -74.35303990000001}, 'travel_mode': 'DRIVING'}, {'distance': {'text': '0.1 km', 'value': 124}, 'duration': {'text': '1 min', 'value': 36}, 'end_location': {'lat': 40.7130276, 'lng': -74.3536551}, 'html_instructions': 'Turn <b>left</b> onto <b>Overlook Rd</b><div style=\"font-size:0.9em\">Destination will be on the left</div>', 'maneuver': 'turn-left', 'polyline': {'points': 'a{nwFp~xdMF@@?@@B@@?@@B?FBFBFB@@@@FDBBFF@@BD@?@B@@BD?@@B@@@DBD@D?B@B@D@D@B?D@F?F@D?@?H@d@@Z'}, 'start_location': {'lat': 40.71360720000001, 'lng': -74.3525733}, 'travel_mode': 'DRIVING'}], 'traffic_speed_entry': [], 'via_waypoint': []}}, {'lat': 40.6433513, 'lng': -74.63528219999999, 'dist': 2377, 'nearest_ev_station': {'business_status': 'OPERATIONAL', 'geometry': {'location': {'lat': 40.584642, 'lng': -74.6129445}, 'viewport': {'northeast': {'lat': 40.58626133029149, 'lng': -74.61212036970849}, 'southwest': {'lat': 40.58356336970849, 'lng': -74.6148183302915}}}, 'icon': 'https://maps.gstatic.com/mapfiles/place_api/icons/v1/png_71/lodging-71.png', 'icon_background_color': '#909CE1', 'icon_mask_base_uri': 'https://maps.gstatic.com/mapfiles/place_api/icons/v2/hotel_pinlet', 'name': 'Bridgewater Marriott', 'photos': [{'height': 320, 'html_attributions': ['<a href=\"https://maps.google.com/maps/contrib/113457401371126935055\">Bridgewater Marriott</a>'], 'photo_reference': 'ATplDJaJupRd_4TpE-4GZM7M03J-sPgdL4WoNeC11Hkfp8xtRBXzJlJV-cpBXdzp22R_pEQc1OKa2v-7YnkrBXkXotg6Ju1DC3rR5Rko0y-xsy8oDER3W27neIW0m-MzMEbDhWvwF5OnvS8V7Y_iqEl5XHJly2VkoYegmSpFHkusafDfH9iM', 'width': 480}], 'place_id': 'ChIJw6OO2kGVw4kRVTxPWktTQVw', 'plus_code': {'compound_code': 'H9MP+VR Bridgewater, NJ, USA', 'global_code': '87G7H9MP+VR'}, 'rating': 4.4, 'reference': 'ChIJw6OO2kGVw4kRVTxPWktTQVw', 'scope': 'GOOGLE', 'types': ['lodging', 'point_of_interest', 'establishment'], 'user_ratings_total': 1357, 'vicinity': '700 Commons Way, Bridgewater'}, 'nearest_ev_station_distance': 8920, 'nearest_ev_route_segment': {'distance': {'text': '8.9 km', 'value': 8920}, 'duration': {'text': '9 mins', 'value': 538}, 'end_address': '700 Commons Way, Bridgewater, NJ 08807, USA', 'end_location': {'lat': 40.5845686, 'lng': -74.6131541}, 'start_address': '180 Washington Valley Rd, Bedminster, NJ 07921, USA', 'start_location': {'lat': 40.6433513, 'lng': -74.63528219999999}, 'steps': [{'distance': {'text': '0.7 km', 'value': 721}, 'duration': {'text': '1 min', 'value': 29}, 'end_location': {'lat': 40.64437, 'lng': -74.643336}, 'html_instructions': 'Head <b>northwest</b> on <b>Exit 29</b>', 'polyline': {'points': '}cawFnepfMIX?DB`@?@XtFHvAFvAHzABn@F|A?V@t@?^A`@?VAZCZEd@CZE\\\\EXG\\\\EXIZGZCJELIXKXKVAFIPQd@KTMZKVMXO\\\\a@`AADIRAFM`@'}, 'start_location': {'lat': 40.6433513, 'lng': -74.63528219999999}, 'travel_mode': 'DRIVING'}, {'distance': {'text': '5.4 km', 'value': 5361}, 'duration': {'text': '3 mins', 'value': 182}, 'end_location': {'lat': 40.6006801, 'lng': -74.6270505}, 'html_instructions': 'Keep <b>left</b> at the fork, follow signs for <b>I-287 S</b>/<wbr/><b>US-202 S</b>/<wbr/><b>US-206 S</b>/<wbr/><b>Somerville</b> and merge onto <b>I-287 S</b>', 'maneuver': 'fork-left', 'polyline': {'points': 'ijawFzwqfMIXCRER?DGd@?LAX?R?H?J?H?J@P@HBZ@HBNFZDTFPFPFPFNDHDFT`@DDLN@@NPNLB@@@PJRJRHVFf@JT@TAZ?j@E`@ChAKx@In@G|Ec@x@IpD]D?bCU|@ItAOj@GTCd@EHAv@Kf@Et@Kj@ITC|@MVEh@I`AOl@Kl@KNCTGf@Iz@Qb@Ij@KFCn@Mh@MREbAU?AlBc@V@bEoA`@M\\\\K^Mz@WNGdC}@VI?AtAe@^MRITG`@O\\\\Mf@Sl@SRIf@Sb@QnAg@NGFCf@SrAk@TKRITMf@UTIRK\\\\ObAg@RIf@UPKTKRKTMh@WHE\\\\S@?fAk@x@c@FEXM|A}@HEFEDC^SpAw@fBgAnBkArN{If@[BAZSjAs@^URMJGRM^UJGpAy@^UTMJIHGPK`@U^UNKbC{AvA{@nBkAvA}@l@_@ZSjC}AdBaAdAk@h@YpAo@tBcAlAi@jBu@PIjBq@r@WlE{Aj@QRGJEd@Ob@Of@OdBe@t@UzAe@b@MtCu@d@MjA[~@UTGRETG~@STGRGh@MTETGDAb@KRGLCLELCh@M~@Wd@K~@W'}, 'start_location': {'lat': 40.64437, 'lng': -74.643336}, 'travel_mode': 'DRIVING'}, {'distance': {'text': '1.2 km', 'value': 1192}, 'duration': {'text': '1 min', 'value': 46}, 'end_location': {'lat': 40.5905251, 'lng': -74.62310049999999}, 'html_instructions': 'Take exit <b>17</b> on the <b>left</b> to merge onto <b>US-202 S</b>/<wbr/><b>US-206 S</b> toward <b>US-22 W</b>/<wbr/><b>Somerville</b>/<wbr/><b>Flemington</b>', 'maneuver': 'ramp-left', 'polyline': {'points': 'gyxvF`rnfMPO@?BARGRIRGRIf@SHCHETKf@WZO`@QTMRMRMRKROVQNKFEVO?A@?z@m@XQDC\\\\WPKj@_@h@[XQVMh@Uj@Ql@Mn@KfAMx@If@KbAQd@M?ADArBm@d@M`@MRGJEPE@AVGZETCNCHAJAHApAKXAVANAt@El@EN?v@GpCO'}, 'start_location': {'lat': 40.6006801, 'lng': -74.6270505}, 'travel_mode': 'DRIVING'}, {'distance': {'text': '0.3 km', 'value': 259}, 'duration': {'text': '1 min', 'value': 32}, 'end_location': {'lat': 40.5888357, 'lng': -74.62465940000001}, 'html_instructions': 'Take the <b>Commons Way</b> exit toward <b>Garretson Rd</b>', 'maneuver': 'ramp-right', 'polyline': {'points': 'yyvvFjymfMHFDBDBD?H@H@HBLDNFJJ@@JLFJ@DDHBNDP@DF^BRBPDRDPBLFLFJHLHFJFJBH@J?pAE'}, 'start_location': {'lat': 40.5905251, 'lng': -74.62310049999999}, 'travel_mode': 'DRIVING'}, {'distance': {'text': '1.2 km', 'value': 1205}, 'duration': {'text': '2 mins', 'value': 144}, 'end_location': {'lat': 40.5836684, 'lng': -74.6138374}, 'html_instructions': 'Turn <b>left</b> onto <b>Commons Way</b>', 'maneuver': 'turn-left', 'polyline': {'points': 'govvFbcnfMLA?UEcAI_EAYE}AE}AE_C?_B?[@qA?GBm@?ADq@BWB[Da@L{@Rq@FSJ[DKXo@b@w@j@u@p@s@fBmBx@}@r@s@h@g@LOZ]v@{@t@{@r@_ABCVYFIf@i@d@e@ZW`A{@NEXK~@[f@O'}, 'start_location': {'lat': 40.5888357, 'lng': -74.62465940000001}, 'travel_mode': 'DRIVING'}, {'distance': {'text': '81 m', 'value': 81}, 'duration': {'text': '1 min', 'value': 30}, 'end_location': {'lat': 40.5837046, 'lng': -74.61301739999999}, 'html_instructions': 'Turn <b>left</b> onto <b>Crossing Blvd</b>', 'maneuver': 'turn-left', 'polyline': {'points': '}nuvFn_lfMTGEWG_@AKIu@C_@@A'}, 'start_location': {'lat': 40.5836684, 'lng': -74.6138374}, 'travel_mode': 'DRIVING'}, {'distance': {'text': '72 m', 'value': 72}, 'duration': {'text': '1 min', 'value': 22}, 'end_location': {'lat': 40.584323, 'lng': -74.6132362}, 'html_instructions': 'Turn <b>left</b>', 'maneuver': 'turn-left', 'polyline': {'points': 'couvFjzkfMS?YFeA^GB'}, 'start_location': {'lat': 40.5837046, 'lng': -74.61301739999999}, 'travel_mode': 'DRIVING'}, {'distance': {'text': '29 m', 'value': 29}, 'duration': {'text': '1 min', 'value': 53}, 'end_location': {'lat': 40.5845686, 'lng': -74.6131541}, 'html_instructions': 'Turn <b>right</b><div style=\"font-size:0.9em\">Destination will be on the right</div>', 'maneuver': 'turn-right', 'polyline': {'points': '_suvFv{kfMEEEACCEAEAEAGAE@A?'}, 'start_location': {'lat': 40.584323, 'lng': -74.6132362}, 'travel_mode': 'DRIVING'}], 'traffic_speed_entry': [], 'via_waypoint': []}}, {'lat': 40.6582758, 'lng': -74.6441528, 'dist': 1174, 'nearest_ev_station': {'business_status': 'OPERATIONAL', 'geometry': {'location': {'lat': 40.6798895, 'lng': -74.6497634}, 'viewport': {'northeast': {'lat': 40.6812835802915, 'lng': -74.6484553697085}, 'southwest': {'lat': 40.6785856197085, 'lng': -74.6511533302915}}}, 'icon': 'https://maps.gstatic.com/mapfiles/place_api/icons/v1/png_71/generic_business-71.png', 'icon_background_color': '#7B9EB0', 'icon_mask_base_uri': 'https://maps.gstatic.com/mapfiles/place_api/icons/v2/generic_pinlet', 'name': 'Affinity Federal Credit Union', 'opening_hours': {'open_now': False}, 'photos': [{'height': 1192, 'html_attributions': ['<a href=\"https://maps.google.com/maps/contrib/110046918104908700238\">Affinity Federal Credit Union</a>'], 'photo_reference': 'ATplDJaV9i6vmq9CLDCSV3phX3UBVSVeWCJ-Pl5tE6UubPMF7i_rSiLcB6ikhEVhVI-eXw30t9YMtg5ENgYc1_u6uEw3GfhAb5Uk18Ze1cLhbIM53H4lL4-EJyYamQiiku-wouLeH2kzF0G5ojwIs-Sg2cTX-KHtlufuIKWSaSin4Sz2a7V0', 'width': 2118}], 'place_id': 'ChIJt_nLWmeWw4kRSX5jNXqcy_o', 'plus_code': {'compound_code': 'M9H2+X3 Bedminster, NJ, USA', 'global_code': '87G7M9H2+X3'}, 'rating': 4.3, 'reference': 'ChIJt_nLWmeWw4kRSX5jNXqcy_o', 'scope': 'GOOGLE', 'types': ['atm', 'bank', 'finance', 'point_of_interest', 'establishment'], 'user_ratings_total': 20, 'vicinity': '1520 U.S. 206, Bedminster'}, 'nearest_ev_station_distance': 3273, 'nearest_ev_route_segment': {'distance': {'text': '3.3 km', 'value': 3273}, 'duration': {'text': '4 mins', 'value': 225}, 'end_address': '1520 US-206, Bedminster, NJ 07921, USA', 'end_location': {'lat': 40.6799229, 'lng': -74.6496454}, 'start_address': 'I-287, Bedminster, NJ 07921, USA', 'start_location': {'lat': 40.6582758, 'lng': -74.6441528}, 'steps': [{'distance': {'text': '0.4 km', 'value': 435}, 'duration': {'text': '1 min', 'value': 32}, 'end_location': {'lat': 40.6575695, 'lng': -74.6441133}, 'html_instructions': 'Head <b>east</b> on <b>Exit 22B</b> toward <b>US-202 N</b>/<wbr/><b>US-206 N</b>', 'polyline': {'points': 'gadwF||qfME]USIIMOGKEICIEIAKCKAKAM?K?S@O@G@I?GBIBI@GDKDIDKDEDGDGDEDCFCBCJEDCFAHCJAL?H@J@PBHBJBHDHDJFBBFBFFFHFHFJFLFRDRBT@XAXC\\\\EPENGNMNOPSZ'}, 'start_location': {'lat': 40.6582758, 'lng': -74.6441528}, 'travel_mode': 'DRIVING'}, {'distance': {'text': '0.7 km', 'value': 739}, 'duration': {'text': '1 min', 'value': 50}, 'end_location': {'lat': 40.663736, 'lng': -74.6443864}, 'html_instructions': 'Merge onto <b>US-202 N</b>/<wbr/><b>US-206 N</b>', 'maneuver': 'merge', 'polyline': {'points': 'y|cwFt|qfMWTWXq@n@i@h@GFc@^EB[R[P[Lm@RC@i@Js@JYDm@Dm@?]BW@Q?U@g@Ea@CIA}@E[Cc@EYE[Gc@Kk@Qk@Sc@W{@g@wBwA'}, 'start_location': {'lat': 40.6575695, 'lng': -74.6441133}, 'travel_mode': 'DRIVING'}, {'distance': {'text': '0.8 km', 'value': 849}, 'duration': {'text': '1 min', 'value': 38}, 'end_location': {'lat': 40.6713035, 'lng': -74.6438369}, 'html_instructions': 'Keep <b>left</b> to stay on <b>US-202 N</b>/<wbr/><b>US-206 N</b>', 'maneuver': 'keep-left', 'polyline': {'points': 'kcewFl~qfMuAo@i@MYIe@G]Ei@CWAa@?u@@c@Bc@@qAFI@E?gADyBFaC@g@?qBBcA?eAIo@GsE_@yAE'}, 'start_location': {'lat': 40.663736, 'lng': -74.6443864}, 'travel_mode': 'DRIVING'}, {'distance': {'text': '1.1 km', 'value': 1135}, 'duration': {'text': '1 min', 'value': 71}, 'end_location': {'lat': 40.6801728, 'lng': -74.650331}, 'html_instructions': 'Slight <b>left</b> onto <b>US-206 N</b>', 'maneuver': 'turn-slight-left', 'polyline': {'points': 'srfwF~zqfMIDG@SB_@FYF[JWJWNA?WP]XEBSPWV[Xa@`@SRQRWX{@v@a@^e@`@QNy@p@kCjBy@l@}@r@_@Zc@\\\\mAbAs@h@w@l@e@\\\\s@h@QJa@X{@h@eAl@i@Xk@ZOFqAj@gAf@g@Ti@TKD[J'}, 'start_location': {'lat': 40.6713035, 'lng': -74.6438369}, 'travel_mode': 'DRIVING'}, {'distance': {'text': '0.1 km', 'value': 115}, 'duration': {'text': '1 min', 'value': 34}, 'end_location': {'lat': 40.6799229, 'lng': -74.6496454}, 'html_instructions': 'Turn <b>right</b><div style=\"font-size:0.9em\">Destination will be on the left</div>', 'maneuver': 'turn-right', 'polyline': {'points': 'ajhwFpcsfMMm@NIFAHA@?r@WDCBC?C@EAEE[CCCAC?C?C?GD'}, 'start_location': {'lat': 40.6801728, 'lng': -74.650331}, 'travel_mode': 'DRIVING'}], 'traffic_speed_entry': [], 'via_waypoint': []}}, {'lat': 40.663736, 'lng': -74.6443864, 'dist': 849, 'nearest_ev_station': {'business_status': 'OPERATIONAL', 'geometry': {'location': {'lat': 40.6798895, 'lng': -74.6497634}, 'viewport': {'northeast': {'lat': 40.6812835802915, 'lng': -74.6484553697085}, 'southwest': {'lat': 40.6785856197085, 'lng': -74.6511533302915}}}, 'icon': 'https://maps.gstatic.com/mapfiles/place_api/icons/v1/png_71/generic_business-71.png', 'icon_background_color': '#7B9EB0', 'icon_mask_base_uri': 'https://maps.gstatic.com/mapfiles/place_api/icons/v2/generic_pinlet', 'name': 'Affinity Federal Credit Union', 'opening_hours': {'open_now': False}, 'photos': [{'height': 1192, 'html_attributions': ['<a href=\"https://maps.google.com/maps/contrib/110046918104908700238\">Affinity Federal Credit Union</a>'], 'photo_reference': 'ATplDJYmhvTHZVPgcNPeU5SRhjzir2eN-RvdXXEn9_lalJn6vYorLTy692PLrUHdi7GtJ9fFDvntjsTujEs3i0ig9Q30SoLLG0RMfNHL2HZgd9TB7ByTjCl9O_g5ZSc5KmJJvPiLxpVaVFtb4XOe3btnWHXK8Tia9mvTC0PixrL19C-rj2NU', 'width': 2118}], 'place_id': 'ChIJt_nLWmeWw4kRSX5jNXqcy_o', 'plus_code': {'compound_code': 'M9H2+X3 Bedminster, NJ, USA', 'global_code': '87G7M9H2+X3'}, 'rating': 4.3, 'reference': 'ChIJt_nLWmeWw4kRSX5jNXqcy_o', 'scope': 'GOOGLE', 'types': ['atm', 'bank', 'point_of_interest', 'finance', 'establishment'], 'user_ratings_total': 20, 'vicinity': '1520 U.S. 206, Bedminster'}, 'nearest_ev_station_distance': 2099, 'nearest_ev_route_segment': {'distance': {'text': '2.1 km', 'value': 2099}, 'duration': {'text': '2 mins', 'value': 143}, 'end_address': '1520 US-206, Bedminster, NJ 07921, USA', 'end_location': {'lat': 40.6799229, 'lng': -74.6496454}, 'start_address': 'Disabled American Veterans Hwy, Bedminster, NJ 07921, USA', 'start_location': {'lat': 40.663736, 'lng': -74.6443864}, 'steps': [{'distance': {'text': '0.8 km', 'value': 849}, 'duration': {'text': '1 min', 'value': 38}, 'end_location': {'lat': 40.6713035, 'lng': -74.6438369}, 'html_instructions': 'Head <b>north</b> on <b>US-202 N</b>/<wbr/><b>US-206 N</b>', 'polyline': {'points': 'kcewFl~qfMuAo@i@MYIe@G]Ei@CWAa@?u@@c@Bc@@qAFI@E?gADyBFaC@g@?qBBcA?eAIo@GsE_@yAE'}, 'start_location': {'lat': 40.663736, 'lng': -74.6443864}, 'travel_mode': 'DRIVING'}, {'distance': {'text': '1.1 km', 'value': 1135}, 'duration': {'text': '1 min', 'value': 71}, 'end_location': {'lat': 40.6801728, 'lng': -74.650331}, 'html_instructions': 'Slight <b>left</b> onto <b>US-206 N</b>', 'maneuver': 'turn-slight-left', 'polyline': {'points': 'srfwF~zqfMIDG@SB_@FYF[JWJWNA?WP]XEBSPWV[Xa@`@SRQRWX{@v@a@^e@`@QNy@p@kCjBy@l@}@r@_@Zc@\\\\mAbAs@h@w@l@e@\\\\s@h@QJa@X{@h@eAl@i@Xk@ZOFqAj@gAf@g@Ti@TKD[J'}, 'start_location': {'lat': 40.6713035, 'lng': -74.6438369}, 'travel_mode': 'DRIVING'}, {'distance': {'text': '0.1 km', 'value': 115}, 'duration': {'text': '1 min', 'value': 34}, 'end_location': {'lat': 40.6799229, 'lng': -74.6496454}, 'html_instructions': 'Turn <b>right</b><div style=\"font-size:0.9em\">Destination will be on the left</div>', 'maneuver': 'turn-right', 'polyline': {'points': 'ajhwFpcsfMMm@NIFAHA@?r@WDCBC?C@EAEE[CCCAC?C?C?GD'}, 'start_location': {'lat': 40.6801728, 'lng': -74.650331}, 'travel_mode': 'DRIVING'}], 'traffic_speed_entry': [], 'via_waypoint': []}}, {'lat': 40.6713035, 'lng': -74.6438369, 'dist': 14231, 'nearest_ev_station': {'business_status': 'OPERATIONAL', 'geometry': {'location': {'lat': 40.6488719, 'lng': -74.5764874}, 'viewport': {'northeast': {'lat': 40.6501838802915, 'lng': -74.5749137697085}, 'southwest': {'lat': 40.6474859197085, 'lng': -74.57761173029151}}}, 'icon': 'https://maps.gstatic.com/mapfiles/place_api/icons/v1/png_71/lodging-71.png', 'icon_background_color': '#909CE1', 'icon_mask_base_uri': 'https://maps.gstatic.com/mapfiles/place_api/icons/v2/hotel_pinlet', 'name': 'Courtyard by Marriott Basking Ridge', 'photos': [{'height': 320, 'html_attributions': ['<a href=\"https://maps.google.com/maps/contrib/100960861379023256535\">Courtyard by Marriott Basking Ridge</a>'], 'photo_reference': 'ATplDJY-a59rp3POiijV9p9R7JftibCGgpdWqiE0OnJgWNKYS135k-CqWszbEhpE7_7pE70BsifpwlmjU8kKK8GrCXvEx5lUfYjBqYp5fzq7niqq1QAXhVJXDExlW6w2FmzsgyppKLJuy-Er6YX57eWpipXZ18kSRSXqtH4bcvmMWnHnamVL', 'width': 480}], 'place_id': 'ChIJe2Vo-eW9w4kRzzE_7R_6YnQ', 'plus_code': {'compound_code': 'JCXF+GC Basking Ridge, Bernards, NJ, USA', 'global_code': '87G7JCXF+GC'}, 'rating': 4.1, 'reference': 'ChIJe2Vo-eW9w4kRzzE_7R_6YnQ', 'scope': 'GOOGLE', 'types': ['lodging', 'point_of_interest', 'establishment'], 'user_ratings_total': 838, 'vicinity': '595 Martinsville Road, Basking Ridge'}, 'nearest_ev_station_distance': 10357, 'nearest_ev_route_segment': {'distance': {'text': '10.4 km', 'value': 10357}, 'duration': {'text': '12 mins', 'value': 730}, 'end_address': '595 Martinsville Rd, Basking Ridge, NJ 07920, USA', 'end_location': {'lat': 40.6490788, 'lng': -74.5762038}, 'start_address': '1195 US-206, Bedminster, NJ 07921, USA', 'start_location': {'lat': 40.6713035, 'lng': -74.6438369}, 'steps': [{'distance': {'text': '1.0 km', 'value': 1036}, 'duration': {'text': '1 min', 'value': 64}, 'end_location': {'lat': 40.6802953, 'lng': -74.6456434}, 'html_instructions': 'Head <b>north</b> on <b>US-202 N</b> toward <b>Miller Ln</b>', 'polyline': {'points': 'srfwF~zqfMGCCAE?U@a@D_@DUFMBMDYJYNGBWP_@Xa@Z[Va@ZQPg@b@WVOLOHEBOHKBKDWDMBO?a@@K?E?E?MDyC?_D@iC@wA@]?M?u@@Q@eADiA@gCDmAB]@i@@U@e@?'}, 'start_location': {'lat': 40.6713035, 'lng': -74.6438369}, 'travel_mode': 'DRIVING'}, {'distance': {'text': '1.2 km', 'value': 1243}, 'duration': {'text': '2 mins', 'value': 100}, 'end_location': {'lat': 40.6855882, 'lng': -74.6330873}, 'html_instructions': 'Turn <b>right</b> onto <b>US-202 N</b>/<wbr/><b>Main St</b><div style=\"font-size:0.9em\">Continue to follow US-202 N</div>', 'maneuver': 'turn-right', 'polyline': {'points': '{jhwFffrfMQEIECCECIIMGcAwEEOa@eBYoAMk@ACMi@Mk@AGMk@aAqECGIc@[wAMk@[wAMk@[wA[yA@GAEAIg@iC?Ag@aCGYOeAGa@K}@SqAG[IWA?GWESA?IWIQISEIg@eAg@}@Yc@KOUYe@g@[]]]GGMMMOYYaAaA'}, 'start_location': {'lat': 40.6802953, 'lng': -74.6456434}, 'travel_mode': 'DRIVING'}, {'distance': {'text': '5.2 km', 'value': 5159}, 'duration': {'text': '5 mins', 'value': 309}, 'end_location': {'lat': 40.6659199, 'lng': -74.5897959}, 'html_instructions': 'Turn <b>right</b> onto <b>Liberty Corner Rd</b>', 'maneuver': 'turn-right', 'polyline': {'points': '}kiwFxwofMf@k@XWd@e@\\\\[vAoA\\\\[\\\\Y\\\\[j@g@LMz@u@Z[\\\\[vAqA\\\\[h@g@NM\\\\[v@s@z@y@ZWpCoCj@g@j@i@XWXWhAaAhAu@VOPI\\\\K|Aa@HCVGn@Qt@Qh@KTCHADAPAJAz@GJ?hBM\\\\AdAIfAGF?BAXEDAXI@ADARMBCHIJMJQFSBI@IDS@O?I?E@kFEsBA[ASCm@Co@Em@MmCAOAc@IwACo@Em@Cg@Eu@Co@Em@Ci@I}ACq@?S?a@?M@QD[DUFUJ]BKJk@BKDa@@GDe@Dm@Ao@?YCU?EGg@CMIu@?KAK?A?IAG@M?M?E@E?G@QDSDU@IBKFa@BIFYBSBODMBIBIBKBKDKNY\\\\g@^]RUHINUFIBCJULQ`@s@P]BEBCLYr@qA@Cd@{@~@eBLSNUFILMPMNIBAPGNCVEJAb@CNAdCIlACb@AfACb@A^Af@C`@CNARC`@G@ANEPGDCZMNI^QPIZQBApBs@TI`@K`@Md@Q^SzAcAdB}AZ_@LUHM@CHQFOHWFO?AHYH_@F]DOFo@@e@@[A_@IeAAIW_CE[Y{B_@kDAEE_@CWMcAKy@Go@AQGi@G_A?MCk@?CCo@?AAk@?e@EgBKwDAm@Cm@C}@CkACm@C{@ASAy@Cm@A]GmB@e@?o@?E@q@?U@UBkA@]BoB@]@o@DiCBeBF_C?ADaCBy@BgB?g@?U?C?[?c@EeBAU'}, 'start_location': {'lat': 40.6855882, 'lng': -74.6330873}, 'travel_mode': 'DRIVING'}, {'distance': {'text': '1.0 km', 'value': 1005}, 'duration': {'text': '1 min', 'value': 76}, 'end_location': {'lat': 40.6651069, 'lng': -74.5780983}, 'html_instructions': 'Continue onto <b>Church St</b>', 'polyline': {'points': '_qewFfigfMO_EQeECe@Ck@GmAImBC_@E{@EgACm@?c@FiAXyCLwAHs@TcCFw@JeATgCN{AFm@ZoDBSPeBDa@Du@`@sC'}, 'start_location': {'lat': 40.6659199, 'lng': -74.5897959}, 'travel_mode': 'DRIVING'}, {'distance': {'text': '0.6 km', 'value': 564}, 'duration': {'text': '1 min', 'value': 44}, 'end_location': {'lat': 40.660266, 'lng': -74.5778124}, 'html_instructions': 'Continue onto <b>Valley Rd</b>', 'polyline': {'points': '}kewFb`efM@GFWFYBGLUNA@?PAJAL@XBb@BF@J@f@Fv@Jn@F|@HPBb@Bv@@lA?|@A@?`BAH?d@?P?hA@V?JAHAJAJCFCLI'}, 'start_location': {'lat': 40.6651069, 'lng': -74.5780983}, 'travel_mode': 'DRIVING'}, {'distance': {'text': '1.2 km', 'value': 1218}, 'duration': {'text': '2 mins', 'value': 94}, 'end_location': {'lat': 40.6495576, 'lng': -74.57505929999999}, 'html_instructions': 'Slight <b>right</b> onto <b>Liberty Corner Rd</b>/<wbr/><b>Martinsville Rd</b>', 'maneuver': 'turn-slight-right', 'polyline': {'points': 'umdwFh~dfML?DABADATWLKZS`@QHCd@Kv@Md@GxAU~@KJCLEJAf@GvAWHA|@Oz@OZEzAQbAQvB]tDq@xBWdAMb@GnB[tAY\\\\CnBY\\\\DdAOb@Ib@GLA`@Ih@Kr@KJAH?RAD?'}, 'start_location': {'lat': 40.660266, 'lng': -74.5778124}, 'travel_mode': 'DRIVING'}, {'distance': {'text': '0.1 km', 'value': 104}, 'duration': {'text': '1 min', 'value': 29}, 'end_location': {'lat': 40.6493324, 'lng': -74.5762349}, 'html_instructions': 'Turn <b>right</b>', 'maneuver': 'turn-right', 'polyline': {'points': 'wjbwFbmdfM^hAF|ABX@f@'}, 'start_location': {'lat': 40.6495576, 'lng': -74.57505929999999}, 'travel_mode': 'DRIVING'}, {'distance': {'text': '28 m', 'value': 28}, 'duration': {'text': '1 min', 'value': 14}, 'end_location': {'lat': 40.6490788, 'lng': -74.5762038}, 'html_instructions': 'Turn <b>left</b>', 'maneuver': 'turn-left', 'polyline': {'points': 'iibwFltdfMp@E'}, 'start_location': {'lat': 40.6493324, 'lng': -74.5762349}, 'travel_mode': 'DRIVING'}], 'traffic_speed_entry': [], 'via_waypoint': []}}, {'lat': 40.7836119, 'lng': -74.6981407, 'dist': 0}]\n",
      "Processing node 1 of 19\n",
      "Nearest station distance: 605\n",
      "Current distance: 757\n",
      "EV range: 100000\n",
      "Processing node 2 of 19\n",
      "Nearest station distance: 2218\n",
      "Current distance: 3264\n",
      "EV range: 100000\n",
      "Processing node 3 of 19\n",
      "Nearest station distance: 1324\n",
      "Current distance: 2892\n",
      "EV range: 100000\n",
      "Processing node 4 of 19\n",
      "Nearest station distance: 910\n",
      "Current distance: 2831\n",
      "EV range: 100000\n",
      "Processing node 5 of 19\n",
      "Nearest station distance: 1159\n",
      "Current distance: 3563\n",
      "EV range: 100000\n",
      "Processing node 6 of 19\n",
      "Nearest station distance: 627\n",
      "Current distance: 3206\n",
      "EV range: 100000\n",
      "Processing node 7 of 19\n",
      "Nearest station distance: 1754\n",
      "Current distance: 4657\n",
      "EV range: 100000\n",
      "Processing node 8 of 19\n",
      "Nearest station distance: 1430\n",
      "Current distance: 6253\n",
      "EV range: 100000\n",
      "Processing node 9 of 19\n",
      "Nearest station distance: 12453\n",
      "Current distance: 22641\n",
      "EV range: 100000\n",
      "Processing node 10 of 19\n",
      "Nearest station distance: 4539\n",
      "Current distance: 14933\n",
      "EV range: 100000\n",
      "Processing node 11 of 19\n",
      "Nearest station distance: 4333\n",
      "Current distance: 17899\n",
      "EV range: 100000\n",
      "Processing node 12 of 19\n",
      "Nearest station distance: 906\n",
      "Current distance: 14810\n",
      "EV range: 100000\n",
      "Processing node 13 of 19\n",
      "Nearest station distance: 3203\n",
      "Current distance: 31527\n",
      "EV range: 100000\n",
      "Processing node 14 of 19\n",
      "Nearest station distance: 15953\n",
      "Current distance: 72965\n",
      "EV range: 100000\n",
      "Processing node 15 of 19\n",
      "Nearest station distance: 8920\n",
      "Current distance: 68309\n",
      "EV range: 100000\n",
      "Processing node 16 of 19\n",
      "Nearest station distance: 3273\n",
      "Current distance: 63836\n",
      "EV range: 100000\n",
      "Processing node 17 of 19\n",
      "Nearest station distance: 2099\n",
      "Current distance: 63511\n",
      "EV range: 100000\n",
      "Processing node 18 of 19\n",
      "Nearest station distance: 10357\n",
      "Current distance: 86000\n",
      "EV range: 100000\n",
      "Processing node 19 of 19\n",
      "[{'lat': 40.7434694, 'lng': -74.02906639999999, 'dist': 152, 'nearest_ev_station': {'business_status': 'OPERATIONAL', 'geometry': {'location': {'lat': 40.7393875, 'lng': -74.0280172}, 'viewport': {'northeast': {'lat': 40.74078078029149, 'lng': -74.0264609697085}, 'southwest': {'lat': 40.7380828197085, 'lng': -74.02915893029152}}}, 'icon': 'https://maps.gstatic.com/mapfiles/place_api/icons/v1/png_71/lodging-71.png', 'icon_background_color': '#909CE1', 'icon_mask_base_uri': 'https://maps.gstatic.com/mapfiles/place_api/icons/v2/hotel_pinlet', 'name': 'W Hoboken', 'photos': [{'height': 480, 'html_attributions': ['<a href=\"https://maps.google.com/maps/contrib/117733675958693972426\">W Hoboken</a>'], 'photo_reference': 'ATplDJaDxGfRftjx3eVjEEW51WHLWm5SoUMN11qwPt-gt3LLOoDR-R3n4wIs4A7_BjgD4OujdEzjeAea8NuKnhvRAmu6V0BNUlznTa4fpSCYPmrDyDqB3BiJOldFoQxQO6J7qTnvXKY7na5vjqWx8v0Y8SX3TJ1POgzUXFYq1AGhk8o6FPxU', 'width': 320}], 'place_id': 'ChIJ67eiTOBZwokRvqTgL4UexRk', 'plus_code': {'compound_code': 'PXQC+QQ Hoboken, NJ, USA', 'global_code': '87G7PXQC+QQ'}, 'rating': 4.4, 'reference': 'ChIJ67eiTOBZwokRvqTgL4UexRk', 'scope': 'GOOGLE', 'types': ['lodging', 'point_of_interest', 'establishment'], 'user_ratings_total': 1834, 'vicinity': '225 River Street, Hoboken'}, 'nearest_ev_station_distance': 605, 'nearest_ev_route_segment': {'distance': {'text': '0.6 km', 'value': 605}, 'duration': {'text': '4 mins', 'value': 213}, 'end_address': '225 River St, Hoboken, NJ 07030, USA', 'end_location': {'lat': 40.7394067, 'lng': -74.0281227}, 'start_address': '603 Washington St, Hoboken, NJ 07030, USA', 'start_location': {'lat': 40.7434694, 'lng': -74.02906639999999}, 'steps': [{'distance': {'text': '0.1 km', 'value': 145}, 'duration': {'text': '1 min', 'value': 44}, 'end_location': {'lat': 40.7422009, 'lng': -74.0294637}, 'html_instructions': 'Head <b>south</b> on <b>Washington St</b> toward <b>5th St</b>', 'polyline': {'points': 'uutwFtxybMhB^`@JpB`@'}, 'start_location': {'lat': 40.7434694, 'lng': -74.02906639999999}, 'travel_mode': 'DRIVING'}, {'distance': {'text': '94 m', 'value': 94}, 'duration': {'text': '1 min', 'value': 49}, 'end_location': {'lat': 40.7420204, 'lng': -74.0283681}, 'html_instructions': 'Turn <b>left</b> at the 1st cross street onto <b>5th St</b>', 'maneuver': 'turn-left', 'polyline': {'points': 'wmtwFb{ybMPqBPgB'}, 'start_location': {'lat': 40.7422009, 'lng': -74.0294637}, 'travel_mode': 'DRIVING'}, {'distance': {'text': '0.3 km', 'value': 252}, 'duration': {'text': '1 min', 'value': 61}, 'end_location': {'lat': 40.7398185, 'lng': -74.0290546}, 'html_instructions': 'Turn <b>right</b> onto <b>Hudson St</b>', 'maneuver': 'turn-right', 'polyline': {'points': 'sltwFhtybMJ@h@LNBt@Nr@NJBlAVfB`@dAT'}, 'start_location': {'lat': 40.7420204, 'lng': -74.0283681}, 'travel_mode': 'DRIVING'}, {'distance': {'text': '87 m', 'value': 87}, 'duration': {'text': '1 min', 'value': 37}, 'end_location': {'lat': 40.7396405, 'lng': -74.0280485}, 'html_instructions': 'Turn <b>left</b> onto <b>3rd St</b>', 'maneuver': 'turn-left', 'polyline': {'points': '{~swFpxybMNwARoB'}, 'start_location': {'lat': 40.7398185, 'lng': -74.0290546}, 'travel_mode': 'DRIVING'}, {'distance': {'text': '27 m', 'value': 27}, 'duration': {'text': '1 min', 'value': 22}, 'end_location': {'lat': 40.7394067, 'lng': -74.0281227}, 'html_instructions': 'Turn <b>right</b> at the 1st cross street onto <b>River St</b><div style=\"font-size:0.9em\">Destination will be on the left</div>', 'maneuver': 'turn-right', 'polyline': {'points': 'w}swFhrybMl@L'}, 'start_location': {'lat': 40.7396405, 'lng': -74.0280485}, 'travel_mode': 'DRIVING'}], 'traffic_speed_entry': [], 'via_waypoint': []}}, {'lat': 40.7437773, 'lng': -74.0308202, 'dist': 894, 'nearest_ev_station': {'business_status': 'OPERATIONAL', 'geometry': {'location': {'lat': 40.7297195, 'lng': -74.04018409999999}, 'viewport': {'northeast': {'lat': 40.73099128029149, 'lng': -74.03882491970849}, 'southwest': {'lat': 40.7282933197085, 'lng': -74.0415228802915}}}, 'icon': 'https://maps.gstatic.com/mapfiles/place_api/icons/v1/png_71/lodging-71.png', 'icon_background_color': '#909CE1', 'icon_mask_base_uri': 'https://maps.gstatic.com/mapfiles/place_api/icons/v2/hotel_pinlet', 'name': 'The Holland', 'photos': [{'height': 3024, 'html_attributions': ['<a href=\"https://maps.google.com/maps/contrib/114301486042376686495\">Hannes Bend</a>'], 'photo_reference': 'ATplDJax9SAxUxWacuajYPcWlz6-qA-cK9-7Qvy4Xj6IkOTLAhLhr-pdeIsIzFXvmkrl2DbbFUMpmQ_Y3g-couHQN8j_OxasN8QwJx-CgLC98YG6a91nsvhpWE_ch8fgec6YvahYQ_blAuebUQAhODVNslFXVfMNWPjYeey8p7b90rW12rHU', 'width': 4032}], 'place_id': 'ChIJZUYhllFXwokR2MwaIb3ugEs', 'plus_code': {'compound_code': 'PXH5+VW Jersey City, NJ, USA', 'global_code': '87G7PXH5+VW'}, 'rating': 4.2, 'reference': 'ChIJZUYhllFXwokR2MwaIb3ugEs', 'scope': 'GOOGLE', 'types': ['lodging', 'point_of_interest', 'establishment'], 'user_ratings_total': 1117, 'vicinity': '175 12th Street, Jersey City'}, 'nearest_ev_station_distance': 2218, 'nearest_ev_route_segment': {'distance': {'text': '2.2 km', 'value': 2218}, 'duration': {'text': '8 mins', 'value': 497}, 'end_address': '175 11th St, Jersey City, NJ 07310, USA', 'end_location': {'lat': 40.7295614, 'lng': -74.04021259999999}, 'start_address': '537 Garden St, Hoboken, NJ 07030, USA', 'start_location': {'lat': 40.7437773, 'lng': -74.0308202}, 'steps': [{'distance': {'text': '0.9 km', 'value': 894}, 'duration': {'text': '3 mins', 'value': 186}, 'end_location': {'lat': 40.7359385, 'lng': -74.0331996}, 'html_instructions': 'Head <b>south</b> on <b>Garden St</b> toward <b>5th St</b>', 'polyline': {'points': 'swtwFrczbMnB`@b@HfB\\\\zA\\\\~A\\\\pB`@jCh@hB`@`@HpBb@rCj@hB\\\\jB^pBb@PB|@R~@R'}, 'start_location': {'lat': 40.7437773, 'lng': -74.0308202}, 'travel_mode': 'DRIVING'}, {'distance': {'text': '0.5 km', 'value': 464}, 'duration': {'text': '1 min', 'value': 83}, 'end_location': {'lat': 40.7368639, 'lng': -74.0385733}, 'html_instructions': 'Turn <b>right</b> onto <b>County Rd 681</b>', 'maneuver': 'turn-right', 'polyline': {'points': 'sfswFnrzbMa@xD_@zDqBxSC`@'}, 'start_location': {'lat': 40.7359385, 'lng': -74.0331996}, 'travel_mode': 'DRIVING'}, {'distance': {'text': '0.8 km', 'value': 825}, 'duration': {'text': '4 mins', 'value': 216}, 'end_location': {'lat': 40.7295164, 'lng': -74.0398008}, 'html_instructions': 'Turn <b>left</b> onto <b>Henderson St</b>/<wbr/><b>Marin Blvd</b><div style=\"font-size:0.9em\">Continue to follow Marin Blvd</div>', 'maneuver': 'turn-left', 'polyline': {'points': 'klswF`t{bMJBj@LF@FBF?^DfAH`BNfCR~AJN@lAJF@j@D|BRfBPb@Bd@DPBf@DTLLBf@DXBd@Bn@Fp@Fh@Df@DN@VB`@BVBP@H@'}, 'start_location': {'lat': 40.7368639, 'lng': -74.0385733}, 'travel_mode': 'DRIVING'}, {'distance': {'text': '35 m', 'value': 35}, 'duration': {'text': '1 min', 'value': 12}, 'end_location': {'lat': 40.7295614, 'lng': -74.04021259999999}, 'html_instructions': 'Turn <b>right</b><div style=\"font-size:0.9em\">Destination will be on the right</div>', 'maneuver': 'turn-right', 'polyline': {'points': 'o~qwFv{{bMCh@Cf@'}, 'start_location': {'lat': 40.7295164, 'lng': -74.0398008}, 'travel_mode': 'DRIVING'}], 'traffic_speed_entry': [], 'via_waypoint': []}}, {'lat': 40.7359385, 'lng': -74.0331996, 'dist': 522, 'nearest_ev_station': {'business_status': 'OPERATIONAL', 'geometry': {'location': {'lat': 40.7297195, 'lng': -74.04018409999999}, 'viewport': {'northeast': {'lat': 40.73099128029149, 'lng': -74.03882491970849}, 'southwest': {'lat': 40.7282933197085, 'lng': -74.0415228802915}}}, 'icon': 'https://maps.gstatic.com/mapfiles/place_api/icons/v1/png_71/lodging-71.png', 'icon_background_color': '#909CE1', 'icon_mask_base_uri': 'https://maps.gstatic.com/mapfiles/place_api/icons/v2/hotel_pinlet', 'name': 'The Holland', 'photos': [{'height': 3024, 'html_attributions': ['<a href=\"https://maps.google.com/maps/contrib/114301486042376686495\">Hannes Bend</a>'], 'photo_reference': 'ATplDJaYmvChBJ2tPe4rwJ56xcSGZPkVD9QV4zJmoOC0MRI46fH3f3DZmGDzWgvQQwV6hn0NlsQQLsHEbNf-5ALpEhpMsRgOVbJ8nJWQZo9bY7JmVJlm3ero9Q3Xm_ZbkNB6U50Zyzi4Egcp9MCKBiwrEyRc3bIpBSoxWeJnxhzL9AOQrrMg', 'width': 4032}], 'place_id': 'ChIJZUYhllFXwokR2MwaIb3ugEs', 'plus_code': {'compound_code': 'PXH5+VW Jersey City, NJ, USA', 'global_code': '87G7PXH5+VW'}, 'rating': 4.2, 'reference': 'ChIJZUYhllFXwokR2MwaIb3ugEs', 'scope': 'GOOGLE', 'types': ['lodging', 'point_of_interest', 'establishment'], 'user_ratings_total': 1117, 'vicinity': '175 12th Street, Jersey City'}, 'nearest_ev_station_distance': 1324, 'nearest_ev_route_segment': {'distance': {'text': '1.3 km', 'value': 1324}, 'duration': {'text': '5 mins', 'value': 308}, 'end_address': '175 11th St, Jersey City, NJ 07310, USA', 'end_location': {'lat': 40.7295614, 'lng': -74.04021259999999}, 'start_address': '200 Observer Hwy, Hoboken, NJ 07030, USA', 'start_location': {'lat': 40.7359385, 'lng': -74.0331996}, 'steps': [{'distance': {'text': '0.5 km', 'value': 464}, 'duration': {'text': '1 min', 'value': 80}, 'end_location': {'lat': 40.7368639, 'lng': -74.0385733}, 'html_instructions': 'Head <b>west</b> on <b>County Rd 681</b> toward <b>Park Ave</b>', 'polyline': {'points': 'sfswFnrzbMa@xD_@zDqBxSC`@'}, 'start_location': {'lat': 40.7359385, 'lng': -74.0331996}, 'travel_mode': 'DRIVING'}, {'distance': {'text': '0.8 km', 'value': 825}, 'duration': {'text': '4 mins', 'value': 216}, 'end_location': {'lat': 40.7295164, 'lng': -74.0398008}, 'html_instructions': 'Turn <b>left</b> onto <b>Henderson St</b>/<wbr/><b>Marin Blvd</b><div style=\"font-size:0.9em\">Continue to follow Marin Blvd</div>', 'maneuver': 'turn-left', 'polyline': {'points': 'klswF`t{bMJBj@LF@FBF?^DfAH`BNfCR~AJN@lAJF@j@D|BRfBPb@Bd@DPBf@DTLLBf@DXBd@Bn@Fp@Fh@Df@DN@VB`@BVBP@H@'}, 'start_location': {'lat': 40.7368639, 'lng': -74.0385733}, 'travel_mode': 'DRIVING'}, {'distance': {'text': '35 m', 'value': 35}, 'duration': {'text': '1 min', 'value': 12}, 'end_location': {'lat': 40.7295614, 'lng': -74.04021259999999}, 'html_instructions': 'Turn <b>right</b><div style=\"font-size:0.9em\">Destination will be on the right</div>', 'maneuver': 'turn-right', 'polyline': {'points': 'o~qwFv{{bMCh@Cf@'}, 'start_location': {'lat': 40.7295164, 'lng': -74.0398008}, 'travel_mode': 'DRIVING'}], 'traffic_speed_entry': [], 'via_waypoint': []}}, {'lat': 40.7368213, 'lng': -74.03925219999999, 'dist': 353, 'nearest_ev_station': {'business_status': 'OPERATIONAL', 'geometry': {'location': {'lat': 40.7297195, 'lng': -74.04018409999999}, 'viewport': {'northeast': {'lat': 40.73099128029149, 'lng': -74.03882491970849}, 'southwest': {'lat': 40.7282933197085, 'lng': -74.0415228802915}}}, 'icon': 'https://maps.gstatic.com/mapfiles/place_api/icons/v1/png_71/lodging-71.png', 'icon_background_color': '#909CE1', 'icon_mask_base_uri': 'https://maps.gstatic.com/mapfiles/place_api/icons/v2/hotel_pinlet', 'name': 'The Holland', 'photos': [{'height': 3024, 'html_attributions': ['<a href=\"https://maps.google.com/maps/contrib/114301486042376686495\">Hannes Bend</a>'], 'photo_reference': 'ATplDJZoM3zVe7ZjrJEzRSszeiK1RWGfkA09b4AwZIwdmJwP1gLpB_Ql-TgFT2IYy6aDcB6vN7p0fCmijfM9WO8uDOFQu51bOQen7Vo68LPwYTU3dDHcXNX8G5jARzqOHVdjS1TJNUFV3AHMOgrindoTx_nnnShiLpSPZatLItPYHPJxuxew', 'width': 4032}], 'place_id': 'ChIJZUYhllFXwokR2MwaIb3ugEs', 'plus_code': {'compound_code': 'PXH5+VW Jersey City, NJ, USA', 'global_code': '87G7PXH5+VW'}, 'rating': 4.2, 'reference': 'ChIJZUYhllFXwokR2MwaIb3ugEs', 'scope': 'GOOGLE', 'types': ['lodging', 'point_of_interest', 'establishment'], 'user_ratings_total': 1117, 'vicinity': '175 12th Street, Jersey City'}, 'nearest_ev_station_distance': 910, 'nearest_ev_route_segment': {'distance': {'text': '0.9 km', 'value': 910}, 'duration': {'text': '4 mins', 'value': 253}, 'end_address': '175 11th St, Jersey City, NJ 07310, USA', 'end_location': {'lat': 40.7295614, 'lng': -74.04021259999999}, 'start_address': '5 Observer Hwy, Hoboken, NJ 07030, USA', 'start_location': {'lat': 40.7368213, 'lng': -74.03925219999999}, 'steps': [{'distance': {'text': '42 m', 'value': 42}, 'duration': {'text': '1 min', 'value': 14}, 'end_location': {'lat': 40.7368521, 'lng': -74.0387557}, 'html_instructions': 'Head <b>east</b> on <b>Newark St.</b>', 'polyline': {'points': 'clswFhx{bMCY?OAS?c@'}, 'start_location': {'lat': 40.7368213, 'lng': -74.03925219999999}, 'travel_mode': 'DRIVING'}, {'distance': {'text': '0.8 km', 'value': 833}, 'duration': {'text': '4 mins', 'value': 227}, 'end_location': {'lat': 40.7295164, 'lng': -74.0398008}, 'html_instructions': 'Turn <b>right</b> onto <b>Henderson St</b>/<wbr/><b>Marin Blvd</b><div style=\"font-size:0.9em\">Continue to follow Marin Blvd</div>', 'maneuver': 'turn-right', 'polyline': {'points': 'ilswFfu{bMHa@j@LF@FBF?^DfAH`BNfCR~AJN@lAJF@j@D|BRfBPb@Bd@DPBf@DTLLBf@DXBd@Bn@Fp@Fh@Df@DN@VB`@BVBP@H@'}, 'start_location': {'lat': 40.7368521, 'lng': -74.0387557}, 'travel_mode': 'DRIVING'}, {'distance': {'text': '35 m', 'value': 35}, 'duration': {'text': '1 min', 'value': 12}, 'end_location': {'lat': 40.7295614, 'lng': -74.04021259999999}, 'html_instructions': 'Turn <b>right</b><div style=\"font-size:0.9em\">Destination will be on the right</div>', 'maneuver': 'turn-right', 'polyline': {'points': 'o~qwFv{{bMCh@Cf@'}, 'start_location': {'lat': 40.7295164, 'lng': -74.0398008}, 'travel_mode': 'DRIVING'}], 'traffic_speed_entry': [], 'via_waypoint': []}}, {'lat': 40.7362133, 'lng': -74.04336529999999, 'dist': 483, 'nearest_ev_station': {'business_status': 'OPERATIONAL', 'geometry': {'location': {'lat': 40.7297195, 'lng': -74.04018409999999}, 'viewport': {'northeast': {'lat': 40.73099128029149, 'lng': -74.03882491970849}, 'southwest': {'lat': 40.7282933197085, 'lng': -74.0415228802915}}}, 'icon': 'https://maps.gstatic.com/mapfiles/place_api/icons/v1/png_71/lodging-71.png', 'icon_background_color': '#909CE1', 'icon_mask_base_uri': 'https://maps.gstatic.com/mapfiles/place_api/icons/v2/hotel_pinlet', 'name': 'The Holland', 'photos': [{'height': 3024, 'html_attributions': ['<a href=\"https://maps.google.com/maps/contrib/114301486042376686495\">Hannes Bend</a>'], 'photo_reference': 'ATplDJaULw9-6KTfCE5myQi3kT_GA6Xjey24ftK3KNWgLtVy98TXBNqAhdlWHaknqojNY2PwZqTAxGAVKV7m6QiRRYe0IYbIk3--tEr-UpcuNJ_0ZW2gVZ5IjNeL_X8yijqkSUd8maIjr_L9k5kA_VEmqXjtSFSJTrNb0em62lBg0dJP1XAl', 'width': 4032}], 'place_id': 'ChIJZUYhllFXwokR2MwaIb3ugEs', 'plus_code': {'compound_code': 'PXH5+VW Jersey City, NJ, USA', 'global_code': '87G7PXH5+VW'}, 'rating': 4.2, 'reference': 'ChIJZUYhllFXwokR2MwaIb3ugEs', 'scope': 'GOOGLE', 'types': ['lodging', 'point_of_interest', 'establishment'], 'user_ratings_total': 1117, 'vicinity': '175 12th Street, Jersey City'}, 'nearest_ev_station_distance': 1159, 'nearest_ev_route_segment': {'distance': {'text': '1.2 km', 'value': 1159}, 'duration': {'text': '5 mins', 'value': 278}, 'end_address': '175 11th St, Jersey City, NJ 07310, USA', 'end_location': {'lat': 40.7295614, 'lng': -74.04021259999999}, 'start_address': '866 Jersey Ave, Jersey City, NJ 07310, USA', 'start_location': {'lat': 40.7362133, 'lng': -74.04336529999999}, 'steps': [{'distance': {'text': '0.2 km', 'value': 164}, 'duration': {'text': '1 min', 'value': 28}, 'end_location': {'lat': 40.7349858, 'lng': -74.0439698}, 'html_instructions': 'Head <b>west</b> on <b>Jersey Ave</b>/<wbr/><b>Newark St.</b><div style=\"font-size:0.9em\">Continue to follow Jersey Ave</div>', 'polyline': {'points': 'ihswF`r|bMH|@@DBD@DBB@BD@B@X@J@hAFJ@j@Fh@D'}, 'start_location': {'lat': 40.7362133, 'lng': -74.04336529999999}, 'travel_mode': 'DRIVING'}, {'distance': {'text': '0.4 km', 'value': 433}, 'duration': {'text': '1 min', 'value': 76}, 'end_location': {'lat': 40.7342098, 'lng': -74.03902470000001}, 'html_instructions': 'Turn <b>left</b> onto <b>18th St</b>', 'maneuver': 'turn-left', 'polyline': {'points': 'u`swFxu|bMH@V_GDkABYBW@MDQFe@BKBIBODQBQDUBUDa@Do@?ONsED]D]BMDQHS'}, 'start_location': {'lat': 40.7349858, 'lng': -74.0439698}, 'travel_mode': 'DRIVING'}, {'distance': {'text': '0.5 km', 'value': 527}, 'duration': {'text': '3 mins', 'value': 162}, 'end_location': {'lat': 40.7295164, 'lng': -74.0398008}, 'html_instructions': 'Turn <b>right</b> onto <b>Marin Blvd</b>', 'maneuver': 'turn-right', 'polyline': {'points': 'y{rwFzv{bMlAJF@j@D|BRfBPb@Bd@DPBf@DTLLBf@DXBd@Bn@Fp@Fh@Df@DN@VB`@BVBP@H@'}, 'start_location': {'lat': 40.7342098, 'lng': -74.03902470000001}, 'travel_mode': 'DRIVING'}, {'distance': {'text': '35 m', 'value': 35}, 'duration': {'text': '1 min', 'value': 12}, 'end_location': {'lat': 40.7295614, 'lng': -74.04021259999999}, 'html_instructions': 'Turn <b>right</b><div style=\"font-size:0.9em\">Destination will be on the right</div>', 'maneuver': 'turn-right', 'polyline': {'points': 'o~qwFv{{bMCh@Cf@'}, 'start_location': {'lat': 40.7295164, 'lng': -74.0398008}, 'travel_mode': 'DRIVING'}], 'traffic_speed_entry': [], 'via_waypoint': []}}, {'lat': 40.7321369, 'lng': -74.0444018, 'dist': 175, 'nearest_ev_station': {'business_status': 'OPERATIONAL', 'geometry': {'location': {'lat': 40.7297195, 'lng': -74.04018409999999}, 'viewport': {'northeast': {'lat': 40.73099128029149, 'lng': -74.03882491970849}, 'southwest': {'lat': 40.7282933197085, 'lng': -74.0415228802915}}}, 'icon': 'https://maps.gstatic.com/mapfiles/place_api/icons/v1/png_71/lodging-71.png', 'icon_background_color': '#909CE1', 'icon_mask_base_uri': 'https://maps.gstatic.com/mapfiles/place_api/icons/v2/hotel_pinlet', 'name': 'The Holland', 'photos': [{'height': 3024, 'html_attributions': ['<a href=\"https://maps.google.com/maps/contrib/114301486042376686495\">Hannes Bend</a>'], 'photo_reference': 'ATplDJaOexJuntcIO4b6pW76X4EJGK6zjWfyBr38_9jLrsbr4He0t4rRPMqFTnIhU4HIQDmidFiGO9LyrCg3cP194aHx6c3ug06D_4ze49sp8kQscIHevfZLAZsWPvlzpE4nWtw_1Roi56DvZbFozoY_7ONmYW56_QihUg0GXua8-x7Q-hPr', 'width': 4032}], 'place_id': 'ChIJZUYhllFXwokR2MwaIb3ugEs', 'plus_code': {'compound_code': 'PXH5+VW Jersey City, NJ, USA', 'global_code': '87G7PXH5+VW'}, 'rating': 4.2, 'reference': 'ChIJZUYhllFXwokR2MwaIb3ugEs', 'scope': 'GOOGLE', 'types': ['lodging', 'point_of_interest', 'establishment'], 'user_ratings_total': 1117, 'vicinity': '175 12th Street, Jersey City'}, 'nearest_ev_station_distance': 627, 'nearest_ev_route_segment': {'distance': {'text': '0.6 km', 'value': 627}, 'duration': {'text': '4 mins', 'value': 220}, 'end_address': '175 11th St, Jersey City, NJ 07310, USA', 'end_location': {'lat': 40.7295614, 'lng': -74.04021259999999}, 'start_address': '248 14th St, Jersey City, NJ 07310, USA', 'start_location': {'lat': 40.7321369, 'lng': -74.0444018}, 'steps': [{'distance': {'text': '0.2 km', 'value': 177}, 'duration': {'text': '1 min', 'value': 88}, 'end_location': {'lat': 40.73056709999999, 'lng': -74.04467029999999}, 'html_instructions': 'Head <b>southwest</b> on <b>Jersey Ave</b> toward <b>I-78 W</b>', 'polyline': {'points': '{nrwFnx|bMVLb@DbAHr@Ft@Fn@B^B'}, 'start_location': {'lat': 40.7321369, 'lng': -74.0444018}, 'travel_mode': 'DRIVING'}, {'distance': {'text': '0.3 km', 'value': 335}, 'duration': {'text': '1 min', 'value': 85}, 'end_location': {'lat': 40.730129, 'lng': -74.0407645}, 'html_instructions': 'Turn <b>left</b> onto <b>12th St</b>', 'maneuver': 'turn-left', 'polyline': {'points': 'aerwFdz|bMBUBQBGBGFMBi@Be@Bu@D{@D{@@M@e@H_B@U?KB]@ODcABo@Bm@BcA'}, 'start_location': {'lat': 40.73056709999999, 'lng': -74.04467029999999}, 'travel_mode': 'DRIVING'}, {'distance': {'text': '31 m', 'value': 31}, 'duration': {'text': '1 min', 'value': 9}, 'end_location': {'lat': 40.730038, 'lng': -74.0404202}, 'html_instructions': 'Slight <b>right</b> to stay on <b>12th St</b>', 'maneuver': 'turn-slight-right', 'polyline': {'points': 'ibrwFva|bMFOHs@'}, 'start_location': {'lat': 40.730129, 'lng': -74.0407645}, 'travel_mode': 'DRIVING'}, {'distance': {'text': '52 m', 'value': 52}, 'duration': {'text': '1 min', 'value': 14}, 'end_location': {'lat': 40.7296003, 'lng': -74.0405897}, 'html_instructions': 'Turn <b>right</b>', 'maneuver': 'turn-right', 'polyline': {'points': 'warwFr_|bMHHDDHBJDp@F'}, 'start_location': {'lat': 40.730038, 'lng': -74.0404202}, 'travel_mode': 'DRIVING'}, {'distance': {'text': '32 m', 'value': 32}, 'duration': {'text': '1 min', 'value': 24}, 'end_location': {'lat': 40.7295614, 'lng': -74.04021259999999}, 'html_instructions': 'Turn <b>left</b><div style=\"font-size:0.9em\">Destination will be on the left</div>', 'maneuver': 'turn-left', 'polyline': {'points': '__rwFt`|bMFeA?E'}, 'start_location': {'lat': 40.7296003, 'lng': -74.0405897}, 'travel_mode': 'DRIVING'}], 'traffic_speed_entry': [], 'via_waypoint': []}}, {'lat': 40.7319276, 'lng': -74.04635809999999, 'dist': 324, 'nearest_ev_station': {'business_status': 'OPERATIONAL', 'geometry': {'location': {'lat': 40.7297195, 'lng': -74.04018409999999}, 'viewport': {'northeast': {'lat': 40.73099128029149, 'lng': -74.03882491970849}, 'southwest': {'lat': 40.7282933197085, 'lng': -74.0415228802915}}}, 'icon': 'https://maps.gstatic.com/mapfiles/place_api/icons/v1/png_71/lodging-71.png', 'icon_background_color': '#909CE1', 'icon_mask_base_uri': 'https://maps.gstatic.com/mapfiles/place_api/icons/v2/hotel_pinlet', 'name': 'The Holland', 'photos': [{'height': 3024, 'html_attributions': ['<a href=\"https://maps.google.com/maps/contrib/114301486042376686495\">Hannes Bend</a>'], 'photo_reference': 'ATplDJb1vDafNu9SQt2dX-gAdw-Yq3LRn93k2c2ltzvYJcU2YaRTpw-OxR4b4AGkbM-6Ev-5JhABq43pNxQO5XK2zTep2R9yusMxyWXVkI5Hi1-3PRn74Nb0CMMsU5StCiW6IMuI2rIXt5thRlr8YaxLK1Hzz-Eh3pcsnrAeHZRx2a3A1Hiy', 'width': 4032}], 'place_id': 'ChIJZUYhllFXwokR2MwaIb3ugEs', 'plus_code': {'compound_code': 'PXH5+VW Jersey City, NJ, USA', 'global_code': '87G7PXH5+VW'}, 'rating': 4.2, 'reference': 'ChIJZUYhllFXwokR2MwaIb3ugEs', 'scope': 'GOOGLE', 'types': ['lodging', 'point_of_interest', 'establishment'], 'user_ratings_total': 1117, 'vicinity': '175 12th Street, Jersey City'}, 'nearest_ev_station_distance': 1754, 'nearest_ev_route_segment': {'distance': {'text': '1.8 km', 'value': 1754}, 'duration': {'text': '7 mins', 'value': 398}, 'end_address': '175 11th St, Jersey City, NJ 07310, USA', 'end_location': {'lat': 40.7295614, 'lng': -74.04021259999999}, 'start_address': '50 14th St, Jersey City, NJ 07310, USA', 'start_location': {'lat': 40.7319276, 'lng': -74.04635809999999}, 'steps': [{'distance': {'text': '0.3 km', 'value': 324}, 'duration': {'text': '1 min', 'value': 21}, 'end_location': {'lat': 40.7313096, 'lng': -74.05010829999999}, 'html_instructions': 'Head <b>west</b> on <b>NJ-139 W</b>', 'polyline': {'points': 'qmrwFvd}bMBb@BR?H@H@VBNBj@BVJhBBV?@@VBZDZBXD\\\\Hp@PrANfAPzA'}, 'start_location': {'lat': 40.7319276, 'lng': -74.04635809999999}, 'travel_mode': 'DRIVING'}, {'distance': {'text': '0.2 km', 'value': 234}, 'duration': {'text': '1 min', 'value': 37}, 'end_location': {'lat': 40.7319191, 'lng': -74.0526415}, 'html_instructions': 'Take the exit toward <b>Kennedy Blvd</b>/<wbr/><b>Jersey City</b>', 'maneuver': 'ramp-right', 'polyline': {'points': 'uirwFd|}bMAB?D?F?FB^Bv@A|@?ZGt@EVG`@ENCLWp@c@v@a@t@'}, 'start_location': {'lat': 40.7313096, 'lng': -74.05010829999999}, 'travel_mode': 'DRIVING'}, {'distance': {'text': '0.3 km', 'value': 292}, 'duration': {'text': '1 min', 'value': 76}, 'end_location': {'lat': 40.7310874, 'lng': -74.0500165}, 'html_instructions': 'Make a <b>U-turn</b> at <b>Palisade Ave</b> (signs for <b>NJ-139 E</b>)', 'maneuver': 'uturn-left', 'polyline': {'points': 'omrwF~k~bMPXNRXc@FM@AJSHQVm@FONg@F[DUF_@D_@B_@@S@G@Y?Y?U?eBK['}, 'start_location': {'lat': 40.7319191, 'lng': -74.0526415}, 'travel_mode': 'DRIVING'}, {'distance': {'text': '0.8 km', 'value': 789}, 'duration': {'text': '4 mins', 'value': 217}, 'end_location': {'lat': 40.730129, 'lng': -74.0407645}, 'html_instructions': 'Merge onto <b>NJ-139 E</b>', 'maneuver': 'merge', 'polyline': {'points': 'ihrwFr{}bMB_@Bq@DwAJcCD{@Bq@Dq@D_AFyAHaBBa@@_@H}BNqBDq@BUBQBGBGFMBi@Be@Bu@D{@D{@@M@e@H_B@U?KB]@ODcABo@Bm@BcA'}, 'start_location': {'lat': 40.7310874, 'lng': -74.0500165}, 'travel_mode': 'DRIVING'}, {'distance': {'text': '31 m', 'value': 31}, 'duration': {'text': '1 min', 'value': 9}, 'end_location': {'lat': 40.730038, 'lng': -74.0404202}, 'html_instructions': 'Slight <b>right</b> onto <b>12th St</b>', 'maneuver': 'turn-slight-right', 'polyline': {'points': 'ibrwFva|bMFOHs@'}, 'start_location': {'lat': 40.730129, 'lng': -74.0407645}, 'travel_mode': 'DRIVING'}, {'distance': {'text': '52 m', 'value': 52}, 'duration': {'text': '1 min', 'value': 14}, 'end_location': {'lat': 40.7296003, 'lng': -74.0405897}, 'html_instructions': 'Turn <b>right</b>', 'maneuver': 'turn-right', 'polyline': {'points': 'warwFr_|bMHHDDHBJDp@F'}, 'start_location': {'lat': 40.730038, 'lng': -74.0404202}, 'travel_mode': 'DRIVING'}, {'distance': {'text': '32 m', 'value': 32}, 'duration': {'text': '1 min', 'value': 24}, 'end_location': {'lat': 40.7295614, 'lng': -74.04021259999999}, 'html_instructions': 'Turn <b>left</b><div style=\"font-size:0.9em\">Destination will be on the left</div>', 'maneuver': 'turn-left', 'polyline': {'points': '__rwFt`|bMFeA?E'}, 'start_location': {'lat': 40.7296003, 'lng': -74.0405897}, 'travel_mode': 'DRIVING'}], 'traffic_speed_entry': [], 'via_waypoint': []}}, {'lat': 40.7313096, 'lng': -74.05010829999999, 'dist': 1920, 'nearest_ev_station': {'business_status': 'OPERATIONAL', 'geometry': {'location': {'lat': 40.7297195, 'lng': -74.04018409999999}, 'viewport': {'northeast': {'lat': 40.73099128029149, 'lng': -74.03882491970849}, 'southwest': {'lat': 40.7282933197085, 'lng': -74.0415228802915}}}, 'icon': 'https://maps.gstatic.com/mapfiles/place_api/icons/v1/png_71/lodging-71.png', 'icon_background_color': '#909CE1', 'icon_mask_base_uri': 'https://maps.gstatic.com/mapfiles/place_api/icons/v2/hotel_pinlet', 'name': 'The Holland', 'photos': [{'height': 3024, 'html_attributions': ['<a href=\"https://maps.google.com/maps/contrib/114301486042376686495\">Hannes Bend</a>'], 'photo_reference': 'ATplDJaSPF92PNMfD4NvivzAccM_ZzMGQ9STxg67rRJgbnCInXOJwnPxrJIir4Z1rWQsBcPLJjPRFnmkK_xnqbkZy56r00ElaoJKGZ14nbZ3lDWBMnY-KHdkTjjDE8nfJpib9U_SOLfHO22cV3HeXC8PySSlgnEFaXM1aYKQQzeP5H7p_t1X', 'width': 4032}], 'place_id': 'ChIJZUYhllFXwokR2MwaIb3ugEs', 'plus_code': {'compound_code': 'PXH5+VW Jersey City, NJ, USA', 'global_code': '87G7PXH5+VW'}, 'rating': 4.2, 'reference': 'ChIJZUYhllFXwokR2MwaIb3ugEs', 'scope': 'GOOGLE', 'types': ['lodging', 'point_of_interest', 'establishment'], 'user_ratings_total': 1117, 'vicinity': '175 12th Street, Jersey City'}, 'nearest_ev_station_distance': 1430, 'nearest_ev_route_segment': {'distance': {'text': '1.4 km', 'value': 1430}, 'duration': {'text': '6 mins', 'value': 377}, 'end_address': '175 11th St, Jersey City, NJ 07310, USA', 'end_location': {'lat': 40.7295614, 'lng': -74.04021259999999}, 'start_address': '605 Monmouth St, Jersey City, NJ 07302, USA', 'start_location': {'lat': 40.7313096, 'lng': -74.05010829999999}, 'steps': [{'distance': {'text': '0.2 km', 'value': 234}, 'duration': {'text': '1 min', 'value': 37}, 'end_location': {'lat': 40.7319191, 'lng': -74.0526415}, 'html_instructions': 'Head <b>west</b> toward <b>Hoboken Ave</b>', 'polyline': {'points': 'uirwFd|}bMAB?D?F?FB^Bv@A|@?ZGt@EVG`@ENCLWp@c@v@a@t@'}, 'start_location': {'lat': 40.7313096, 'lng': -74.05010829999999}, 'travel_mode': 'DRIVING'}, {'distance': {'text': '0.3 km', 'value': 292}, 'duration': {'text': '1 min', 'value': 76}, 'end_location': {'lat': 40.7310874, 'lng': -74.0500165}, 'html_instructions': 'Make a <b>U-turn</b> at <b>Palisade Ave</b> (signs for <b>NJ-139 E</b>)', 'maneuver': 'uturn-left', 'polyline': {'points': 'omrwF~k~bMPXNRXc@FM@AJSHQVm@FONg@F[DUF_@D_@B_@@S@G@Y?Y?U?eBK['}, 'start_location': {'lat': 40.7319191, 'lng': -74.0526415}, 'travel_mode': 'DRIVING'}, {'distance': {'text': '0.8 km', 'value': 789}, 'duration': {'text': '4 mins', 'value': 217}, 'end_location': {'lat': 40.730129, 'lng': -74.0407645}, 'html_instructions': 'Merge onto <b>NJ-139 E</b>', 'maneuver': 'merge', 'polyline': {'points': 'ihrwFr{}bMB_@Bq@DwAJcCD{@Bq@Dq@D_AFyAHaBBa@@_@H}BNqBDq@BUBQBGBGFMBi@Be@Bu@D{@D{@@M@e@H_B@U?KB]@ODcABo@Bm@BcA'}, 'start_location': {'lat': 40.7310874, 'lng': -74.0500165}, 'travel_mode': 'DRIVING'}, {'distance': {'text': '31 m', 'value': 31}, 'duration': {'text': '1 min', 'value': 9}, 'end_location': {'lat': 40.730038, 'lng': -74.0404202}, 'html_instructions': 'Slight <b>right</b> onto <b>12th St</b>', 'maneuver': 'turn-slight-right', 'polyline': {'points': 'ibrwFva|bMFOHs@'}, 'start_location': {'lat': 40.730129, 'lng': -74.0407645}, 'travel_mode': 'DRIVING'}, {'distance': {'text': '52 m', 'value': 52}, 'duration': {'text': '1 min', 'value': 14}, 'end_location': {'lat': 40.7296003, 'lng': -74.0405897}, 'html_instructions': 'Turn <b>right</b>', 'maneuver': 'turn-right', 'polyline': {'points': 'warwFr_|bMHHDDHBJDp@F'}, 'start_location': {'lat': 40.730038, 'lng': -74.0404202}, 'travel_mode': 'DRIVING'}, {'distance': {'text': '32 m', 'value': 32}, 'duration': {'text': '1 min', 'value': 24}, 'end_location': {'lat': 40.7295614, 'lng': -74.04021259999999}, 'html_instructions': 'Turn <b>left</b><div style=\"font-size:0.9em\">Destination will be on the left</div>', 'maneuver': 'turn-left', 'polyline': {'points': '__rwFt`|bMFeA?E'}, 'start_location': {'lat': 40.7296003, 'lng': -74.0405897}, 'travel_mode': 'DRIVING'}], 'traffic_speed_entry': [], 'via_waypoint': []}}, {'lat': 40.7391415, 'lng': -74.0684769, 'dist': 5365, 'nearest_ev_station': {'business_status': 'OPERATIONAL', 'geometry': {'location': {'lat': 40.73297100000001, 'lng': -74.06752569999999}, 'viewport': {'northeast': {'lat': 40.73427383029149, 'lng': -74.06627986970848}, 'southwest': {'lat': 40.7315758697085, 'lng': -74.0689778302915}}}, 'icon': 'https://maps.gstatic.com/mapfiles/place_api/icons/v1/png_71/lodging-71.png', 'icon_background_color': '#909CE1', 'icon_mask_base_uri': 'https://maps.gstatic.com/mapfiles/place_api/icons/v2/hotel_pinlet', 'name': 'Ramada by Wyndham Jersey City', 'opening_hours': {'open_now': True}, 'photos': [{'height': 402, 'html_attributions': ['<a href=\"https://maps.google.com/maps/contrib/102310924998711258025\">Ramada by Wyndham Jersey City</a>'], 'photo_reference': 'ATplDJaH1HMzQ5aRqX2WDSoJV5cYYto_2uC6HBIM_EtLkwiwe468Ca3agg2_XOG2VWVF2_UnSQFm9rKF6T9Rikqkbr01L_cxs52fI_ne2KTD-E9-vxlBKpDFV5GxcdpmVGonK_rL0JD8R04sqSB9CZhwo3jlFOAU08hBm1sNZ-NFgLe1Nr0q', 'width': 715}], 'place_id': 'ChIJC238cC5XwokRFOHUXBMV8Kw', 'plus_code': {'compound_code': 'PWMJ+5X Jersey City, NJ, USA', 'global_code': '87G7PWMJ+5X'}, 'rating': 3.6, 'reference': 'ChIJC238cC5XwokRFOHUXBMV8Kw', 'scope': 'GOOGLE', 'types': ['lodging', 'point_of_interest', 'establishment'], 'user_ratings_total': 1355, 'vicinity': '65 Tonnelle Avenue, Jersey City'}, 'nearest_ev_station_distance': 12453, 'nearest_ev_route_segment': {'distance': {'text': '12.5 km', 'value': 12453}, 'duration': {'text': '17 mins', 'value': 1047}, 'end_address': '65 Tonnelle Ave, Jersey City, NJ 07306, USA', 'end_location': {'lat': 40.7328664, 'lng': -74.0676658}, 'start_address': '388 St Pauls Ave, Jersey City, NJ 07306, USA', 'start_location': {'lat': 40.7391415, 'lng': -74.0684769}, 'steps': [{'distance': {'text': '4.8 km', 'value': 4828}, 'duration': {'text': '4 mins', 'value': 213}, 'end_location': {'lat': 40.734648, 'lng': -74.1250383}, 'html_instructions': 'Head <b>west</b> on <b>US-1 S</b>/<wbr/><b>US-9 S</b>', 'polyline': {'points': 'szswF~nacM?R?RB|@@v@Bp@@j@BbA?P@l@@Z@\\\\Bp@@b@B\\\\@XBZB\\\\BZ?LFr@Dl@Hr@RxBHt@Hx@Jv@N~AP`BFb@?@?@\\\\zCb@bEBXD`@D\\\\LdAD`@BTZpCPlBV~BV`CZjCTbCDn@D^?H@HDp@D^?@`@bDJ~@RlBZ~B@LDZBTFb@Hp@TzB\\\\jDFd@B`@DVBR@L@FBVB`@F^D^?DLhAJfABZ@TB\\\\Ft@B\\\\@XB\\\\@P?D@ZBX@\\\\Bv@@\\\\@Z@X@X@T@F@Z@ZBr@Bz@Dv@Bp@@f@Dz@?P@F@h@Dt@@b@Dr@@Z@ZB\\\\Bn@?B?@?F?@@R@L@J?@@V@X@X?@Bb@@P@`@@XB\\\\@\\\\B^@Z@T?HBV@XBp@BXBz@B^@ZV~CBnA@dAB~A@f@?~@@^@tA?t@@`C@`C@|@@hB@fB?X?RArA?d@Cz@Az@?h@Ar@?@?B?@CdAAhAAd@Ad@CfCEpB?@?\\\\Ap@CrBAl@EpBEbDAdAAdAAf@A\\\\ChAA`ACjBCnCA`@Ah@?FGnAChB?^ElCG`EEdDEzAApAA|@ChA?T?H?F?H?JAL?\\\\?ZAV?z@?Z@b@@\\\\@XBx@?@BZ@ZB^B^B^Ht@DXDZBTPhA@DDXFTHd@Jd@'}, 'start_location': {'lat': 40.7391415, 'lng': -74.0684769}, 'travel_mode': 'DRIVING'}, {'distance': {'text': '0.6 km', 'value': 623}, 'duration': {'text': '1 min', 'value': 48}, 'end_location': {'lat': 40.7348016, 'lng': -74.1323742}, 'html_instructions': 'Take the exit toward <b>Raymond Blvd</b>/<wbr/><b>Newark</b>', 'maneuver': 'ramp-right', 'polyline': {'points': 'q~rwFnplcM?BCv@A@CZCN?BAFEXALCNCR?B?@ABAFANCL?BCLALANCNANCPAPAPAPAP?P?LAL?J?L?H?P?T?B?@?@@h@@~@@H?@?@?B@R?F?J@PF`D?DB`A?Z@n@?P?@@Z?R@X?R@Z?h@?D@l@@R?Z@R?Z?N?B@Z?@@p@'}, 'start_location': {'lat': 40.734648, 'lng': -74.1250383}, 'travel_mode': 'DRIVING'}, {'distance': {'text': '0.2 km', 'value': 177}, 'duration': {'text': '1 min', 'value': 53}, 'end_location': {'lat': 40.733243, 'lng': -74.1319582}, 'html_instructions': 'Turn <b>left</b> onto <b>Lockwood St</b>', 'maneuver': 'turn-left', 'polyline': {'points': 'o_swFh~mcMh@IdAQJArB_@@?`@Ib@I'}, 'start_location': {'lat': 40.7348016, 'lng': -74.1323742}, 'travel_mode': 'DRIVING'}, {'distance': {'text': '0.3 km', 'value': 334}, 'duration': {'text': '1 min', 'value': 37}, 'end_location': {'lat': 40.7343813, 'lng': -74.12829479999999}, 'html_instructions': 'Turn <b>left</b> onto <b>Ferry St</b>', 'maneuver': 'turn-left', 'polyline': {'points': 'wurwFv{mcMy@kCEQGYIc@s@qDa@wBIc@Ic@GY_@uB'}, 'start_location': {'lat': 40.733243, 'lng': -74.1319582}, 'travel_mode': 'DRIVING'}, {'distance': {'text': '0.8 km', 'value': 826}, 'duration': {'text': '1 min', 'value': 60}, 'end_location': {'lat': 40.7326155, 'lng': -74.1189275}, 'html_instructions': 'Continue onto <b>Raymond Blvd</b>', 'polyline': {'points': '{|rwFxdmcMMw@Gg@Ee@?EASAU?E?W?_@?_@@Y@WBs@LiA@C?EJs@?C?C@AD[@GVmBVcB?A?CBO?CRuABYHi@BURqANcAH]@G?ABK?A?CJ_@dBoIBMRgA?ARmAd@}C'}, 'start_location': {'lat': 40.7343813, 'lng': -74.12829479999999}, 'travel_mode': 'DRIVING'}, {'distance': {'text': '2.4 km', 'value': 2407}, 'duration': {'text': '3 mins', 'value': 154}, 'end_location': {'lat': 40.7247924, 'lng': -74.09239079999999}, 'html_instructions': 'Continue onto <b>US-1 Truck N</b>/<wbr/><b>US-9 Truck N</b>/<wbr/><b>Lincoln Hwy Passaic River Brg</b><div style=\"font-size:0.9em\">Continue to follow US-1 Truck N/<wbr/>US-9 Truck N</div>', 'polyline': {'points': '{qrwFhjkcMRsAHi@?C@ALgABO?A?A@AFi@R{AR{AViBL{@PkAJs@?AFa@?AJo@x@yF?A@E@M@EBQ@IZ}BBOXwANw@DQv@aED[Jc@l@{C^gBJc@F]F[|AsHLk@rAoGP{@DSHe@j@wCF]Jk@Hc@NiALcAj@aEj@}DN}@P_ARcAJk@d@eCf@aCNu@Ry@Pw@V_ADQj@iBHQFSL]Xw@Rg@Tk@^eAPe@Pc@Z}@Ne@HYHY@AJ_@Pq@@CLe@BKVeA^cBPu@'}, 'start_location': {'lat': 40.7326155, 'lng': -74.1189275}, 'travel_mode': 'DRIVING'}, {'distance': {'text': '0.3 km', 'value': 252}, 'duration': {'text': '1 min', 'value': 89}, 'end_location': {'lat': 40.72456469999999, 'lng': -74.0895033}, 'html_instructions': 'Keep <b>left</b>', 'maneuver': 'keep-left', 'polyline': {'points': '}`qwFldfcM@W@C?A@GP}@Jc@\\\\yABQDUAO?SAQYaG'}, 'start_location': {'lat': 40.7247924, 'lng': -74.09239079999999}, 'travel_mode': 'DRIVING'}, {'distance': {'text': '2.0 km', 'value': 1974}, 'duration': {'text': '3 mins', 'value': 181}, 'end_location': {'lat': 40.7371059, 'lng': -74.0754273}, 'html_instructions': 'Turn <b>left</b> onto <b>US-1 Truck N</b>/<wbr/><b>US-9 Truck N</b>', 'maneuver': 'turn-left', 'polyline': {'points': 'o_qwFjrecMGQCIEEKQcAs@c@[MKKIMIMIIGIEGCGAEA]SsCgBIEWMKGuBiAGC[Q}FgDk@[SM{A}@}AeA_As@OYq@i@a@]o@k@k@i@c@_@_@a@oAqAUUUYaBiBc@i@wEmFc@i@a@c@QUmBwBUWm@s@MMMOA?Y]g@k@k@o@g@i@USgA{@m@a@UQSQMMSUGMGQEKCQG[CY?E?W@Q?I@U?AHc@Lk@F[DUp@mDDO@O'}, 'start_location': {'lat': 40.72456469999999, 'lng': -74.0895033}, 'travel_mode': 'DRIVING'}, {'distance': {'text': '0.7 km', 'value': 742}, 'duration': {'text': '2 mins', 'value': 145}, 'end_location': {'lat': 40.7348665, 'lng': -74.067145}, 'html_instructions': 'Keep <b>right</b> to continue on <b>Broadway</b>', 'maneuver': 'keep-right', 'polyline': {'points': '}mswFlzbcML]Nu@@G?C?EJg@@_@FW`@yBr@oDP}@`@oB\\\\oBv@}Dj@}DZsBPeAl@qDPaADW?AHg@'}, 'start_location': {'lat': 40.7371059, 'lng': -74.0754273}, 'travel_mode': 'DRIVING'}, {'distance': {'text': '72 m', 'value': 72}, 'duration': {'text': '1 min', 'value': 15}, 'end_location': {'lat': 40.7342288, 'lng': -74.06727719999999}, 'html_instructions': 'Turn <b>right</b> onto <b>Tonnelle Ave</b>', 'maneuver': 'turn-right', 'polyline': {'points': '}_swFrfacMLD^FPBPBVBT@'}, 'start_location': {'lat': 40.7348665, 'lng': -74.067145}, 'travel_mode': 'DRIVING'}, {'distance': {'text': '0.2 km', 'value': 170}, 'duration': {'text': '1 min', 'value': 36}, 'end_location': {'lat': 40.7328355, 'lng': -74.0681103}, 'html_instructions': 'Slight <b>right</b> onto <b>Garrison Ave</b>', 'maneuver': 'turn-slight-right', 'polyline': {'points': '}{rwFngacMj@VTL@?r@\\\\nAp@PJJD`@RLH'}, 'start_location': {'lat': 40.7342288, 'lng': -74.06727719999999}, 'travel_mode': 'DRIVING'}, {'distance': {'text': '48 m', 'value': 48}, 'duration': {'text': '1 min', 'value': 16}, 'end_location': {'lat': 40.7328664, 'lng': -74.0676658}, 'html_instructions': 'Turn <b>left</b>', 'maneuver': 'turn-left', 'polyline': {'points': 'gsrwFtlacMPq@?C?C@C?C?AAAACACCAIEEA'}, 'start_location': {'lat': 40.7328355, 'lng': -74.0681103}, 'travel_mode': 'DRIVING'}], 'traffic_speed_entry': [], 'via_waypoint': []}}, {'lat': 40.7318911, 'lng': -74.1302585, 'dist': 206, 'nearest_ev_station': {'business_status': 'OPERATIONAL', 'geometry': {'location': {'lat': 40.7104845, 'lng': -74.1569779}, 'viewport': {'northeast': {'lat': 40.7117643802915, 'lng': -74.1556235197085}, 'southwest': {'lat': 40.7090664197085, 'lng': -74.1583214802915}}}, 'icon': 'https://maps.gstatic.com/mapfiles/place_api/icons/v1/png_71/lodging-71.png', 'icon_background_color': '#909CE1', 'icon_mask_base_uri': 'https://maps.gstatic.com/mapfiles/place_api/icons/v2/hotel_pinlet', 'name': 'Howard Johnson by Wyndham Newark Airport', 'opening_hours': {'open_now': True}, 'photos': [{'height': 2252, 'html_attributions': ['<a href=\"https://maps.google.com/maps/contrib/103613087939293957945\">1Clickz Away</a>'], 'photo_reference': 'ATplDJapoZ6vKZNW0wGKg_Hg_q2PRm-o4pNCv7C4I4EihtHLd2t8cj33O-MZsjE7QA55TEVk0Jhdj8TAa9cTLi_wn1gTOqcqa19-FifHbTnWS_hcFGPUwJOsEI07zeXyjV6dkTEFUni4qKVMtmpoRz5KgjHdaCtdN2nKYhnMZdE4eRw4RvTC', 'width': 4000}], 'place_id': 'ChIJx5afmrBTwokRFqUaUGqNJqY', 'plus_code': {'compound_code': 'PR6V+56 Newark, NJ, USA', 'global_code': '87G7PR6V+56'}, 'rating': 3, 'reference': 'ChIJx5afmrBTwokRFqUaUGqNJqY', 'scope': 'GOOGLE', 'types': ['lodging', 'point_of_interest', 'establishment'], 'user_ratings_total': 1672, 'vicinity': '20 Frontage Road, Newark'}, 'nearest_ev_station_distance': 4539, 'nearest_ev_route_segment': {'distance': {'text': '4.5 km', 'value': 4539}, 'duration': {'text': '5 mins', 'value': 296}, 'end_address': '20 Frontage Rd, Newark, NJ 07114, USA', 'end_location': {'lat': 40.7103466, 'lng': -74.156983}, 'start_address': '170-176 Raymond Blvd, Newark, NJ 07105, USA', 'start_location': {'lat': 40.7318911, 'lng': -74.1302585}, 'steps': [{'distance': {'text': '0.2 km', 'value': 206}, 'duration': {'text': '1 min', 'value': 9}, 'end_location': {'lat': 40.7308684, 'lng': -74.1322955}, 'html_instructions': 'Head <b>west</b>', 'polyline': {'points': 'imrwFbqmcMF\\\\N`@Th@Pb@LXl@rAd@dATf@FNJ\\\\'}, 'start_location': {'lat': 40.7318911, 'lng': -74.1302585}, 'travel_mode': 'DRIVING'}, {'distance': {'text': '3.2 km', 'value': 3172}, 'duration': {'text': '2 mins', 'value': 133}, 'end_location': {'lat': 40.7114983, 'lng': -74.1587432}, 'html_instructions': 'Continue onto <b>US-1 Truck S</b>/<wbr/><b>US-9 Truck S</b>', 'polyline': {'points': '}frwFz}mcMPZP^Xn@xA`DHP@@~@pBlAhCHPTd@DJbAtB@B\\\\r@h@jAFNZp@^v@jAfCd@~@h@hAJVR\\\\LTLVLXVj@JVLTJVLVJTLXJTJTLXLVXj@JTLXLVVh@LVLVJTLTLXHPDHHNJTLVXj@JVLVJVLTJVLVLVXl@@BHPLVLVVj@LVLVJVJRJTLVLTLVLVHNLXDHHNLRFLBBFLT`@\\\\j@Vf@NTNXZj@LTLT^v@Rb@JTJVJVJVJVVn@JVJVFPN\\\\JVJVHPL\\\\JTJVJTLVVl@Zl@JVLVJTLVJTHNBDLVJVLVJTJTLVLTJVJRLXXl@lAhCXl@LTLVRb@b@t@Xd@TZLRPRNPJJDFFF@?LNPLLLNJ^VZR\\\\R\\\\Px@b@TLVLLHh@T^PJDPH?@JD`@P^Rb@PTJRHl@Zf@T@?rAn@LHf@TnAj@r@\\\\`Ad@lDdBHDl@\\\\NLJHd@Z'}, 'start_location': {'lat': 40.7308684, 'lng': -74.1322955}, 'travel_mode': 'DRIVING'}, {'distance': {'text': '0.1 km', 'value': 100}, 'duration': {'text': '1 min', 'value': 5}, 'end_location': {'lat': 40.71091089999999, 'lng': -74.1596234}, 'html_instructions': 'Take the exit toward <b>N Area</b>', 'maneuver': 'ramp-right', 'polyline': {'points': '{mnwFbcscMJZ@BVTRZ^n@Zl@'}, 'start_location': {'lat': 40.7114983, 'lng': -74.1587432}, 'travel_mode': 'DRIVING'}, {'distance': {'text': '0.3 km', 'value': 269}, 'duration': {'text': '1 min', 'value': 24}, 'end_location': {'lat': 40.7115414, 'lng': -74.1620478}, 'html_instructions': 'Keep <b>right</b>, follow signs for <b>Frontage Road</b>', 'maneuver': 'keep-right', 'polyline': {'points': 'ejnwFrhscM?H?DBJ@@@HJXBL@B@HBJ@L@F@HDV?J@B?J?L?F?HARAT?DAFALALAHA@CLCLENAFCDCJEHKRGLILKP]`@MDI?ICGCMI'}, 'start_location': {'lat': 40.71091089999999, 'lng': -74.1596234}, 'travel_mode': 'DRIVING'}, {'distance': {'text': '0.5 km', 'value': 519}, 'duration': {'text': '1 min', 'value': 48}, 'end_location': {'lat': 40.7111414, 'lng': -74.15709269999999}, 'html_instructions': 'Turn <b>right</b> onto <b>Frontage Rd</b>', 'maneuver': 'turn-right', 'polyline': {'points': 'cnnwFxwscMHYPu@`@wANg@BOBO@A@K?A?A@I?I@MAQ?OAUCUESAEGQQc@MQKMMKk@_@UQOQGMISCMCOAI?K?M@M@I?EBMBI?A@EJa@HYDQZiADOHWDKBGDM@AFO?AFGDC?AFCDAFAFAF?L@'}, 'start_location': {'lat': 40.7115414, 'lng': -74.1620478}, 'travel_mode': 'DRIVING'}, {'distance': {'text': '0.1 km', 'value': 117}, 'duration': {'text': '1 min', 'value': 18}, 'end_location': {'lat': 40.7104464, 'lng': -74.15605959999999}, 'html_instructions': 'Turn <b>left</b> onto <b>Olympia Dr</b>', 'maneuver': 'turn-left', 'polyline': {'points': 'sknwFxxrcMJWDG~@{Ah@}@LS'}, 'start_location': {'lat': 40.7111414, 'lng': -74.15709269999999}, 'travel_mode': 'DRIVING'}, {'distance': {'text': '63 m', 'value': 63}, 'duration': {'text': '1 min', 'value': 21}, 'end_location': {'lat': 40.7099307, 'lng': -74.15636599999999}, 'html_instructions': 'Turn <b>right</b>', 'maneuver': 'turn-right', 'polyline': {'points': 'ignwFjrrcM`@TdAf@'}, 'start_location': {'lat': 40.7104464, 'lng': -74.15605959999999}, 'travel_mode': 'DRIVING'}, {'distance': {'text': '75 m', 'value': 75}, 'duration': {'text': '1 min', 'value': 28}, 'end_location': {'lat': 40.71026579999999, 'lng': -74.1571182}, 'html_instructions': 'Turn <b>right</b>', 'maneuver': 'turn-right', 'polyline': {'points': 'adnwFhtrcMe@lAO^GLA@?@A@A@?B?H?B'}, 'start_location': {'lat': 40.7099307, 'lng': -74.15636599999999}, 'travel_mode': 'DRIVING'}, {'distance': {'text': '18 m', 'value': 18}, 'duration': {'text': '1 min', 'value': 10}, 'end_location': {'lat': 40.7103466, 'lng': -74.156983}, 'html_instructions': 'Turn <b>right</b><div style=\"font-size:0.9em\">Destination will be on the left</div>', 'maneuver': 'turn-right', 'polyline': {'points': 'efnwF~xrcMC?CACCAAAA?A?O'}, 'start_location': {'lat': 40.71026579999999, 'lng': -74.1571182}, 'travel_mode': 'DRIVING'}], 'traffic_speed_entry': [], 'via_waypoint': []}}, {'lat': 40.7308684, 'lng': -74.1322955, 'dist': 3172, 'nearest_ev_station': {'business_status': 'OPERATIONAL', 'geometry': {'location': {'lat': 40.7104845, 'lng': -74.1569779}, 'viewport': {'northeast': {'lat': 40.7117643802915, 'lng': -74.1556235197085}, 'southwest': {'lat': 40.7090664197085, 'lng': -74.1583214802915}}}, 'icon': 'https://maps.gstatic.com/mapfiles/place_api/icons/v1/png_71/lodging-71.png', 'icon_background_color': '#909CE1', 'icon_mask_base_uri': 'https://maps.gstatic.com/mapfiles/place_api/icons/v2/hotel_pinlet', 'name': 'Howard Johnson by Wyndham Newark Airport', 'opening_hours': {'open_now': True}, 'photos': [{'height': 2252, 'html_attributions': ['<a href=\"https://maps.google.com/maps/contrib/103613087939293957945\">1Clickz Away</a>'], 'photo_reference': 'ATplDJZYc_QD5HlrwPdQAL6jODCR2G3iqxnaKXJqNzEx8BsG4-eBJAaYH5sQkS3868R433HXlKMUiDGJXZGEh2kRwZZ4GO7536PjogQjdoKZESJNQFaFSTd9wbNV718P0irFkIODZli3j5MvcXABIlabIMFvsDh6dJshhSkytMDGcaAlcKSW', 'width': 4000}], 'place_id': 'ChIJx5afmrBTwokRFqUaUGqNJqY', 'plus_code': {'compound_code': 'PR6V+56 Newark, NJ, USA', 'global_code': '87G7PR6V+56'}, 'rating': 3, 'reference': 'ChIJx5afmrBTwokRFqUaUGqNJqY', 'scope': 'GOOGLE', 'types': ['lodging', 'point_of_interest', 'establishment'], 'user_ratings_total': 1672, 'vicinity': '20 Frontage Road, Newark'}, 'nearest_ev_station_distance': 4333, 'nearest_ev_route_segment': {'distance': {'text': '4.3 km', 'value': 4333}, 'duration': {'text': '5 mins', 'value': 287}, 'end_address': '20 Frontage Rd, Newark, NJ 07114, USA', 'end_location': {'lat': 40.7103466, 'lng': -74.156983}, 'start_address': '100 Foundry St, Newark, NJ 07105, USA', 'start_location': {'lat': 40.7308684, 'lng': -74.1322955}, 'steps': [{'distance': {'text': '3.2 km', 'value': 3172}, 'duration': {'text': '2 mins', 'value': 133}, 'end_location': {'lat': 40.7114983, 'lng': -74.1587432}, 'html_instructions': 'Head <b>southwest</b> on <b>US-1 Truck S</b>/<wbr/><b>US-9 Truck S</b>', 'polyline': {'points': '}frwFz}mcMPZP^Xn@xA`DHP@@~@pBlAhCHPTd@DJbAtB@B\\\\r@h@jAFNZp@^v@jAfCd@~@h@hAJVR\\\\LTLVLXVj@JVLTJVLVJTLXJTJTLXLVXj@JTLXLVVh@LVLVJTLTLXHPDHHNJTLVXj@JVLVJVLTJVLVLVXl@@BHPLVLVVj@LVLVJVJRJTLVLTLVLVHNLXDHHNLRFLBBFLT`@\\\\j@Vf@NTNXZj@LTLT^v@Rb@JTJVJVJVJVVn@JVJVFPN\\\\JVJVHPL\\\\JTJVJTLVVl@Zl@JVLVJTLVJTHNBDLVJVLVJTJTLVLTJVJRLXXl@lAhCXl@LTLVRb@b@t@Xd@TZLRPRNPJJDFFF@?LNPLLLNJ^VZR\\\\R\\\\Px@b@TLVLLHh@T^PJDPH?@JD`@P^Rb@PTJRHl@Zf@T@?rAn@LHf@TnAj@r@\\\\`Ad@lDdBHDl@\\\\NLJHd@Z'}, 'start_location': {'lat': 40.7308684, 'lng': -74.1322955}, 'travel_mode': 'DRIVING'}, {'distance': {'text': '0.1 km', 'value': 100}, 'duration': {'text': '1 min', 'value': 5}, 'end_location': {'lat': 40.71091089999999, 'lng': -74.1596234}, 'html_instructions': 'Take the exit toward <b>N Area</b>', 'maneuver': 'ramp-right', 'polyline': {'points': '{mnwFbcscMJZ@BVTRZ^n@Zl@'}, 'start_location': {'lat': 40.7114983, 'lng': -74.1587432}, 'travel_mode': 'DRIVING'}, {'distance': {'text': '0.3 km', 'value': 269}, 'duration': {'text': '1 min', 'value': 24}, 'end_location': {'lat': 40.7115414, 'lng': -74.1620478}, 'html_instructions': 'Keep <b>right</b>, follow signs for <b>Frontage Road</b>', 'maneuver': 'keep-right', 'polyline': {'points': 'ejnwFrhscM?H?DBJ@@@HJXBL@B@HBJ@L@F@HDV?J@B?J?L?F?HARAT?DAFALALAHA@CLCLENAFCDCJEHKRGLILKP]`@MDI?ICGCMI'}, 'start_location': {'lat': 40.71091089999999, 'lng': -74.1596234}, 'travel_mode': 'DRIVING'}, {'distance': {'text': '0.5 km', 'value': 519}, 'duration': {'text': '1 min', 'value': 48}, 'end_location': {'lat': 40.7111414, 'lng': -74.15709269999999}, 'html_instructions': 'Turn <b>right</b> onto <b>Frontage Rd</b>', 'maneuver': 'turn-right', 'polyline': {'points': 'cnnwFxwscMHYPu@`@wANg@BOBO@A@K?A?A@I?I@MAQ?OAUCUESAEGQQc@MQKMMKk@_@UQOQGMISCMCOAI?K?M@M@I?EBMBI?A@EJa@HYDQZiADOHWDKBGDM@AFO?AFGDC?AFCDAFAFAF?L@'}, 'start_location': {'lat': 40.7115414, 'lng': -74.1620478}, 'travel_mode': 'DRIVING'}, {'distance': {'text': '0.1 km', 'value': 117}, 'duration': {'text': '1 min', 'value': 18}, 'end_location': {'lat': 40.7104464, 'lng': -74.15605959999999}, 'html_instructions': 'Turn <b>left</b> onto <b>Olympia Dr</b>', 'maneuver': 'turn-left', 'polyline': {'points': 'sknwFxxrcMJWDG~@{Ah@}@LS'}, 'start_location': {'lat': 40.7111414, 'lng': -74.15709269999999}, 'travel_mode': 'DRIVING'}, {'distance': {'text': '63 m', 'value': 63}, 'duration': {'text': '1 min', 'value': 21}, 'end_location': {'lat': 40.7099307, 'lng': -74.15636599999999}, 'html_instructions': 'Turn <b>right</b>', 'maneuver': 'turn-right', 'polyline': {'points': 'ignwFjrrcM`@TdAf@'}, 'start_location': {'lat': 40.7104464, 'lng': -74.15605959999999}, 'travel_mode': 'DRIVING'}, {'distance': {'text': '75 m', 'value': 75}, 'duration': {'text': '1 min', 'value': 28}, 'end_location': {'lat': 40.71026579999999, 'lng': -74.1571182}, 'html_instructions': 'Turn <b>right</b>', 'maneuver': 'turn-right', 'polyline': {'points': 'adnwFhtrcMe@lAO^GLA@?@A@A@?B?H?B'}, 'start_location': {'lat': 40.7099307, 'lng': -74.15636599999999}, 'travel_mode': 'DRIVING'}, {'distance': {'text': '18 m', 'value': 18}, 'duration': {'text': '1 min', 'value': 10}, 'end_location': {'lat': 40.7103466, 'lng': -74.156983}, 'html_instructions': 'Turn <b>right</b><div style=\"font-size:0.9em\">Destination will be on the left</div>', 'maneuver': 'turn-right', 'polyline': {'points': 'efnwF~xrcMC?CACCAAAA?A?O'}, 'start_location': {'lat': 40.71026579999999, 'lng': -74.1571182}, 'travel_mode': 'DRIVING'}], 'traffic_speed_entry': [], 'via_waypoint': []}}, {'lat': 40.7114983, 'lng': -74.1587432, 'dist': 338, 'nearest_ev_station': {'business_status': 'OPERATIONAL', 'geometry': {'location': {'lat': 40.7128433, 'lng': -74.1642943}, 'viewport': {'northeast': {'lat': 40.71397253029149, 'lng': -74.16297226970848}, 'southwest': {'lat': 40.7112745697085, 'lng': -74.1656702302915}}}, 'icon': 'https://maps.gstatic.com/mapfiles/place_api/icons/v1/png_71/lodging-71.png', 'icon_background_color': '#909CE1', 'icon_mask_base_uri': 'https://maps.gstatic.com/mapfiles/place_api/icons/v2/hotel_pinlet', 'name': 'DoubleTree by Hilton Newark Airport', 'photos': [{'height': 5252, 'html_attributions': ['<a href=\"https://maps.google.com/maps/contrib/116283067075243953099\">DoubleTree by Hilton Newark Airport</a>'], 'photo_reference': 'ATplDJavZwM9K9rakWnAqidLzqzH88D2lKx6ApdzkF5Y_MGLSnyAQx9vmnmLO6OaKKM47za5LOYQlbwpsMrCtWwQ4c9e7S4pCeic2THhAF9n4cjWn2jR32RwCCGHhyDQtsEPMAgpafE8jAm1QsM7teL3qM5ACyMZswnjQ8pGfpCBFNjNdQ_K', 'width': 7691}], 'place_id': 'ChIJYyIc5qVTwokRBKNJJzY_ewE', 'plus_code': {'compound_code': 'PR7P+47 Newark, NJ, USA', 'global_code': '87G7PR7P+47'}, 'rating': 3.8, 'reference': 'ChIJYyIc5qVTwokRBKNJJzY_ewE', 'scope': 'GOOGLE', 'types': ['lodging', 'point_of_interest', 'establishment'], 'user_ratings_total': 4843, 'vicinity': '128 Frontage Road, Newark'}, 'nearest_ev_station_distance': 906, 'nearest_ev_route_segment': {'distance': {'text': '0.9 km', 'value': 906}, 'duration': {'text': '3 mins', 'value': 159}, 'end_address': '128 Frontage Rd, Newark, NJ 07114, USA', 'end_location': {'lat': 40.7131485, 'lng': -74.16461819999999}, 'start_address': '58 Frontage Rd, Newark, NJ 07114, USA', 'start_location': {'lat': 40.7114983, 'lng': -74.1587432}, 'steps': [{'distance': {'text': '0.1 km', 'value': 100}, 'duration': {'text': '1 min', 'value': 5}, 'end_location': {'lat': 40.71091089999999, 'lng': -74.1596234}, 'html_instructions': 'Head <b>southwest</b>', 'polyline': {'points': '{mnwFbcscMJZ@BVTRZ^n@Zl@'}, 'start_location': {'lat': 40.7114983, 'lng': -74.1587432}, 'travel_mode': 'DRIVING'}, {'distance': {'text': '0.3 km', 'value': 269}, 'duration': {'text': '1 min', 'value': 24}, 'end_location': {'lat': 40.7115414, 'lng': -74.1620478}, 'html_instructions': 'Keep <b>right</b>, follow signs for <b>Frontage Road</b>', 'maneuver': 'keep-right', 'polyline': {'points': 'ejnwFrhscM?H?DBJ@@@HJXBL@B@HBJ@L@F@HDV?J@B?J?L?F?HARAT?DAFALALAHA@CLCLENAFCDCJEHKRGLILKP]`@MDI?ICGCMI'}, 'start_location': {'lat': 40.71091089999999, 'lng': -74.1596234}, 'travel_mode': 'DRIVING'}, {'distance': {'text': '0.2 km', 'value': 201}, 'duration': {'text': '1 min', 'value': 25}, 'end_location': {'lat': 40.7119449, 'lng': -74.1643579}, 'html_instructions': 'Turn <b>left</b> onto <b>Frontage Rd</b>', 'maneuver': 'turn-left', 'polyline': {'points': 'cnnwFxwscMOl@Mf@CRG\\\\CTG`@Ef@CXCVANAZC^A^A\\\\?^?H'}, 'start_location': {'lat': 40.7115414, 'lng': -74.1620478}, 'travel_mode': 'DRIVING'}, {'distance': {'text': '46 m', 'value': 46}, 'duration': {'text': '1 min', 'value': 39}, 'end_location': {'lat': 40.7122806, 'lng': -74.16411599999999}, 'html_instructions': 'Turn <b>right</b>', 'maneuver': 'turn-right', 'polyline': {'points': 'spnwFfftcMG?KAE?GAEA?ACCCGEGCGGIAA'}, 'start_location': {'lat': 40.7119449, 'lng': -74.1643579}, 'travel_mode': 'DRIVING'}, {'distance': {'text': '0.2 km', 'value': 249}, 'duration': {'text': '1 min', 'value': 52}, 'end_location': {'lat': 40.7134912, 'lng': -74.1645047}, 'html_instructions': 'Turn <b>right</b>', 'maneuver': 'turn-right', 'polyline': {'points': 'wrnwFvdtcM@w@?I?CAA?AAACCGCKCk@MGAoAWk@MGAC??@A@A??@A@AFCb@C`@KdC'}, 'start_location': {'lat': 40.7122806, 'lng': -74.16411599999999}, 'travel_mode': 'DRIVING'}, {'distance': {'text': '41 m', 'value': 41}, 'duration': {'text': '1 min', 'value': 14}, 'end_location': {'lat': 40.7131485, 'lng': -74.16461819999999}, 'html_instructions': 'Turn <b>left</b>', 'maneuver': 'turn-left', 'polyline': {'points': 'iznwFbgtcMXDD?LAB@B??@BBDFBB'}, 'start_location': {'lat': 40.7134912, 'lng': -74.1645047}, 'travel_mode': 'DRIVING'}], 'traffic_speed_entry': [], 'via_waypoint': []}}, {'lat': 40.7105596, 'lng': -74.1622959, 'dist': 14420, 'nearest_ev_station': {'business_status': 'OPERATIONAL', 'geometry': {'location': {'lat': 40.7104845, 'lng': -74.1569779}, 'viewport': {'northeast': {'lat': 40.7117643802915, 'lng': -74.1556235197085}, 'southwest': {'lat': 40.7090664197085, 'lng': -74.1583214802915}}}, 'icon': 'https://maps.gstatic.com/mapfiles/place_api/icons/v1/png_71/lodging-71.png', 'icon_background_color': '#909CE1', 'icon_mask_base_uri': 'https://maps.gstatic.com/mapfiles/place_api/icons/v2/hotel_pinlet', 'name': 'Howard Johnson by Wyndham Newark Airport', 'opening_hours': {'open_now': True}, 'photos': [{'height': 2252, 'html_attributions': ['<a href=\"https://maps.google.com/maps/contrib/103613087939293957945\">1Clickz Away</a>'], 'photo_reference': 'ATplDJbr1HnVo1YZ5wXiMccXfgMSCor0ndEMmGQbdkUrDs2YJl2W25MH2mvq3gj_vT3ObnTjK4miB5iW5qNhbJKHcPM73ocbWlb3F2kgmE7eYoKYux6FiLDE1Rl6gy-UjUuG5F42rptwBo3DOF9v_e2xcU6X3Cf5cIRo8TBe0HMC78iAAkWR', 'width': 4000}], 'place_id': 'ChIJx5afmrBTwokRFqUaUGqNJqY', 'plus_code': {'compound_code': 'PR6V+56 Newark, NJ, USA', 'global_code': '87G7PR6V+56'}, 'rating': 3, 'reference': 'ChIJx5afmrBTwokRFqUaUGqNJqY', 'scope': 'GOOGLE', 'types': ['lodging', 'point_of_interest', 'establishment'], 'user_ratings_total': 1672, 'vicinity': '20 Frontage Road, Newark'}, 'nearest_ev_station_distance': 3203, 'nearest_ev_route_segment': {'distance': {'text': '3.2 km', 'value': 3203}, 'duration': {'text': '6 mins', 'value': 354}, 'end_address': '20 Frontage Rd, Newark, NJ 07114, USA', 'end_location': {'lat': 40.7103466, 'lng': -74.156983}, 'start_address': 'Phillipsburg–Newark Expy, Newark, NJ 07114, USA', 'start_location': {'lat': 40.7105596, 'lng': -74.1622959}, 'steps': [{'distance': {'text': '1.1 km', 'value': 1079}, 'duration': {'text': '1 min', 'value': 65}, 'end_location': {'lat': 40.7079318, 'lng': -74.1611333}, 'html_instructions': 'Head <b>northwest</b>', 'polyline': {'points': '_hnwFjyscMMN?@a@nAg@hBY~@ELOl@GVA@CNCPCPCRAPARAZ?D?P?RBd@Ff@Tt@?@@L@DLVLRJNBDPRb@`@\\\\RFDTJTFb@LLBP@RBR?TCNBPEPCNGRIVKNKNMLKNO@APSNQZm@LWJUJYFUHYFYDYD[B[B[@[DuCFaD@m@@q@?W@[@aB@W?U?c@?AAG'}, 'start_location': {'lat': 40.7105596, 'lng': -74.1622959}, 'travel_mode': 'DRIVING'}, {'distance': {'text': '0.3 km', 'value': 315}, 'duration': {'text': '1 min', 'value': 30}, 'end_location': {'lat': 40.7071452, 'lng': -74.15765569999999}, 'html_instructions': 'Continue onto <b>Port St</b>', 'polyline': {'points': 'qwmwF`rscM@s@FqF@[Ba@BUD[BOH_@Ha@La@L[\\\\w@n@wA'}, 'start_location': {'lat': 40.7079318, 'lng': -74.1611333}, 'travel_mode': 'DRIVING'}, {'distance': {'text': '49 m', 'value': 49}, 'duration': {'text': '1 min', 'value': 15}, 'end_location': {'lat': 40.7067317, 'lng': -74.1577776}, 'html_instructions': 'Turn <b>right</b> toward <b>Brewster Rd</b>', 'maneuver': 'turn-right', 'polyline': {'points': 'urmwFj|rcMVED?D?HBDBJFRL'}, 'start_location': {'lat': 40.7071452, 'lng': -74.15765569999999}, 'travel_mode': 'DRIVING'}, {'distance': {'text': '83 m', 'value': 83}, 'duration': {'text': '1 min', 'value': 18}, 'end_location': {'lat': 40.7070594, 'lng': -74.1586605}, 'html_instructions': 'Turn <b>right</b> onto <b>Brewster Rd</b>', 'maneuver': 'turn-right', 'polyline': {'points': 'apmwFb}rcMq@pCO\\\\'}, 'start_location': {'lat': 40.7067317, 'lng': -74.1577776}, 'travel_mode': 'DRIVING'}, {'distance': {'text': '64 m', 'value': 64}, 'duration': {'text': '1 min', 'value': 25}, 'end_location': {'lat': 40.7075434, 'lng': -74.15838099999999}, 'html_instructions': 'Turn <b>right</b> to stay on <b>Brewster Rd</b>', 'maneuver': 'turn-right', 'polyline': {'points': 'crmwFrbscMMDI@KAMCm@y@'}, 'start_location': {'lat': 40.7070594, 'lng': -74.1586605}, 'travel_mode': 'DRIVING'}, {'distance': {'text': '0.2 km', 'value': 191}, 'duration': {'text': '1 min', 'value': 22}, 'end_location': {'lat': 40.7080174, 'lng': -74.16020879999999}, 'html_instructions': 'Turn <b>left</b> onto <b>Port St</b>', 'maneuver': 'turn-left', 'polyline': {'points': 'cumwFz`scMW[Od@M^Mh@Kl@Eh@En@CpC'}, 'start_location': {'lat': 40.7075434, 'lng': -74.15838099999999}, 'travel_mode': 'DRIVING'}, {'distance': {'text': '0.1 km', 'value': 131}, 'duration': {'text': '1 min', 'value': 10}, 'end_location': {'lat': 40.7081037, 'lng': -74.1617558}, 'html_instructions': 'Keep <b>left</b>', 'maneuver': 'keep-left', 'polyline': {'points': 'cxmwFhlscMAvA?~@AN?JAXCl@Ex@'}, 'start_location': {'lat': 40.7080174, 'lng': -74.16020879999999}, 'travel_mode': 'DRIVING'}, {'distance': {'text': '1.0 km', 'value': 1018}, 'duration': {'text': '2 mins', 'value': 92}, 'end_location': {'lat': 40.7111414, 'lng': -74.15709269999999}, 'html_instructions': 'Take the <b>Frontage Road</b> exit', 'maneuver': 'ramp-right', 'polyline': {'points': 'sxmwF~uscMKTKb@CJCJAHCDCFA?CBEBEBE?E?CAEAECCCCEACCICMIc@Ic@CMAEIUIm@CQCKE[CSAOCOCYAUAY?O?M?O@O@U@G?G@IBI@IBK@IBGDGDGDEDEDCFCDCF?DAF?F@F@FBFBFDBDDDBDDFBJ@F@H@J@J?H?@?HAN?NCXCXCN?BEVGVERELGNITIDGBK@I@I@I?GCE?EAECGEIGIKSWOYGMKU{@gB[q@EKEKCKCKCMEW?EAKAKEgAASCOCMCMEMGOCEIMOUEIg@{@k@_AOMMWGKCGECGICACACCME'}, 'start_location': {'lat': 40.7081037, 'lng': -74.1617558}, 'travel_mode': 'DRIVING'}, {'distance': {'text': '0.1 km', 'value': 117}, 'duration': {'text': '1 min', 'value': 18}, 'end_location': {'lat': 40.7104464, 'lng': -74.15605959999999}, 'html_instructions': 'Turn <b>right</b> onto <b>Olympia Dr</b>', 'maneuver': 'turn-right', 'polyline': {'points': 'sknwFxxrcMJWDG~@{Ah@}@LS'}, 'start_location': {'lat': 40.7111414, 'lng': -74.15709269999999}, 'travel_mode': 'DRIVING'}, {'distance': {'text': '63 m', 'value': 63}, 'duration': {'text': '1 min', 'value': 21}, 'end_location': {'lat': 40.7099307, 'lng': -74.15636599999999}, 'html_instructions': 'Turn <b>right</b>', 'maneuver': 'turn-right', 'polyline': {'points': 'ignwFjrrcM`@TdAf@'}, 'start_location': {'lat': 40.7104464, 'lng': -74.15605959999999}, 'travel_mode': 'DRIVING'}, {'distance': {'text': '75 m', 'value': 75}, 'duration': {'text': '1 min', 'value': 28}, 'end_location': {'lat': 40.71026579999999, 'lng': -74.1571182}, 'html_instructions': 'Turn <b>right</b>', 'maneuver': 'turn-right', 'polyline': {'points': 'adnwFhtrcMe@lAO^GLA@?@A@A@?B?H?B'}, 'start_location': {'lat': 40.7099307, 'lng': -74.15636599999999}, 'travel_mode': 'DRIVING'}, {'distance': {'text': '18 m', 'value': 18}, 'duration': {'text': '1 min', 'value': 10}, 'end_location': {'lat': 40.7103466, 'lng': -74.156983}, 'html_instructions': 'Turn <b>right</b><div style=\"font-size:0.9em\">Destination will be on the left</div>', 'maneuver': 'turn-right', 'polyline': {'points': 'efnwF~xrcMC?CACCAAAA?A?O'}, 'start_location': {'lat': 40.71026579999999, 'lng': -74.1571182}, 'travel_mode': 'DRIVING'}], 'traffic_speed_entry': [], 'via_waypoint': []}}, {'lat': 40.7120916, 'lng': -74.32269939999999, 'dist': 28688, 'nearest_ev_station': {'business_status': 'OPERATIONAL', 'geometry': {'location': {'lat': 40.7127936, 'lng': -74.3536318}, 'viewport': {'northeast': {'lat': 40.7139466302915, 'lng': -74.35244356970851}, 'southwest': {'lat': 40.7112486697085, 'lng': -74.35514153029152}}}, 'icon': 'https://maps.gstatic.com/mapfiles/place_api/icons/v1/png_71/hospital-71.png', 'icon_background_color': '#F88181', 'icon_mask_base_uri': 'https://maps.gstatic.com/mapfiles/place_api/icons/v2/hospital-H_pinlet', 'name': 'Overlook Medical Center', 'opening_hours': {'open_now': True}, 'photos': [{'height': 3456, 'html_attributions': ['<a href=\"https://maps.google.com/maps/contrib/117189985822389219722\">N10 Fit</a>'], 'photo_reference': 'ATplDJZKNMRC5f-VrVbbhnqnxqnCoEtM-09IzWIJXCwiVJcgjB8Q6V-xOA_eC9j_devAdFDhzZU54pF4_zgKa_ukVpjnaANztk-_QP7xUIIzdCQXMRabUJGKMlVdXjcWr4sRcuKvaLJtMl81yaQ9PsmCoHWVk3GFjMsAg4VfihOZ1bkmkpmQ', 'width': 4608}], 'place_id': 'ChIJ_T3G7Euuw4kROmbfmRsu7jo', 'plus_code': {'compound_code': 'PJ7W+4G Summit, NJ, USA', 'global_code': '87G7PJ7W+4G'}, 'rating': 3, 'reference': 'ChIJ_T3G7Euuw4kROmbfmRsu7jo', 'scope': 'GOOGLE', 'types': ['hospital', 'point_of_interest', 'health', 'establishment'], 'user_ratings_total': 842, 'vicinity': '99 Beauvoir Avenue, Summit'}, 'nearest_ev_station_distance': 15953, 'nearest_ev_route_segment': {'distance': {'text': '16.0 km', 'value': 15953}, 'duration': {'text': '16 mins', 'value': 957}, 'end_address': '99 Beauvoir Ave, Summit, NJ 07901, USA', 'end_location': {'lat': 40.7130276, 'lng': -74.3536551}, 'start_address': '115 Short Hills Ave, Springfield, NJ 07081, USA', 'start_location': {'lat': 40.7120916, 'lng': -74.32269939999999}, 'steps': [{'distance': {'text': '8.0 km', 'value': 7966}, 'duration': {'text': '4 mins', 'value': 267}, 'end_location': {'lat': 40.6763804, 'lng': -74.402456}, 'html_instructions': 'Head <b>west</b> on <b>I-78 W</b>', 'polyline': {'points': 'qqnwFzcsdMDp@BZBZDj@HdABXD\\\\Fx@Hv@@L@LFt@Fl@@JBXHv@Fj@Fd@LrAJv@?@Hr@Jx@BXD\\\\BTF\\\\BXDXDZDXBVFZJr@DXDZBL@DF^Jp@Lp@F\\\\FVLr@Lp@FXBNJb@DXDL?@@FXnAv@jDPp@Pp@Nl@H\\\\@@FTFVRn@FVHXRn@FVDJLb@HXHVFRX`AL`@BPDJFVHVTn@^`ALZJVHVTl@@?HTL\\\\Rd@Rf@Rd@Pb@JTVl@\\\\r@t@~AXl@PZHNZj@Zl@BDHPJPXh@FH\\\\p@h@`Af@z@f@`Ar@nADHdB|Ct@tADFxAnCR^t@zAd@bADH^v@Vj@h@pAb@lAj@`BRj@Nd@Nh@Z`APl@?BZlAf@nBPz@XnAPbATxARvAHd@TjBBZHt@BVHv@@XJrAHnABj@@HHjBHbB?HHnBJhCDnAJ~BRpF@^Dz@@VB^@\\\\BVDh@?HBZBZBZBVBZHv@Fl@@BB\\\\Jv@Hl@DZHh@TxALr@BNBHDZH^P`A@@Np@Nt@Nn@FVf@nBHZLd@FVRp@FT^pAp@xBFNRl@Rl@h@|Al@bBXr@|A~DzAnDN\\\\Zp@jAfCz@hBT`@t@zAXj@T`@`@v@t@tAR`@R\\\\T`@t@rAnAxBFJ|@xAj@`Af@x@^j@FJ@@b@p@NTNVLRRXRZn@bARZr@fA@@fA`BhC`ET\\\\Vb@p@bANVFHHNNRHLLRp@bAtAzBPVHL\\\\j@hAdBtAvBFHV`@\\\\j@v@jAl@~@`@n@p@hAXf@f@x@t@xAf@bAj@nATf@LV?@Tf@@?N^HRBFdA~BTf@fAdCf@hAJVXl@bA`CTd@jBfEZt@Xn@`@|@jAhCRf@lAlC`@~@`@|@r@bBdA|Bh@nAXl@P^p@xANZh@jA\\\\r@Tf@l@lA`@x@Tb@z@bBFLHNDHXh@jAvB^n@~@`BbAbB`A|A'}, 'start_location': {'lat': 40.7120916, 'lng': -74.32269939999999}, 'travel_mode': 'DRIVING'}, {'distance': {'text': '0.5 km', 'value': 534}, 'duration': {'text': '1 min', 'value': 32}, 'end_location': {'lat': 40.6747582, 'lng': -74.407595}, 'html_instructions': 'Take exit <b>43</b> toward <b>New Providence</b>/<wbr/><b>Berkeley Heights</b>', 'maneuver': 'ramp-right', 'polyline': {'points': 'krgwFjvbeMFf@@@BDjBjDFLXf@Vb@RX`@l@b@n@^j@@BFHLT?@@@NZP^FLHRFPHVFP?@BJBLBN?@BP@L?L?D@XAL?@?FE\\\\CRCNGPELEHOZORMNA@Qd@'}, 'start_location': {'lat': 40.6763804, 'lng': -74.402456}, 'travel_mode': 'DRIVING'}, {'distance': {'text': '0.4 km', 'value': 357}, 'duration': {'text': '1 min', 'value': 33}, 'end_location': {'lat': 40.677612, 'lng': -74.409508}, 'html_instructions': 'Merge onto <b>Diamond Hill Rd</b>', 'maneuver': 'merge', 'polyline': {'points': 'ghgwFnvceMWRwBxAeBjAc@XSJA?kAp@UJw@`@[NWLMFUHWL'}, 'start_location': {'lat': 40.6747582, 'lng': -74.407595}, 'travel_mode': 'DRIVING'}, {'distance': {'text': '1.2 km', 'value': 1185}, 'duration': {'text': '2 mins', 'value': 91}, 'end_location': {'lat': 40.6792734, 'lng': -74.3959917}, 'html_instructions': 'Turn <b>right</b> onto <b>McMane Ave</b>', 'maneuver': 'turn-right', 'polyline': {'points': 'azgwFlbdeMCo@EgAAUCm@SeFG}AEoA?MI}AAk@ACC}@Ce@GyAG}AKmCGmBAOIcBCaC?oB?G?sA@A?g@@C@y@@c@BiABy@?]@c@AMAOAKAKEOCKYu@_@aA?AmA{CmAyCCICKAEAE?K?M@SBQJS'}, 'start_location': {'lat': 40.677612, 'lng': -74.409508}, 'travel_mode': 'DRIVING'}, {'distance': {'text': '5.3 km', 'value': 5258}, 'duration': {'text': '7 mins', 'value': 394}, 'end_location': {'lat': 40.7114031, 'lng': -74.351677}, 'html_instructions': 'Turn <b>left</b> onto <b>Glenside Ave</b>', 'maneuver': 'turn-left', 'polyline': {'points': 'mdhwF|maeMVSLKUk@Se@CGSe@A?_AqBo@iAGQkA{B]e@a@o@OMU[QYY_@GICCi@q@w@aAu@_AMO[e@OQACKQACS]OY]u@a@_Ae@cAIQgAaC{@iBG[GMUg@i@kAUg@O_@Ue@Se@_@y@Sg@KSGQ_@{@]w@OQQa@MYUe@{@}A[g@Yc@MSIMq@eAEGQYo@{@Wa@a@k@m@{@o@_AW_@Yc@c@o@MSs@aAa@q@i@{@gAiBWc@m@gA_BkCWc@_BmCWc@Wc@o@eAWc@Wa@Wc@Wc@Wc@m@eAWc@Wc@_@k@OUGKYc@MUIKOU_@o@OUq@cAGMg@w@Wc@a@m@OUWc@IKWa@i@{@_@k@?AMUIKEIGMKQQa@MUCGMWMYKWKYEOAAEOUu@Su@?A_@sA?AEMIYYgAEMW_AGUKc@CGMi@GQIW?AEMEOEICIGKEKGKQYYc@IMGKEEEGA?MOKMKIMKSQQKy@m@}@m@OKOK}@o@sCsBECu@m@_FuDQSUWaBcCU[MQcB}BW[ACCCS]EGQUACiAaBc@q@a@i@e@g@GGQUGISWqAaBq@{@SWGGQQUWu@cA_@c@W[Y]SYGKGKS_@GOKQMWUg@IQGMEKEICEKMMQa@k@QUKKIKqBeCw@}@c@g@g@k@m@q@e@g@u@u@yCsCEESSAAOOOQKOOU?AKQM[s@{AwAsCa@YMIKGMGCAk@U]YGESGEEEAA?EAE?M?'}, 'start_location': {'lat': 40.6792734, 'lng': -74.3959917}, 'travel_mode': 'DRIVING'}, {'distance': {'text': '0.1 km', 'value': 136}, 'duration': {'text': '1 min', 'value': 26}, 'end_location': {'lat': 40.7108624, 'lng': -74.35303990000001}, 'html_instructions': 'Turn <b>left</b> onto <b>Morris Ave</b>', 'maneuver': 'turn-left', 'polyline': {'points': 'gmnwF~xxdMIFFN`@hALVL^P^?@Rn@Hb@'}, 'start_location': {'lat': 40.7114031, 'lng': -74.351677}, 'travel_mode': 'DRIVING'}, {'distance': {'text': '0.4 km', 'value': 393}, 'duration': {'text': '1 min', 'value': 78}, 'end_location': {'lat': 40.71360720000001, 'lng': -74.3525733}, 'html_instructions': 'Turn <b>right</b> onto <b>Lower Overlook Rd</b>', 'maneuver': 'turn-right', 'polyline': {'points': '{inwFnaydMMDE@A?E?A?ECA?[UMICCKIA?EEKKEECEAAEGKKe@{@k@u@CCSSCCAASOGEGCGCGCWGKCOCMAMAM?M?I@A?GBKBGBGDGFCBILA@CFa@dAADADCDAFCJCLAHAH'}, 'start_location': {'lat': 40.7108624, 'lng': -74.35303990000001}, 'travel_mode': 'DRIVING'}, {'distance': {'text': '0.1 km', 'value': 124}, 'duration': {'text': '1 min', 'value': 36}, 'end_location': {'lat': 40.7130276, 'lng': -74.3536551}, 'html_instructions': 'Turn <b>left</b> onto <b>Overlook Rd</b><div style=\"font-size:0.9em\">Destination will be on the left</div>', 'maneuver': 'turn-left', 'polyline': {'points': 'a{nwFp~xdMF@@?@@B@@?@@B?FBFBFB@@@@FDBBFF@@BD@?@B@@BD?@@B@@@DBD@D?B@B@D@D@B?D@F?F@D?@?H@d@@Z'}, 'start_location': {'lat': 40.71360720000001, 'lng': -74.3525733}, 'travel_mode': 'DRIVING'}], 'traffic_speed_entry': [], 'via_waypoint': []}}, {'lat': 40.6433513, 'lng': -74.63528219999999, 'dist': 2377, 'nearest_ev_station': {'business_status': 'OPERATIONAL', 'geometry': {'location': {'lat': 40.584642, 'lng': -74.6129445}, 'viewport': {'northeast': {'lat': 40.58626133029149, 'lng': -74.61212036970849}, 'southwest': {'lat': 40.58356336970849, 'lng': -74.6148183302915}}}, 'icon': 'https://maps.gstatic.com/mapfiles/place_api/icons/v1/png_71/lodging-71.png', 'icon_background_color': '#909CE1', 'icon_mask_base_uri': 'https://maps.gstatic.com/mapfiles/place_api/icons/v2/hotel_pinlet', 'name': 'Bridgewater Marriott', 'photos': [{'height': 320, 'html_attributions': ['<a href=\"https://maps.google.com/maps/contrib/113457401371126935055\">Bridgewater Marriott</a>'], 'photo_reference': 'ATplDJaJupRd_4TpE-4GZM7M03J-sPgdL4WoNeC11Hkfp8xtRBXzJlJV-cpBXdzp22R_pEQc1OKa2v-7YnkrBXkXotg6Ju1DC3rR5Rko0y-xsy8oDER3W27neIW0m-MzMEbDhWvwF5OnvS8V7Y_iqEl5XHJly2VkoYegmSpFHkusafDfH9iM', 'width': 480}], 'place_id': 'ChIJw6OO2kGVw4kRVTxPWktTQVw', 'plus_code': {'compound_code': 'H9MP+VR Bridgewater, NJ, USA', 'global_code': '87G7H9MP+VR'}, 'rating': 4.4, 'reference': 'ChIJw6OO2kGVw4kRVTxPWktTQVw', 'scope': 'GOOGLE', 'types': ['lodging', 'point_of_interest', 'establishment'], 'user_ratings_total': 1357, 'vicinity': '700 Commons Way, Bridgewater'}, 'nearest_ev_station_distance': 8920, 'nearest_ev_route_segment': {'distance': {'text': '8.9 km', 'value': 8920}, 'duration': {'text': '9 mins', 'value': 538}, 'end_address': '700 Commons Way, Bridgewater, NJ 08807, USA', 'end_location': {'lat': 40.5845686, 'lng': -74.6131541}, 'start_address': '180 Washington Valley Rd, Bedminster, NJ 07921, USA', 'start_location': {'lat': 40.6433513, 'lng': -74.63528219999999}, 'steps': [{'distance': {'text': '0.7 km', 'value': 721}, 'duration': {'text': '1 min', 'value': 29}, 'end_location': {'lat': 40.64437, 'lng': -74.643336}, 'html_instructions': 'Head <b>northwest</b> on <b>Exit 29</b>', 'polyline': {'points': '}cawFnepfMIX?DB`@?@XtFHvAFvAHzABn@F|A?V@t@?^A`@?VAZCZEd@CZE\\\\EXG\\\\EXIZGZCJELIXKXKVAFIPQd@KTMZKVMXO\\\\a@`AADIRAFM`@'}, 'start_location': {'lat': 40.6433513, 'lng': -74.63528219999999}, 'travel_mode': 'DRIVING'}, {'distance': {'text': '5.4 km', 'value': 5361}, 'duration': {'text': '3 mins', 'value': 182}, 'end_location': {'lat': 40.6006801, 'lng': -74.6270505}, 'html_instructions': 'Keep <b>left</b> at the fork, follow signs for <b>I-287 S</b>/<wbr/><b>US-202 S</b>/<wbr/><b>US-206 S</b>/<wbr/><b>Somerville</b> and merge onto <b>I-287 S</b>', 'maneuver': 'fork-left', 'polyline': {'points': 'ijawFzwqfMIXCRER?DGd@?LAX?R?H?J?H?J@P@HBZ@HBNFZDTFPFPFPFNDHDFT`@DDLN@@NPNLB@@@PJRJRHVFf@JT@TAZ?j@E`@ChAKx@In@G|Ec@x@IpD]D?bCU|@ItAOj@GTCd@EHAv@Kf@Et@Kj@ITC|@MVEh@I`AOl@Kl@KNCTGf@Iz@Qb@Ij@KFCn@Mh@MREbAU?AlBc@V@bEoA`@M\\\\K^Mz@WNGdC}@VI?AtAe@^MRITG`@O\\\\Mf@Sl@SRIf@Sb@QnAg@NGFCf@SrAk@TKRITMf@UTIRK\\\\ObAg@RIf@UPKTKRKTMh@WHE\\\\S@?fAk@x@c@FEXM|A}@HEFEDC^SpAw@fBgAnBkArN{If@[BAZSjAs@^URMJGRM^UJGpAy@^UTMJIHGPK`@U^UNKbC{AvA{@nBkAvA}@l@_@ZSjC}AdBaAdAk@h@YpAo@tBcAlAi@jBu@PIjBq@r@WlE{Aj@QRGJEd@Ob@Of@OdBe@t@UzAe@b@MtCu@d@MjA[~@UTGRETG~@STGRGh@MTETGDAb@KRGLCLELCh@M~@Wd@K~@W'}, 'start_location': {'lat': 40.64437, 'lng': -74.643336}, 'travel_mode': 'DRIVING'}, {'distance': {'text': '1.2 km', 'value': 1192}, 'duration': {'text': '1 min', 'value': 46}, 'end_location': {'lat': 40.5905251, 'lng': -74.62310049999999}, 'html_instructions': 'Take exit <b>17</b> on the <b>left</b> to merge onto <b>US-202 S</b>/<wbr/><b>US-206 S</b> toward <b>US-22 W</b>/<wbr/><b>Somerville</b>/<wbr/><b>Flemington</b>', 'maneuver': 'ramp-left', 'polyline': {'points': 'gyxvF`rnfMPO@?BARGRIRGRIf@SHCHETKf@WZO`@QTMRMRMRKROVQNKFEVO?A@?z@m@XQDC\\\\WPKj@_@h@[XQVMh@Uj@Ql@Mn@KfAMx@If@KbAQd@M?ADArBm@d@M`@MRGJEPE@AVGZETCNCHAJAHApAKXAVANAt@El@EN?v@GpCO'}, 'start_location': {'lat': 40.6006801, 'lng': -74.6270505}, 'travel_mode': 'DRIVING'}, {'distance': {'text': '0.3 km', 'value': 259}, 'duration': {'text': '1 min', 'value': 32}, 'end_location': {'lat': 40.5888357, 'lng': -74.62465940000001}, 'html_instructions': 'Take the <b>Commons Way</b> exit toward <b>Garretson Rd</b>', 'maneuver': 'ramp-right', 'polyline': {'points': 'yyvvFjymfMHFDBDBD?H@H@HBLDNFJJ@@JLFJ@DDHBNDP@DF^BRBPDRDPBLFLFJHLHFJFJBH@J?pAE'}, 'start_location': {'lat': 40.5905251, 'lng': -74.62310049999999}, 'travel_mode': 'DRIVING'}, {'distance': {'text': '1.2 km', 'value': 1205}, 'duration': {'text': '2 mins', 'value': 144}, 'end_location': {'lat': 40.5836684, 'lng': -74.6138374}, 'html_instructions': 'Turn <b>left</b> onto <b>Commons Way</b>', 'maneuver': 'turn-left', 'polyline': {'points': 'govvFbcnfMLA?UEcAI_EAYE}AE}AE_C?_B?[@qA?GBm@?ADq@BWB[Da@L{@Rq@FSJ[DKXo@b@w@j@u@p@s@fBmBx@}@r@s@h@g@LOZ]v@{@t@{@r@_ABCVYFIf@i@d@e@ZW`A{@NEXK~@[f@O'}, 'start_location': {'lat': 40.5888357, 'lng': -74.62465940000001}, 'travel_mode': 'DRIVING'}, {'distance': {'text': '81 m', 'value': 81}, 'duration': {'text': '1 min', 'value': 30}, 'end_location': {'lat': 40.5837046, 'lng': -74.61301739999999}, 'html_instructions': 'Turn <b>left</b> onto <b>Crossing Blvd</b>', 'maneuver': 'turn-left', 'polyline': {'points': '}nuvFn_lfMTGEWG_@AKIu@C_@@A'}, 'start_location': {'lat': 40.5836684, 'lng': -74.6138374}, 'travel_mode': 'DRIVING'}, {'distance': {'text': '72 m', 'value': 72}, 'duration': {'text': '1 min', 'value': 22}, 'end_location': {'lat': 40.584323, 'lng': -74.6132362}, 'html_instructions': 'Turn <b>left</b>', 'maneuver': 'turn-left', 'polyline': {'points': 'couvFjzkfMS?YFeA^GB'}, 'start_location': {'lat': 40.5837046, 'lng': -74.61301739999999}, 'travel_mode': 'DRIVING'}, {'distance': {'text': '29 m', 'value': 29}, 'duration': {'text': '1 min', 'value': 53}, 'end_location': {'lat': 40.5845686, 'lng': -74.6131541}, 'html_instructions': 'Turn <b>right</b><div style=\"font-size:0.9em\">Destination will be on the right</div>', 'maneuver': 'turn-right', 'polyline': {'points': '_suvFv{kfMEEEACCEAEAEAGAE@A?'}, 'start_location': {'lat': 40.584323, 'lng': -74.6132362}, 'travel_mode': 'DRIVING'}], 'traffic_speed_entry': [], 'via_waypoint': []}}, {'lat': 40.6582758, 'lng': -74.6441528, 'dist': 1174, 'nearest_ev_station': {'business_status': 'OPERATIONAL', 'geometry': {'location': {'lat': 40.6798895, 'lng': -74.6497634}, 'viewport': {'northeast': {'lat': 40.6812835802915, 'lng': -74.6484553697085}, 'southwest': {'lat': 40.6785856197085, 'lng': -74.6511533302915}}}, 'icon': 'https://maps.gstatic.com/mapfiles/place_api/icons/v1/png_71/generic_business-71.png', 'icon_background_color': '#7B9EB0', 'icon_mask_base_uri': 'https://maps.gstatic.com/mapfiles/place_api/icons/v2/generic_pinlet', 'name': 'Affinity Federal Credit Union', 'opening_hours': {'open_now': False}, 'photos': [{'height': 1192, 'html_attributions': ['<a href=\"https://maps.google.com/maps/contrib/110046918104908700238\">Affinity Federal Credit Union</a>'], 'photo_reference': 'ATplDJaV9i6vmq9CLDCSV3phX3UBVSVeWCJ-Pl5tE6UubPMF7i_rSiLcB6ikhEVhVI-eXw30t9YMtg5ENgYc1_u6uEw3GfhAb5Uk18Ze1cLhbIM53H4lL4-EJyYamQiiku-wouLeH2kzF0G5ojwIs-Sg2cTX-KHtlufuIKWSaSin4Sz2a7V0', 'width': 2118}], 'place_id': 'ChIJt_nLWmeWw4kRSX5jNXqcy_o', 'plus_code': {'compound_code': 'M9H2+X3 Bedminster, NJ, USA', 'global_code': '87G7M9H2+X3'}, 'rating': 4.3, 'reference': 'ChIJt_nLWmeWw4kRSX5jNXqcy_o', 'scope': 'GOOGLE', 'types': ['atm', 'bank', 'finance', 'point_of_interest', 'establishment'], 'user_ratings_total': 20, 'vicinity': '1520 U.S. 206, Bedminster'}, 'nearest_ev_station_distance': 3273, 'nearest_ev_route_segment': {'distance': {'text': '3.3 km', 'value': 3273}, 'duration': {'text': '4 mins', 'value': 225}, 'end_address': '1520 US-206, Bedminster, NJ 07921, USA', 'end_location': {'lat': 40.6799229, 'lng': -74.6496454}, 'start_address': 'I-287, Bedminster, NJ 07921, USA', 'start_location': {'lat': 40.6582758, 'lng': -74.6441528}, 'steps': [{'distance': {'text': '0.4 km', 'value': 435}, 'duration': {'text': '1 min', 'value': 32}, 'end_location': {'lat': 40.6575695, 'lng': -74.6441133}, 'html_instructions': 'Head <b>east</b> on <b>Exit 22B</b> toward <b>US-202 N</b>/<wbr/><b>US-206 N</b>', 'polyline': {'points': 'gadwF||qfME]USIIMOGKEICIEIAKCKAKAM?K?S@O@G@I?GBIBI@GDKDIDKDEDGDGDEDCFCBCJEDCFAHCJAL?H@J@PBHBJBHDHDJFBBFBFFFHFHFJFLFRDRBT@XAXC\\\\EPENGNMNOPSZ'}, 'start_location': {'lat': 40.6582758, 'lng': -74.6441528}, 'travel_mode': 'DRIVING'}, {'distance': {'text': '0.7 km', 'value': 739}, 'duration': {'text': '1 min', 'value': 50}, 'end_location': {'lat': 40.663736, 'lng': -74.6443864}, 'html_instructions': 'Merge onto <b>US-202 N</b>/<wbr/><b>US-206 N</b>', 'maneuver': 'merge', 'polyline': {'points': 'y|cwFt|qfMWTWXq@n@i@h@GFc@^EB[R[P[Lm@RC@i@Js@JYDm@Dm@?]BW@Q?U@g@Ea@CIA}@E[Cc@EYE[Gc@Kk@Qk@Sc@W{@g@wBwA'}, 'start_location': {'lat': 40.6575695, 'lng': -74.6441133}, 'travel_mode': 'DRIVING'}, {'distance': {'text': '0.8 km', 'value': 849}, 'duration': {'text': '1 min', 'value': 38}, 'end_location': {'lat': 40.6713035, 'lng': -74.6438369}, 'html_instructions': 'Keep <b>left</b> to stay on <b>US-202 N</b>/<wbr/><b>US-206 N</b>', 'maneuver': 'keep-left', 'polyline': {'points': 'kcewFl~qfMuAo@i@MYIe@G]Ei@CWAa@?u@@c@Bc@@qAFI@E?gADyBFaC@g@?qBBcA?eAIo@GsE_@yAE'}, 'start_location': {'lat': 40.663736, 'lng': -74.6443864}, 'travel_mode': 'DRIVING'}, {'distance': {'text': '1.1 km', 'value': 1135}, 'duration': {'text': '1 min', 'value': 71}, 'end_location': {'lat': 40.6801728, 'lng': -74.650331}, 'html_instructions': 'Slight <b>left</b> onto <b>US-206 N</b>', 'maneuver': 'turn-slight-left', 'polyline': {'points': 'srfwF~zqfMIDG@SB_@FYF[JWJWNA?WP]XEBSPWV[Xa@`@SRQRWX{@v@a@^e@`@QNy@p@kCjBy@l@}@r@_@Zc@\\\\mAbAs@h@w@l@e@\\\\s@h@QJa@X{@h@eAl@i@Xk@ZOFqAj@gAf@g@Ti@TKD[J'}, 'start_location': {'lat': 40.6713035, 'lng': -74.6438369}, 'travel_mode': 'DRIVING'}, {'distance': {'text': '0.1 km', 'value': 115}, 'duration': {'text': '1 min', 'value': 34}, 'end_location': {'lat': 40.6799229, 'lng': -74.6496454}, 'html_instructions': 'Turn <b>right</b><div style=\"font-size:0.9em\">Destination will be on the left</div>', 'maneuver': 'turn-right', 'polyline': {'points': 'ajhwFpcsfMMm@NIFAHA@?r@WDCBC?C@EAEE[CCCAC?C?C?GD'}, 'start_location': {'lat': 40.6801728, 'lng': -74.650331}, 'travel_mode': 'DRIVING'}], 'traffic_speed_entry': [], 'via_waypoint': []}}, {'lat': 40.663736, 'lng': -74.6443864, 'dist': 849, 'nearest_ev_station': {'business_status': 'OPERATIONAL', 'geometry': {'location': {'lat': 40.6798895, 'lng': -74.6497634}, 'viewport': {'northeast': {'lat': 40.6812835802915, 'lng': -74.6484553697085}, 'southwest': {'lat': 40.6785856197085, 'lng': -74.6511533302915}}}, 'icon': 'https://maps.gstatic.com/mapfiles/place_api/icons/v1/png_71/generic_business-71.png', 'icon_background_color': '#7B9EB0', 'icon_mask_base_uri': 'https://maps.gstatic.com/mapfiles/place_api/icons/v2/generic_pinlet', 'name': 'Affinity Federal Credit Union', 'opening_hours': {'open_now': False}, 'photos': [{'height': 1192, 'html_attributions': ['<a href=\"https://maps.google.com/maps/contrib/110046918104908700238\">Affinity Federal Credit Union</a>'], 'photo_reference': 'ATplDJYmhvTHZVPgcNPeU5SRhjzir2eN-RvdXXEn9_lalJn6vYorLTy692PLrUHdi7GtJ9fFDvntjsTujEs3i0ig9Q30SoLLG0RMfNHL2HZgd9TB7ByTjCl9O_g5ZSc5KmJJvPiLxpVaVFtb4XOe3btnWHXK8Tia9mvTC0PixrL19C-rj2NU', 'width': 2118}], 'place_id': 'ChIJt_nLWmeWw4kRSX5jNXqcy_o', 'plus_code': {'compound_code': 'M9H2+X3 Bedminster, NJ, USA', 'global_code': '87G7M9H2+X3'}, 'rating': 4.3, 'reference': 'ChIJt_nLWmeWw4kRSX5jNXqcy_o', 'scope': 'GOOGLE', 'types': ['atm', 'bank', 'point_of_interest', 'finance', 'establishment'], 'user_ratings_total': 20, 'vicinity': '1520 U.S. 206, Bedminster'}, 'nearest_ev_station_distance': 2099, 'nearest_ev_route_segment': {'distance': {'text': '2.1 km', 'value': 2099}, 'duration': {'text': '2 mins', 'value': 143}, 'end_address': '1520 US-206, Bedminster, NJ 07921, USA', 'end_location': {'lat': 40.6799229, 'lng': -74.6496454}, 'start_address': 'Disabled American Veterans Hwy, Bedminster, NJ 07921, USA', 'start_location': {'lat': 40.663736, 'lng': -74.6443864}, 'steps': [{'distance': {'text': '0.8 km', 'value': 849}, 'duration': {'text': '1 min', 'value': 38}, 'end_location': {'lat': 40.6713035, 'lng': -74.6438369}, 'html_instructions': 'Head <b>north</b> on <b>US-202 N</b>/<wbr/><b>US-206 N</b>', 'polyline': {'points': 'kcewFl~qfMuAo@i@MYIe@G]Ei@CWAa@?u@@c@Bc@@qAFI@E?gADyBFaC@g@?qBBcA?eAIo@GsE_@yAE'}, 'start_location': {'lat': 40.663736, 'lng': -74.6443864}, 'travel_mode': 'DRIVING'}, {'distance': {'text': '1.1 km', 'value': 1135}, 'duration': {'text': '1 min', 'value': 71}, 'end_location': {'lat': 40.6801728, 'lng': -74.650331}, 'html_instructions': 'Slight <b>left</b> onto <b>US-206 N</b>', 'maneuver': 'turn-slight-left', 'polyline': {'points': 'srfwF~zqfMIDG@SB_@FYF[JWJWNA?WP]XEBSPWV[Xa@`@SRQRWX{@v@a@^e@`@QNy@p@kCjBy@l@}@r@_@Zc@\\\\mAbAs@h@w@l@e@\\\\s@h@QJa@X{@h@eAl@i@Xk@ZOFqAj@gAf@g@Ti@TKD[J'}, 'start_location': {'lat': 40.6713035, 'lng': -74.6438369}, 'travel_mode': 'DRIVING'}, {'distance': {'text': '0.1 km', 'value': 115}, 'duration': {'text': '1 min', 'value': 34}, 'end_location': {'lat': 40.6799229, 'lng': -74.6496454}, 'html_instructions': 'Turn <b>right</b><div style=\"font-size:0.9em\">Destination will be on the left</div>', 'maneuver': 'turn-right', 'polyline': {'points': 'ajhwFpcsfMMm@NIFAHA@?r@WDCBC?C@EAEE[CCCAC?C?C?GD'}, 'start_location': {'lat': 40.6801728, 'lng': -74.650331}, 'travel_mode': 'DRIVING'}], 'traffic_speed_entry': [], 'via_waypoint': []}}, {'lat': 40.6713035, 'lng': -74.6438369, 'dist': 14231, 'nearest_ev_station': {'business_status': 'OPERATIONAL', 'geometry': {'location': {'lat': 40.6488719, 'lng': -74.5764874}, 'viewport': {'northeast': {'lat': 40.6501838802915, 'lng': -74.5749137697085}, 'southwest': {'lat': 40.6474859197085, 'lng': -74.57761173029151}}}, 'icon': 'https://maps.gstatic.com/mapfiles/place_api/icons/v1/png_71/lodging-71.png', 'icon_background_color': '#909CE1', 'icon_mask_base_uri': 'https://maps.gstatic.com/mapfiles/place_api/icons/v2/hotel_pinlet', 'name': 'Courtyard by Marriott Basking Ridge', 'photos': [{'height': 320, 'html_attributions': ['<a href=\"https://maps.google.com/maps/contrib/100960861379023256535\">Courtyard by Marriott Basking Ridge</a>'], 'photo_reference': 'ATplDJY-a59rp3POiijV9p9R7JftibCGgpdWqiE0OnJgWNKYS135k-CqWszbEhpE7_7pE70BsifpwlmjU8kKK8GrCXvEx5lUfYjBqYp5fzq7niqq1QAXhVJXDExlW6w2FmzsgyppKLJuy-Er6YX57eWpipXZ18kSRSXqtH4bcvmMWnHnamVL', 'width': 480}], 'place_id': 'ChIJe2Vo-eW9w4kRzzE_7R_6YnQ', 'plus_code': {'compound_code': 'JCXF+GC Basking Ridge, Bernards, NJ, USA', 'global_code': '87G7JCXF+GC'}, 'rating': 4.1, 'reference': 'ChIJe2Vo-eW9w4kRzzE_7R_6YnQ', 'scope': 'GOOGLE', 'types': ['lodging', 'point_of_interest', 'establishment'], 'user_ratings_total': 838, 'vicinity': '595 Martinsville Road, Basking Ridge'}, 'nearest_ev_station_distance': 10357, 'nearest_ev_route_segment': {'distance': {'text': '10.4 km', 'value': 10357}, 'duration': {'text': '12 mins', 'value': 730}, 'end_address': '595 Martinsville Rd, Basking Ridge, NJ 07920, USA', 'end_location': {'lat': 40.6490788, 'lng': -74.5762038}, 'start_address': '1195 US-206, Bedminster, NJ 07921, USA', 'start_location': {'lat': 40.6713035, 'lng': -74.6438369}, 'steps': [{'distance': {'text': '1.0 km', 'value': 1036}, 'duration': {'text': '1 min', 'value': 64}, 'end_location': {'lat': 40.6802953, 'lng': -74.6456434}, 'html_instructions': 'Head <b>north</b> on <b>US-202 N</b> toward <b>Miller Ln</b>', 'polyline': {'points': 'srfwF~zqfMGCCAE?U@a@D_@DUFMBMDYJYNGBWP_@Xa@Z[Va@ZQPg@b@WVOLOHEBOHKBKDWDMBO?a@@K?E?E?MDyC?_D@iC@wA@]?M?u@@Q@eADiA@gCDmAB]@i@@U@e@?'}, 'start_location': {'lat': 40.6713035, 'lng': -74.6438369}, 'travel_mode': 'DRIVING'}, {'distance': {'text': '1.2 km', 'value': 1243}, 'duration': {'text': '2 mins', 'value': 100}, 'end_location': {'lat': 40.6855882, 'lng': -74.6330873}, 'html_instructions': 'Turn <b>right</b> onto <b>US-202 N</b>/<wbr/><b>Main St</b><div style=\"font-size:0.9em\">Continue to follow US-202 N</div>', 'maneuver': 'turn-right', 'polyline': {'points': '{jhwFffrfMQEIECCECIIMGcAwEEOa@eBYoAMk@ACMi@Mk@AGMk@aAqECGIc@[wAMk@[wAMk@[wA[yA@GAEAIg@iC?Ag@aCGYOeAGa@K}@SqAG[IWA?GWESA?IWIQISEIg@eAg@}@Yc@KOUYe@g@[]]]GGMMMOYYaAaA'}, 'start_location': {'lat': 40.6802953, 'lng': -74.6456434}, 'travel_mode': 'DRIVING'}, {'distance': {'text': '5.2 km', 'value': 5159}, 'duration': {'text': '5 mins', 'value': 309}, 'end_location': {'lat': 40.6659199, 'lng': -74.5897959}, 'html_instructions': 'Turn <b>right</b> onto <b>Liberty Corner Rd</b>', 'maneuver': 'turn-right', 'polyline': {'points': '}kiwFxwofMf@k@XWd@e@\\\\[vAoA\\\\[\\\\Y\\\\[j@g@LMz@u@Z[\\\\[vAqA\\\\[h@g@NM\\\\[v@s@z@y@ZWpCoCj@g@j@i@XWXWhAaAhAu@VOPI\\\\K|Aa@HCVGn@Qt@Qh@KTCHADAPAJAz@GJ?hBM\\\\AdAIfAGF?BAXEDAXI@ADARMBCHIJMJQFSBI@IDS@O?I?E@kFEsBA[ASCm@Co@Em@MmCAOAc@IwACo@Em@Cg@Eu@Co@Em@Ci@I}ACq@?S?a@?M@QD[DUFUJ]BKJk@BKDa@@GDe@Dm@Ao@?YCU?EGg@CMIu@?KAK?A?IAG@M?M?E@E?G@QDSDU@IBKFa@BIFYBSBODMBIBIBKBKDKNY\\\\g@^]RUHINUFIBCJULQ`@s@P]BEBCLYr@qA@Cd@{@~@eBLSNUFILMPMNIBAPGNCVEJAb@CNAdCIlACb@AfACb@A^Af@C`@CNARC`@G@ANEPGDCZMNI^QPIZQBApBs@TI`@K`@Md@Q^SzAcAdB}AZ_@LUHM@CHQFOHWFO?AHYH_@F]DOFo@@e@@[A_@IeAAIW_CE[Y{B_@kDAEE_@CWMcAKy@Go@AQGi@G_A?MCk@?CCo@?AAk@?e@EgBKwDAm@Cm@C}@CkACm@C{@ASAy@Cm@A]GmB@e@?o@?E@q@?U@UBkA@]BoB@]@o@DiCBeBF_C?ADaCBy@BgB?g@?U?C?[?c@EeBAU'}, 'start_location': {'lat': 40.6855882, 'lng': -74.6330873}, 'travel_mode': 'DRIVING'}, {'distance': {'text': '1.0 km', 'value': 1005}, 'duration': {'text': '1 min', 'value': 76}, 'end_location': {'lat': 40.6651069, 'lng': -74.5780983}, 'html_instructions': 'Continue onto <b>Church St</b>', 'polyline': {'points': '_qewFfigfMO_EQeECe@Ck@GmAImBC_@E{@EgACm@?c@FiAXyCLwAHs@TcCFw@JeATgCN{AFm@ZoDBSPeBDa@Du@`@sC'}, 'start_location': {'lat': 40.6659199, 'lng': -74.5897959}, 'travel_mode': 'DRIVING'}, {'distance': {'text': '0.6 km', 'value': 564}, 'duration': {'text': '1 min', 'value': 44}, 'end_location': {'lat': 40.660266, 'lng': -74.5778124}, 'html_instructions': 'Continue onto <b>Valley Rd</b>', 'polyline': {'points': '}kewFb`efM@GFWFYBGLUNA@?PAJAL@XBb@BF@J@f@Fv@Jn@F|@HPBb@Bv@@lA?|@A@?`BAH?d@?P?hA@V?JAHAJAJCFCLI'}, 'start_location': {'lat': 40.6651069, 'lng': -74.5780983}, 'travel_mode': 'DRIVING'}, {'distance': {'text': '1.2 km', 'value': 1218}, 'duration': {'text': '2 mins', 'value': 94}, 'end_location': {'lat': 40.6495576, 'lng': -74.57505929999999}, 'html_instructions': 'Slight <b>right</b> onto <b>Liberty Corner Rd</b>/<wbr/><b>Martinsville Rd</b>', 'maneuver': 'turn-slight-right', 'polyline': {'points': 'umdwFh~dfML?DABADATWLKZS`@QHCd@Kv@Md@GxAU~@KJCLEJAf@GvAWHA|@Oz@OZEzAQbAQvB]tDq@xBWdAMb@GnB[tAY\\\\CnBY\\\\DdAOb@Ib@GLA`@Ih@Kr@KJAH?RAD?'}, 'start_location': {'lat': 40.660266, 'lng': -74.5778124}, 'travel_mode': 'DRIVING'}, {'distance': {'text': '0.1 km', 'value': 104}, 'duration': {'text': '1 min', 'value': 29}, 'end_location': {'lat': 40.6493324, 'lng': -74.5762349}, 'html_instructions': 'Turn <b>right</b>', 'maneuver': 'turn-right', 'polyline': {'points': 'wjbwFbmdfM^hAF|ABX@f@'}, 'start_location': {'lat': 40.6495576, 'lng': -74.57505929999999}, 'travel_mode': 'DRIVING'}, {'distance': {'text': '28 m', 'value': 28}, 'duration': {'text': '1 min', 'value': 14}, 'end_location': {'lat': 40.6490788, 'lng': -74.5762038}, 'html_instructions': 'Turn <b>left</b>', 'maneuver': 'turn-left', 'polyline': {'points': 'iibwFltdfMp@E'}, 'start_location': {'lat': 40.6493324, 'lng': -74.5762349}, 'travel_mode': 'DRIVING'}], 'traffic_speed_entry': [], 'via_waypoint': []}}, {'lat': 40.7836119, 'lng': -74.6981407, 'dist': 0}]\n"
     ]
    }
   ],
   "source": [
    "# Exmaple usage\n",
    "start = (40.743462, -74.029068)  \n",
    "end = (40.783611, -74.698120)  \n",
    "\n",
    "ev_route_planner = EVRoutePlanner(api_key, start, end, 100000/2)  # 320 km range\n",
    "route = ev_route_planner.calculate_route()\n",
    "print(route)\n"
   ]
  },
  {
   "cell_type": "code",
   "execution_count": 124,
   "metadata": {},
   "outputs": [
    {
     "data": {
      "application/vnd.plotly.v1+json": {
       "config": {
        "plotlyServerURL": "https://plot.ly"
       },
       "data": [
        {
         "hovertemplate": "lat=%{lat}<br>lon=%{lon}<extra></extra>",
         "lat": [
          40.7434694,
          40.7437773,
          40.7359385,
          40.7368213,
          40.7362133,
          40.7321369,
          40.7319276,
          40.7313096,
          40.7391415,
          40.7318911,
          40.7308684,
          40.7114983,
          40.7105596,
          40.7120916,
          40.6433513,
          40.6582758,
          40.663736,
          40.6713035,
          40.7836119
         ],
         "legendgroup": "",
         "line": {
          "color": "#636efa"
         },
         "lon": [
          -74.02906639999999,
          -74.0308202,
          -74.0331996,
          -74.03925219999999,
          -74.04336529999999,
          -74.0444018,
          -74.04635809999999,
          -74.05010829999999,
          -74.0684769,
          -74.1302585,
          -74.1322955,
          -74.1587432,
          -74.1622959,
          -74.32269939999999,
          -74.63528219999999,
          -74.6441528,
          -74.6443864,
          -74.6438369,
          -74.6981407
         ],
         "mode": "lines",
         "name": "",
         "showlegend": false,
         "subplot": "mapbox",
         "type": "scattermapbox"
        },
        {
         "hoverinfo": "text",
         "lat": [
          40.743462,
          40.783611
         ],
         "lon": [
          -74.029068,
          -74.69812
         ],
         "marker": {
          "size": 10
         },
         "mode": "markers",
         "text": [
          "Start",
          "End"
         ],
         "type": "scattermapbox"
        },
        {
         "hoverinfo": "text",
         "lat": [],
         "lon": [],
         "marker": {
          "color": "red",
          "size": 10
         },
         "mode": "markers",
         "text": [
          "Charging Station"
         ],
         "type": "scattermapbox"
        }
       ],
       "layout": {
        "legend": {
         "tracegroupgap": 0
        },
        "mapbox": {
         "center": {
          "lat": 40.71831173157895,
          "lon": -74.23984948947368
         },
         "domain": {
          "x": [
           0,
           1
          ],
          "y": [
           0,
           1
          ]
         },
         "style": "open-street-map",
         "zoom": 10
        },
        "margin": {
         "t": 60
        },
        "template": {
         "data": {
          "bar": [
           {
            "error_x": {
             "color": "#2a3f5f"
            },
            "error_y": {
             "color": "#2a3f5f"
            },
            "marker": {
             "line": {
              "color": "#E5ECF6",
              "width": 0.5
             },
             "pattern": {
              "fillmode": "overlay",
              "size": 10,
              "solidity": 0.2
             }
            },
            "type": "bar"
           }
          ],
          "barpolar": [
           {
            "marker": {
             "line": {
              "color": "#E5ECF6",
              "width": 0.5
             },
             "pattern": {
              "fillmode": "overlay",
              "size": 10,
              "solidity": 0.2
             }
            },
            "type": "barpolar"
           }
          ],
          "carpet": [
           {
            "aaxis": {
             "endlinecolor": "#2a3f5f",
             "gridcolor": "white",
             "linecolor": "white",
             "minorgridcolor": "white",
             "startlinecolor": "#2a3f5f"
            },
            "baxis": {
             "endlinecolor": "#2a3f5f",
             "gridcolor": "white",
             "linecolor": "white",
             "minorgridcolor": "white",
             "startlinecolor": "#2a3f5f"
            },
            "type": "carpet"
           }
          ],
          "choropleth": [
           {
            "colorbar": {
             "outlinewidth": 0,
             "ticks": ""
            },
            "type": "choropleth"
           }
          ],
          "contour": [
           {
            "colorbar": {
             "outlinewidth": 0,
             "ticks": ""
            },
            "colorscale": [
             [
              0,
              "#0d0887"
             ],
             [
              0.1111111111111111,
              "#46039f"
             ],
             [
              0.2222222222222222,
              "#7201a8"
             ],
             [
              0.3333333333333333,
              "#9c179e"
             ],
             [
              0.4444444444444444,
              "#bd3786"
             ],
             [
              0.5555555555555556,
              "#d8576b"
             ],
             [
              0.6666666666666666,
              "#ed7953"
             ],
             [
              0.7777777777777778,
              "#fb9f3a"
             ],
             [
              0.8888888888888888,
              "#fdca26"
             ],
             [
              1,
              "#f0f921"
             ]
            ],
            "type": "contour"
           }
          ],
          "contourcarpet": [
           {
            "colorbar": {
             "outlinewidth": 0,
             "ticks": ""
            },
            "type": "contourcarpet"
           }
          ],
          "heatmap": [
           {
            "colorbar": {
             "outlinewidth": 0,
             "ticks": ""
            },
            "colorscale": [
             [
              0,
              "#0d0887"
             ],
             [
              0.1111111111111111,
              "#46039f"
             ],
             [
              0.2222222222222222,
              "#7201a8"
             ],
             [
              0.3333333333333333,
              "#9c179e"
             ],
             [
              0.4444444444444444,
              "#bd3786"
             ],
             [
              0.5555555555555556,
              "#d8576b"
             ],
             [
              0.6666666666666666,
              "#ed7953"
             ],
             [
              0.7777777777777778,
              "#fb9f3a"
             ],
             [
              0.8888888888888888,
              "#fdca26"
             ],
             [
              1,
              "#f0f921"
             ]
            ],
            "type": "heatmap"
           }
          ],
          "heatmapgl": [
           {
            "colorbar": {
             "outlinewidth": 0,
             "ticks": ""
            },
            "colorscale": [
             [
              0,
              "#0d0887"
             ],
             [
              0.1111111111111111,
              "#46039f"
             ],
             [
              0.2222222222222222,
              "#7201a8"
             ],
             [
              0.3333333333333333,
              "#9c179e"
             ],
             [
              0.4444444444444444,
              "#bd3786"
             ],
             [
              0.5555555555555556,
              "#d8576b"
             ],
             [
              0.6666666666666666,
              "#ed7953"
             ],
             [
              0.7777777777777778,
              "#fb9f3a"
             ],
             [
              0.8888888888888888,
              "#fdca26"
             ],
             [
              1,
              "#f0f921"
             ]
            ],
            "type": "heatmapgl"
           }
          ],
          "histogram": [
           {
            "marker": {
             "pattern": {
              "fillmode": "overlay",
              "size": 10,
              "solidity": 0.2
             }
            },
            "type": "histogram"
           }
          ],
          "histogram2d": [
           {
            "colorbar": {
             "outlinewidth": 0,
             "ticks": ""
            },
            "colorscale": [
             [
              0,
              "#0d0887"
             ],
             [
              0.1111111111111111,
              "#46039f"
             ],
             [
              0.2222222222222222,
              "#7201a8"
             ],
             [
              0.3333333333333333,
              "#9c179e"
             ],
             [
              0.4444444444444444,
              "#bd3786"
             ],
             [
              0.5555555555555556,
              "#d8576b"
             ],
             [
              0.6666666666666666,
              "#ed7953"
             ],
             [
              0.7777777777777778,
              "#fb9f3a"
             ],
             [
              0.8888888888888888,
              "#fdca26"
             ],
             [
              1,
              "#f0f921"
             ]
            ],
            "type": "histogram2d"
           }
          ],
          "histogram2dcontour": [
           {
            "colorbar": {
             "outlinewidth": 0,
             "ticks": ""
            },
            "colorscale": [
             [
              0,
              "#0d0887"
             ],
             [
              0.1111111111111111,
              "#46039f"
             ],
             [
              0.2222222222222222,
              "#7201a8"
             ],
             [
              0.3333333333333333,
              "#9c179e"
             ],
             [
              0.4444444444444444,
              "#bd3786"
             ],
             [
              0.5555555555555556,
              "#d8576b"
             ],
             [
              0.6666666666666666,
              "#ed7953"
             ],
             [
              0.7777777777777778,
              "#fb9f3a"
             ],
             [
              0.8888888888888888,
              "#fdca26"
             ],
             [
              1,
              "#f0f921"
             ]
            ],
            "type": "histogram2dcontour"
           }
          ],
          "mesh3d": [
           {
            "colorbar": {
             "outlinewidth": 0,
             "ticks": ""
            },
            "type": "mesh3d"
           }
          ],
          "parcoords": [
           {
            "line": {
             "colorbar": {
              "outlinewidth": 0,
              "ticks": ""
             }
            },
            "type": "parcoords"
           }
          ],
          "pie": [
           {
            "automargin": true,
            "type": "pie"
           }
          ],
          "scatter": [
           {
            "fillpattern": {
             "fillmode": "overlay",
             "size": 10,
             "solidity": 0.2
            },
            "type": "scatter"
           }
          ],
          "scatter3d": [
           {
            "line": {
             "colorbar": {
              "outlinewidth": 0,
              "ticks": ""
             }
            },
            "marker": {
             "colorbar": {
              "outlinewidth": 0,
              "ticks": ""
             }
            },
            "type": "scatter3d"
           }
          ],
          "scattercarpet": [
           {
            "marker": {
             "colorbar": {
              "outlinewidth": 0,
              "ticks": ""
             }
            },
            "type": "scattercarpet"
           }
          ],
          "scattergeo": [
           {
            "marker": {
             "colorbar": {
              "outlinewidth": 0,
              "ticks": ""
             }
            },
            "type": "scattergeo"
           }
          ],
          "scattergl": [
           {
            "marker": {
             "colorbar": {
              "outlinewidth": 0,
              "ticks": ""
             }
            },
            "type": "scattergl"
           }
          ],
          "scattermapbox": [
           {
            "marker": {
             "colorbar": {
              "outlinewidth": 0,
              "ticks": ""
             }
            },
            "type": "scattermapbox"
           }
          ],
          "scatterpolar": [
           {
            "marker": {
             "colorbar": {
              "outlinewidth": 0,
              "ticks": ""
             }
            },
            "type": "scatterpolar"
           }
          ],
          "scatterpolargl": [
           {
            "marker": {
             "colorbar": {
              "outlinewidth": 0,
              "ticks": ""
             }
            },
            "type": "scatterpolargl"
           }
          ],
          "scatterternary": [
           {
            "marker": {
             "colorbar": {
              "outlinewidth": 0,
              "ticks": ""
             }
            },
            "type": "scatterternary"
           }
          ],
          "surface": [
           {
            "colorbar": {
             "outlinewidth": 0,
             "ticks": ""
            },
            "colorscale": [
             [
              0,
              "#0d0887"
             ],
             [
              0.1111111111111111,
              "#46039f"
             ],
             [
              0.2222222222222222,
              "#7201a8"
             ],
             [
              0.3333333333333333,
              "#9c179e"
             ],
             [
              0.4444444444444444,
              "#bd3786"
             ],
             [
              0.5555555555555556,
              "#d8576b"
             ],
             [
              0.6666666666666666,
              "#ed7953"
             ],
             [
              0.7777777777777778,
              "#fb9f3a"
             ],
             [
              0.8888888888888888,
              "#fdca26"
             ],
             [
              1,
              "#f0f921"
             ]
            ],
            "type": "surface"
           }
          ],
          "table": [
           {
            "cells": {
             "fill": {
              "color": "#EBF0F8"
             },
             "line": {
              "color": "white"
             }
            },
            "header": {
             "fill": {
              "color": "#C8D4E3"
             },
             "line": {
              "color": "white"
             }
            },
            "type": "table"
           }
          ]
         },
         "layout": {
          "annotationdefaults": {
           "arrowcolor": "#2a3f5f",
           "arrowhead": 0,
           "arrowwidth": 1
          },
          "autotypenumbers": "strict",
          "coloraxis": {
           "colorbar": {
            "outlinewidth": 0,
            "ticks": ""
           }
          },
          "colorscale": {
           "diverging": [
            [
             0,
             "#8e0152"
            ],
            [
             0.1,
             "#c51b7d"
            ],
            [
             0.2,
             "#de77ae"
            ],
            [
             0.3,
             "#f1b6da"
            ],
            [
             0.4,
             "#fde0ef"
            ],
            [
             0.5,
             "#f7f7f7"
            ],
            [
             0.6,
             "#e6f5d0"
            ],
            [
             0.7,
             "#b8e186"
            ],
            [
             0.8,
             "#7fbc41"
            ],
            [
             0.9,
             "#4d9221"
            ],
            [
             1,
             "#276419"
            ]
           ],
           "sequential": [
            [
             0,
             "#0d0887"
            ],
            [
             0.1111111111111111,
             "#46039f"
            ],
            [
             0.2222222222222222,
             "#7201a8"
            ],
            [
             0.3333333333333333,
             "#9c179e"
            ],
            [
             0.4444444444444444,
             "#bd3786"
            ],
            [
             0.5555555555555556,
             "#d8576b"
            ],
            [
             0.6666666666666666,
             "#ed7953"
            ],
            [
             0.7777777777777778,
             "#fb9f3a"
            ],
            [
             0.8888888888888888,
             "#fdca26"
            ],
            [
             1,
             "#f0f921"
            ]
           ],
           "sequentialminus": [
            [
             0,
             "#0d0887"
            ],
            [
             0.1111111111111111,
             "#46039f"
            ],
            [
             0.2222222222222222,
             "#7201a8"
            ],
            [
             0.3333333333333333,
             "#9c179e"
            ],
            [
             0.4444444444444444,
             "#bd3786"
            ],
            [
             0.5555555555555556,
             "#d8576b"
            ],
            [
             0.6666666666666666,
             "#ed7953"
            ],
            [
             0.7777777777777778,
             "#fb9f3a"
            ],
            [
             0.8888888888888888,
             "#fdca26"
            ],
            [
             1,
             "#f0f921"
            ]
           ]
          },
          "colorway": [
           "#636efa",
           "#EF553B",
           "#00cc96",
           "#ab63fa",
           "#FFA15A",
           "#19d3f3",
           "#FF6692",
           "#B6E880",
           "#FF97FF",
           "#FECB52"
          ],
          "font": {
           "color": "#2a3f5f"
          },
          "geo": {
           "bgcolor": "white",
           "lakecolor": "white",
           "landcolor": "#E5ECF6",
           "showlakes": true,
           "showland": true,
           "subunitcolor": "white"
          },
          "hoverlabel": {
           "align": "left"
          },
          "hovermode": "closest",
          "mapbox": {
           "style": "light"
          },
          "paper_bgcolor": "white",
          "plot_bgcolor": "#E5ECF6",
          "polar": {
           "angularaxis": {
            "gridcolor": "white",
            "linecolor": "white",
            "ticks": ""
           },
           "bgcolor": "#E5ECF6",
           "radialaxis": {
            "gridcolor": "white",
            "linecolor": "white",
            "ticks": ""
           }
          },
          "scene": {
           "xaxis": {
            "backgroundcolor": "#E5ECF6",
            "gridcolor": "white",
            "gridwidth": 2,
            "linecolor": "white",
            "showbackground": true,
            "ticks": "",
            "zerolinecolor": "white"
           },
           "yaxis": {
            "backgroundcolor": "#E5ECF6",
            "gridcolor": "white",
            "gridwidth": 2,
            "linecolor": "white",
            "showbackground": true,
            "ticks": "",
            "zerolinecolor": "white"
           },
           "zaxis": {
            "backgroundcolor": "#E5ECF6",
            "gridcolor": "white",
            "gridwidth": 2,
            "linecolor": "white",
            "showbackground": true,
            "ticks": "",
            "zerolinecolor": "white"
           }
          },
          "shapedefaults": {
           "line": {
            "color": "#2a3f5f"
           }
          },
          "ternary": {
           "aaxis": {
            "gridcolor": "white",
            "linecolor": "white",
            "ticks": ""
           },
           "baxis": {
            "gridcolor": "white",
            "linecolor": "white",
            "ticks": ""
           },
           "bgcolor": "#E5ECF6",
           "caxis": {
            "gridcolor": "white",
            "linecolor": "white",
            "ticks": ""
           }
          },
          "title": {
           "x": 0.05
          },
          "xaxis": {
           "automargin": true,
           "gridcolor": "white",
           "linecolor": "white",
           "ticks": "",
           "title": {
            "standoff": 15
           },
           "zerolinecolor": "white",
           "zerolinewidth": 2
          },
          "yaxis": {
           "automargin": true,
           "gridcolor": "white",
           "linecolor": "white",
           "ticks": "",
           "title": {
            "standoff": 15
           },
           "zerolinecolor": "white",
           "zerolinewidth": 2
          }
         }
        }
       }
      }
     },
     "metadata": {},
     "output_type": "display_data"
    }
   ],
   "source": [
    "# Plot the route on a map\n",
    "\n",
    "fig = px.line_mapbox(\n",
    "    lat=[node['lat'] for node in route],\n",
    "    lon=[node['lng'] for node in route],\n",
    "    zoom=10\n",
    ")\n",
    "\n",
    "fig.add_trace(go.Scattermapbox(\n",
    "    lat=[start[0], end[0]],\n",
    "    lon=[start[1], end[1]],\n",
    "    mode=\"markers\",\n",
    "    marker=go.scattermapbox.Marker(size=10),\n",
    "    text=[\"Start\", \"End\"],\n",
    "    hoverinfo=\"text\"\n",
    "))\n",
    "\n",
    "# Show the charging stations on the map\n",
    "fig.add_trace(go.Scattermapbox(\n",
    "    lat=[station['lat'] for station in ev_route_planner.charging_stations],\n",
    "    lon=[station['lng'] for station in ev_route_planner.charging_stations],\n",
    "    mode=\"markers\",\n",
    "    marker=go.scattermapbox.Marker(size=10, color=\"red\"),\n",
    "    text=[\"Charging Station\"],\n",
    "    hoverinfo=\"text\"\n",
    "))\n",
    "\n",
    "fig.update_layout(mapbox_style=\"open-street-map\")\n",
    "fig.show()"
   ]
  },
  {
   "cell_type": "code",
   "execution_count": null,
   "metadata": {},
   "outputs": [],
   "source": []
  }
 ],
 "metadata": {
  "kernelspec": {
   "display_name": "Python 3",
   "language": "python",
   "name": "python3"
  },
  "language_info": {
   "codemirror_mode": {
    "name": "ipython",
    "version": 3
   },
   "file_extension": ".py",
   "mimetype": "text/x-python",
   "name": "python",
   "nbconvert_exporter": "python",
   "pygments_lexer": "ipython3",
   "version": "3.11.6"
  }
 },
 "nbformat": 4,
 "nbformat_minor": 2
}
