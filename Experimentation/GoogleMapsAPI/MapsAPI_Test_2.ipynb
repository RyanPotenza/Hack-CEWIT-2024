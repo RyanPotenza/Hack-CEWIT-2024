{
 "cells": [
  {
   "cell_type": "code",
   "execution_count": 3,
   "metadata": {},
   "outputs": [],
   "source": [
    "import googlemaps\n",
    "import pandas as pd\n",
    "\n",
    "import plotly.express as px\n",
    "import plotly.graph_objects as go\n",
    "\n",
    "from typing import List, Dict, Any, Tuple"
   ]
  },
  {
   "cell_type": "code",
   "execution_count": 4,
   "metadata": {},
   "outputs": [],
   "source": [
    "with open(\"../../APIKey.txt\") as f:\n",
    "    api_key = f.readline()"
   ]
  },
  {
   "cell_type": "code",
   "execution_count": 5,
   "metadata": {},
   "outputs": [],
   "source": [
    "class GooglePlacesClient:\n",
    "    def __init__(self, api_key: str):\n",
    "        \"\"\"\n",
    "        Initializes the GooglePlacesClient with a given API key.\n",
    "\n",
    "        :param api_key: Google Places API key.\n",
    "        \"\"\"\n",
    "        self.client = googlemaps.Client(key=api_key)\n",
    "\n",
    "    def find_nearby_charging_stations(self, location: Tuple[float, float],  radius: int = 10000) -> List[dict]:\n",
    "        \"\"\"\n",
    "        Finds nearby EV charging stations within a specified radius from the current location.\n",
    "\n",
    "        :param location: A tuple containing the latitude and longitude of the current location.\n",
    "        :param radius: Search radius in meters. Default is 10,000 meters (10 km).\n",
    "        :return: A list of dictionaries containing information about each charging station found.\n",
    "        \"\"\"\n",
    "        results = self.client.places_nearby(\n",
    "            location=location,\n",
    "            radius=radius,\n",
    "            type=\"electric_vehicle_charging_station\"\n",
    "        )\n",
    "\n",
    "        if not results or 'results' not in results or len(results['results']) == 0:\n",
    "            return []\n",
    "\n",
    "        return results['results']"
   ]
  },
  {
   "cell_type": "code",
   "execution_count": 6,
   "metadata": {},
   "outputs": [],
   "source": [
    "class GoogleMapsClient:\n",
    "    def __init__(self, api_key: str):\n",
    "        self.client = googlemaps.Client(key=api_key)\n",
    "\n",
    "    def get_route(self, start: Tuple[float, float], end: Tuple[float, float]) -> dict:\n",
    "        \"\"\"\n",
    "        Fetches route information from start to end using Google Maps API.\n",
    "\n",
    "        :param start: A tuple containing the latitude and longitude of the start point.\n",
    "        :param end: A tuple containing the latitude and longitude of the end point.\n",
    "        :return: Route information as a dictionary.\n",
    "        \"\"\"\n",
    "        routes = self.client.directions(start, end, mode=\"driving\", units=\"metric\")\n",
    "        if not routes:\n",
    "            raise ValueError(\"No routes found\")\n",
    "        return routes[0]\n"
   ]
  },
  {
   "cell_type": "code",
   "execution_count": 7,
   "metadata": {},
   "outputs": [],
   "source": [
    "class EVRoutePlanner:\n",
    "    def __init__(self, api_key: str, start: Tuple[float, float], end: Tuple[float, float], vehicle_range: int):\n",
    "        \"\"\"\n",
    "        Initializes the EVRoutePlanner with start, end locations, and the EV's range.\n",
    "\n",
    "        :param api_key: API key for accessing Google Maps and Places APIs.\n",
    "        :param start: Start location as a tuple (latitude, longitude).\n",
    "        :param end: End location as a tuple (latitude, longitude).\n",
    "        :param vehicle_range: The EV's range on a full charge in meters.\n",
    "        \"\"\"\n",
    "        self.maps_client = GoogleMapsClient(api_key)\n",
    "        self.places_client = GooglePlacesClient(api_key)\n",
    "        self.start = start\n",
    "        self.end = end\n",
    "        self.vehicle_range = vehicle_range\n",
    "        self.route = []\n",
    "        self.total_distance = 0\n",
    "\n",
    "        self.charging_stations = []\n",
    "\n",
    "        self.all_stations = []\n",
    "\n",
    "    def calculate_route(self) -> List[dict]:\n",
    "        \"\"\"\n",
    "        Calculates the route, including necessary charging stops based on the EV's range.\n",
    "\n",
    "        :return: A list of route segments, including charging stops.\n",
    "        \"\"\"\n",
    "        current_location = self.start\n",
    "        keepGoing = True\n",
    "        while keepGoing:\n",
    "            # try:\n",
    "            route_segment = self.maps_client.get_route(current_location, self.end)\n",
    "            nodes = self._route_to_nodes(route_segment)\n",
    "            # self.end = (nodes[-1]['lat'], nodes[-1]['lng'])\n",
    "            for i, node in enumerate(nodes):\n",
    "                print(f\"Processing node {i + 1} of {len(nodes)}\")\n",
    "                if self._requires_charge(node, nodes, i):\n",
    "                    print(\"needs charge\")\n",
    "                    charging_station_route = node['nearest_ev_route_segment']\n",
    "\n",
    "                    # We must add the route nodes to the route list\n",
    "                    for step in charging_station_route['steps']:\n",
    "                        self.route.append({\n",
    "                            'lat': step['start_location']['lat'],\n",
    "                            'lng': step['start_location']['lng'],\n",
    "                            'dist': step['distance']['value']\n",
    "                        })\n",
    "                        # self.total_distance += step['distance']['value']\n",
    "\n",
    "                    # Reset the distance \n",
    "                    self.total_distance = 0\n",
    "\n",
    "                    # Add the charging station to the charging stations list\n",
    "                    self.charging_stations.append({\n",
    "                        'lat': charging_station_route['end_location']['lat'],\n",
    "                        'lng': charging_station_route['end_location']['lng']\n",
    "                    })\n",
    "\n",
    "                    # Recalculate route from charging station to end\n",
    "                    current_location = (charging_station_route['steps'][-1]['end_location']['lat'], charging_station_route['steps'][-1]['end_location']['lng'])\n",
    "                    break\n",
    "                else:\n",
    "                    self.route.append(node)\n",
    "                    self.total_distance += node['dist']\n",
    "                    if i == len(nodes) - 1:\n",
    "                        # current_location = self.end\n",
    "                        keepGoing = False\n",
    "            # except Exception as e:\n",
    "            #     print(f\"Error calculating route: {e}\")\n",
    "            #     break\n",
    "        return self.route\n",
    "    \n",
    "    def _requires_charge(self, current_node, nodes, current_node_i) -> bool:\n",
    "        \"\"\"\n",
    "        Determines if charging is required based on the EV's current range,\n",
    "        the distance to the next node, and the distance from the next node to the nearest charging station.\n",
    "\n",
    "        :param current_node: The current node in the route.\n",
    "        :param nodes: List of all nodes\n",
    "        :param current_node_i: The index of the current node in the list of nodes\n",
    "        :return: True if charging is required before reaching the next node, False otherwise.\n",
    "        \"\"\"\n",
    "\n",
    "        if not nodes:\n",
    "            return False\n",
    "        if 'nearest_ev_station_distance' in current_node:\n",
    "            currentDist = self.total_distance\n",
    "            while current_node_i < len(nodes):\n",
    "                currentDist += nodes[current_node_i]['dist']\n",
    "                if 'nearest_ev_station_distance' in nodes[current_node_i]:\n",
    "                    currentDist += nodes[current_node_i]['nearest_ev_station_distance']\n",
    "                    print(f\"Nearest station distance: {nodes[current_node_i]['nearest_ev_station_distance']}\")\n",
    "                    print(f\"Current distance: {currentDist}\")\n",
    "                    print(f\"EV range: {self.vehicle_range}\")\n",
    "                    return currentDist > self.vehicle_range\n",
    "                current_node_i += 1\n",
    "            return False\n",
    "\n",
    "    def _route_to_nodes(self, route_segment) -> List[dict]:\n",
    "        \"\"\"\n",
    "        Converts a route segment to a list of nodes, where each node represents a step in the route\n",
    "        with its start location (latitude and longitude) and distance.\n",
    "\n",
    "        :param route_segment: Segment of the route as returned by the Google Maps API.\n",
    "        :return: A list of nodes, each containing latitude, longitude, and distance.\n",
    "        \"\"\"\n",
    "        nodes = []\n",
    "        # Iterate through each step in the route segment\n",
    "        for step in route_segment['legs'][0]['steps']:\n",
    "            node = {\n",
    "                'lat': step['start_location']['lat'],\n",
    "                'lng': step['start_location']['lng'],\n",
    "                'dist': step['distance']['value']  # Distance in meters\n",
    "            }\n",
    "            # Calculate the distance to the nearest EV charging station\n",
    "            nearest_station = self.places_client.find_nearby_charging_stations((node['lat'], node['lng']))[0]#['geometry']['location']\n",
    "\n",
    "            if nearest_station:\n",
    "                nearest_station_route = self.maps_client.get_route((node['lat'], node['lng']), (nearest_station['geometry']['location']['lat'], nearest_station['geometry']['location']['lng']))['legs'][0]\n",
    "                nearest_station_distance = nearest_station_route['distance']['value']\n",
    "\n",
    "                node['nearest_ev_station'] = nearest_station\n",
    "                node['nearest_ev_station_distance'] = nearest_station_distance\n",
    "                node['nearest_ev_route_segment'] = nearest_station_route\n",
    "\n",
    "\n",
    "            nodes.append(node)\n",
    "        return nodes\n",
    "    \n",
    "    \n"
   ]
  },
  {
   "cell_type": "code",
   "execution_count": 8,
   "metadata": {},
   "outputs": [
    {
     "name": "stdout",
     "output_type": "stream",
     "text": [
      "Processing node 1 of 38\n",
      "Nearest station distance: 7104\n",
      "Current distance: 7256\n",
      "EV range: 300000\n",
      "Processing node 2 of 38\n",
      "Nearest station distance: 6952\n",
      "Current distance: 7998\n",
      "EV range: 300000\n",
      "Processing node 3 of 38\n",
      "Nearest station distance: 6058\n",
      "Current distance: 7626\n",
      "EV range: 300000\n",
      "Processing node 4 of 38\n",
      "Nearest station distance: 5536\n",
      "Current distance: 7457\n",
      "EV range: 300000\n",
      "Processing node 5 of 38\n",
      "Nearest station distance: 5651\n",
      "Current distance: 8055\n",
      "EV range: 300000\n",
      "Processing node 6 of 38\n",
      "Nearest station distance: 5168\n",
      "Current distance: 7747\n",
      "EV range: 300000\n",
      "Processing node 7 of 38\n",
      "Nearest station distance: 6295\n",
      "Current distance: 9198\n",
      "EV range: 300000\n",
      "Processing node 8 of 38\n",
      "Nearest station distance: 5971\n",
      "Current distance: 10476\n",
      "EV range: 300000\n",
      "Processing node 9 of 38\n",
      "Nearest station distance: 10002\n",
      "Current distance: 15801\n",
      "EV range: 300000\n",
      "Processing node 10 of 38\n",
      "Nearest station distance: 8708\n",
      "Current distance: 16544\n",
      "EV range: 300000\n",
      "Processing node 11 of 38\n",
      "Nearest station distance: 8981\n",
      "Current distance: 18933\n",
      "EV range: 300000\n",
      "Processing node 12 of 38\n",
      "Nearest station distance: 6865\n",
      "Current distance: 43556\n",
      "EV range: 300000\n",
      "Processing node 13 of 38\n",
      "Nearest station distance: 7215\n",
      "Current distance: 119047\n",
      "EV range: 300000\n",
      "Processing node 14 of 38\n",
      "Nearest station distance: 7002\n",
      "Current distance: 119255\n",
      "EV range: 300000\n",
      "Processing node 15 of 38\n",
      "Nearest station distance: 6581\n",
      "Current distance: 146330\n",
      "EV range: 300000\n",
      "Processing node 16 of 38\n",
      "Nearest station distance: 19091\n",
      "Current distance: 159713\n",
      "EV range: 300000\n",
      "Processing node 17 of 38\n",
      "Nearest station distance: 18218\n",
      "Current distance: 202684\n",
      "EV range: 300000\n",
      "Processing node 18 of 38\n",
      "Nearest station distance: 7194\n",
      "Current distance: 192538\n",
      "EV range: 300000\n",
      "Processing node 19 of 38\n",
      "Nearest station distance: 12689\n",
      "Current distance: 291534\n",
      "EV range: 300000\n",
      "Processing node 20 of 38\n",
      "Nearest station distance: 4608\n",
      "Current distance: 287164\n",
      "EV range: 300000\n",
      "Processing node 21 of 38\n",
      "Nearest station distance: 5923\n",
      "Current distance: 297055\n",
      "EV range: 300000\n",
      "Processing node 22 of 38\n",
      "Nearest station distance: 15400\n",
      "Current distance: 356923\n",
      "EV range: 300000\n",
      "needs charge\n",
      "Processing node 1 of 25\n",
      "Nearest station distance: 0\n",
      "Current distance: 31\n",
      "EV range: 300000\n",
      "Processing node 2 of 25\n",
      "Nearest station distance: 31\n",
      "Current distance: 606\n",
      "EV range: 300000\n",
      "Processing node 3 of 25\n",
      "Nearest station distance: 575\n",
      "Current distance: 1704\n",
      "EV range: 300000\n",
      "Processing node 4 of 25\n",
      "Nearest station distance: 1128\n",
      "Current distance: 2613\n",
      "EV range: 300000\n",
      "Processing node 5 of 25\n",
      "Nearest station distance: 1484\n",
      "Current distance: 3973\n",
      "EV range: 300000\n",
      "Processing node 6 of 25\n",
      "Nearest station distance: 2488\n",
      "Current distance: 5471\n",
      "EV range: 300000\n",
      "Processing node 7 of 25\n",
      "Nearest station distance: 7254\n",
      "Current distance: 11568\n",
      "EV range: 300000\n",
      "Processing node 8 of 25\n",
      "Nearest station distance: 5923\n",
      "Current distance: 18813\n",
      "EV range: 300000\n",
      "Processing node 9 of 25\n",
      "Nearest station distance: 15400\n",
      "Current distance: 78681\n",
      "EV range: 300000\n",
      "Processing node 10 of 25\n",
      "Nearest station distance: 5567\n",
      "Current distance: 166949\n",
      "EV range: 300000\n",
      "Processing node 11 of 25\n",
      "Nearest station distance: 14411\n",
      "Current distance: 228636\n",
      "EV range: 300000\n",
      "Processing node 12 of 25\n",
      "Nearest station distance: 8651\n",
      "Current distance: 223184\n",
      "EV range: 300000\n",
      "Processing node 13 of 25\n",
      "Nearest station distance: 8343\n",
      "Current distance: 231248\n",
      "EV range: 300000\n",
      "Processing node 14 of 25\n",
      "Nearest station distance: 10188\n",
      "Current distance: 236630\n",
      "EV range: 300000\n",
      "Processing node 15 of 25\n",
      "Nearest station distance: 8868\n",
      "Current distance: 238935\n",
      "EV range: 300000\n",
      "Processing node 16 of 25\n",
      "Nearest station distance: 11775\n",
      "Current distance: 298209\n",
      "EV range: 300000\n",
      "Processing node 17 of 25\n",
      "Nearest station distance: 19309\n",
      "Current distance: 326268\n",
      "EV range: 300000\n",
      "needs charge\n",
      "Processing node 1 of 11\n",
      "Nearest station distance: 16085\n",
      "Current distance: 16750\n",
      "EV range: 300000\n",
      "Processing node 2 of 11\n",
      "Nearest station distance: 15420\n",
      "Current distance: 16158\n",
      "EV range: 300000\n",
      "Processing node 3 of 11\n",
      "Nearest station distance: 15348\n",
      "Current distance: 19144\n",
      "EV range: 300000\n",
      "Processing node 4 of 11\n",
      "Nearest station distance: 12289\n",
      "Current distance: 16450\n",
      "EV range: 300000\n",
      "Processing node 5 of 11\n",
      "Nearest station distance: 11924\n",
      "Current distance: 18224\n",
      "EV range: 300000\n",
      "Processing node 6 of 11\n",
      "Nearest station distance: 9785\n",
      "Current distance: 16938\n",
      "EV range: 300000\n",
      "Processing node 7 of 11\n",
      "Nearest station distance: 8932\n",
      "Current distance: 23944\n",
      "EV range: 300000\n",
      "Processing node 8 of 11\n",
      "Nearest station distance: 1073\n",
      "Current distance: 16490\n",
      "EV range: 300000\n",
      "Processing node 9 of 11\n",
      "Nearest station distance: 668\n",
      "Current distance: 16234\n",
      "EV range: 300000\n",
      "Processing node 10 of 11\n",
      "Nearest station distance: 519\n",
      "Current distance: 16343\n",
      "EV range: 300000\n",
      "Processing node 11 of 11\n",
      "Nearest station distance: 261\n",
      "Current distance: 16346\n",
      "EV range: 300000\n",
      "[{'lat': 40.7434694, 'lng': -74.02906639999999, 'dist': 152, 'nearest_ev_station': {'geometry': {'location': {'lat': 40.7127753, 'lng': -74.0059728}, 'viewport': {'northeast': {'lat': 40.91757705070789, 'lng': -73.70027206817629}, 'southwest': {'lat': 40.47739906045452, 'lng': -74.25908991427882}}}, 'icon': 'https://maps.gstatic.com/mapfiles/place_api/icons/v1/png_71/geocode-71.png', 'icon_background_color': '#7B9EB0', 'icon_mask_base_uri': 'https://maps.gstatic.com/mapfiles/place_api/icons/v2/generic_pinlet', 'name': 'New York', 'photos': [{'height': 2340, 'html_attributions': ['<a href=\"https://maps.google.com/maps/contrib/105549134237934527925\">Maxster 9898</a>'], 'photo_reference': 'ATplDJbvn3uaTInYIorhm25TRsdfz4RVN_CREgtRlSVs8LKmV-RBdawCYttf51LfQPPztIEWcyTH4yuQgGSXboduoe_WVtwNLuv-7BPefSwA4_xwsmpr1foEQ5_ehzpCSALJ17CUgrYvRMNI5vyBcrJz4wAJVyPNqZRXaeyP849OJbEfzNEN', 'width': 4160}], 'place_id': 'ChIJOwg_06VPwokRYv534QaPC8g', 'reference': 'ChIJOwg_06VPwokRYv534QaPC8g', 'scope': 'GOOGLE', 'types': ['locality', 'political'], 'vicinity': 'New York'}, 'nearest_ev_station_distance': 7104, 'nearest_ev_route_segment': {'distance': {'text': '7.1 km', 'value': 7104}, 'duration': {'text': '21 mins', 'value': 1263}, 'end_address': '1356 Broadway, New York, NY 10018, USA', 'end_location': {'lat': 40.7126802, 'lng': -74.00657629999999}, 'start_address': '603 Washington St, Hoboken, NJ 07030, USA', 'start_location': {'lat': 40.7434694, 'lng': -74.02906639999999}, 'steps': [{'distance': {'text': '0.2 km', 'value': 152}, 'duration': {'text': '1 min', 'value': 52}, 'end_location': {'lat': 40.7437773, 'lng': -74.0308202}, 'html_instructions': 'Head <b>west</b> on <b>6th St</b> toward <b>Bloomfield St</b>', 'polyline': {'points': 'uutwFtxybM[~Ca@|D'}, 'start_location': {'lat': 40.7434694, 'lng': -74.02906639999999}, 'travel_mode': 'DRIVING'}, {'distance': {'text': '0.9 km', 'value': 894}, 'duration': {'text': '3 mins', 'value': 189}, 'end_location': {'lat': 40.7359385, 'lng': -74.0331996}, 'html_instructions': 'Turn <b>left</b> at the 2nd cross street onto <b>Garden St</b>', 'maneuver': 'turn-left', 'polyline': {'points': 'swtwFrczbMnB`@b@HfB\\\\zA\\\\~A\\\\pB`@jCh@hB`@`@HpBb@rCj@hB\\\\jB^pBb@PB|@R~@R'}, 'start_location': {'lat': 40.7437773, 'lng': -74.0308202}, 'travel_mode': 'DRIVING'}, {'distance': {'text': '0.5 km', 'value': 522}, 'duration': {'text': '2 mins', 'value': 96}, 'end_location': {'lat': 40.7368213, 'lng': -74.03925219999999}, 'html_instructions': 'Turn <b>right</b> onto <b>County Rd 681</b>', 'maneuver': 'turn-right', 'polyline': {'points': 'sfswFnrzbMa@xD_@zDqBxSC`@@d@?b@@R?NBX'}, 'start_location': {'lat': 40.7359385, 'lng': -74.0331996}, 'travel_mode': 'DRIVING'}, {'distance': {'text': '0.1 km', 'value': 105}, 'duration': {'text': '1 min', 'value': 29}, 'end_location': {'lat': 40.7366551, 'lng': -74.0404827}, 'html_instructions': 'Continue straight onto <b>Newark St.</b>', 'maneuver': 'straight', 'polyline': {'points': 'clswFhx{bMPvCFl@Dn@'}, 'start_location': {'lat': 40.7368213, 'lng': -74.03925219999999}, 'travel_mode': 'DRIVING'}, {'distance': {'text': '0.7 km', 'value': 727}, 'duration': {'text': '3 mins', 'value': 206}, 'end_location': {'lat': 40.7301735, 'lng': -74.0413305}, 'html_instructions': 'Turn <b>left</b> onto <b>Grove St</b>', 'maneuver': 'turn-left', 'polyline': {'points': 'ckswF~_|bMl@KJAHAH?vALzDZx@HPHJ@tD\\\\L@jAJPG~BPRB`AHl@Ft@F^DF?\\\\D^BRBV@VBRB|@F'}, 'start_location': {'lat': 40.7366551, 'lng': -74.0404827}, 'travel_mode': 'DRIVING'}, {'distance': {'text': '48 m', 'value': 48}, 'duration': {'text': '1 min', 'value': 22}, 'end_location': {'lat': 40.730129, 'lng': -74.0407645}, 'html_instructions': 'Turn <b>left</b> onto <b>12th St</b><div style=\"font-size:0.9em\">Turn is not allowed Mon–Fri 6:00\\u2009–\\u200910:00\\u202fAM</div>', 'maneuver': 'turn-left', 'polyline': {'points': 'qbrwFhe|bMBm@BcA'}, 'start_location': {'lat': 40.7301735, 'lng': -74.0413305}, 'travel_mode': 'DRIVING'}, {'distance': {'text': '89 m', 'value': 89}, 'duration': {'text': '1 min', 'value': 20}, 'end_location': {'lat': 40.7300706, 'lng': -74.0397212}, 'html_instructions': 'Slight <b>left</b> to stay on <b>12th St</b>', 'maneuver': 'turn-slight-left', 'polyline': {'points': 'ibrwFva|bMAO?y@HcB@Q@O'}, 'start_location': {'lat': 40.730129, 'lng': -74.0407645}, 'travel_mode': 'DRIVING'}, {'distance': {'text': '3.3 km', 'value': 3335}, 'duration': {'text': '5 mins', 'value': 292}, 'end_location': {'lat': 40.7209852, 'lng': -74.0070508}, 'html_instructions': 'Continue straight onto <b>I-78 E</b>/<wbr/><b>Holland Tunnel</b><div style=\"font-size:0.9em\">Continue to follow I-78 E</div><div style=\"font-size:0.9em\">Toll road</div><div style=\"font-size:0.9em\">Entering New York</div>', 'maneuver': 'straight', 'polyline': {'points': '}arwFf{{bM@KJaCBi@Bi@Be@B_@Dy@HoD@SDY@W@]?O@MBS@K@IDS@IDc@Da@PeATwADUDWDUTyADUDU@CDWHe@XwADUZkB@CLu@Fu@@S@G?Y?ADkBv@uSLeDH}A?ABo@J{AHu@h@mGDo@?CToCTgCJwAD{@jAiMNaBj@qGTcCNwAZmF?EHwAd@iILkCFcABY@QLo@XkATk@LWN[Ze@\\\\g@@A@AR]BCR]Va@n@eAr@kAbBiCLWv@aALMXWHKJM~BoDPWFKDEFIDCDC?ALEJCB?F?JAL@J@H@HBJBFDHFFFDJDFBHBHBHBL@J?@@J@L?B?h@?J@H?JBHBJDJDJFFFFFDFB?@F@H@D@@?F?HADAHCDEFEHIFKDI@G@A@E@M@K@KAKAOAMEMGKEIIG'}, 'start_location': {'lat': 40.7300706, 'lng': -74.0397212}, 'travel_mode': 'DRIVING'}, {'distance': {'text': '47 m', 'value': 47}, 'duration': {'text': '1 min', 'value': 12}, 'end_location': {'lat': 40.7211414, 'lng': -74.0065736}, 'html_instructions': 'Take exit <b>4</b> toward <b>Downtown</b>', 'maneuver': 'ramp-right', 'polyline': {'points': 'eipwF`oubMAWACCCEEAACECECC?CAA?E?A?I?O'}, 'start_location': {'lat': 40.7209852, 'lng': -74.0070508}, 'travel_mode': 'DRIVING'}, {'distance': {'text': '0.3 km', 'value': 320}, 'duration': {'text': '1 min', 'value': 84}, 'end_location': {'lat': 40.7182956, 'lng': -74.0071124}, 'html_instructions': 'Turn <b>right</b> onto <b>Varick St</b>', 'maneuver': 'turn-right', 'polyline': {'points': 'cjpwF`lubM^Db@Dh@FZDvANj@Fz@Jl@FTBN@f@Jh@FN@P@N@TD'}, 'start_location': {'lat': 40.7211414, 'lng': -74.0065736}, 'travel_mode': 'DRIVING'}, {'distance': {'text': '0.4 km', 'value': 430}, 'duration': {'text': '2 mins', 'value': 119}, 'end_location': {'lat': 40.7149616, 'lng': -74.0096784}, 'html_instructions': 'Slight <b>right</b> onto <b>W Broadway</b>', 'maneuver': 'turn-slight-right', 'polyline': {'points': 'kxowFloubML?^Zl@b@\\\\Vt@h@t@h@x@l@p@d@ZRz@n@ZTn@d@t@f@NLx@l@d@\\\\'}, 'start_location': {'lat': 40.7182956, 'lng': -74.0071124}, 'travel_mode': 'DRIVING'}, {'distance': {'text': '0.3 km', 'value': 288}, 'duration': {'text': '2 mins', 'value': 93}, 'end_location': {'lat': 40.7136248, 'lng': -74.0067557}, 'html_instructions': 'Turn <b>left</b> onto <b>Warren St</b>', 'maneuver': 'turn-left', 'polyline': {'points': 'ocowFn_vbMVu@b@oATo@Pe@Re@hAcDTq@L_@d@oA'}, 'start_location': {'lat': 40.7149616, 'lng': -74.0096784}, 'travel_mode': 'DRIVING'}, {'distance': {'text': '77 m', 'value': 77}, 'duration': {'text': '1 min', 'value': 33}, 'end_location': {'lat': 40.7130435, 'lng': -74.0072565}, 'html_instructions': 'Turn <b>right</b> onto <b>Broadway</b>/<wbr/><b>Canyon of Heroes</b>', 'maneuver': 'turn-right', 'polyline': {'points': 'c{nwFfmubMv@l@j@b@NP'}, 'start_location': {'lat': 40.7136248, 'lng': -74.0067557}, 'travel_mode': 'DRIVING'}, {'distance': {'text': '70 m', 'value': 70}, 'duration': {'text': '1 min', 'value': 16}, 'end_location': {'lat': 40.7126802, 'lng': -74.00657629999999}, 'html_instructions': 'Turn <b>left</b> at the 1st cross street at <b>Murray St</b><div style=\"font-size:0.9em\">Partial restricted usage road</div>', 'maneuver': 'turn-left', 'polyline': {'points': 'ownwFjpubMPYl@aBFK'}, 'start_location': {'lat': 40.7130435, 'lng': -74.0072565}, 'travel_mode': 'DRIVING'}], 'traffic_speed_entry': [], 'via_waypoint': []}}, {'lat': 40.7437773, 'lng': -74.0308202, 'dist': 894, 'nearest_ev_station': {'geometry': {'location': {'lat': 40.7127753, 'lng': -74.0059728}, 'viewport': {'northeast': {'lat': 40.91757705070789, 'lng': -73.70027206817629}, 'southwest': {'lat': 40.47739906045452, 'lng': -74.25908991427882}}}, 'icon': 'https://maps.gstatic.com/mapfiles/place_api/icons/v1/png_71/geocode-71.png', 'icon_background_color': '#7B9EB0', 'icon_mask_base_uri': 'https://maps.gstatic.com/mapfiles/place_api/icons/v2/generic_pinlet', 'name': 'New York', 'photos': [{'height': 2340, 'html_attributions': ['<a href=\"https://maps.google.com/maps/contrib/105549134237934527925\">Maxster 9898</a>'], 'photo_reference': 'ATplDJanVeSbM3vejddX4Cq_Zey94tgO0yepaJXjxGgVRIK9YiTFSZ_MCce1lZI9rZkq06IrPEQ0wdWtsThc8Lhgp1qQKE6Z6B0dmiEfd9DzeKhfTfa2FOnP3ALXh66SXTfH6r62dKuy-DnQ2N6nIcYA7BY7ikYYHXdYdRsct_fae_cUsQHp', 'width': 4160}], 'place_id': 'ChIJOwg_06VPwokRYv534QaPC8g', 'reference': 'ChIJOwg_06VPwokRYv534QaPC8g', 'scope': 'GOOGLE', 'types': ['locality', 'political'], 'vicinity': 'New York'}, 'nearest_ev_station_distance': 6952, 'nearest_ev_route_segment': {'distance': {'text': '7.0 km', 'value': 6952}, 'duration': {'text': '20 mins', 'value': 1208}, 'end_address': '1356 Broadway, New York, NY 10018, USA', 'end_location': {'lat': 40.7126802, 'lng': -74.00657629999999}, 'start_address': '537 Garden St, Hoboken, NJ 07030, USA', 'start_location': {'lat': 40.7437773, 'lng': -74.0308202}, 'steps': [{'distance': {'text': '0.9 km', 'value': 894}, 'duration': {'text': '3 mins', 'value': 186}, 'end_location': {'lat': 40.7359385, 'lng': -74.0331996}, 'html_instructions': 'Head <b>south</b> on <b>Garden St</b> toward <b>5th St</b>', 'polyline': {'points': 'swtwFrczbMnB`@b@HfB\\\\zA\\\\~A\\\\pB`@jCh@hB`@`@HpBb@rCj@hB\\\\jB^pBb@PB|@R~@R'}, 'start_location': {'lat': 40.7437773, 'lng': -74.0308202}, 'travel_mode': 'DRIVING'}, {'distance': {'text': '0.5 km', 'value': 522}, 'duration': {'text': '2 mins', 'value': 96}, 'end_location': {'lat': 40.7368213, 'lng': -74.03925219999999}, 'html_instructions': 'Turn <b>right</b> onto <b>County Rd 681</b>', 'maneuver': 'turn-right', 'polyline': {'points': 'sfswFnrzbMa@xD_@zDqBxSC`@@d@?b@@R?NBX'}, 'start_location': {'lat': 40.7359385, 'lng': -74.0331996}, 'travel_mode': 'DRIVING'}, {'distance': {'text': '0.1 km', 'value': 105}, 'duration': {'text': '1 min', 'value': 29}, 'end_location': {'lat': 40.7366551, 'lng': -74.0404827}, 'html_instructions': 'Continue straight onto <b>Newark St.</b>', 'maneuver': 'straight', 'polyline': {'points': 'clswFhx{bMPvCFl@Dn@'}, 'start_location': {'lat': 40.7368213, 'lng': -74.03925219999999}, 'travel_mode': 'DRIVING'}, {'distance': {'text': '0.7 km', 'value': 727}, 'duration': {'text': '3 mins', 'value': 206}, 'end_location': {'lat': 40.7301735, 'lng': -74.0413305}, 'html_instructions': 'Turn <b>left</b> onto <b>Grove St</b>', 'maneuver': 'turn-left', 'polyline': {'points': 'ckswF~_|bMl@KJAHAH?vALzDZx@HPHJ@tD\\\\L@jAJPG~BPRB`AHl@Ft@F^DF?\\\\D^BRBV@VBRB|@F'}, 'start_location': {'lat': 40.7366551, 'lng': -74.0404827}, 'travel_mode': 'DRIVING'}, {'distance': {'text': '48 m', 'value': 48}, 'duration': {'text': '1 min', 'value': 22}, 'end_location': {'lat': 40.730129, 'lng': -74.0407645}, 'html_instructions': 'Turn <b>left</b> onto <b>12th St</b><div style=\"font-size:0.9em\">Turn is not allowed Mon–Fri 6:00\\u2009–\\u200910:00\\u202fAM</div>', 'maneuver': 'turn-left', 'polyline': {'points': 'qbrwFhe|bMBm@BcA'}, 'start_location': {'lat': 40.7301735, 'lng': -74.0413305}, 'travel_mode': 'DRIVING'}, {'distance': {'text': '89 m', 'value': 89}, 'duration': {'text': '1 min', 'value': 20}, 'end_location': {'lat': 40.7300706, 'lng': -74.0397212}, 'html_instructions': 'Slight <b>left</b> to stay on <b>12th St</b>', 'maneuver': 'turn-slight-left', 'polyline': {'points': 'ibrwFva|bMAO?y@HcB@Q@O'}, 'start_location': {'lat': 40.730129, 'lng': -74.0407645}, 'travel_mode': 'DRIVING'}, {'distance': {'text': '3.3 km', 'value': 3335}, 'duration': {'text': '5 mins', 'value': 292}, 'end_location': {'lat': 40.7209852, 'lng': -74.0070508}, 'html_instructions': 'Continue straight onto <b>I-78 E</b>/<wbr/><b>Holland Tunnel</b><div style=\"font-size:0.9em\">Continue to follow I-78 E</div><div style=\"font-size:0.9em\">Toll road</div><div style=\"font-size:0.9em\">Entering New York</div>', 'maneuver': 'straight', 'polyline': {'points': '}arwFf{{bM@KJaCBi@Bi@Be@B_@Dy@HoD@SDY@W@]?O@MBS@K@IDS@IDc@Da@PeATwADUDWDUTyADUDU@CDWHe@XwADUZkB@CLu@Fu@@S@G?Y?ADkBv@uSLeDH}A?ABo@J{AHu@h@mGDo@?CToCTgCJwAD{@jAiMNaBj@qGTcCNwAZmF?EHwAd@iILkCFcABY@QLo@XkATk@LWN[Ze@\\\\g@@A@AR]BCR]Va@n@eAr@kAbBiCLWv@aALMXWHKJM~BoDPWFKDEFIDCDC?ALEJCB?F?JAL@J@H@HBJBFDHFFFDJDFBHBHBHBL@J?@@J@L?B?h@?J@H?JBHBJDJDJFFFFFDFB?@F@H@D@@?F?HADAHCDEFEHIFKDI@G@A@E@M@K@KAKAOAMEMGKEIIG'}, 'start_location': {'lat': 40.7300706, 'lng': -74.0397212}, 'travel_mode': 'DRIVING'}, {'distance': {'text': '47 m', 'value': 47}, 'duration': {'text': '1 min', 'value': 12}, 'end_location': {'lat': 40.7211414, 'lng': -74.0065736}, 'html_instructions': 'Take exit <b>4</b> toward <b>Downtown</b>', 'maneuver': 'ramp-right', 'polyline': {'points': 'eipwF`oubMAWACCCEEAACECECC?CAA?E?A?I?O'}, 'start_location': {'lat': 40.7209852, 'lng': -74.0070508}, 'travel_mode': 'DRIVING'}, {'distance': {'text': '0.3 km', 'value': 320}, 'duration': {'text': '1 min', 'value': 84}, 'end_location': {'lat': 40.7182956, 'lng': -74.0071124}, 'html_instructions': 'Turn <b>right</b> onto <b>Varick St</b>', 'maneuver': 'turn-right', 'polyline': {'points': 'cjpwF`lubM^Db@Dh@FZDvANj@Fz@Jl@FTBN@f@Jh@FN@P@N@TD'}, 'start_location': {'lat': 40.7211414, 'lng': -74.0065736}, 'travel_mode': 'DRIVING'}, {'distance': {'text': '0.4 km', 'value': 430}, 'duration': {'text': '2 mins', 'value': 119}, 'end_location': {'lat': 40.7149616, 'lng': -74.0096784}, 'html_instructions': 'Slight <b>right</b> onto <b>W Broadway</b>', 'maneuver': 'turn-slight-right', 'polyline': {'points': 'kxowFloubML?^Zl@b@\\\\Vt@h@t@h@x@l@p@d@ZRz@n@ZTn@d@t@f@NLx@l@d@\\\\'}, 'start_location': {'lat': 40.7182956, 'lng': -74.0071124}, 'travel_mode': 'DRIVING'}, {'distance': {'text': '0.3 km', 'value': 288}, 'duration': {'text': '2 mins', 'value': 93}, 'end_location': {'lat': 40.7136248, 'lng': -74.0067557}, 'html_instructions': 'Turn <b>left</b> onto <b>Warren St</b>', 'maneuver': 'turn-left', 'polyline': {'points': 'ocowFn_vbMVu@b@oATo@Pe@Re@hAcDTq@L_@d@oA'}, 'start_location': {'lat': 40.7149616, 'lng': -74.0096784}, 'travel_mode': 'DRIVING'}, {'distance': {'text': '77 m', 'value': 77}, 'duration': {'text': '1 min', 'value': 33}, 'end_location': {'lat': 40.7130435, 'lng': -74.0072565}, 'html_instructions': 'Turn <b>right</b> onto <b>Broadway</b>/<wbr/><b>Canyon of Heroes</b>', 'maneuver': 'turn-right', 'polyline': {'points': 'c{nwFfmubMv@l@j@b@NP'}, 'start_location': {'lat': 40.7136248, 'lng': -74.0067557}, 'travel_mode': 'DRIVING'}, {'distance': {'text': '70 m', 'value': 70}, 'duration': {'text': '1 min', 'value': 16}, 'end_location': {'lat': 40.7126802, 'lng': -74.00657629999999}, 'html_instructions': 'Turn <b>left</b> at the 1st cross street at <b>Murray St</b><div style=\"font-size:0.9em\">Partial restricted usage road</div>', 'maneuver': 'turn-left', 'polyline': {'points': 'ownwFjpubMPYl@aBFK'}, 'start_location': {'lat': 40.7130435, 'lng': -74.0072565}, 'travel_mode': 'DRIVING'}], 'traffic_speed_entry': [], 'via_waypoint': []}}, {'lat': 40.7359385, 'lng': -74.0331996, 'dist': 522, 'nearest_ev_station': {'geometry': {'location': {'lat': 40.7127753, 'lng': -74.0059728}, 'viewport': {'northeast': {'lat': 40.91757705070789, 'lng': -73.70027206817629}, 'southwest': {'lat': 40.47739906045452, 'lng': -74.25908991427882}}}, 'icon': 'https://maps.gstatic.com/mapfiles/place_api/icons/v1/png_71/geocode-71.png', 'icon_background_color': '#7B9EB0', 'icon_mask_base_uri': 'https://maps.gstatic.com/mapfiles/place_api/icons/v2/generic_pinlet', 'name': 'New York', 'photos': [{'height': 2340, 'html_attributions': ['<a href=\"https://maps.google.com/maps/contrib/105549134237934527925\">Maxster 9898</a>'], 'photo_reference': 'ATplDJZxQDX_FDCoXM_0dmDUyb2g0lRCSVRn--qOpc006eipfm-lEoNBFYt3PyUp9DQi7O5I1Mfu_CspZdRHyy2Qvm0cg264VSSn77kYI86QeDnh2iJ9VwlCTvvwhc8NByrXyciEdRkN46bzLLCsSUA-IUethtl7GqxZYImZyZMnDCL6e3yO', 'width': 4160}], 'place_id': 'ChIJOwg_06VPwokRYv534QaPC8g', 'reference': 'ChIJOwg_06VPwokRYv534QaPC8g', 'scope': 'GOOGLE', 'types': ['locality', 'political'], 'vicinity': 'New York'}, 'nearest_ev_station_distance': 6058, 'nearest_ev_route_segment': {'distance': {'text': '6.1 km', 'value': 6058}, 'duration': {'text': '17 mins', 'value': 1019}, 'end_address': '1356 Broadway, New York, NY 10018, USA', 'end_location': {'lat': 40.7126802, 'lng': -74.00657629999999}, 'start_address': '200 Observer Hwy, Hoboken, NJ 07030, USA', 'start_location': {'lat': 40.7359385, 'lng': -74.0331996}, 'steps': [{'distance': {'text': '0.5 km', 'value': 522}, 'duration': {'text': '2 mins', 'value': 93}, 'end_location': {'lat': 40.7368213, 'lng': -74.03925219999999}, 'html_instructions': 'Head <b>west</b> on <b>County Rd 681</b> toward <b>Park Ave</b>', 'polyline': {'points': 'sfswFnrzbMa@xD_@zDqBxSC`@@d@?b@@R?NBX'}, 'start_location': {'lat': 40.7359385, 'lng': -74.0331996}, 'travel_mode': 'DRIVING'}, {'distance': {'text': '0.1 km', 'value': 105}, 'duration': {'text': '1 min', 'value': 29}, 'end_location': {'lat': 40.7366551, 'lng': -74.0404827}, 'html_instructions': 'Continue straight onto <b>Newark St.</b>', 'maneuver': 'straight', 'polyline': {'points': 'clswFhx{bMPvCFl@Dn@'}, 'start_location': {'lat': 40.7368213, 'lng': -74.03925219999999}, 'travel_mode': 'DRIVING'}, {'distance': {'text': '0.7 km', 'value': 727}, 'duration': {'text': '3 mins', 'value': 206}, 'end_location': {'lat': 40.7301735, 'lng': -74.0413305}, 'html_instructions': 'Turn <b>left</b> onto <b>Grove St</b>', 'maneuver': 'turn-left', 'polyline': {'points': 'ckswF~_|bMl@KJAHAH?vALzDZx@HPHJ@tD\\\\L@jAJPG~BPRB`AHl@Ft@F^DF?\\\\D^BRBV@VBRB|@F'}, 'start_location': {'lat': 40.7366551, 'lng': -74.0404827}, 'travel_mode': 'DRIVING'}, {'distance': {'text': '48 m', 'value': 48}, 'duration': {'text': '1 min', 'value': 22}, 'end_location': {'lat': 40.730129, 'lng': -74.0407645}, 'html_instructions': 'Turn <b>left</b> onto <b>12th St</b><div style=\"font-size:0.9em\">Turn is not allowed Mon–Fri 6:00\\u2009–\\u200910:00\\u202fAM</div>', 'maneuver': 'turn-left', 'polyline': {'points': 'qbrwFhe|bMBm@BcA'}, 'start_location': {'lat': 40.7301735, 'lng': -74.0413305}, 'travel_mode': 'DRIVING'}, {'distance': {'text': '89 m', 'value': 89}, 'duration': {'text': '1 min', 'value': 20}, 'end_location': {'lat': 40.7300706, 'lng': -74.0397212}, 'html_instructions': 'Slight <b>left</b> to stay on <b>12th St</b>', 'maneuver': 'turn-slight-left', 'polyline': {'points': 'ibrwFva|bMAO?y@HcB@Q@O'}, 'start_location': {'lat': 40.730129, 'lng': -74.0407645}, 'travel_mode': 'DRIVING'}, {'distance': {'text': '3.3 km', 'value': 3335}, 'duration': {'text': '5 mins', 'value': 292}, 'end_location': {'lat': 40.7209852, 'lng': -74.0070508}, 'html_instructions': 'Continue straight onto <b>I-78 E</b>/<wbr/><b>Holland Tunnel</b><div style=\"font-size:0.9em\">Continue to follow I-78 E</div><div style=\"font-size:0.9em\">Toll road</div><div style=\"font-size:0.9em\">Entering New York</div>', 'maneuver': 'straight', 'polyline': {'points': '}arwFf{{bM@KJaCBi@Bi@Be@B_@Dy@HoD@SDY@W@]?O@MBS@K@IDS@IDc@Da@PeATwADUDWDUTyADUDU@CDWHe@XwADUZkB@CLu@Fu@@S@G?Y?ADkBv@uSLeDH}A?ABo@J{AHu@h@mGDo@?CToCTgCJwAD{@jAiMNaBj@qGTcCNwAZmF?EHwAd@iILkCFcABY@QLo@XkATk@LWN[Ze@\\\\g@@A@AR]BCR]Va@n@eAr@kAbBiCLWv@aALMXWHKJM~BoDPWFKDEFIDCDC?ALEJCB?F?JAL@J@H@HBJBFDHFFFDJDFBHBHBHBL@J?@@J@L?B?h@?J@H?JBHBJDJDJFFFFFDFB?@F@H@D@@?F?HADAHCDEFEHIFKDI@G@A@E@M@K@KAKAOAMEMGKEIIG'}, 'start_location': {'lat': 40.7300706, 'lng': -74.0397212}, 'travel_mode': 'DRIVING'}, {'distance': {'text': '47 m', 'value': 47}, 'duration': {'text': '1 min', 'value': 12}, 'end_location': {'lat': 40.7211414, 'lng': -74.0065736}, 'html_instructions': 'Take exit <b>4</b> toward <b>Downtown</b>', 'maneuver': 'ramp-right', 'polyline': {'points': 'eipwF`oubMAWACCCEEAACECECC?CAA?E?A?I?O'}, 'start_location': {'lat': 40.7209852, 'lng': -74.0070508}, 'travel_mode': 'DRIVING'}, {'distance': {'text': '0.3 km', 'value': 320}, 'duration': {'text': '1 min', 'value': 84}, 'end_location': {'lat': 40.7182956, 'lng': -74.0071124}, 'html_instructions': 'Turn <b>right</b> onto <b>Varick St</b>', 'maneuver': 'turn-right', 'polyline': {'points': 'cjpwF`lubM^Db@Dh@FZDvANj@Fz@Jl@FTBN@f@Jh@FN@P@N@TD'}, 'start_location': {'lat': 40.7211414, 'lng': -74.0065736}, 'travel_mode': 'DRIVING'}, {'distance': {'text': '0.4 km', 'value': 430}, 'duration': {'text': '2 mins', 'value': 119}, 'end_location': {'lat': 40.7149616, 'lng': -74.0096784}, 'html_instructions': 'Slight <b>right</b> onto <b>W Broadway</b>', 'maneuver': 'turn-slight-right', 'polyline': {'points': 'kxowFloubML?^Zl@b@\\\\Vt@h@t@h@x@l@p@d@ZRz@n@ZTn@d@t@f@NLx@l@d@\\\\'}, 'start_location': {'lat': 40.7182956, 'lng': -74.0071124}, 'travel_mode': 'DRIVING'}, {'distance': {'text': '0.3 km', 'value': 288}, 'duration': {'text': '2 mins', 'value': 93}, 'end_location': {'lat': 40.7136248, 'lng': -74.0067557}, 'html_instructions': 'Turn <b>left</b> onto <b>Warren St</b>', 'maneuver': 'turn-left', 'polyline': {'points': 'ocowFn_vbMVu@b@oATo@Pe@Re@hAcDTq@L_@d@oA'}, 'start_location': {'lat': 40.7149616, 'lng': -74.0096784}, 'travel_mode': 'DRIVING'}, {'distance': {'text': '77 m', 'value': 77}, 'duration': {'text': '1 min', 'value': 33}, 'end_location': {'lat': 40.7130435, 'lng': -74.0072565}, 'html_instructions': 'Turn <b>right</b> onto <b>Broadway</b>/<wbr/><b>Canyon of Heroes</b>', 'maneuver': 'turn-right', 'polyline': {'points': 'c{nwFfmubMv@l@j@b@NP'}, 'start_location': {'lat': 40.7136248, 'lng': -74.0067557}, 'travel_mode': 'DRIVING'}, {'distance': {'text': '70 m', 'value': 70}, 'duration': {'text': '1 min', 'value': 16}, 'end_location': {'lat': 40.7126802, 'lng': -74.00657629999999}, 'html_instructions': 'Turn <b>left</b> at the 1st cross street at <b>Murray St</b><div style=\"font-size:0.9em\">Partial restricted usage road</div>', 'maneuver': 'turn-left', 'polyline': {'points': 'ownwFjpubMPYl@aBFK'}, 'start_location': {'lat': 40.7130435, 'lng': -74.0072565}, 'travel_mode': 'DRIVING'}], 'traffic_speed_entry': [], 'via_waypoint': []}}, {'lat': 40.7368213, 'lng': -74.03925219999999, 'dist': 353, 'nearest_ev_station': {'geometry': {'location': {'lat': 40.7127753, 'lng': -74.0059728}, 'viewport': {'northeast': {'lat': 40.91757705070789, 'lng': -73.70027206817629}, 'southwest': {'lat': 40.47739906045452, 'lng': -74.25908991427882}}}, 'icon': 'https://maps.gstatic.com/mapfiles/place_api/icons/v1/png_71/geocode-71.png', 'icon_background_color': '#7B9EB0', 'icon_mask_base_uri': 'https://maps.gstatic.com/mapfiles/place_api/icons/v2/generic_pinlet', 'name': 'New York', 'photos': [{'height': 2340, 'html_attributions': ['<a href=\"https://maps.google.com/maps/contrib/105549134237934527925\">Maxster 9898</a>'], 'photo_reference': 'ATplDJbKJeQO5aBrNSeAhWsfu0HZqutVWD7uGD3jOK55eQqK4sMtj5hdBDwYEUUXBwnFivW7CqtcVy_3gZWvcktkZdNOiY26BWaRqZOhFVI6Kq3yd26N_nFmRo_nPKT4z1m_4FLRWwU3Kwe8Bi6J--rufxmo33llGoB9pOejwRLj5hA_oeFr', 'width': 4160}], 'place_id': 'ChIJOwg_06VPwokRYv534QaPC8g', 'reference': 'ChIJOwg_06VPwokRYv534QaPC8g', 'scope': 'GOOGLE', 'types': ['locality', 'political'], 'vicinity': 'New York'}, 'nearest_ev_station_distance': 5536, 'nearest_ev_route_segment': {'distance': {'text': '5.5 km', 'value': 5536}, 'duration': {'text': '15 mins', 'value': 926}, 'end_address': '1356 Broadway, New York, NY 10018, USA', 'end_location': {'lat': 40.7126802, 'lng': -74.00657629999999}, 'start_address': '5 Observer Hwy, Hoboken, NJ 07030, USA', 'start_location': {'lat': 40.7368213, 'lng': -74.03925219999999}, 'steps': [{'distance': {'text': '0.1 km', 'value': 105}, 'duration': {'text': '1 min', 'value': 29}, 'end_location': {'lat': 40.7366551, 'lng': -74.0404827}, 'html_instructions': 'Head <b>west</b> on <b>Newark St.</b> toward <b>Grove St</b>', 'polyline': {'points': 'clswFhx{bMPvCFl@Dn@'}, 'start_location': {'lat': 40.7368213, 'lng': -74.03925219999999}, 'travel_mode': 'DRIVING'}, {'distance': {'text': '0.7 km', 'value': 727}, 'duration': {'text': '3 mins', 'value': 206}, 'end_location': {'lat': 40.7301735, 'lng': -74.0413305}, 'html_instructions': 'Turn <b>left</b> onto <b>Grove St</b>', 'maneuver': 'turn-left', 'polyline': {'points': 'ckswF~_|bMl@KJAHAH?vALzDZx@HPHJ@tD\\\\L@jAJPG~BPRB`AHl@Ft@F^DF?\\\\D^BRBV@VBRB|@F'}, 'start_location': {'lat': 40.7366551, 'lng': -74.0404827}, 'travel_mode': 'DRIVING'}, {'distance': {'text': '48 m', 'value': 48}, 'duration': {'text': '1 min', 'value': 22}, 'end_location': {'lat': 40.730129, 'lng': -74.0407645}, 'html_instructions': 'Turn <b>left</b> onto <b>12th St</b><div style=\"font-size:0.9em\">Turn is not allowed Mon–Fri 6:00\\u2009–\\u200910:00\\u202fAM</div>', 'maneuver': 'turn-left', 'polyline': {'points': 'qbrwFhe|bMBm@BcA'}, 'start_location': {'lat': 40.7301735, 'lng': -74.0413305}, 'travel_mode': 'DRIVING'}, {'distance': {'text': '89 m', 'value': 89}, 'duration': {'text': '1 min', 'value': 20}, 'end_location': {'lat': 40.7300706, 'lng': -74.0397212}, 'html_instructions': 'Slight <b>left</b> to stay on <b>12th St</b>', 'maneuver': 'turn-slight-left', 'polyline': {'points': 'ibrwFva|bMAO?y@HcB@Q@O'}, 'start_location': {'lat': 40.730129, 'lng': -74.0407645}, 'travel_mode': 'DRIVING'}, {'distance': {'text': '3.3 km', 'value': 3335}, 'duration': {'text': '5 mins', 'value': 292}, 'end_location': {'lat': 40.7209852, 'lng': -74.0070508}, 'html_instructions': 'Continue straight onto <b>I-78 E</b>/<wbr/><b>Holland Tunnel</b><div style=\"font-size:0.9em\">Continue to follow I-78 E</div><div style=\"font-size:0.9em\">Toll road</div><div style=\"font-size:0.9em\">Entering New York</div>', 'maneuver': 'straight', 'polyline': {'points': '}arwFf{{bM@KJaCBi@Bi@Be@B_@Dy@HoD@SDY@W@]?O@MBS@K@IDS@IDc@Da@PeATwADUDWDUTyADUDU@CDWHe@XwADUZkB@CLu@Fu@@S@G?Y?ADkBv@uSLeDH}A?ABo@J{AHu@h@mGDo@?CToCTgCJwAD{@jAiMNaBj@qGTcCNwAZmF?EHwAd@iILkCFcABY@QLo@XkATk@LWN[Ze@\\\\g@@A@AR]BCR]Va@n@eAr@kAbBiCLWv@aALMXWHKJM~BoDPWFKDEFIDCDC?ALEJCB?F?JAL@J@H@HBJBFDHFFFDJDFBHBHBHBL@J?@@J@L?B?h@?J@H?JBHBJDJDJFFFFFDFB?@F@H@D@@?F?HADAHCDEFEHIFKDI@G@A@E@M@K@KAKAOAMEMGKEIIG'}, 'start_location': {'lat': 40.7300706, 'lng': -74.0397212}, 'travel_mode': 'DRIVING'}, {'distance': {'text': '47 m', 'value': 47}, 'duration': {'text': '1 min', 'value': 12}, 'end_location': {'lat': 40.7211414, 'lng': -74.0065736}, 'html_instructions': 'Take exit <b>4</b> toward <b>Downtown</b>', 'maneuver': 'ramp-right', 'polyline': {'points': 'eipwF`oubMAWACCCEEAACECECC?CAA?E?A?I?O'}, 'start_location': {'lat': 40.7209852, 'lng': -74.0070508}, 'travel_mode': 'DRIVING'}, {'distance': {'text': '0.3 km', 'value': 320}, 'duration': {'text': '1 min', 'value': 84}, 'end_location': {'lat': 40.7182956, 'lng': -74.0071124}, 'html_instructions': 'Turn <b>right</b> onto <b>Varick St</b>', 'maneuver': 'turn-right', 'polyline': {'points': 'cjpwF`lubM^Db@Dh@FZDvANj@Fz@Jl@FTBN@f@Jh@FN@P@N@TD'}, 'start_location': {'lat': 40.7211414, 'lng': -74.0065736}, 'travel_mode': 'DRIVING'}, {'distance': {'text': '0.4 km', 'value': 430}, 'duration': {'text': '2 mins', 'value': 119}, 'end_location': {'lat': 40.7149616, 'lng': -74.0096784}, 'html_instructions': 'Slight <b>right</b> onto <b>W Broadway</b>', 'maneuver': 'turn-slight-right', 'polyline': {'points': 'kxowFloubML?^Zl@b@\\\\Vt@h@t@h@x@l@p@d@ZRz@n@ZTn@d@t@f@NLx@l@d@\\\\'}, 'start_location': {'lat': 40.7182956, 'lng': -74.0071124}, 'travel_mode': 'DRIVING'}, {'distance': {'text': '0.3 km', 'value': 288}, 'duration': {'text': '2 mins', 'value': 93}, 'end_location': {'lat': 40.7136248, 'lng': -74.0067557}, 'html_instructions': 'Turn <b>left</b> onto <b>Warren St</b>', 'maneuver': 'turn-left', 'polyline': {'points': 'ocowFn_vbMVu@b@oATo@Pe@Re@hAcDTq@L_@d@oA'}, 'start_location': {'lat': 40.7149616, 'lng': -74.0096784}, 'travel_mode': 'DRIVING'}, {'distance': {'text': '77 m', 'value': 77}, 'duration': {'text': '1 min', 'value': 33}, 'end_location': {'lat': 40.7130435, 'lng': -74.0072565}, 'html_instructions': 'Turn <b>right</b> onto <b>Broadway</b>/<wbr/><b>Canyon of Heroes</b>', 'maneuver': 'turn-right', 'polyline': {'points': 'c{nwFfmubMv@l@j@b@NP'}, 'start_location': {'lat': 40.7136248, 'lng': -74.0067557}, 'travel_mode': 'DRIVING'}, {'distance': {'text': '70 m', 'value': 70}, 'duration': {'text': '1 min', 'value': 16}, 'end_location': {'lat': 40.7126802, 'lng': -74.00657629999999}, 'html_instructions': 'Turn <b>left</b> at the 1st cross street at <b>Murray St</b><div style=\"font-size:0.9em\">Partial restricted usage road</div>', 'maneuver': 'turn-left', 'polyline': {'points': 'ownwFjpubMPYl@aBFK'}, 'start_location': {'lat': 40.7130435, 'lng': -74.0072565}, 'travel_mode': 'DRIVING'}], 'traffic_speed_entry': [], 'via_waypoint': []}}, {'lat': 40.7362133, 'lng': -74.04336529999999, 'dist': 483, 'nearest_ev_station': {'geometry': {'location': {'lat': 40.7127753, 'lng': -74.0059728}, 'viewport': {'northeast': {'lat': 40.91757705070789, 'lng': -73.70027206817629}, 'southwest': {'lat': 40.47739906045452, 'lng': -74.25908991427882}}}, 'icon': 'https://maps.gstatic.com/mapfiles/place_api/icons/v1/png_71/geocode-71.png', 'icon_background_color': '#7B9EB0', 'icon_mask_base_uri': 'https://maps.gstatic.com/mapfiles/place_api/icons/v2/generic_pinlet', 'name': 'New York', 'photos': [{'height': 2340, 'html_attributions': ['<a href=\"https://maps.google.com/maps/contrib/105549134237934527925\">Maxster 9898</a>'], 'photo_reference': 'ATplDJbHk6rbaGw4idTmbh6OSW7nix58cFlyvcZqQ-3h4CzjdlWIG6FCzVN9jsavP6CPsx0nu5Z6uFhrZ0cD8nLr19hB50h5XQvX-VFq30fsKoffQHz2pI-GiGj-jApgJTKUGmKtEWTW3d4EEuR1LYMCxTh-ozSE49Fu255oypPEsKZmZjsc', 'width': 4160}], 'place_id': 'ChIJOwg_06VPwokRYv534QaPC8g', 'reference': 'ChIJOwg_06VPwokRYv534QaPC8g', 'scope': 'GOOGLE', 'types': ['locality', 'political'], 'vicinity': 'New York'}, 'nearest_ev_station_distance': 5651, 'nearest_ev_route_segment': {'distance': {'text': '5.7 km', 'value': 5651}, 'duration': {'text': '16 mins', 'value': 954}, 'end_address': '1356 Broadway, New York, NY 10018, USA', 'end_location': {'lat': 40.7126802, 'lng': -74.00657629999999}, 'start_address': '866 Jersey Ave, Jersey City, NJ 07310, USA', 'start_location': {'lat': 40.7362133, 'lng': -74.04336529999999}, 'steps': [{'distance': {'text': '0.7 km', 'value': 660}, 'duration': {'text': '3 mins', 'value': 200}, 'end_location': {'lat': 40.73056709999999, 'lng': -74.04467029999999}, 'html_instructions': 'Head <b>west</b> on <b>Jersey Ave</b>/<wbr/><b>Newark St.</b><div style=\"font-size:0.9em\">Continue to follow Jersey Ave</div>', 'polyline': {'points': 'ihswF`r|bMH|@@DBD@DBB@BD@B@X@J@hAFJ@j@Fh@DH@b@DTBpBPjCTlCRT@h@DVBP@VLb@DbAHr@Ft@Fn@B^B'}, 'start_location': {'lat': 40.7362133, 'lng': -74.04336529999999}, 'travel_mode': 'DRIVING'}, {'distance': {'text': '0.3 km', 'value': 335}, 'duration': {'text': '1 min', 'value': 85}, 'end_location': {'lat': 40.730129, 'lng': -74.0407645}, 'html_instructions': 'Turn <b>left</b> onto <b>12th St</b>', 'maneuver': 'turn-left', 'polyline': {'points': 'aerwFdz|bMBUBQBGBGFMBi@Be@Bu@D{@D{@@M@e@H_B@U?KB]@ODcABo@Bm@BcA'}, 'start_location': {'lat': 40.73056709999999, 'lng': -74.04467029999999}, 'travel_mode': 'DRIVING'}, {'distance': {'text': '89 m', 'value': 89}, 'duration': {'text': '1 min', 'value': 20}, 'end_location': {'lat': 40.7300706, 'lng': -74.0397212}, 'html_instructions': 'Slight <b>left</b> to stay on <b>12th St</b>', 'maneuver': 'turn-slight-left', 'polyline': {'points': 'ibrwFva|bMAO?y@HcB@Q@O'}, 'start_location': {'lat': 40.730129, 'lng': -74.0407645}, 'travel_mode': 'DRIVING'}, {'distance': {'text': '3.3 km', 'value': 3335}, 'duration': {'text': '5 mins', 'value': 292}, 'end_location': {'lat': 40.7209852, 'lng': -74.0070508}, 'html_instructions': 'Continue straight onto <b>I-78 E</b>/<wbr/><b>Holland Tunnel</b><div style=\"font-size:0.9em\">Continue to follow I-78 E</div><div style=\"font-size:0.9em\">Toll road</div><div style=\"font-size:0.9em\">Entering New York</div>', 'maneuver': 'straight', 'polyline': {'points': '}arwFf{{bM@KJaCBi@Bi@Be@B_@Dy@HoD@SDY@W@]?O@MBS@K@IDS@IDc@Da@PeATwADUDWDUTyADUDU@CDWHe@XwADUZkB@CLu@Fu@@S@G?Y?ADkBv@uSLeDH}A?ABo@J{AHu@h@mGDo@?CToCTgCJwAD{@jAiMNaBj@qGTcCNwAZmF?EHwAd@iILkCFcABY@QLo@XkATk@LWN[Ze@\\\\g@@A@AR]BCR]Va@n@eAr@kAbBiCLWv@aALMXWHKJM~BoDPWFKDEFIDCDC?ALEJCB?F?JAL@J@H@HBJBFDHFFFDJDFBHBHBHBL@J?@@J@L?B?h@?J@H?JBHBJDJDJFFFFFDFB?@F@H@D@@?F?HADAHCDEFEHIFKDI@G@A@E@M@K@KAKAOAMEMGKEIIG'}, 'start_location': {'lat': 40.7300706, 'lng': -74.0397212}, 'travel_mode': 'DRIVING'}, {'distance': {'text': '47 m', 'value': 47}, 'duration': {'text': '1 min', 'value': 12}, 'end_location': {'lat': 40.7211414, 'lng': -74.0065736}, 'html_instructions': 'Take exit <b>4</b> toward <b>Downtown</b>', 'maneuver': 'ramp-right', 'polyline': {'points': 'eipwF`oubMAWACCCEEAACECECC?CAA?E?A?I?O'}, 'start_location': {'lat': 40.7209852, 'lng': -74.0070508}, 'travel_mode': 'DRIVING'}, {'distance': {'text': '0.3 km', 'value': 320}, 'duration': {'text': '1 min', 'value': 84}, 'end_location': {'lat': 40.7182956, 'lng': -74.0071124}, 'html_instructions': 'Turn <b>right</b> onto <b>Varick St</b>', 'maneuver': 'turn-right', 'polyline': {'points': 'cjpwF`lubM^Db@Dh@FZDvANj@Fz@Jl@FTBN@f@Jh@FN@P@N@TD'}, 'start_location': {'lat': 40.7211414, 'lng': -74.0065736}, 'travel_mode': 'DRIVING'}, {'distance': {'text': '0.4 km', 'value': 430}, 'duration': {'text': '2 mins', 'value': 119}, 'end_location': {'lat': 40.7149616, 'lng': -74.0096784}, 'html_instructions': 'Slight <b>right</b> onto <b>W Broadway</b>', 'maneuver': 'turn-slight-right', 'polyline': {'points': 'kxowFloubML?^Zl@b@\\\\Vt@h@t@h@x@l@p@d@ZRz@n@ZTn@d@t@f@NLx@l@d@\\\\'}, 'start_location': {'lat': 40.7182956, 'lng': -74.0071124}, 'travel_mode': 'DRIVING'}, {'distance': {'text': '0.3 km', 'value': 288}, 'duration': {'text': '2 mins', 'value': 93}, 'end_location': {'lat': 40.7136248, 'lng': -74.0067557}, 'html_instructions': 'Turn <b>left</b> onto <b>Warren St</b>', 'maneuver': 'turn-left', 'polyline': {'points': 'ocowFn_vbMVu@b@oATo@Pe@Re@hAcDTq@L_@d@oA'}, 'start_location': {'lat': 40.7149616, 'lng': -74.0096784}, 'travel_mode': 'DRIVING'}, {'distance': {'text': '77 m', 'value': 77}, 'duration': {'text': '1 min', 'value': 33}, 'end_location': {'lat': 40.7130435, 'lng': -74.0072565}, 'html_instructions': 'Turn <b>right</b> onto <b>Broadway</b>/<wbr/><b>Canyon of Heroes</b>', 'maneuver': 'turn-right', 'polyline': {'points': 'c{nwFfmubMv@l@j@b@NP'}, 'start_location': {'lat': 40.7136248, 'lng': -74.0067557}, 'travel_mode': 'DRIVING'}, {'distance': {'text': '70 m', 'value': 70}, 'duration': {'text': '1 min', 'value': 16}, 'end_location': {'lat': 40.7126802, 'lng': -74.00657629999999}, 'html_instructions': 'Turn <b>left</b> at the 1st cross street at <b>Murray St</b><div style=\"font-size:0.9em\">Partial restricted usage road</div>', 'maneuver': 'turn-left', 'polyline': {'points': 'ownwFjpubMPYl@aBFK'}, 'start_location': {'lat': 40.7130435, 'lng': -74.0072565}, 'travel_mode': 'DRIVING'}], 'traffic_speed_entry': [], 'via_waypoint': []}}, {'lat': 40.7321369, 'lng': -74.0444018, 'dist': 175, 'nearest_ev_station': {'geometry': {'location': {'lat': 40.7127753, 'lng': -74.0059728}, 'viewport': {'northeast': {'lat': 40.91757705070789, 'lng': -73.70027206817629}, 'southwest': {'lat': 40.47739906045452, 'lng': -74.25908991427882}}}, 'icon': 'https://maps.gstatic.com/mapfiles/place_api/icons/v1/png_71/geocode-71.png', 'icon_background_color': '#7B9EB0', 'icon_mask_base_uri': 'https://maps.gstatic.com/mapfiles/place_api/icons/v2/generic_pinlet', 'name': 'New York', 'photos': [{'height': 2340, 'html_attributions': ['<a href=\"https://maps.google.com/maps/contrib/105549134237934527925\">Maxster 9898</a>'], 'photo_reference': 'ATplDJZIkiqB2XS6ujEvZraq2---PoJzC0fOfulvjIoKNKUDBjD2Nth6lsr0Km7EkZhP0pCsvIqrj_yDxfkcAMF3oBx-GioXWeymv1LdR-GrHbebM7mr1Ql8OOTk69T4wHB4vvuqKOaLYTGfkVXuWwCbwzsdZPfYuMUYlOBhHYHJVeuhscWp', 'width': 4160}], 'place_id': 'ChIJOwg_06VPwokRYv534QaPC8g', 'reference': 'ChIJOwg_06VPwokRYv534QaPC8g', 'scope': 'GOOGLE', 'types': ['locality', 'political'], 'vicinity': 'New York'}, 'nearest_ev_station_distance': 5168, 'nearest_ev_route_segment': {'distance': {'text': '5.2 km', 'value': 5168}, 'duration': {'text': '14 mins', 'value': 842}, 'end_address': '1356 Broadway, New York, NY 10018, USA', 'end_location': {'lat': 40.7126802, 'lng': -74.00657629999999}, 'start_address': '248 14th St, Jersey City, NJ 07310, USA', 'start_location': {'lat': 40.7321369, 'lng': -74.0444018}, 'steps': [{'distance': {'text': '0.2 km', 'value': 177}, 'duration': {'text': '1 min', 'value': 88}, 'end_location': {'lat': 40.73056709999999, 'lng': -74.04467029999999}, 'html_instructions': 'Head <b>southwest</b> on <b>Jersey Ave</b> toward <b>I-78 W</b>', 'polyline': {'points': '{nrwFnx|bMVLb@DbAHr@Ft@Fn@B^B'}, 'start_location': {'lat': 40.7321369, 'lng': -74.0444018}, 'travel_mode': 'DRIVING'}, {'distance': {'text': '0.3 km', 'value': 335}, 'duration': {'text': '1 min', 'value': 85}, 'end_location': {'lat': 40.730129, 'lng': -74.0407645}, 'html_instructions': 'Turn <b>left</b> onto <b>12th St</b>', 'maneuver': 'turn-left', 'polyline': {'points': 'aerwFdz|bMBUBQBGBGFMBi@Be@Bu@D{@D{@@M@e@H_B@U?KB]@ODcABo@Bm@BcA'}, 'start_location': {'lat': 40.73056709999999, 'lng': -74.04467029999999}, 'travel_mode': 'DRIVING'}, {'distance': {'text': '89 m', 'value': 89}, 'duration': {'text': '1 min', 'value': 20}, 'end_location': {'lat': 40.7300706, 'lng': -74.0397212}, 'html_instructions': 'Slight <b>left</b> to stay on <b>12th St</b>', 'maneuver': 'turn-slight-left', 'polyline': {'points': 'ibrwFva|bMAO?y@HcB@Q@O'}, 'start_location': {'lat': 40.730129, 'lng': -74.0407645}, 'travel_mode': 'DRIVING'}, {'distance': {'text': '3.3 km', 'value': 3335}, 'duration': {'text': '5 mins', 'value': 292}, 'end_location': {'lat': 40.7209852, 'lng': -74.0070508}, 'html_instructions': 'Continue straight onto <b>I-78 E</b>/<wbr/><b>Holland Tunnel</b><div style=\"font-size:0.9em\">Continue to follow I-78 E</div><div style=\"font-size:0.9em\">Toll road</div><div style=\"font-size:0.9em\">Entering New York</div>', 'maneuver': 'straight', 'polyline': {'points': '}arwFf{{bM@KJaCBi@Bi@Be@B_@Dy@HoD@SDY@W@]?O@MBS@K@IDS@IDc@Da@PeATwADUDWDUTyADUDU@CDWHe@XwADUZkB@CLu@Fu@@S@G?Y?ADkBv@uSLeDH}A?ABo@J{AHu@h@mGDo@?CToCTgCJwAD{@jAiMNaBj@qGTcCNwAZmF?EHwAd@iILkCFcABY@QLo@XkATk@LWN[Ze@\\\\g@@A@AR]BCR]Va@n@eAr@kAbBiCLWv@aALMXWHKJM~BoDPWFKDEFIDCDC?ALEJCB?F?JAL@J@H@HBJBFDHFFFDJDFBHBHBHBL@J?@@J@L?B?h@?J@H?JBHBJDJDJFFFFFDFB?@F@H@D@@?F?HADAHCDEFEHIFKDI@G@A@E@M@K@KAKAOAMEMGKEIIG'}, 'start_location': {'lat': 40.7300706, 'lng': -74.0397212}, 'travel_mode': 'DRIVING'}, {'distance': {'text': '47 m', 'value': 47}, 'duration': {'text': '1 min', 'value': 12}, 'end_location': {'lat': 40.7211414, 'lng': -74.0065736}, 'html_instructions': 'Take exit <b>4</b> toward <b>Downtown</b>', 'maneuver': 'ramp-right', 'polyline': {'points': 'eipwF`oubMAWACCCEEAACECECC?CAA?E?A?I?O'}, 'start_location': {'lat': 40.7209852, 'lng': -74.0070508}, 'travel_mode': 'DRIVING'}, {'distance': {'text': '0.3 km', 'value': 320}, 'duration': {'text': '1 min', 'value': 84}, 'end_location': {'lat': 40.7182956, 'lng': -74.0071124}, 'html_instructions': 'Turn <b>right</b> onto <b>Varick St</b>', 'maneuver': 'turn-right', 'polyline': {'points': 'cjpwF`lubM^Db@Dh@FZDvANj@Fz@Jl@FTBN@f@Jh@FN@P@N@TD'}, 'start_location': {'lat': 40.7211414, 'lng': -74.0065736}, 'travel_mode': 'DRIVING'}, {'distance': {'text': '0.4 km', 'value': 430}, 'duration': {'text': '2 mins', 'value': 119}, 'end_location': {'lat': 40.7149616, 'lng': -74.0096784}, 'html_instructions': 'Slight <b>right</b> onto <b>W Broadway</b>', 'maneuver': 'turn-slight-right', 'polyline': {'points': 'kxowFloubML?^Zl@b@\\\\Vt@h@t@h@x@l@p@d@ZRz@n@ZTn@d@t@f@NLx@l@d@\\\\'}, 'start_location': {'lat': 40.7182956, 'lng': -74.0071124}, 'travel_mode': 'DRIVING'}, {'distance': {'text': '0.3 km', 'value': 288}, 'duration': {'text': '2 mins', 'value': 93}, 'end_location': {'lat': 40.7136248, 'lng': -74.0067557}, 'html_instructions': 'Turn <b>left</b> onto <b>Warren St</b>', 'maneuver': 'turn-left', 'polyline': {'points': 'ocowFn_vbMVu@b@oATo@Pe@Re@hAcDTq@L_@d@oA'}, 'start_location': {'lat': 40.7149616, 'lng': -74.0096784}, 'travel_mode': 'DRIVING'}, {'distance': {'text': '77 m', 'value': 77}, 'duration': {'text': '1 min', 'value': 33}, 'end_location': {'lat': 40.7130435, 'lng': -74.0072565}, 'html_instructions': 'Turn <b>right</b> onto <b>Broadway</b>/<wbr/><b>Canyon of Heroes</b>', 'maneuver': 'turn-right', 'polyline': {'points': 'c{nwFfmubMv@l@j@b@NP'}, 'start_location': {'lat': 40.7136248, 'lng': -74.0067557}, 'travel_mode': 'DRIVING'}, {'distance': {'text': '70 m', 'value': 70}, 'duration': {'text': '1 min', 'value': 16}, 'end_location': {'lat': 40.7126802, 'lng': -74.00657629999999}, 'html_instructions': 'Turn <b>left</b> at the 1st cross street at <b>Murray St</b><div style=\"font-size:0.9em\">Partial restricted usage road</div>', 'maneuver': 'turn-left', 'polyline': {'points': 'ownwFjpubMPYl@aBFK'}, 'start_location': {'lat': 40.7130435, 'lng': -74.0072565}, 'travel_mode': 'DRIVING'}], 'traffic_speed_entry': [], 'via_waypoint': []}}, {'lat': 40.7319276, 'lng': -74.04635809999999, 'dist': 324, 'nearest_ev_station': {'geometry': {'location': {'lat': 40.7127753, 'lng': -74.0059728}, 'viewport': {'northeast': {'lat': 40.91757705070789, 'lng': -73.70027206817629}, 'southwest': {'lat': 40.47739906045452, 'lng': -74.25908991427882}}}, 'icon': 'https://maps.gstatic.com/mapfiles/place_api/icons/v1/png_71/geocode-71.png', 'icon_background_color': '#7B9EB0', 'icon_mask_base_uri': 'https://maps.gstatic.com/mapfiles/place_api/icons/v2/generic_pinlet', 'name': 'New York', 'photos': [{'height': 2340, 'html_attributions': ['<a href=\"https://maps.google.com/maps/contrib/105549134237934527925\">Maxster 9898</a>'], 'photo_reference': 'ATplDJa6zQqjq-15nz5_oswkXBTsie_sOpR33tv0U7JhAxck8qBivmg1iF7P1wy0TRs229FES5xrNBDWiv96-z-r0kFbPfWrYEu0fGa37MquLv15v0hdXj-PqkMYD7VuvD2l0IZv8-qTFJ8ocKQgwcP8C-EDLCtLAgJpB4d1QQ3DWqDTVo8C', 'width': 4160}], 'place_id': 'ChIJOwg_06VPwokRYv534QaPC8g', 'reference': 'ChIJOwg_06VPwokRYv534QaPC8g', 'scope': 'GOOGLE', 'types': ['locality', 'political'], 'vicinity': 'New York'}, 'nearest_ev_station_distance': 6295, 'nearest_ev_route_segment': {'distance': {'text': '6.3 km', 'value': 6295}, 'duration': {'text': '17 mins', 'value': 1020}, 'end_address': '1356 Broadway, New York, NY 10018, USA', 'end_location': {'lat': 40.7126802, 'lng': -74.00657629999999}, 'start_address': '50 14th St, Jersey City, NJ 07310, USA', 'start_location': {'lat': 40.7319276, 'lng': -74.04635809999999}, 'steps': [{'distance': {'text': '0.3 km', 'value': 324}, 'duration': {'text': '1 min', 'value': 21}, 'end_location': {'lat': 40.7313096, 'lng': -74.05010829999999}, 'html_instructions': 'Head <b>west</b> on <b>NJ-139 W</b>', 'polyline': {'points': 'qmrwFvd}bMBb@BR?H@H@VBNBj@BVJhBBV?@@VBZDZBXD\\\\Hp@PrANfAPzA'}, 'start_location': {'lat': 40.7319276, 'lng': -74.04635809999999}, 'travel_mode': 'DRIVING'}, {'distance': {'text': '0.2 km', 'value': 234}, 'duration': {'text': '1 min', 'value': 37}, 'end_location': {'lat': 40.7319191, 'lng': -74.0526415}, 'html_instructions': 'Take the exit toward <b>Kennedy Blvd</b>/<wbr/><b>Jersey City</b>', 'maneuver': 'ramp-right', 'polyline': {'points': 'uirwFd|}bMAB?D?F?FB^Bv@A|@?ZGt@EVG`@ENCLWp@c@v@a@t@'}, 'start_location': {'lat': 40.7313096, 'lng': -74.05010829999999}, 'travel_mode': 'DRIVING'}, {'distance': {'text': '0.3 km', 'value': 292}, 'duration': {'text': '1 min', 'value': 76}, 'end_location': {'lat': 40.7310874, 'lng': -74.0500165}, 'html_instructions': 'Make a <b>U-turn</b> at <b>Palisade Ave</b> (signs for <b>NJ-139 E</b>)', 'maneuver': 'uturn-left', 'polyline': {'points': 'omrwF~k~bMPXNRXc@FM@AJSHQVm@FONg@F[DUF_@D_@B_@@S@G@Y?Y?U?eBK['}, 'start_location': {'lat': 40.7319191, 'lng': -74.0526415}, 'travel_mode': 'DRIVING'}, {'distance': {'text': '0.8 km', 'value': 789}, 'duration': {'text': '4 mins', 'value': 217}, 'end_location': {'lat': 40.730129, 'lng': -74.0407645}, 'html_instructions': 'Merge onto <b>NJ-139 E</b>', 'maneuver': 'merge', 'polyline': {'points': 'ihrwFr{}bMB_@Bq@DwAJcCD{@Bq@Dq@D_AFyAHaBBa@@_@H}BNqBDq@BUBQBGBGFMBi@Be@Bu@D{@D{@@M@e@H_B@U?KB]@ODcABo@Bm@BcA'}, 'start_location': {'lat': 40.7310874, 'lng': -74.0500165}, 'travel_mode': 'DRIVING'}, {'distance': {'text': '89 m', 'value': 89}, 'duration': {'text': '1 min', 'value': 20}, 'end_location': {'lat': 40.7300706, 'lng': -74.0397212}, 'html_instructions': 'Slight <b>left</b> onto <b>12th St</b>', 'maneuver': 'turn-slight-left', 'polyline': {'points': 'ibrwFva|bMAO?y@HcB@Q@O'}, 'start_location': {'lat': 40.730129, 'lng': -74.0407645}, 'travel_mode': 'DRIVING'}, {'distance': {'text': '3.3 km', 'value': 3335}, 'duration': {'text': '5 mins', 'value': 292}, 'end_location': {'lat': 40.7209852, 'lng': -74.0070508}, 'html_instructions': 'Continue straight onto <b>I-78 E</b>/<wbr/><b>Holland Tunnel</b><div style=\"font-size:0.9em\">Continue to follow I-78 E</div><div style=\"font-size:0.9em\">Toll road</div><div style=\"font-size:0.9em\">Entering New York</div>', 'maneuver': 'straight', 'polyline': {'points': '}arwFf{{bM@KJaCBi@Bi@Be@B_@Dy@HoD@SDY@W@]?O@MBS@K@IDS@IDc@Da@PeATwADUDWDUTyADUDU@CDWHe@XwADUZkB@CLu@Fu@@S@G?Y?ADkBv@uSLeDH}A?ABo@J{AHu@h@mGDo@?CToCTgCJwAD{@jAiMNaBj@qGTcCNwAZmF?EHwAd@iILkCFcABY@QLo@XkATk@LWN[Ze@\\\\g@@A@AR]BCR]Va@n@eAr@kAbBiCLWv@aALMXWHKJM~BoDPWFKDEFIDCDC?ALEJCB?F?JAL@J@H@HBJBFDHFFFDJDFBHBHBHBL@J?@@J@L?B?h@?J@H?JBHBJDJDJFFFFFDFB?@F@H@D@@?F?HADAHCDEFEHIFKDI@G@A@E@M@K@KAKAOAMEMGKEIIG'}, 'start_location': {'lat': 40.7300706, 'lng': -74.0397212}, 'travel_mode': 'DRIVING'}, {'distance': {'text': '47 m', 'value': 47}, 'duration': {'text': '1 min', 'value': 12}, 'end_location': {'lat': 40.7211414, 'lng': -74.0065736}, 'html_instructions': 'Take exit <b>4</b> toward <b>Downtown</b>', 'maneuver': 'ramp-right', 'polyline': {'points': 'eipwF`oubMAWACCCEEAACECECC?CAA?E?A?I?O'}, 'start_location': {'lat': 40.7209852, 'lng': -74.0070508}, 'travel_mode': 'DRIVING'}, {'distance': {'text': '0.3 km', 'value': 320}, 'duration': {'text': '1 min', 'value': 84}, 'end_location': {'lat': 40.7182956, 'lng': -74.0071124}, 'html_instructions': 'Turn <b>right</b> onto <b>Varick St</b>', 'maneuver': 'turn-right', 'polyline': {'points': 'cjpwF`lubM^Db@Dh@FZDvANj@Fz@Jl@FTBN@f@Jh@FN@P@N@TD'}, 'start_location': {'lat': 40.7211414, 'lng': -74.0065736}, 'travel_mode': 'DRIVING'}, {'distance': {'text': '0.4 km', 'value': 430}, 'duration': {'text': '2 mins', 'value': 119}, 'end_location': {'lat': 40.7149616, 'lng': -74.0096784}, 'html_instructions': 'Slight <b>right</b> onto <b>W Broadway</b>', 'maneuver': 'turn-slight-right', 'polyline': {'points': 'kxowFloubML?^Zl@b@\\\\Vt@h@t@h@x@l@p@d@ZRz@n@ZTn@d@t@f@NLx@l@d@\\\\'}, 'start_location': {'lat': 40.7182956, 'lng': -74.0071124}, 'travel_mode': 'DRIVING'}, {'distance': {'text': '0.3 km', 'value': 288}, 'duration': {'text': '2 mins', 'value': 93}, 'end_location': {'lat': 40.7136248, 'lng': -74.0067557}, 'html_instructions': 'Turn <b>left</b> onto <b>Warren St</b>', 'maneuver': 'turn-left', 'polyline': {'points': 'ocowFn_vbMVu@b@oATo@Pe@Re@hAcDTq@L_@d@oA'}, 'start_location': {'lat': 40.7149616, 'lng': -74.0096784}, 'travel_mode': 'DRIVING'}, {'distance': {'text': '77 m', 'value': 77}, 'duration': {'text': '1 min', 'value': 33}, 'end_location': {'lat': 40.7130435, 'lng': -74.0072565}, 'html_instructions': 'Turn <b>right</b> onto <b>Broadway</b>/<wbr/><b>Canyon of Heroes</b>', 'maneuver': 'turn-right', 'polyline': {'points': 'c{nwFfmubMv@l@j@b@NP'}, 'start_location': {'lat': 40.7136248, 'lng': -74.0067557}, 'travel_mode': 'DRIVING'}, {'distance': {'text': '70 m', 'value': 70}, 'duration': {'text': '1 min', 'value': 16}, 'end_location': {'lat': 40.7126802, 'lng': -74.00657629999999}, 'html_instructions': 'Turn <b>left</b> at the 1st cross street at <b>Murray St</b><div style=\"font-size:0.9em\">Partial restricted usage road</div>', 'maneuver': 'turn-left', 'polyline': {'points': 'ownwFjpubMPYl@aBFK'}, 'start_location': {'lat': 40.7130435, 'lng': -74.0072565}, 'travel_mode': 'DRIVING'}], 'traffic_speed_entry': [], 'via_waypoint': []}}, {'lat': 40.7313096, 'lng': -74.05010829999999, 'dist': 1602, 'nearest_ev_station': {'geometry': {'location': {'lat': 40.7127753, 'lng': -74.0059728}, 'viewport': {'northeast': {'lat': 40.91757705070789, 'lng': -73.70027206817629}, 'southwest': {'lat': 40.47739906045452, 'lng': -74.25908991427882}}}, 'icon': 'https://maps.gstatic.com/mapfiles/place_api/icons/v1/png_71/geocode-71.png', 'icon_background_color': '#7B9EB0', 'icon_mask_base_uri': 'https://maps.gstatic.com/mapfiles/place_api/icons/v2/generic_pinlet', 'name': 'New York', 'photos': [{'height': 2340, 'html_attributions': ['<a href=\"https://maps.google.com/maps/contrib/105549134237934527925\">Maxster 9898</a>'], 'photo_reference': 'ATplDJYf3lwh75nP-4eHBN5TBOowixY3mgO7NSHnU1RiZTm20lOMvkBrbAGdK-rp2l57BYYjDEwgv15q1Lpi4vgjxqC_aH6aKO5M6AdL42QmJz5DbdjbbHNITmJBFONGrcDui0QOiSDtmAbISWXnpDQkLfBuewnDYrTRZGheUTpPzIyb0v9g', 'width': 4160}], 'place_id': 'ChIJOwg_06VPwokRYv534QaPC8g', 'reference': 'ChIJOwg_06VPwokRYv534QaPC8g', 'scope': 'GOOGLE', 'types': ['locality', 'political'], 'vicinity': 'New York'}, 'nearest_ev_station_distance': 5971, 'nearest_ev_route_segment': {'distance': {'text': '6.0 km', 'value': 5971}, 'duration': {'text': '17 mins', 'value': 999}, 'end_address': '1356 Broadway, New York, NY 10018, USA', 'end_location': {'lat': 40.7126802, 'lng': -74.00657629999999}, 'start_address': '605 Monmouth St, Jersey City, NJ 07302, USA', 'start_location': {'lat': 40.7313096, 'lng': -74.05010829999999}, 'steps': [{'distance': {'text': '0.2 km', 'value': 234}, 'duration': {'text': '1 min', 'value': 37}, 'end_location': {'lat': 40.7319191, 'lng': -74.0526415}, 'html_instructions': 'Head <b>west</b> toward <b>Hoboken Ave</b>', 'polyline': {'points': 'uirwFd|}bMAB?D?F?FB^Bv@A|@?ZGt@EVG`@ENCLWp@c@v@a@t@'}, 'start_location': {'lat': 40.7313096, 'lng': -74.05010829999999}, 'travel_mode': 'DRIVING'}, {'distance': {'text': '0.3 km', 'value': 292}, 'duration': {'text': '1 min', 'value': 76}, 'end_location': {'lat': 40.7310874, 'lng': -74.0500165}, 'html_instructions': 'Make a <b>U-turn</b> at <b>Palisade Ave</b> (signs for <b>NJ-139 E</b>)', 'maneuver': 'uturn-left', 'polyline': {'points': 'omrwF~k~bMPXNRXc@FM@AJSHQVm@FONg@F[DUF_@D_@B_@@S@G@Y?Y?U?eBK['}, 'start_location': {'lat': 40.7319191, 'lng': -74.0526415}, 'travel_mode': 'DRIVING'}, {'distance': {'text': '0.8 km', 'value': 789}, 'duration': {'text': '4 mins', 'value': 217}, 'end_location': {'lat': 40.730129, 'lng': -74.0407645}, 'html_instructions': 'Merge onto <b>NJ-139 E</b>', 'maneuver': 'merge', 'polyline': {'points': 'ihrwFr{}bMB_@Bq@DwAJcCD{@Bq@Dq@D_AFyAHaBBa@@_@H}BNqBDq@BUBQBGBGFMBi@Be@Bu@D{@D{@@M@e@H_B@U?KB]@ODcABo@Bm@BcA'}, 'start_location': {'lat': 40.7310874, 'lng': -74.0500165}, 'travel_mode': 'DRIVING'}, {'distance': {'text': '89 m', 'value': 89}, 'duration': {'text': '1 min', 'value': 20}, 'end_location': {'lat': 40.7300706, 'lng': -74.0397212}, 'html_instructions': 'Slight <b>left</b> onto <b>12th St</b>', 'maneuver': 'turn-slight-left', 'polyline': {'points': 'ibrwFva|bMAO?y@HcB@Q@O'}, 'start_location': {'lat': 40.730129, 'lng': -74.0407645}, 'travel_mode': 'DRIVING'}, {'distance': {'text': '3.3 km', 'value': 3335}, 'duration': {'text': '5 mins', 'value': 292}, 'end_location': {'lat': 40.7209852, 'lng': -74.0070508}, 'html_instructions': 'Continue straight onto <b>I-78 E</b>/<wbr/><b>Holland Tunnel</b><div style=\"font-size:0.9em\">Continue to follow I-78 E</div><div style=\"font-size:0.9em\">Toll road</div><div style=\"font-size:0.9em\">Entering New York</div>', 'maneuver': 'straight', 'polyline': {'points': '}arwFf{{bM@KJaCBi@Bi@Be@B_@Dy@HoD@SDY@W@]?O@MBS@K@IDS@IDc@Da@PeATwADUDWDUTyADUDU@CDWHe@XwADUZkB@CLu@Fu@@S@G?Y?ADkBv@uSLeDH}A?ABo@J{AHu@h@mGDo@?CToCTgCJwAD{@jAiMNaBj@qGTcCNwAZmF?EHwAd@iILkCFcABY@QLo@XkATk@LWN[Ze@\\\\g@@A@AR]BCR]Va@n@eAr@kAbBiCLWv@aALMXWHKJM~BoDPWFKDEFIDCDC?ALEJCB?F?JAL@J@H@HBJBFDHFFFDJDFBHBHBHBL@J?@@J@L?B?h@?J@H?JBHBJDJDJFFFFFDFB?@F@H@D@@?F?HADAHCDEFEHIFKDI@G@A@E@M@K@KAKAOAMEMGKEIIG'}, 'start_location': {'lat': 40.7300706, 'lng': -74.0397212}, 'travel_mode': 'DRIVING'}, {'distance': {'text': '47 m', 'value': 47}, 'duration': {'text': '1 min', 'value': 12}, 'end_location': {'lat': 40.7211414, 'lng': -74.0065736}, 'html_instructions': 'Take exit <b>4</b> toward <b>Downtown</b>', 'maneuver': 'ramp-right', 'polyline': {'points': 'eipwF`oubMAWACCCEEAACECECC?CAA?E?A?I?O'}, 'start_location': {'lat': 40.7209852, 'lng': -74.0070508}, 'travel_mode': 'DRIVING'}, {'distance': {'text': '0.3 km', 'value': 320}, 'duration': {'text': '1 min', 'value': 84}, 'end_location': {'lat': 40.7182956, 'lng': -74.0071124}, 'html_instructions': 'Turn <b>right</b> onto <b>Varick St</b>', 'maneuver': 'turn-right', 'polyline': {'points': 'cjpwF`lubM^Db@Dh@FZDvANj@Fz@Jl@FTBN@f@Jh@FN@P@N@TD'}, 'start_location': {'lat': 40.7211414, 'lng': -74.0065736}, 'travel_mode': 'DRIVING'}, {'distance': {'text': '0.4 km', 'value': 430}, 'duration': {'text': '2 mins', 'value': 119}, 'end_location': {'lat': 40.7149616, 'lng': -74.0096784}, 'html_instructions': 'Slight <b>right</b> onto <b>W Broadway</b>', 'maneuver': 'turn-slight-right', 'polyline': {'points': 'kxowFloubML?^Zl@b@\\\\Vt@h@t@h@x@l@p@d@ZRz@n@ZTn@d@t@f@NLx@l@d@\\\\'}, 'start_location': {'lat': 40.7182956, 'lng': -74.0071124}, 'travel_mode': 'DRIVING'}, {'distance': {'text': '0.3 km', 'value': 288}, 'duration': {'text': '2 mins', 'value': 93}, 'end_location': {'lat': 40.7136248, 'lng': -74.0067557}, 'html_instructions': 'Turn <b>left</b> onto <b>Warren St</b>', 'maneuver': 'turn-left', 'polyline': {'points': 'ocowFn_vbMVu@b@oATo@Pe@Re@hAcDTq@L_@d@oA'}, 'start_location': {'lat': 40.7149616, 'lng': -74.0096784}, 'travel_mode': 'DRIVING'}, {'distance': {'text': '77 m', 'value': 77}, 'duration': {'text': '1 min', 'value': 33}, 'end_location': {'lat': 40.7130435, 'lng': -74.0072565}, 'html_instructions': 'Turn <b>right</b> onto <b>Broadway</b>/<wbr/><b>Canyon of Heroes</b>', 'maneuver': 'turn-right', 'polyline': {'points': 'c{nwFfmubMv@l@j@b@NP'}, 'start_location': {'lat': 40.7136248, 'lng': -74.0067557}, 'travel_mode': 'DRIVING'}, {'distance': {'text': '70 m', 'value': 70}, 'duration': {'text': '1 min', 'value': 16}, 'end_location': {'lat': 40.7126802, 'lng': -74.00657629999999}, 'html_instructions': 'Turn <b>left</b> at the 1st cross street at <b>Murray St</b><div style=\"font-size:0.9em\">Partial restricted usage road</div>', 'maneuver': 'turn-left', 'polyline': {'points': 'ownwFjpubMPYl@aBFK'}, 'start_location': {'lat': 40.7130435, 'lng': -74.0072565}, 'travel_mode': 'DRIVING'}], 'traffic_speed_entry': [], 'via_waypoint': []}}, {'lat': 40.7393459, 'lng': -74.0647102, 'dist': 1294, 'nearest_ev_station': {'geometry': {'location': {'lat': 40.7127753, 'lng': -74.0059728}, 'viewport': {'northeast': {'lat': 40.91757705070789, 'lng': -73.70027206817629}, 'southwest': {'lat': 40.47739906045452, 'lng': -74.25908991427882}}}, 'icon': 'https://maps.gstatic.com/mapfiles/place_api/icons/v1/png_71/geocode-71.png', 'icon_background_color': '#7B9EB0', 'icon_mask_base_uri': 'https://maps.gstatic.com/mapfiles/place_api/icons/v2/generic_pinlet', 'name': 'New York', 'photos': [{'height': 2340, 'html_attributions': ['<a href=\"https://maps.google.com/maps/contrib/105549134237934527925\">Maxster 9898</a>'], 'photo_reference': 'ATplDJYAeXuBPXWX4T2-d3lCbguj5OCzos0imgFRp3KKjQewN9ew4SGFNm5_8_tbSYlne7SSt2P9oQ6nubkurOPyEOSg-qpukNGWeFVHmzXQmAmpil8jgFZKlqpe0bbrJj_oqK8KMWofixatGFYdxR9hJBcxOEX22lHL1tfozpvLa7HQm52r', 'width': 4160}], 'place_id': 'ChIJOwg_06VPwokRYv534QaPC8g', 'reference': 'ChIJOwg_06VPwokRYv534QaPC8g', 'scope': 'GOOGLE', 'types': ['locality', 'political'], 'vicinity': 'New York'}, 'nearest_ev_station_distance': 10002, 'nearest_ev_route_segment': {'distance': {'text': '10.0 km', 'value': 10002}, 'duration': {'text': '22 mins', 'value': 1316}, 'end_address': '1356 Broadway, New York, NY 10018, USA', 'end_location': {'lat': 40.7126802, 'lng': -74.00657629999999}, 'start_address': '75 Liberty Ave, Jersey City, NJ 07306, USA', 'start_location': {'lat': 40.7393459, 'lng': -74.0647102}, 'steps': [{'distance': {'text': '1.3 km', 'value': 1294}, 'duration': {'text': '1 min', 'value': 80}, 'end_location': {'lat': 40.7392083, 'lng': -74.0744335}, 'html_instructions': 'Head <b>west</b>', 'polyline': {'points': '}{swFlw`cMAJADARAZCZAJCVAHCRCX?BC`@ARAN?z@B`@Bd@Hz@?DBR@R?T?NAN?BCRIZENGJABKPMNIDIFGBIDIDOBA?M@I@YBMGIEKEECGEGEGGIIGIGMEIEMGOCQCOASAQ?Q?U@Q@QDOBODMFKFIFILKJGJCTCD?D@D@F@DBD@BBDDDB?@BBDFDF@B@DDL@DNp@HdCBv@Dx@Bd@@d@JbBBp@B\\\\@\\\\D|@Bl@B`@?JFpABl@?FBf@?DBf@?@@BFxA?@Bj@JhC?BBh@Dr@DbAJvB'}, 'start_location': {'lat': 40.7393459, 'lng': -74.0647102}, 'travel_mode': 'DRIVING'}, {'distance': {'text': '0.4 km', 'value': 389}, 'duration': {'text': '1 min', 'value': 28}, 'end_location': {'lat': 40.7402793, 'lng': -74.0737469}, 'html_instructions': 'Take the <b>US-9 Truck S</b> ramp to <b>Bayonne</b>', 'maneuver': 'ramp-right', 'polyline': {'points': 'a{swFdtbcMCl@IfAE^GVCLADEJCDEHGHILMJIDMDIBKBG?E@I?KAG?ICGAGCIEIGGEIIGIGIEIEKEMCMCIAMAKAQ?M?M@O?K@O@E?G@MDS@KBKBIBIBMDKFMDKPa@'}, 'start_location': {'lat': 40.7392083, 'lng': -74.0744335}, 'travel_mode': 'DRIVING'}, {'distance': {'text': '0.1 km', 'value': 146}, 'duration': {'text': '1 min', 'value': 14}, 'end_location': {'lat': 40.7390058, 'lng': -74.0737458}, 'html_instructions': 'Continue onto <b>US-1 Truck S</b>/<wbr/><b>US-9 Truck S</b>', 'polyline': {'points': 'watwF|obcM`@URIPCRAR@d@FRBNBRDn@L'}, 'start_location': {'lat': 40.7402793, 'lng': -74.0737469}, 'travel_mode': 'DRIVING'}, {'distance': {'text': '0.3 km', 'value': 255}, 'duration': {'text': '1 min', 'value': 54}, 'end_location': {'lat': 40.7381901, 'lng': -74.0741297}, 'html_instructions': 'Take the exit toward <b>US-1 Truck N</b>/<wbr/><b>US-9 Truck N</b>', 'maneuver': 'ramp-right', 'polyline': {'points': 'yyswF|obcMRd@PXBFBDBVB\\\\@P?HADANGVC`@?J?D@F@@DFBD@@@@@@B@H@DAFABA@AVUZmB@I@GBOBSDU'}, 'start_location': {'lat': 40.7390058, 'lng': -74.0737458}, 'travel_mode': 'DRIVING'}, {'distance': {'text': '58 m', 'value': 58}, 'duration': {'text': '1 min', 'value': 17}, 'end_location': {'lat': 40.7385644, 'lng': -74.0738427}, 'html_instructions': 'Turn <b>left</b> onto <b>US-1 Truck N</b>/<wbr/><b>US-9 Truck N</b>', 'maneuver': 'turn-left', 'polyline': {'points': 'utswFhrbcMDUs@Y[I'}, 'start_location': {'lat': 40.7381901, 'lng': -74.0741297}, 'travel_mode': 'DRIVING'}, {'distance': {'text': '0.7 km', 'value': 709}, 'duration': {'text': '1 min', 'value': 83}, 'end_location': {'lat': 40.7393679, 'lng': -74.0658247}, 'html_instructions': 'Slight <b>right</b> onto the <b>NJ-139 E</b> ramp to <b>Hoboken</b>/<wbr/><b>Holland Tunnel</b>', 'maneuver': 'ramp-right', 'polyline': {'points': '_wswFnpbcMAECECCAA?AECECKGSOIMCCIMGIACEMEICIAC?CCICKCMAKAOAMAMIqBCoAIkBIwBIsBA[AQCi@?EAo@?o@?g@@E@a@B_@D[@Q@MBS@G?ADMDeBAaACiAC{ACm@Ao@'}, 'start_location': {'lat': 40.7385644, 'lng': -74.0738427}, 'travel_mode': 'DRIVING'}, {'distance': {'text': '0.4 km', 'value': 354}, 'duration': {'text': '1 min', 'value': 60}, 'end_location': {'lat': 40.7388608, 'lng': -74.0617511}, 'html_instructions': 'Keep <b>left</b>', 'maneuver': 'keep-left', 'polyline': {'points': 'a|swFj~`cMCKAC?E?I?KAO?E?a@@MJw@BWBMBIFK?W@c@?U@M?O?Q@e@@e@@i@DeA@MBWDa@DWFi@@IFc@@IF]DY@E@EBC'}, 'start_location': {'lat': 40.7393679, 'lng': -74.0658247}, 'travel_mode': 'DRIVING'}, {'distance': {'text': '2.1 km', 'value': 2141}, 'duration': {'text': '5 mins', 'value': 311}, 'end_location': {'lat': 40.730129, 'lng': -74.0407645}, 'html_instructions': 'Merge onto <b>NJ-139 E</b>', 'maneuver': 'merge', 'polyline': {'points': '{xswF|d`cM?ADQDQFWHWBGFSHWL[JWLYNYN[JSBG@AJQHO?AJOLQX_@`AmAt@}@LQvBiCh@q@bAkAr@}@t@}@Z]LS`@g@NSNSNQNQNQPU\\\\a@|AmB|AmB`@e@`@g@PSpB{Bb@i@T[LMLOZc@JOT]HKLWLSLWJWFMBKFSDMBODSDQBO@OBOBS@O@O?G?I@O?O?g@@}BB_@Bq@DwAJcCD{@Bq@Dq@D_AFyAHaBBa@@_@H}BNqBDq@BUBQBGBGFMBi@Be@Bu@D{@D{@@M@e@H_B@U?KB]@ODcABo@Bm@BcA'}, 'start_location': {'lat': 40.7388608, 'lng': -74.0617511}, 'travel_mode': 'DRIVING'}, {'distance': {'text': '89 m', 'value': 89}, 'duration': {'text': '1 min', 'value': 20}, 'end_location': {'lat': 40.7300706, 'lng': -74.0397212}, 'html_instructions': 'Slight <b>left</b> onto <b>12th St</b>', 'maneuver': 'turn-slight-left', 'polyline': {'points': 'ibrwFva|bMAO?y@HcB@Q@O'}, 'start_location': {'lat': 40.730129, 'lng': -74.0407645}, 'travel_mode': 'DRIVING'}, {'distance': {'text': '3.3 km', 'value': 3335}, 'duration': {'text': '5 mins', 'value': 292}, 'end_location': {'lat': 40.7209852, 'lng': -74.0070508}, 'html_instructions': 'Continue straight onto <b>I-78 E</b>/<wbr/><b>Holland Tunnel</b><div style=\"font-size:0.9em\">Continue to follow I-78 E</div><div style=\"font-size:0.9em\">Toll road</div><div style=\"font-size:0.9em\">Entering New York</div>', 'maneuver': 'straight', 'polyline': {'points': '}arwFf{{bM@KJaCBi@Bi@Be@B_@Dy@HoD@SDY@W@]?O@MBS@K@IDS@IDc@Da@PeATwADUDWDUTyADUDU@CDWHe@XwADUZkB@CLu@Fu@@S@G?Y?ADkBv@uSLeDH}A?ABo@J{AHu@h@mGDo@?CToCTgCJwAD{@jAiMNaBj@qGTcCNwAZmF?EHwAd@iILkCFcABY@QLo@XkATk@LWN[Ze@\\\\g@@A@AR]BCR]Va@n@eAr@kAbBiCLWv@aALMXWHKJM~BoDPWFKDEFIDCDC?ALEJCB?F?JAL@J@H@HBJBFDHFFFDJDFBHBHBHBL@J?@@J@L?B?h@?J@H?JBHBJDJDJFFFFFDFB?@F@H@D@@?F?HADAHCDEFEHIFKDI@G@A@E@M@K@KAKAOAMEMGKEIIG'}, 'start_location': {'lat': 40.7300706, 'lng': -74.0397212}, 'travel_mode': 'DRIVING'}, {'distance': {'text': '47 m', 'value': 47}, 'duration': {'text': '1 min', 'value': 12}, 'end_location': {'lat': 40.7211414, 'lng': -74.0065736}, 'html_instructions': 'Take exit <b>4</b> toward <b>Downtown</b>', 'maneuver': 'ramp-right', 'polyline': {'points': 'eipwF`oubMAWACCCEEAACECECC?CAA?E?A?I?O'}, 'start_location': {'lat': 40.7209852, 'lng': -74.0070508}, 'travel_mode': 'DRIVING'}, {'distance': {'text': '0.3 km', 'value': 320}, 'duration': {'text': '1 min', 'value': 84}, 'end_location': {'lat': 40.7182956, 'lng': -74.0071124}, 'html_instructions': 'Turn <b>right</b> onto <b>Varick St</b>', 'maneuver': 'turn-right', 'polyline': {'points': 'cjpwF`lubM^Db@Dh@FZDvANj@Fz@Jl@FTBN@f@Jh@FN@P@N@TD'}, 'start_location': {'lat': 40.7211414, 'lng': -74.0065736}, 'travel_mode': 'DRIVING'}, {'distance': {'text': '0.4 km', 'value': 430}, 'duration': {'text': '2 mins', 'value': 119}, 'end_location': {'lat': 40.7149616, 'lng': -74.0096784}, 'html_instructions': 'Slight <b>right</b> onto <b>W Broadway</b>', 'maneuver': 'turn-slight-right', 'polyline': {'points': 'kxowFloubML?^Zl@b@\\\\Vt@h@t@h@x@l@p@d@ZRz@n@ZTn@d@t@f@NLx@l@d@\\\\'}, 'start_location': {'lat': 40.7182956, 'lng': -74.0071124}, 'travel_mode': 'DRIVING'}, {'distance': {'text': '0.3 km', 'value': 288}, 'duration': {'text': '2 mins', 'value': 93}, 'end_location': {'lat': 40.7136248, 'lng': -74.0067557}, 'html_instructions': 'Turn <b>left</b> onto <b>Warren St</b>', 'maneuver': 'turn-left', 'polyline': {'points': 'ocowFn_vbMVu@b@oATo@Pe@Re@hAcDTq@L_@d@oA'}, 'start_location': {'lat': 40.7149616, 'lng': -74.0096784}, 'travel_mode': 'DRIVING'}, {'distance': {'text': '77 m', 'value': 77}, 'duration': {'text': '1 min', 'value': 33}, 'end_location': {'lat': 40.7130435, 'lng': -74.0072565}, 'html_instructions': 'Turn <b>right</b> onto <b>Broadway</b>/<wbr/><b>Canyon of Heroes</b>', 'maneuver': 'turn-right', 'polyline': {'points': 'c{nwFfmubMv@l@j@b@NP'}, 'start_location': {'lat': 40.7136248, 'lng': -74.0067557}, 'travel_mode': 'DRIVING'}, {'distance': {'text': '70 m', 'value': 70}, 'duration': {'text': '1 min', 'value': 16}, 'end_location': {'lat': 40.7126802, 'lng': -74.00657629999999}, 'html_instructions': 'Turn <b>left</b> at the 1st cross street at <b>Murray St</b><div style=\"font-size:0.9em\">Partial restricted usage road</div>', 'maneuver': 'turn-left', 'polyline': {'points': 'ownwFjpubMPYl@aBFK'}, 'start_location': {'lat': 40.7130435, 'lng': -74.0072565}, 'travel_mode': 'DRIVING'}], 'traffic_speed_entry': [], 'via_waypoint': []}}, {'lat': 40.7392083, 'lng': -74.0744335, 'dist': 2037, 'nearest_ev_station': {'geometry': {'location': {'lat': 40.7127753, 'lng': -74.0059728}, 'viewport': {'northeast': {'lat': 40.91757705070789, 'lng': -73.70027206817629}, 'southwest': {'lat': 40.47739906045452, 'lng': -74.25908991427882}}}, 'icon': 'https://maps.gstatic.com/mapfiles/place_api/icons/v1/png_71/geocode-71.png', 'icon_background_color': '#7B9EB0', 'icon_mask_base_uri': 'https://maps.gstatic.com/mapfiles/place_api/icons/v2/generic_pinlet', 'name': 'New York', 'photos': [{'height': 2340, 'html_attributions': ['<a href=\"https://maps.google.com/maps/contrib/105549134237934527925\">Maxster 9898</a>'], 'photo_reference': 'ATplDJaEoLy2ZUb0tajnSsExyicIydRw-1b1xgNPbwfqy_QhBjlZXHpuYy11sOWVDVvXR1m7LJc3oiKzHwuRXGC0e-SgH5pd2MVnFcY-71Yx-6CQG9hVuxTyiOZS3d_lGjKojXH8109VUH-zSziUOHTqY4OlhONWdMugOMSl0UoKW0a1Y6Xe', 'width': 4160}], 'place_id': 'ChIJOwg_06VPwokRYv534QaPC8g', 'reference': 'ChIJOwg_06VPwokRYv534QaPC8g', 'scope': 'GOOGLE', 'types': ['locality', 'political'], 'vicinity': 'New York'}, 'nearest_ev_station_distance': 8708, 'nearest_ev_route_segment': {'distance': {'text': '8.7 km', 'value': 8708}, 'duration': {'text': '21 mins', 'value': 1235}, 'end_address': '1356 Broadway, New York, NY 10018, USA', 'end_location': {'lat': 40.7126802, 'lng': -74.00657629999999}, 'start_address': 'US-1 Truck, Jersey City, NJ 07306, USA', 'start_location': {'lat': 40.7392083, 'lng': -74.0744335}, 'steps': [{'distance': {'text': '0.4 km', 'value': 389}, 'duration': {'text': '1 min', 'value': 27}, 'end_location': {'lat': 40.7402793, 'lng': -74.0737469}, 'html_instructions': 'Head <b>west</b> toward <b>US-1 Truck S</b>/<wbr/><b>US-9 Truck S</b>', 'polyline': {'points': 'a{swFdtbcMCl@IfAE^GVCLADEJCDEHGHILMJIDMDIBKBG?E@I?KAG?ICGAGCIEIGGEIIGIGIEIEKEMCMCIAMAKAQ?M?M@O?K@O@E?G@MDS@KBKBIBIBMDKFMDKPa@'}, 'start_location': {'lat': 40.7392083, 'lng': -74.0744335}, 'travel_mode': 'DRIVING'}, {'distance': {'text': '0.1 km', 'value': 146}, 'duration': {'text': '1 min', 'value': 14}, 'end_location': {'lat': 40.7390058, 'lng': -74.0737458}, 'html_instructions': 'Continue onto <b>US-1 Truck S</b>/<wbr/><b>US-9 Truck S</b>', 'polyline': {'points': 'watwF|obcM`@URIPCRAR@d@FRBNBRDn@L'}, 'start_location': {'lat': 40.7402793, 'lng': -74.0737469}, 'travel_mode': 'DRIVING'}, {'distance': {'text': '0.3 km', 'value': 255}, 'duration': {'text': '1 min', 'value': 54}, 'end_location': {'lat': 40.7381901, 'lng': -74.0741297}, 'html_instructions': 'Take the exit toward <b>US-1 Truck N</b>/<wbr/><b>US-9 Truck N</b>', 'maneuver': 'ramp-right', 'polyline': {'points': 'yyswF|obcMRd@PXBFBDBVB\\\\@P?HADANGVC`@?J?D@F@@DFBD@@@@@@B@H@DAFABA@AVUZmB@I@GBOBSDU'}, 'start_location': {'lat': 40.7390058, 'lng': -74.0737458}, 'travel_mode': 'DRIVING'}, {'distance': {'text': '58 m', 'value': 58}, 'duration': {'text': '1 min', 'value': 17}, 'end_location': {'lat': 40.7385644, 'lng': -74.0738427}, 'html_instructions': 'Turn <b>left</b> onto <b>US-1 Truck N</b>/<wbr/><b>US-9 Truck N</b>', 'maneuver': 'turn-left', 'polyline': {'points': 'utswFhrbcMDUs@Y[I'}, 'start_location': {'lat': 40.7381901, 'lng': -74.0741297}, 'travel_mode': 'DRIVING'}, {'distance': {'text': '0.7 km', 'value': 709}, 'duration': {'text': '1 min', 'value': 83}, 'end_location': {'lat': 40.7393679, 'lng': -74.0658247}, 'html_instructions': 'Slight <b>right</b> onto the <b>NJ-139 E</b> ramp to <b>Hoboken</b>/<wbr/><b>Holland Tunnel</b>', 'maneuver': 'ramp-right', 'polyline': {'points': '_wswFnpbcMAECECCAA?AECECKGSOIMCCIMGIACEMEICIAC?CCICKCMAKAOAMAMIqBCoAIkBIwBIsBA[AQCi@?EAo@?o@?g@@E@a@B_@D[@Q@MBS@G?ADMDeBAaACiAC{ACm@Ao@'}, 'start_location': {'lat': 40.7385644, 'lng': -74.0738427}, 'travel_mode': 'DRIVING'}, {'distance': {'text': '0.4 km', 'value': 354}, 'duration': {'text': '1 min', 'value': 60}, 'end_location': {'lat': 40.7388608, 'lng': -74.0617511}, 'html_instructions': 'Keep <b>left</b>', 'maneuver': 'keep-left', 'polyline': {'points': 'a|swFj~`cMCKAC?E?I?KAO?E?a@@MJw@BWBMBIFK?W@c@?U@M?O?Q@e@@e@@i@DeA@MBWDa@DWFi@@IFc@@IF]DY@E@EBC'}, 'start_location': {'lat': 40.7393679, 'lng': -74.0658247}, 'travel_mode': 'DRIVING'}, {'distance': {'text': '2.1 km', 'value': 2141}, 'duration': {'text': '5 mins', 'value': 311}, 'end_location': {'lat': 40.730129, 'lng': -74.0407645}, 'html_instructions': 'Merge onto <b>NJ-139 E</b>', 'maneuver': 'merge', 'polyline': {'points': '{xswF|d`cM?ADQDQFWHWBGFSHWL[JWLYNYN[JSBG@AJQHO?AJOLQX_@`AmAt@}@LQvBiCh@q@bAkAr@}@t@}@Z]LS`@g@NSNSNQNQNQPU\\\\a@|AmB|AmB`@e@`@g@PSpB{Bb@i@T[LMLOZc@JOT]HKLWLSLWJWFMBKFSDMBODSDQBO@OBOBS@O@O?G?I@O?O?g@@}BB_@Bq@DwAJcCD{@Bq@Dq@D_AFyAHaBBa@@_@H}BNqBDq@BUBQBGBGFMBi@Be@Bu@D{@D{@@M@e@H_B@U?KB]@ODcABo@Bm@BcA'}, 'start_location': {'lat': 40.7388608, 'lng': -74.0617511}, 'travel_mode': 'DRIVING'}, {'distance': {'text': '89 m', 'value': 89}, 'duration': {'text': '1 min', 'value': 20}, 'end_location': {'lat': 40.7300706, 'lng': -74.0397212}, 'html_instructions': 'Slight <b>left</b> onto <b>12th St</b>', 'maneuver': 'turn-slight-left', 'polyline': {'points': 'ibrwFva|bMAO?y@HcB@Q@O'}, 'start_location': {'lat': 40.730129, 'lng': -74.0407645}, 'travel_mode': 'DRIVING'}, {'distance': {'text': '3.3 km', 'value': 3335}, 'duration': {'text': '5 mins', 'value': 292}, 'end_location': {'lat': 40.7209852, 'lng': -74.0070508}, 'html_instructions': 'Continue straight onto <b>I-78 E</b>/<wbr/><b>Holland Tunnel</b><div style=\"font-size:0.9em\">Continue to follow I-78 E</div><div style=\"font-size:0.9em\">Toll road</div><div style=\"font-size:0.9em\">Entering New York</div>', 'maneuver': 'straight', 'polyline': {'points': '}arwFf{{bM@KJaCBi@Bi@Be@B_@Dy@HoD@SDY@W@]?O@MBS@K@IDS@IDc@Da@PeATwADUDWDUTyADUDU@CDWHe@XwADUZkB@CLu@Fu@@S@G?Y?ADkBv@uSLeDH}A?ABo@J{AHu@h@mGDo@?CToCTgCJwAD{@jAiMNaBj@qGTcCNwAZmF?EHwAd@iILkCFcABY@QLo@XkATk@LWN[Ze@\\\\g@@A@AR]BCR]Va@n@eAr@kAbBiCLWv@aALMXWHKJM~BoDPWFKDEFIDCDC?ALEJCB?F?JAL@J@H@HBJBFDHFFFDJDFBHBHBHBL@J?@@J@L?B?h@?J@H?JBHBJDJDJFFFFFDFB?@F@H@D@@?F?HADAHCDEFEHIFKDI@G@A@E@M@K@KAKAOAMEMGKEIIG'}, 'start_location': {'lat': 40.7300706, 'lng': -74.0397212}, 'travel_mode': 'DRIVING'}, {'distance': {'text': '47 m', 'value': 47}, 'duration': {'text': '1 min', 'value': 12}, 'end_location': {'lat': 40.7211414, 'lng': -74.0065736}, 'html_instructions': 'Take exit <b>4</b> toward <b>Downtown</b>', 'maneuver': 'ramp-right', 'polyline': {'points': 'eipwF`oubMAWACCCEEAACECECC?CAA?E?A?I?O'}, 'start_location': {'lat': 40.7209852, 'lng': -74.0070508}, 'travel_mode': 'DRIVING'}, {'distance': {'text': '0.3 km', 'value': 320}, 'duration': {'text': '1 min', 'value': 84}, 'end_location': {'lat': 40.7182956, 'lng': -74.0071124}, 'html_instructions': 'Turn <b>right</b> onto <b>Varick St</b>', 'maneuver': 'turn-right', 'polyline': {'points': 'cjpwF`lubM^Db@Dh@FZDvANj@Fz@Jl@FTBN@f@Jh@FN@P@N@TD'}, 'start_location': {'lat': 40.7211414, 'lng': -74.0065736}, 'travel_mode': 'DRIVING'}, {'distance': {'text': '0.4 km', 'value': 430}, 'duration': {'text': '2 mins', 'value': 119}, 'end_location': {'lat': 40.7149616, 'lng': -74.0096784}, 'html_instructions': 'Slight <b>right</b> onto <b>W Broadway</b>', 'maneuver': 'turn-slight-right', 'polyline': {'points': 'kxowFloubML?^Zl@b@\\\\Vt@h@t@h@x@l@p@d@ZRz@n@ZTn@d@t@f@NLx@l@d@\\\\'}, 'start_location': {'lat': 40.7182956, 'lng': -74.0071124}, 'travel_mode': 'DRIVING'}, {'distance': {'text': '0.3 km', 'value': 288}, 'duration': {'text': '2 mins', 'value': 93}, 'end_location': {'lat': 40.7136248, 'lng': -74.0067557}, 'html_instructions': 'Turn <b>left</b> onto <b>Warren St</b>', 'maneuver': 'turn-left', 'polyline': {'points': 'ocowFn_vbMVu@b@oATo@Pe@Re@hAcDTq@L_@d@oA'}, 'start_location': {'lat': 40.7149616, 'lng': -74.0096784}, 'travel_mode': 'DRIVING'}, {'distance': {'text': '77 m', 'value': 77}, 'duration': {'text': '1 min', 'value': 33}, 'end_location': {'lat': 40.7130435, 'lng': -74.0072565}, 'html_instructions': 'Turn <b>right</b> onto <b>Broadway</b>/<wbr/><b>Canyon of Heroes</b>', 'maneuver': 'turn-right', 'polyline': {'points': 'c{nwFfmubMv@l@j@b@NP'}, 'start_location': {'lat': 40.7136248, 'lng': -74.0067557}, 'travel_mode': 'DRIVING'}, {'distance': {'text': '70 m', 'value': 70}, 'duration': {'text': '1 min', 'value': 16}, 'end_location': {'lat': 40.7126802, 'lng': -74.00657629999999}, 'html_instructions': 'Turn <b>left</b> at the 1st cross street at <b>Murray St</b><div style=\"font-size:0.9em\">Partial restricted usage road</div>', 'maneuver': 'turn-left', 'polyline': {'points': 'ownwFjpubMPYl@aBFK'}, 'start_location': {'lat': 40.7130435, 'lng': -74.0072565}, 'travel_mode': 'DRIVING'}], 'traffic_speed_entry': [], 'via_waypoint': []}}, {'lat': 40.7467093, 'lng': -74.0960099, 'dist': 2116, 'nearest_ev_station': {'geometry': {'location': {'lat': 40.735657, 'lng': -74.1723667}, 'viewport': {'northeast': {'lat': 40.7886640467276, 'lng': -74.1127869158014}, 'southwest': {'lat': 40.67390292283329, 'lng': -74.25132394466101}}}, 'icon': 'https://maps.gstatic.com/mapfiles/place_api/icons/v1/png_71/geocode-71.png', 'icon_background_color': '#7B9EB0', 'icon_mask_base_uri': 'https://maps.gstatic.com/mapfiles/place_api/icons/v2/generic_pinlet', 'name': 'Newark', 'photos': [{'height': 725, 'html_attributions': ['<a href=\"https://maps.google.com/maps/contrib/110338195705237783781\">NEHA KANKAR</a>'], 'photo_reference': 'ATplDJZL-VtH-w0dMdV8lBRKjis811QdioajASy9FzJkZpLtR2gwgqqZjGJSNKv2Liuhsa2GWFr0cYFuy3TM2djgZRuXyCmWS3rFfRmystdQH1a0lTuoj5-ycMDWXBugU9V-D7YUg-VNnXMU7PDhgNAdHwe5BKEiKz0ZHAbxDXa26dPPQQAE', 'width': 1080}], 'place_id': 'ChIJHQ6aMnBTwokRc-T-3CrcvOE', 'reference': 'ChIJHQ6aMnBTwokRc-T-3CrcvOE', 'scope': 'GOOGLE', 'types': ['locality', 'political'], 'vicinity': 'Newark'}, 'nearest_ev_station_distance': 8981, 'nearest_ev_route_segment': {'distance': {'text': '9.0 km', 'value': 8981}, 'duration': {'text': '13 mins', 'value': 769}, 'end_address': 'Broad St at Market St, Newark, NJ 07102, USA', 'end_location': {'lat': 40.73565, 'lng': -74.17237}, 'start_address': '5710 Newark-Jersey City Tpke, Kearny, NJ 07032, USA', 'start_location': {'lat': 40.7467093, 'lng': -74.0960099}, 'steps': [{'distance': {'text': '2.1 km', 'value': 2116}, 'duration': {'text': '2 mins', 'value': 132}, 'end_location': {'lat': 40.7496648, 'lng': -74.1203428}, 'html_instructions': 'Head <b>northwest</b> on <b>Newark-Jersey City Tpke</b>', 'polyline': {'points': '}iuwF`{fcMMj@Qz@GX?@EXCR?@ADCZAHARAZC\\\\?N?@?P?Z?@?`@@XBb@Bh@D^Jr@RfADZ@H@FDPTpAJl@Jj@P`A@FDN?BD\\\\BZDf@Bb@?\\\\@^?`@?BA`@AVCZEp@I`AKhACZi@nEAHWtBQzAa@nDSbBAJSlBi@hEKp@MhA]zCIt@QbBCZ?N@JKv@E\\\\E`@Ir@SjBSfBOxAOpAK|@c@xDW|BMdAg@lEWzBEX?BALCL?@?@?@?@Kv@CRUzBQvAOjAERAH?B?@CT'}, 'start_location': {'lat': 40.7467093, 'lng': -74.0960099}, 'travel_mode': 'DRIVING'}, {'distance': {'text': '4.4 km', 'value': 4412}, 'duration': {'text': '3 mins', 'value': 184}, 'end_location': {'lat': 40.748118, 'lng': -74.16735369999999}, 'html_instructions': 'Take the ramp onto <b>I-280 W</b>', 'maneuver': 'ramp-right', 'polyline': {'points': 'k|uwFbskcMKNEDCHEHIVOd@O^CDITITKXIXABIRCJGLCLENCJGRCVA@AHALAJAN?JAJ?F?B?X@N?L@L@JD^BTD\\\\DZD\\\\DZDT@DDXF^J`@DNNp@FRH\\\\JZPj@@DLZHTLZ`@fANZBF`@bA@Db@dABFDJLZn@~AJTLZTl@L\\\\@BHVHTJ\\\\HVHTHX@DPb@DNDNPf@BH@@BHL\\\\FPJRL\\\\Rb@r@zALVLVJVLVLVHR@BJTLX?@JVFLBJJVJXFNDJHVJXFVF^HZHV`@tAJ^Nl@HVDTHVVdAh@~BLt@Jf@Jl@DZLr@XpBLt@Jx@h@hDJv@@@Jv@Lv@Lv@Jz@Lt@Fb@DTRtALv@Lx@RrALx@D\\\\Hf@Hh@DXFZDXDXD\\\\DVBRFb@F\\\\DXHj@BTFh@Jv@BXD^Ft@Fv@HdAHdABb@@T@Z@T@TB`@DhABn@DrADrA@^FfCDzA?PBt@@j@?@?^@`@?D?J@bAB|A?x@@tA@F?h@AlAEfBEt@G~@?@E^?@E\\\\AFGd@Mv@Kf@UbAQn@Ob@O`@M^KXKTMV[l@MTORMTQXSVEFCDSVYb@CBUXSXe@l@_@h@Y`@QRUZW^g@n@[d@Y^[^g@t@c@h@Y`@[`@e@n@QXg@z@Yb@Yj@Qd@KVIRO`@Qn@Qp@AB]jBIj@QzAEz@AXAVCh@OlEAZAh@Aj@@lB'}, 'start_location': {'lat': 40.7496648, 'lng': -74.1203428}, 'travel_mode': 'DRIVING'}, {'distance': {'text': '0.2 km', 'value': 243}, 'duration': {'text': '1 min', 'value': 39}, 'end_location': {'lat': 40.7490008, 'lng': -74.16779919999999}, 'html_instructions': 'Take exit <b>15</b> toward <b>Prudential Ctr</b>/<wbr/><b>Newark</b>/<wbr/><b>Belleville</b>/<wbr/><b>Broad St</b>/<wbr/><b>Downtown</b>', 'maneuver': 'ramp-right', 'polyline': {'points': 'wruwF|xtcMIRAB?D?b@?X?@?@?P?@?LCXAPAJAJABELGLGLGFE@ABA?GDKDK@M@KCEAECIGGKKOAECOCQ?C?A?K?U?M?_@AK'}, 'start_location': {'lat': 40.748118, 'lng': -74.16735369999999}, 'travel_mode': 'DRIVING'}, {'distance': {'text': '1.7 km', 'value': 1694}, 'duration': {'text': '4 mins', 'value': 264}, 'end_location': {'lat': 40.7342939, 'lng': -74.1665234}, 'html_instructions': 'Turn <b>right</b> onto <b>NJ-21 S</b>', 'maneuver': 'turn-right', 'polyline': {'points': 'gxuwFv{tcM^C`@EJOTAf@C^C@?@?FAB?@?NC@?B?B?B?DANALC~@GVCd@It@QHCt@U^Kn@I@?l@A`@?^?J@T@h@Bf@@|B\\\\\\\\BP@b@?HAH?PAPERGPGNGDAVAPIlAw@fCcBt@k@ZSHGFEVMLILG`@OXIVG^Ej@IB?`@El@IXCJANAh@CZCX?TAn@?p@Bb@@x@H@?h@DbAJ|@Hd@FB@L@RBF?ZIb@FhCj@z@Tf@NBDPL@@PFl@RlCl@'}, 'start_location': {'lat': 40.7490008, 'lng': -74.16779919999999}, 'travel_mode': 'DRIVING'}, {'distance': {'text': '0.5 km', 'value': 516}, 'duration': {'text': '3 mins', 'value': 150}, 'end_location': {'lat': 40.73565, 'lng': -74.17237}, 'html_instructions': 'Turn <b>right</b> onto <b>Market St</b>/<wbr/><b>Rte 510</b>', 'maneuver': 'turn-right', 'polyline': {'points': 'i|rwFvstcM[zCUlBEXCTOvAMlAE\\\\Ij@El@E`@Gb@o@hDg@dC[~AERCNIZIb@'}, 'start_location': {'lat': 40.7342939, 'lng': -74.1665234}, 'travel_mode': 'DRIVING'}], 'traffic_speed_entry': [], 'via_waypoint': []}}, {'lat': 40.7496648, 'lng': -74.1203428, 'dist': 26739, 'nearest_ev_station': {'geometry': {'location': {'lat': 40.735657, 'lng': -74.1723667}, 'viewport': {'northeast': {'lat': 40.7886640467276, 'lng': -74.1127869158014}, 'southwest': {'lat': 40.67390292283329, 'lng': -74.25132394466101}}}, 'icon': 'https://maps.gstatic.com/mapfiles/place_api/icons/v1/png_71/geocode-71.png', 'icon_background_color': '#7B9EB0', 'icon_mask_base_uri': 'https://maps.gstatic.com/mapfiles/place_api/icons/v2/generic_pinlet', 'name': 'Newark', 'photos': [{'height': 725, 'html_attributions': ['<a href=\"https://maps.google.com/maps/contrib/110338195705237783781\">NEHA KANKAR</a>'], 'photo_reference': 'ATplDJZqHp4ZOkn9GD2gh5batQqmSCdI05ZETDJQ6uicy0a_T1NxzhNnRBL_VLnL-AHUsrC_pzjSPg88QX9OJQd_FJzMdavhVBskFRON1xf4PtfLnzf_1WFLJUjPDXrGNrZOZAjqviVtee7OcCrj2j41kUdjSelgO732swbu9RSFRShNkLJV', 'width': 1080}], 'place_id': 'ChIJHQ6aMnBTwokRc-T-3CrcvOE', 'reference': 'ChIJHQ6aMnBTwokRc-T-3CrcvOE', 'scope': 'GOOGLE', 'types': ['locality', 'political'], 'vicinity': 'Newark'}, 'nearest_ev_station_distance': 6865, 'nearest_ev_route_segment': {'distance': {'text': '6.9 km', 'value': 6865}, 'duration': {'text': '11 mins', 'value': 636}, 'end_address': 'Broad St at Market St, Newark, NJ 07102, USA', 'end_location': {'lat': 40.73565, 'lng': -74.17237}, 'start_address': '576 Harrison Ave, Kearny, NJ 07099, USA', 'start_location': {'lat': 40.7496648, 'lng': -74.1203428}, 'steps': [{'distance': {'text': '1.2 km', 'value': 1248}, 'duration': {'text': '1 min', 'value': 55}, 'end_location': {'lat': 40.7460838, 'lng': -74.13320039999999}, 'html_instructions': 'Head <b>northwest</b>', 'polyline': {'points': 'k|uwFbskcMKNEDCHEHIVOd@O^CDITITKXIXABIRCJGLCLENCJGRCVA@AHALAJAN?JAJ?F?B?X@N?L@L@JD^BTD\\\\DZD\\\\DZDT@DDXF^J`@DNNp@FRH\\\\JZPj@@DLZHTLZ`@fANZBF`@bA@Db@dABFDJLZn@~AJTLZTl@L\\\\@BHVHTJ\\\\HVHTHX@DPb@DNDNPf@BH@@BHL\\\\FPJRL\\\\Rb@r@zALVLVJVLVLVHR@BJTLX?@JVFLBJJVJXFNDJHVJXFVF^'}, 'start_location': {'lat': 40.7496648, 'lng': -74.1203428}, 'travel_mode': 'DRIVING'}, {'distance': {'text': '3.2 km', 'value': 3164}, 'duration': {'text': '2 mins', 'value': 128}, 'end_location': {'lat': 40.748118, 'lng': -74.16735369999999}, 'html_instructions': 'Merge onto <b>I-280 W</b>', 'maneuver': 'merge', 'polyline': {'points': '_fuwFncncMHZHV`@tAJ^Nl@HVDTHVVdAh@~BLt@Jf@Jl@DZLr@XpBLt@Jx@h@hDJv@@@Jv@Lv@Lv@Jz@Lt@Fb@DTRtALv@Lx@RrALx@D\\\\Hf@Hh@DXFZDXDXD\\\\DVBRFb@F\\\\DXHj@BTFh@Jv@BXD^Ft@Fv@HdAHdABb@@T@Z@T@TB`@DhABn@DrADrA@^FfCDzA?PBt@@j@?@?^@`@?D?J@bAB|A?x@@tA@F?h@AlAEfBEt@G~@?@E^?@E\\\\AFGd@Mv@Kf@UbAQn@Ob@O`@M^KXKTMV[l@MTORMTQXSVEFCDSVYb@CBUXSXe@l@_@h@Y`@QRUZW^g@n@[d@Y^[^g@t@c@h@Y`@[`@e@n@QXg@z@Yb@Yj@Qd@KVIRO`@Qn@Qp@AB]jBIj@QzAEz@AXAVCh@OlEAZAh@Aj@@lB'}, 'start_location': {'lat': 40.7460838, 'lng': -74.13320039999999}, 'travel_mode': 'DRIVING'}, {'distance': {'text': '0.2 km', 'value': 243}, 'duration': {'text': '1 min', 'value': 39}, 'end_location': {'lat': 40.7490008, 'lng': -74.16779919999999}, 'html_instructions': 'Take exit <b>15</b> toward <b>Prudential Ctr</b>/<wbr/><b>Newark</b>/<wbr/><b>Belleville</b>/<wbr/><b>Broad St</b>/<wbr/><b>Downtown</b>', 'maneuver': 'ramp-right', 'polyline': {'points': 'wruwF|xtcMIRAB?D?b@?X?@?@?P?@?LCXAPAJAJABELGLGLGFE@ABA?GDKDK@M@KCEAECIGGKKOAECOCQ?C?A?K?U?M?_@AK'}, 'start_location': {'lat': 40.748118, 'lng': -74.16735369999999}, 'travel_mode': 'DRIVING'}, {'distance': {'text': '1.7 km', 'value': 1694}, 'duration': {'text': '4 mins', 'value': 264}, 'end_location': {'lat': 40.7342939, 'lng': -74.1665234}, 'html_instructions': 'Turn <b>right</b> onto <b>NJ-21 S</b>', 'maneuver': 'turn-right', 'polyline': {'points': 'gxuwFv{tcM^C`@EJOTAf@C^C@?@?FAB?@?NC@?B?B?B?DANALC~@GVCd@It@QHCt@U^Kn@I@?l@A`@?^?J@T@h@Bf@@|B\\\\\\\\BP@b@?HAH?PAPERGPGNGDAVAPIlAw@fCcBt@k@ZSHGFEVMLILG`@OXIVG^Ej@IB?`@El@IXCJANAh@CZCX?TAn@?p@Bb@@x@H@?h@DbAJ|@Hd@FB@L@RBF?ZIb@FhCj@z@Tf@NBDPL@@PFl@RlCl@'}, 'start_location': {'lat': 40.7490008, 'lng': -74.16779919999999}, 'travel_mode': 'DRIVING'}, {'distance': {'text': '0.5 km', 'value': 516}, 'duration': {'text': '3 mins', 'value': 150}, 'end_location': {'lat': 40.73565, 'lng': -74.17237}, 'html_instructions': 'Turn <b>right</b> onto <b>Market St</b>/<wbr/><b>Rte 510</b>', 'maneuver': 'turn-right', 'polyline': {'points': 'i|rwFvstcM[zCUlBEXCTOvAMlAE\\\\Ij@El@E`@Gb@o@hDg@dC[~AERCNIZIb@'}, 'start_location': {'lat': 40.7342939, 'lng': -74.1665234}, 'travel_mode': 'DRIVING'}], 'traffic_speed_entry': [], 'via_waypoint': []}}, {'lat': 40.85903039999999, 'lng': -74.3652898, 'dist': 75141, 'nearest_ev_station': {'geometry': {'location': {'lat': 40.8652865, 'lng': -74.41738769999999}, 'viewport': {'northeast': {'lat': 40.90191092430954, 'lng': -74.34088001514093}, 'southwest': {'lat': 40.82499097364182, 'lng': -74.53355398114151}}}, 'icon': 'https://maps.gstatic.com/mapfiles/place_api/icons/v1/png_71/geocode-71.png', 'icon_background_color': '#7B9EB0', 'icon_mask_base_uri': 'https://maps.gstatic.com/mapfiles/place_api/icons/v2/generic_pinlet', 'name': 'Parsippany-Troy Hills', 'photos': [{'height': 1561, 'html_attributions': ['<a href=\"https://maps.google.com/maps/contrib/115714300152534258580\">Sonam Bagul</a>'], 'photo_reference': 'ATplDJZcgmE18WBMGDPcj8gk_4CLhTKze0fLKX2-5Z1u7qQxoVTb6VfGJZV5Q8-mk1U76bcfAi3DNqS_u2Q2dhdxLDt4xsXgOXs0F1zPefeSbk2SEyySzhUxdilgtkCoX6w6iQcvGeosdSJfVKIizL3IUCp1592UAmVCgQqjoKqJ7HcvOwm9', 'width': 1440}], 'place_id': 'ChIJwyhwKCQIw4kR8CRjsZCYpfY', 'reference': 'ChIJwyhwKCQIw4kR8CRjsZCYpfY', 'scope': 'GOOGLE', 'types': ['locality', 'political'], 'vicinity': 'Parsippany-Troy Hills'}, 'nearest_ev_station_distance': 7215, 'nearest_ev_route_segment': {'distance': {'text': '7.2 km', 'value': 7215}, 'duration': {'text': '7 mins', 'value': 438}, 'end_address': 'I-287, Parsippany, NJ 07054, USA', 'end_location': {'lat': 40.8652923, 'lng': -74.417444}, 'start_address': 'Essex Fwy, Parsippany, NJ 07054, USA', 'start_location': {'lat': 40.85903039999999, 'lng': -74.3652898}, 'steps': [{'distance': {'text': '2.0 km', 'value': 1962}, 'duration': {'text': '1 min', 'value': 83}, 'end_location': {'lat': 40.8609231, 'lng': -74.3876379}, 'html_instructions': 'Head <b>northwest</b>', 'polyline': {'points': '}gkxF`n{dMOHA@]fAUl@[~@Wt@CDOd@]bAGNg@vAENENELENENEPAHCLAFADCPAJCLANAHANARAH?HAPAV?P?R?P@T?H?J@J?J@J@J@RBL@H@J@LDPBLBJ@JBHDPJ`@H`@BJBJDNDPBFH^J`@@BH\\\\H\\\\FZFVDTDT@JBPDZDX@JBLBVBRBZBd@?T@H@\\\\@Z?R@L?X@`@HN?X?\\\\Cv@?NAf@Ct@C`@AVKvACZANAJC`@CXCXCXAJMnAQtBE^CREf@Ed@CVCXGt@ALGf@E`@En@SrBMnAC`@Gj@Gt@EZCZEb@AFIbAAPEb@C\\\\ARC\\\\CZCh@G~@C\\\\CXA\\\\CVA^CVA\\\\GnBCZCnAAT?NAP?ZA\\\\AT?NAv@AtB'}, 'start_location': {'lat': 40.85903039999999, 'lng': -74.3652898}, 'travel_mode': 'DRIVING'}, {'distance': {'text': '2.4 km', 'value': 2364}, 'duration': {'text': '2 mins', 'value': 98}, 'end_location': {'lat': 40.8657537, 'lng': -74.41388529999999}, 'html_instructions': 'Keep <b>right</b> at the fork, follow signs for <b>I-287 N</b>', 'maneuver': 'fork-right', 'polyline': {'points': 'wskxFvy_eMAz@?ZAZ?R?R?D?P@P@tB@z@?P@x@?B@v@@n@?D@v@@v@@v@@n@@^?Z@Z?D@n@?\\\\@X?Z@V@|@@v@@t@@L?h@@t@@v@@v@@v@@t@?\\\\?@@V?Z?XA\\\\?Z?ZAX?ZAZAZAZAZAX?JANAZCZ?HALC\\\\AXGr@Gv@AHGj@Gl@Gh@CVE\\\\If@AJEXEVE\\\\ETSzAMv@G^EZQhAAHCNKv@Kl@Ip@EVAFCNE\\\\EXEZEXEZ?@Kp@CPAFCPGb@EZCXEVE\\\\EXADCREZEXEXCR?FG^CPEZCXEZE\\\\EVCVIt@E\\\\CNAHE\\\\CZCTG^CREXKx@Ir@It@CXEZYdCCXK|@CXKt@CTCRG`@EXGXGVQj@ADGLCFKRIPUXSVWTK@E@y@l@QNWPQL]XIFMLIJGFGHGHORS^MVMXMZAH'}, 'start_location': {'lat': 40.8609231, 'lng': -74.3876379}, 'travel_mode': 'DRIVING'}, {'distance': {'text': '0.3 km', 'value': 277}, 'duration': {'text': '1 min', 'value': 34}, 'end_location': {'lat': 40.8669428, 'lng': -74.413664}, 'html_instructions': 'Keep <b>right</b>, follow signs for <b>US-46</b>/<wbr/><b>Smith Rd</b> and merge onto <b>W Littleton Rd</b>', 'maneuver': 'keep-right', 'polyline': {'points': '}qlxFx}deMKLUp@IZWv@?@GNIPORQNSBK@G?G?G?E?ECGCEEEECCCEEMCKG[AQ?AAO?Q?c@?a@?_A'}, 'start_location': {'lat': 40.8657537, 'lng': -74.41388529999999}, 'travel_mode': 'DRIVING'}, {'distance': {'text': '28 m', 'value': 28}, 'duration': {'text': '1 min', 'value': 8}, 'end_location': {'lat': 40.8670772, 'lng': -74.4135139}, 'html_instructions': 'Turn <b>left</b> onto <b>Smith Rd</b>', 'maneuver': 'turn-left', 'polyline': {'points': 'kylxFj|deM?][?'}, 'start_location': {'lat': 40.8669428, 'lng': -74.413664}, 'travel_mode': 'DRIVING'}, {'distance': {'text': '0.1 km', 'value': 105}, 'duration': {'text': '1 min', 'value': 33}, 'end_location': {'lat': 40.8680193, 'lng': -74.4135953}, 'html_instructions': 'Continue straight to stay on <b>Smith Rd</b>', 'maneuver': 'straight', 'polyline': {'points': 'gzlxFl{deMs@D{@CK@A?K@O@a@H'}, 'start_location': {'lat': 40.8670772, 'lng': -74.4135139}, 'travel_mode': 'DRIVING'}, {'distance': {'text': '0.8 km', 'value': 771}, 'duration': {'text': '1 min', 'value': 77}, 'end_location': {'lat': 40.8711074, 'lng': -74.421678}, 'html_instructions': 'Turn <b>left</b> onto <b>US-46 W</b>', 'maneuver': 'turn-left', 'polyline': {'points': 'c`mxF~{deMQHGFGFSZuAlDWl@i@vAQf@}@|Be@vAc@tAk@nBUr@IVI^Mf@I`@EPENAH?@GXADCNIf@EPCLAJADQlACJIf@a@fD]hC'}, 'start_location': {'lat': 40.8680193, 'lng': -74.4135953}, 'travel_mode': 'DRIVING'}, {'distance': {'text': '0.4 km', 'value': 446}, 'duration': {'text': '1 min', 'value': 43}, 'end_location': {'lat': 40.8748687, 'lng': -74.42294509999999}, 'html_instructions': 'Turn <b>right</b> onto <b>US-202 N</b>', 'maneuver': 'turn-right', 'polyline': {'points': 'msmxFnnfeMwAr@A@_Ad@YFi@XcDfBA@KFYNQHIBE@IBIBUDI@M@SBY@C?W?a@CYEUE[ISIUE'}, 'start_location': {'lat': 40.8711074, 'lng': -74.421678}, 'travel_mode': 'DRIVING'}, {'distance': {'text': '0.4 km', 'value': 432}, 'duration': {'text': '1 min', 'value': 32}, 'end_location': {'lat': 40.8723752, 'lng': -74.42015119999999}, 'html_instructions': 'Turn <b>right</b> onto the <b>Interstate 287 S</b> ramp', 'maneuver': 'ramp-right', 'polyline': {'points': '}jnxFlvfeMBo@DyB@S@S?[@w@@_@@E@KDKFOJMRSFCRG@A`@Id@G@Az@ODAh@Ir@OFAZI^Id@KTGNE?ATY'}, 'start_location': {'lat': 40.8748687, 'lng': -74.42294509999999}, 'travel_mode': 'DRIVING'}, {'distance': {'text': '0.8 km', 'value': 830}, 'duration': {'text': '1 min', 'value': 30}, 'end_location': {'lat': 40.8652923, 'lng': -74.417444}, 'html_instructions': 'Merge onto <b>I-287 S</b><div style=\"font-size:0.9em\">Destination will be on the left</div>', 'maneuver': 'merge', 'polyline': {'points': 'k{mxF|dfeM`@KVIj@QLEJCJEh@SZM`@QHCx@_@@?DC|@c@VMd@U~Au@dAe@RKPINIVMf@Ud@UPK`@QFCb@QTKVK^KJEJCRGTEBARETEb@GTCXCd@EZARARAZ?J?T?T@h@Bp@F'}, 'start_location': {'lat': 40.8723752, 'lng': -74.42015119999999}, 'travel_mode': 'DRIVING'}], 'traffic_speed_entry': [], 'via_waypoint': []}}, {'lat': 40.9816374, 'lng': -75.1372741, 'dist': 421, 'nearest_ev_station': {'geometry': {'location': {'lat': 40.9867609, 'lng': -75.1946248}, 'viewport': {'northeast': {'lat': 40.99769802367595, 'lng': -75.1792408136968}, 'southwest': {'lat': 40.97461084065949, 'lng': -75.21571499308808}}}, 'icon': 'https://maps.gstatic.com/mapfiles/place_api/icons/v1/png_71/geocode-71.png', 'icon_background_color': '#7B9EB0', 'icon_mask_base_uri': 'https://maps.gstatic.com/mapfiles/place_api/icons/v2/generic_pinlet', 'name': 'Stroudsburg', 'photos': [{'height': 732, 'html_attributions': ['<a href=\"https://maps.google.com/maps/contrib/115254584084102832684\">Barry Martin</a>'], 'photo_reference': 'ATplDJakjRi8NwEK7EKU44ugOMXM51EaRXSjdqo8oZGAUPwS1e-dTiKXaVrmJXltVqyvoW14dJFZhg9FoaagrSUQ5nBspUyRY3hVKn3WR5L32PNe7jYujE3YxUtYCtDWDA_T7O85OhRqq_WAoI9S68Ou5D4DgzE6U707iF6Wnb_GQn0qjuPX', 'width': 1300}], 'place_id': 'ChIJK_k6aEyIxIkROWwQpvv45qw', 'reference': 'ChIJK_k6aEyIxIkROWwQpvv45qw', 'scope': 'GOOGLE', 'types': ['locality', 'political'], 'vicinity': 'Stroudsburg'}, 'nearest_ev_station_distance': 7002, 'nearest_ev_route_segment': {'distance': {'text': '7.0 km', 'value': 7002}, 'duration': {'text': '7 mins', 'value': 423}, 'end_address': '604 Scott St, Stroudsburg, PA 18360, USA', 'end_location': {'lat': 40.9865801, 'lng': -75.1945137}, 'start_address': '192 Waring Dr, Delaware Water Gap, PA 18327, USA', 'start_location': {'lat': 40.9816374, 'lng': -75.1372741}, 'steps': [{'distance': {'text': '0.4 km', 'value': 421}, 'duration': {'text': '1 min', 'value': 20}, 'end_location': {'lat': 40.9853357, 'lng': -75.1382996}, 'html_instructions': 'Head <b>north</b> on <b>I-80 W</b><div style=\"font-size:0.9em\">Toll road</div>', 'polyline': {'points': 'gfcyF|friMSHUHcAVu@PYFcBZI@MBIBw@JUD[Fw@JKB}@L[DE@E?K?eANy@P'}, 'start_location': {'lat': 40.9816374, 'lng': -75.1372741}, 'travel_mode': 'DRIVING'}, {'distance': {'text': '5.4 km', 'value': 5407}, 'duration': {'text': '4 mins', 'value': 212}, 'end_location': {'lat': 40.9855926, 'lng': -75.187584}, 'html_instructions': 'Keep <b>left</b> to stay on <b>I-80 W</b><div style=\"font-size:0.9em\">Toll road</div>', 'maneuver': 'keep-left', 'polyline': {'points': 'k}cyFjmriMq@NE@m@JSDI@OB[FSFE@IBQDg@Ni@RUFEBKDSHUHSHEBMDSHSFSJUHSHOFA@UHSHUJGBKBSJSHi@Rg@RE@a@PUHSHi@TC@OFSHMDm@VUH{@\\\\}@\\\\SJQFA@g@RIBKDOFYLOFUHUJOFC@UHSHUJMFCBSHSHUHQHUJUHIDG@SHCBs@XYJUHSJSFQHC@SHSHQHMF[JUJSHUHGBKDIDIDUHIDIBSJSJSHSLC@MHKFGDSLQNSNCBKHQPMLCBOPMNQTOTORMR?@MTA@KRMVKTMVKVIVKXGRADIXGXGXGZCLIf@GZCZCPAHCZCZC\\\\CZCZAZCZC\\\\AZALANCZCXA\\\\Eb@AXC`@CZCZA\\\\CZCZC\\\\AZC\\\\CZCXEz@C\\\\AJANAZC\\\\AHAPAXAZC\\\\?XCr@?F?ZA\\\\?Z?\\\\@Z?Z@X@`@@ZBh@?JFz@JrADZBZBNFf@DZLr@FZHb@h@zB\\\\zADLXpAFVPt@Rz@Ll@Nj@@DXnAPt@XlAPr@Pt@FVt@~CH\\\\Np@Np@BFDRR|@^|Ah@zBj@fCJ\\\\Pt@Rp@FXJXHXHXDPBD^lADJLb@Vn@HXJT?@JVTn@LX@@HTVp@j@vAZt@Vn@FPf@nAb@fAPd@DJHRFLBHTj@JTJVHRTl@JTHTFL@DTj@JVHRJT@BdAlCVn@LXJZPb@Th@HR@BLXHVLZJRl@~ARh@?@N^BFPh@BFBH@DBDJZDNDLDJHV@D@DDNDLPh@BHBHHXHVHXHZ@DFRFTRv@H\\\\FRHV?@HZFVHZHXHVNh@Ld@Pn@H\\\\Rt@HXZlAPn@~@pDFTBLZjAf@nBd@fBBHLh@HZNn@Rt@H^HZHXFTJ\\\\HZPp@HZRp@p@fCj@zBXdA\\\\pA\\\\pAPr@Rn@'}, 'start_location': {'lat': 40.9853357, 'lng': -75.1382996}, 'travel_mode': 'DRIVING'}, {'distance': {'text': '0.3 km', 'value': 256}, 'duration': {'text': '1 min', 'value': 22}, 'end_location': {'lat': 40.9846058, 'lng': -75.1903076}, 'html_instructions': 'Take exit <b>307</b> for <b>PA-191 S</b>', 'maneuver': 'ramp-right', 'polyline': {'points': '}~cyFja|iMBn@Jb@XfAFPJ`@Lb@DNVdAPl@VfABJFXBP@@@BBDV\\\\'}, 'start_location': {'lat': 40.9855926, 'lng': -75.187584}, 'travel_mode': 'DRIVING'}, {'distance': {'text': '0.2 km', 'value': 196}, 'duration': {'text': '1 min', 'value': 22}, 'end_location': {'lat': 40.98293899999999, 'lng': -75.1895596}, 'html_instructions': 'Turn <b>left</b> onto <b>PA-191 S</b>/<wbr/><b>Broad St</b>', 'maneuver': 'turn-left', 'polyline': {'points': 'yxcyFlr|iMh@QBAFCBCFAJEJCHELCl@Ud@OfC}@'}, 'start_location': {'lat': 40.9846058, 'lng': -75.1903076}, 'travel_mode': 'DRIVING'}, {'distance': {'text': '0.2 km', 'value': 177}, 'duration': {'text': '1 min', 'value': 26}, 'end_location': {'lat': 40.9824092, 'lng': -75.1915471}, 'html_instructions': 'Turn <b>right</b> onto <b>Lenox St</b>', 'maneuver': 'turn-right', 'polyline': {'points': 'kncyFvm|iM`@~BVxAJj@Jl@VxA'}, 'start_location': {'lat': 40.98293899999999, 'lng': -75.1895596}, 'travel_mode': 'DRIVING'}, {'distance': {'text': '0.3 km', 'value': 262}, 'duration': {'text': '1 min', 'value': 36}, 'end_location': {'lat': 40.9841889, 'lng': -75.1935196}, 'html_instructions': 'Turn <b>right</b> onto <b>Park Ave</b>', 'maneuver': 'turn-right', 'polyline': {'points': 'akcyFdz|iMMFC@CBC@ABC@C@CBQPEDEFCDGJGHGJCDCDCBCDi@x@QXKNQTMRW^SZMREDEFEBGBIDGBMDUJ'}, 'start_location': {'lat': 40.9824092, 'lng': -75.1915471}, 'travel_mode': 'DRIVING'}, {'distance': {'text': '0.1 km', 'value': 141}, 'duration': {'text': '1 min', 'value': 39}, 'end_location': {'lat': 40.9853785, 'lng': -75.19408709999999}, 'html_instructions': 'Continue straight onto <b>S 7th St</b>', 'maneuver': 'straight', 'polyline': {'points': 'evcyFnf}iMg@RgA\\\\g@Rc@NYLWL'}, 'start_location': {'lat': 40.9841889, 'lng': -75.1935196}, 'travel_mode': 'DRIVING'}, {'distance': {'text': '0.1 km', 'value': 142}, 'duration': {'text': '1 min', 'value': 46}, 'end_location': {'lat': 40.9865801, 'lng': -75.1945137}, 'html_instructions': 'Continue straight onto <b>N 7th St</b>', 'maneuver': 'straight', 'polyline': {'points': 's}cyF`j}iMeDrA_@OQBWJ'}, 'start_location': {'lat': 40.9853785, 'lng': -75.19408709999999}, 'travel_mode': 'DRIVING'}], 'traffic_speed_entry': [], 'via_waypoint': []}}, {'lat': 40.9853357, 'lng': -75.1382996, 'dist': 27496, 'nearest_ev_station': {'geometry': {'location': {'lat': 40.9867609, 'lng': -75.1946248}, 'viewport': {'northeast': {'lat': 40.99769802367595, 'lng': -75.1792408136968}, 'southwest': {'lat': 40.97461084065949, 'lng': -75.21571499308808}}}, 'icon': 'https://maps.gstatic.com/mapfiles/place_api/icons/v1/png_71/geocode-71.png', 'icon_background_color': '#7B9EB0', 'icon_mask_base_uri': 'https://maps.gstatic.com/mapfiles/place_api/icons/v2/generic_pinlet', 'name': 'Stroudsburg', 'photos': [{'height': 732, 'html_attributions': ['<a href=\"https://maps.google.com/maps/contrib/115254584084102832684\">Barry Martin</a>'], 'photo_reference': 'ATplDJak2R3X4kyOohcUp9llQhVzV9mhVyiLlq0b1JBCZh5W8vSHJqYBvRsEW7loDQ4QOFjdgiDxcp6btR0hqLGgyAjoDnYQPrqsD-32XNPVg8RU5TD6DRyKIqVQWJI9F2JeqETDqdFrUz-EaF9C_YJAxtBgFXXOPyJLLkcUDWDBaZEBT2XV', 'width': 1300}], 'place_id': 'ChIJK_k6aEyIxIkROWwQpvv45qw', 'reference': 'ChIJK_k6aEyIxIkROWwQpvv45qw', 'scope': 'GOOGLE', 'types': ['locality', 'political'], 'vicinity': 'Stroudsburg'}, 'nearest_ev_station_distance': 6581, 'nearest_ev_route_segment': {'distance': {'text': '6.6 km', 'value': 6581}, 'duration': {'text': '7 mins', 'value': 403}, 'end_address': '604 Scott St, Stroudsburg, PA 18360, USA', 'end_location': {'lat': 40.9865801, 'lng': -75.1945137}, 'start_address': 'Z. H. Confair Mem Hwy, Delaware Water Gap, PA 18327, USA', 'start_location': {'lat': 40.9853357, 'lng': -75.1382996}, 'steps': [{'distance': {'text': '5.4 km', 'value': 5407}, 'duration': {'text': '4 mins', 'value': 212}, 'end_location': {'lat': 40.9855926, 'lng': -75.187584}, 'html_instructions': 'Head <b>north</b> on <b>I-80 W</b><div style=\"font-size:0.9em\">Toll road</div>', 'polyline': {'points': 'k}cyFjmriMq@NE@m@JSDI@OB[FSFE@IBQDg@Ni@RUFEBKDSHUHSHEBMDSHSFSJUHSHOFA@UHSHUJGBKBSJSHi@Rg@RE@a@PUHSHi@TC@OFSHMDm@VUH{@\\\\}@\\\\SJQFA@g@RIBKDOFYLOFUHUJOFC@UHSHUJMFCBSHSHUHQHUJUHIDG@SHCBs@XYJUHSJSFQHC@SHSHQHMF[JUJSHUHGBKDIDIDUHIDIBSJSJSHSLC@MHKFGDSLQNSNCBKHQPMLCBOPMNQTOTORMR?@MTA@KRMVKTMVKVIVKXGRADIXGXGXGZCLIf@GZCZCPAHCZCZC\\\\CZCZAZCZC\\\\AZALANCZCXA\\\\Eb@AXC`@CZCZA\\\\CZCZC\\\\AZC\\\\CZCXEz@C\\\\AJANAZC\\\\AHAPAXAZC\\\\?XCr@?F?ZA\\\\?Z?\\\\@Z?Z@X@`@@ZBh@?JFz@JrADZBZBNFf@DZLr@FZHb@h@zB\\\\zADLXpAFVPt@Rz@Ll@Nj@@DXnAPt@XlAPr@Pt@FVt@~CH\\\\Np@Np@BFDRR|@^|Ah@zBj@fCJ\\\\Pt@Rp@FXJXHXHXDPBD^lADJLb@Vn@HXJT?@JVTn@LX@@HTVp@j@vAZt@Vn@FPf@nAb@fAPd@DJHRFLBHTj@JTJVHRTl@JTHTFL@DTj@JVHRJT@BdAlCVn@LXJZPb@Th@HR@BLXHVLZJRl@~ARh@?@N^BFPh@BFBH@DBDJZDNDLDJHV@D@DDNDLPh@BHBHHXHVHXHZ@DFRFTRv@H\\\\FRHV?@HZFVHZHXHVNh@Ld@Pn@H\\\\Rt@HXZlAPn@~@pDFTBLZjAf@nBd@fBBHLh@HZNn@Rt@H^HZHXFTJ\\\\HZPp@HZRp@p@fCj@zBXdA\\\\pA\\\\pAPr@Rn@'}, 'start_location': {'lat': 40.9853357, 'lng': -75.1382996}, 'travel_mode': 'DRIVING'}, {'distance': {'text': '0.3 km', 'value': 256}, 'duration': {'text': '1 min', 'value': 22}, 'end_location': {'lat': 40.9846058, 'lng': -75.1903076}, 'html_instructions': 'Take exit <b>307</b> for <b>PA-191 S</b>', 'maneuver': 'ramp-right', 'polyline': {'points': '}~cyFja|iMBn@Jb@XfAFPJ`@Lb@DNVdAPl@VfABJFXBP@@@BBDV\\\\'}, 'start_location': {'lat': 40.9855926, 'lng': -75.187584}, 'travel_mode': 'DRIVING'}, {'distance': {'text': '0.2 km', 'value': 196}, 'duration': {'text': '1 min', 'value': 22}, 'end_location': {'lat': 40.98293899999999, 'lng': -75.1895596}, 'html_instructions': 'Turn <b>left</b> onto <b>PA-191 S</b>/<wbr/><b>Broad St</b>', 'maneuver': 'turn-left', 'polyline': {'points': 'yxcyFlr|iMh@QBAFCBCFAJEJCHELCl@Ud@OfC}@'}, 'start_location': {'lat': 40.9846058, 'lng': -75.1903076}, 'travel_mode': 'DRIVING'}, {'distance': {'text': '0.2 km', 'value': 177}, 'duration': {'text': '1 min', 'value': 26}, 'end_location': {'lat': 40.9824092, 'lng': -75.1915471}, 'html_instructions': 'Turn <b>right</b> onto <b>Lenox St</b>', 'maneuver': 'turn-right', 'polyline': {'points': 'kncyFvm|iM`@~BVxAJj@Jl@VxA'}, 'start_location': {'lat': 40.98293899999999, 'lng': -75.1895596}, 'travel_mode': 'DRIVING'}, {'distance': {'text': '0.3 km', 'value': 262}, 'duration': {'text': '1 min', 'value': 36}, 'end_location': {'lat': 40.9841889, 'lng': -75.1935196}, 'html_instructions': 'Turn <b>right</b> onto <b>Park Ave</b>', 'maneuver': 'turn-right', 'polyline': {'points': 'akcyFdz|iMMFC@CBC@ABC@C@CBQPEDEFCDGJGHGJCDCDCBCDi@x@QXKNQTMRW^SZMREDEFEBGBIDGBMDUJ'}, 'start_location': {'lat': 40.9824092, 'lng': -75.1915471}, 'travel_mode': 'DRIVING'}, {'distance': {'text': '0.1 km', 'value': 141}, 'duration': {'text': '1 min', 'value': 39}, 'end_location': {'lat': 40.9853785, 'lng': -75.19408709999999}, 'html_instructions': 'Continue straight onto <b>S 7th St</b>', 'maneuver': 'straight', 'polyline': {'points': 'evcyFnf}iMg@RgA\\\\g@Rc@NYLWL'}, 'start_location': {'lat': 40.9841889, 'lng': -75.1935196}, 'travel_mode': 'DRIVING'}, {'distance': {'text': '0.1 km', 'value': 142}, 'duration': {'text': '1 min', 'value': 46}, 'end_location': {'lat': 40.9865801, 'lng': -75.1945137}, 'html_instructions': 'Continue straight onto <b>N 7th St</b>', 'maneuver': 'straight', 'polyline': {'points': 's}cyF`j}iMeDrA_@OQBWJ'}, 'start_location': {'lat': 40.9853785, 'lng': -75.19408709999999}, 'travel_mode': 'DRIVING'}], 'traffic_speed_entry': [], 'via_waypoint': []}}, {'lat': 41.0700082, 'lng': -75.39047359999999, 'dist': 873, 'nearest_ev_station': {'geometry': {'location': {'lat': 41.0398099, 'lng': -75.3057288}, 'viewport': {'northeast': {'lat': 41.04864005831875, 'lng': -75.29173425709521}, 'southwest': {'lat': 41.02733457689052, 'lng': -75.31238762077191}}}, 'icon': 'https://maps.gstatic.com/mapfiles/place_api/icons/v1/png_71/geocode-71.png', 'icon_background_color': '#7B9EB0', 'icon_mask_base_uri': 'https://maps.gstatic.com/mapfiles/place_api/icons/v2/generic_pinlet', 'name': 'Tannersville', 'photos': [{'height': 4032, 'html_attributions': ['<a href=\"https://maps.google.com/maps/contrib/117887098017880870024\">Tina Hear</a>'], 'photo_reference': 'ATplDJajJz0mPqIYxWOEr2-MoDBHO8cm4Wsz1B6yjGf3V3EBmkMzkuN3uM_MKiXJhQ_ZMLQwmSVnw9PxG9WhoqQA05aPgn-77AOcyRK7kev8uOvbTNiwzxWOipegE9aVCk4vyNOj9gHX0T3XUGkEwufxQa_zFzRtdnKdYVXPzq5z4yxTXYv5', 'width': 3024}], 'place_id': 'ChIJ_cYJ33GLxIkR40Y7cDwevR0', 'reference': 'ChIJ_cYJ33GLxIkR40Y7cDwevR0', 'scope': 'GOOGLE', 'types': ['locality', 'political'], 'vicinity': 'Tannersville'}, 'nearest_ev_station_distance': 19091, 'nearest_ev_route_segment': {'distance': {'text': '19.1 km', 'value': 19091}, 'duration': {'text': '14 mins', 'value': 829}, 'end_address': '126 Pigeon Way, Tannersville, PA 18372, USA', 'end_location': {'lat': 41.0398546, 'lng': -75.3056759}, 'start_address': '1240 Gap View Dr, Scotrun, PA 18355, USA', 'start_location': {'lat': 41.0700082, 'lng': -75.39047359999999}, 'steps': [{'distance': {'text': '0.9 km', 'value': 873}, 'duration': {'text': '1 min', 'value': 32}, 'end_location': {'lat': 41.0771771, 'lng': -75.3941399}, 'html_instructions': 'Head <b>north</b> on <b>Exit 293</b>', 'polyline': {'points': 'qntyFluckMS@A?MPMNWZe@h@A@STQNKJEFYXGFSPONQNSNQNOLSPQLQLSLQLSNQJSLSJGFIDSJC@OHWNOFSJUJ_@PA?[LQHSHSFYJSFe@Na@LIBi@LSDUDUFQBWFUBUD]Fa@D_@DK@i@DC?Q@UBU@U@UBk@BaAF'}, 'start_location': {'lat': 41.0700082, 'lng': -75.39047359999999}, 'travel_mode': 'DRIVING'}, {'distance': {'text': '2.9 km', 'value': 2904}, 'duration': {'text': '2 mins', 'value': 97}, 'end_location': {'lat': 41.1031908, 'lng': -75.3972356}, 'html_instructions': 'Continue onto <b>I-380 N</b>', 'polyline': {'points': 'k{uyFjldkMS@m@DE?y@FU@S@Q@E@U@i@Bo@DQ@aAFqAHk@Dk@BUBW@UBU@W@UBU@O@E?m@DU@UBU@U@YBS@W@SBY@U@SBW@U@UBU@U@W@UBU@WBk@BU@UBW@U@UBW@U@UBS@O@I?C@O@S@C?U@UBW@U@UBU@U@UBW@U@WBW@Q@WBU@W@UBU@W@SBW@S@WBW@S@WBU@U@WBM@G?U@UBW@k@DU@U@WBS@U@e@D[@U@UBU@U@k@D]BmBJcAHm@BUBM?]BWBk@BWBU@U@UBk@BWB}F\\\\c@Ba@BgAFc@DsDR}@FU@UBW@U@U@UBW@U@UBk@BUBm@BUBU@U@m@DW@SBW@S@m@DWBU@U@Q@YBU@U@m@DU@m@Dk@Dm@Dk@Bm@DU@M@aBJU@U@u@FQ@Q@g@BQB'}, 'start_location': {'lat': 41.0771771, 'lng': -75.3941399}, 'travel_mode': 'DRIVING'}, {'distance': {'text': '0.3 km', 'value': 314}, 'duration': {'text': '1 min', 'value': 30}, 'end_location': {'lat': 41.1059771, 'lng': -75.3967821}, 'html_instructions': 'Take exit <b>3</b> for <b>PA-940</b> toward <b>Pocono Pnes</b>/<wbr/><b>Mount Pocono</b>', 'maneuver': 'ramp-right', 'polyline': {'points': '}}zyFv_ekMKMA??AU?C?C?G?GAI?SCIAMA_@C{@Iy@GKA}@Iw@GQAc@EA?WCI?iAK'}, 'start_location': {'lat': 41.1031908, 'lng': -75.3972356}, 'travel_mode': 'DRIVING'}, {'distance': {'text': '0.2 km', 'value': 163}, 'duration': {'text': '1 min', 'value': 23}, 'end_location': {'lat': 41.1062702, 'lng': -75.3985998}, 'html_instructions': 'Turn <b>left</b> onto <b>PA-940 W</b>', 'maneuver': 'turn-left', 'polyline': {'points': 'ko{yFz|dkMOBAn@Ad@AXAX?NAPCP?@C^AJCTKfAE\\\\'}, 'start_location': {'lat': 41.1059771, 'lng': -75.3967821}, 'travel_mode': 'DRIVING'}, {'distance': {'text': '3.6 km', 'value': 3562}, 'duration': {'text': '2 mins', 'value': 137}, 'end_location': {'lat': 41.0775525, 'lng': -75.3968889}, 'html_instructions': 'Merge onto <b>I-380 S</b> via the ramp to <b>I-80</b>/<wbr/><b>Stroudsburg</b>/<wbr/><b>Hazelton</b>', 'maneuver': 'ramp-right', 'polyline': {'points': 'eq{yFfhekMO\\\\ADKd@Mj@?@GPCFQTIFGDE@A@KDK@I@I?GAGAGCIEEEEEEIEECGCIAKCOAK?K?I?A?E@G?E@GBI@KBEBIDKFM?CJM?CDEHMHIFE@Ad@S@AZSj@EVAr@EJATATCXAPAZCD?JATAd@CbCOz@Ev@E`AGl@CtAIl@Er@E^CXAz@Gl@CVCTAD?j@E`@Cj@CvAIl@ETAf@Cl@Eh@Cj@E~@Gj@CvAI`AG`AGTARA^ClAGbAGh@CjBMtAIx@E~AILAfCOvAI`AGjBK|BMZAjBKjBK`@E^AXCl@Ed@CpAGj@CZCX?NA\\\\Ab@?j@?j@?|@?t@BL?jADh@DlADj@BbCLb@BD?`@BH?T@T@TBR@T@l@BT@R@T@T@T@j@BT@T@TBT@T@T@T@R@T@T@T@T@XBvAF~FXT@T@T@T@Z@N@R@T@T@T@TBN?D@T@T@R@T@T@j@BzAH'}, 'start_location': {'lat': 41.1062702, 'lng': -75.3985998}, 'travel_mode': 'DRIVING'}, {'distance': {'text': '9.5 km', 'value': 9501}, 'duration': {'text': '5 mins', 'value': 327}, 'end_location': {'lat': 41.0395498, 'lng': -75.3127895}, 'html_instructions': 'Take exit <b>1B</b> on the <b>left</b> to merge onto <b>I-80 E</b> toward <b>Stroudsburg</b>', 'maneuver': 'ramp-left', 'polyline': {'points': 'u}uyFp}dkMX@L@h@BT@V@~@DTBT@T@R@H?`@Bj@B^BP@D?`@Bh@Bh@@T?f@?l@?TATATCTATCTCRCTETCRETGRETGd@MXKPGTIRIPITKRKRKRM@?PMPKRMPMPMROROPOPQPONO`@c@NQPSNQNSDGFKPSLSLSNULULWLULULWJUJSL[JWHWJYJYHWHUH[HYHYHYF[FYNm@H_@H[F[Ps@FYFYFYH[F[HYHa@Lk@H[DUPo@Je@H]FSH_@DOFS@GH_@BIHW?APIPq@f@sBT}@Lg@\\\\uAVcA`A_E`DkM|CeM~AsGVaAZmAPw@\\\\uAj@}B@CZqAFSF[Lc@J_@No@H]F[F[H_@NgAHg@Hq@@MD_@Dc@F_ADu@@[Bc@?W@g@@}@?k@?WAI?M?MAi@Cm@?GCm@?AAECg@Gm@Gq@Gs@]{CIo@MgACQE]Gk@CQAOOkAEa@Gg@CQWsBCWg@iEAIAOe@_EQuAEa@a@oDIm@Is@OuAKw@E]C[Kw@E[E]Iw@E[OqAGi@E[CYE[Io@Iy@C[CWGs@CYA_@Ek@Cc@A[Ey@C_AAa@?]A{@?]?Y?{@?s@?E@[?W@i@?A@W@U?I@[@UBw@@G?K@K@WBY@K?KB[Da@BYJmAHw@Fs@D]BWBYB]BQD_@BYB[Hw@B[D[BWB[BYD]BUHw@BYBWB[BWD]BWFu@DYB[LsAFo@Hw@Fq@LqABWHu@Hw@B[B[Hs@B[Fq@D[BYB[DYB[BYBWD[B[BWB]DWB[B[BYD]BYBYD[BYBYD[BYBYB[DYBYB[B[DW@M@MBYBYD[BY@G@SDYB]D[Fu@Hw@@UFi@BSFq@@OHu@B[D[@MFw@@IBQLsABYDWB]BYD]B[BYD]JkABUD[@Q@GB[Fq@D]BYDYB[B[DWB[Ju@D[DYD[BUF[RkADWDYFYFYDWFYFWFYH[Lk@@CXiAFWHUHYPo@J[FSHUHWJYHWBEHWDMLYJYHUJSHUJWJUJUJWLUJUJYN[JUFOBEJWLWJSJW^y@DIDKJWJUJU@AHQb@cAJULYLUHSJUJUJWLUJWHOJWLWJWXm@L[FKDKJWLUJYP]JWLWJUL[JS@CJUJUJWLWJUJUJULYJUJULWLYJUJULWLYLWHULYLWJUJWBGHQXm@JS@ALWLWLS@EDIRYFMDILSNSLSNUNSNQJMDENSNSNO@ANQNOb@c@PO?A`@]f@a@NMRORORMRMROZQ^SRKZOr@[@AHCFCTIf@QRIDALCtBg@bB_@jAWtAYxCo@|@SnAWl@Mh@MREVGdAUTEFALChB_@TGpAYrBa@jBa@TGXGxCo@JCNE@?f@Kb@Kn@MTEXINCTGrBc@|A[bAUv@Qv@Qt@Qt@O'}, 'start_location': {'lat': 41.0775525, 'lng': -75.3968889}, 'travel_mode': 'DRIVING'}, {'distance': {'text': '0.3 km', 'value': 267}, 'duration': {'text': '1 min', 'value': 29}, 'end_location': {'lat': 41.03892520000001, 'lng': -75.314394}, 'html_instructions': 'Take exit <b>299</b> toward <b>PA-715 N</b>', 'maneuver': 'ramp-right', 'polyline': {'points': 'epnyF|otjMXDN?`@CRA\\\\@N@B?JD@?JBJFFD@@JJ@?DFDF@BFLBN@LBPALARCPGLGLCDGH[f@A@KNIHCDWX'}, 'start_location': {'lat': 41.0395498, 'lng': -75.3127895}, 'travel_mode': 'DRIVING'}, {'distance': {'text': '0.9 km', 'value': 860}, 'duration': {'text': '1 min', 'value': 86}, 'end_location': {'lat': 41.0448491, 'lng': -75.3092606}, 'html_instructions': 'Turn <b>right</b> onto <b>PA-715 N</b>', 'maneuver': 'turn-right', 'polyline': {'points': 'ilnyF|ytjMW[IIQMOOQOuAkAyAmAuBiB][MIQOg@YSMOGYISEIAKAA?QCKAM?OAo@?w@@{@@a@?WAIAC?QCOCQEECSKWMUQQOOOW[[m@GKCICIGOEOESCMCUCOCWIi@?EG_@EYE[@M?E?ECUEi@'}, 'start_location': {'lat': 41.03892520000001, 'lng': -75.314394}, 'travel_mode': 'DRIVING'}, {'distance': {'text': '0.6 km', 'value': 611}, 'duration': {'text': '1 min', 'value': 63}, 'end_location': {'lat': 41.0400162, 'lng': -75.3059797}, 'html_instructions': 'Turn <b>right</b> onto <b>PA-611 S</b>/<wbr/><b>PA-715 N</b><div style=\"font-size:0.9em\">Continue to follow PA-611 S</div>', 'maneuver': 'turn-right', 'polyline': {'points': 'iqoyFzysjMT_A^UDCFC`By@x@e@^Sv@c@`GaDf@YHEl@[|@g@?Ap@]f@WLG^SdAk@^S'}, 'start_location': {'lat': 41.0448491, 'lng': -75.3092606}, 'travel_mode': 'DRIVING'}, {'distance': {'text': '12 m', 'value': 12}, 'duration': {'text': '1 min', 'value': 2}, 'end_location': {'lat': 41.0400214, 'lng': -75.3058417}, 'html_instructions': 'Turn <b>left</b> onto <b>Learn Rd</b>', 'maneuver': 'turn-left', 'polyline': {'points': 'csnyFjesjM?['}, 'start_location': {'lat': 41.0400162, 'lng': -75.3059797}, 'travel_mode': 'DRIVING'}, {'distance': {'text': '24 m', 'value': 24}, 'duration': {'text': '1 min', 'value': 3}, 'end_location': {'lat': 41.0398546, 'lng': -75.3056759}, 'html_instructions': 'Turn <b>right</b> onto <b>Pigeon Way</b><div style=\"font-size:0.9em\">Destination will be on the right</div>', 'maneuver': 'turn-right', 'polyline': {'points': 'csnyFndsjMPKNS'}, 'start_location': {'lat': 41.0400214, 'lng': -75.3058417}, 'travel_mode': 'DRIVING'}], 'traffic_speed_entry': [], 'via_waypoint': []}}, {'lat': 41.0771771, 'lng': -75.3941399, 'dist': 43844, 'nearest_ev_station': {'geometry': {'location': {'lat': 41.0398099, 'lng': -75.3057288}, 'viewport': {'northeast': {'lat': 41.04864005831875, 'lng': -75.29173425709521}, 'southwest': {'lat': 41.02733457689052, 'lng': -75.31238762077191}}}, 'icon': 'https://maps.gstatic.com/mapfiles/place_api/icons/v1/png_71/geocode-71.png', 'icon_background_color': '#7B9EB0', 'icon_mask_base_uri': 'https://maps.gstatic.com/mapfiles/place_api/icons/v2/generic_pinlet', 'name': 'Tannersville', 'photos': [{'height': 4032, 'html_attributions': ['<a href=\"https://maps.google.com/maps/contrib/117887098017880870024\">Tina Hear</a>'], 'photo_reference': 'ATplDJYumP81nOCxeu9YOI44uu2Yjpp7yGdQ12uT4m9jMEp9TYMhOk9saz21ftT7gDaLCiuS680djdZaoRTsiOzghNCXiM_3In4ZC_ocAyL0-aJvzqE9jV6jL1k4K-8PMgsp5pOwEtKV7_GlTt276-AwonIlLYHOT07kH-wD8-6cfNlayXE6', 'width': 3024}], 'place_id': 'ChIJ_cYJ33GLxIkR40Y7cDwevR0', 'reference': 'ChIJ_cYJ33GLxIkR40Y7cDwevR0', 'scope': 'GOOGLE', 'types': ['locality', 'political'], 'vicinity': 'Tannersville'}, 'nearest_ev_station_distance': 18218, 'nearest_ev_route_segment': {'distance': {'text': '18.2 km', 'value': 18218}, 'duration': {'text': '13 mins', 'value': 797}, 'end_address': '126 Pigeon Way, Tannersville, PA 18372, USA', 'end_location': {'lat': 41.0398546, 'lng': -75.3056759}, 'start_address': 'I-380, Scotrun, PA 18355, USA', 'start_location': {'lat': 41.0771771, 'lng': -75.3941399}, 'steps': [{'distance': {'text': '2.9 km', 'value': 2904}, 'duration': {'text': '2 mins', 'value': 97}, 'end_location': {'lat': 41.1031908, 'lng': -75.3972356}, 'html_instructions': 'Head <b>north</b> on <b>I-380 N</b>', 'polyline': {'points': 'k{uyFjldkMS@m@DE?y@FU@S@Q@E@U@i@Bo@DQ@aAFqAHk@Dk@BUBW@UBU@W@UBU@O@E?m@DU@UBU@U@YBS@W@SBY@U@SBW@U@UBU@U@W@UBU@WBk@BU@UBW@U@UBW@U@UBS@O@I?C@O@S@C?U@UBW@U@UBU@U@UBW@U@WBW@Q@WBU@W@UBU@W@SBW@S@WBW@S@WBU@U@WBM@G?U@UBW@k@DU@U@WBS@U@e@D[@U@UBU@U@k@D]BmBJcAHm@BUBM?]BWBk@BWBU@U@UBk@BWB}F\\\\c@Ba@BgAFc@DsDR}@FU@UBW@U@U@UBW@U@UBk@BUBm@BUBU@U@m@DW@SBW@S@m@DWBU@U@Q@YBU@U@m@DU@m@Dk@Dm@Dk@Bm@DU@M@aBJU@U@u@FQ@Q@g@BQB'}, 'start_location': {'lat': 41.0771771, 'lng': -75.3941399}, 'travel_mode': 'DRIVING'}, {'distance': {'text': '0.3 km', 'value': 314}, 'duration': {'text': '1 min', 'value': 30}, 'end_location': {'lat': 41.1059771, 'lng': -75.3967821}, 'html_instructions': 'Take exit <b>3</b> for <b>PA-940</b> toward <b>Pocono Pnes</b>/<wbr/><b>Mount Pocono</b>', 'maneuver': 'ramp-right', 'polyline': {'points': '}}zyFv_ekMKMA??AU?C?C?G?GAI?SCIAMA_@C{@Iy@GKA}@Iw@GQAc@EA?WCI?iAK'}, 'start_location': {'lat': 41.1031908, 'lng': -75.3972356}, 'travel_mode': 'DRIVING'}, {'distance': {'text': '0.2 km', 'value': 163}, 'duration': {'text': '1 min', 'value': 23}, 'end_location': {'lat': 41.1062702, 'lng': -75.3985998}, 'html_instructions': 'Turn <b>left</b> onto <b>PA-940 W</b>', 'maneuver': 'turn-left', 'polyline': {'points': 'ko{yFz|dkMOBAn@Ad@AXAX?NAPCP?@C^AJCTKfAE\\\\'}, 'start_location': {'lat': 41.1059771, 'lng': -75.3967821}, 'travel_mode': 'DRIVING'}, {'distance': {'text': '3.6 km', 'value': 3562}, 'duration': {'text': '2 mins', 'value': 137}, 'end_location': {'lat': 41.0775525, 'lng': -75.3968889}, 'html_instructions': 'Merge onto <b>I-380 S</b> via the ramp to <b>I-80</b>/<wbr/><b>Stroudsburg</b>/<wbr/><b>Hazelton</b>', 'maneuver': 'ramp-right', 'polyline': {'points': 'eq{yFfhekMO\\\\ADKd@Mj@?@GPCFQTIFGDE@A@KDK@I@I?GAGAGCIEEEEEEIEECGCIAKCOAK?K?I?A?E@G?E@GBI@KBEBIDKFM?CJM?CDEHMHIFE@Ad@S@AZSj@EVAr@EJATATCXAPAZCD?JATAd@CbCOz@Ev@E`AGl@CtAIl@Er@E^CXAz@Gl@CVCTAD?j@E`@Cj@CvAIl@ETAf@Cl@Eh@Cj@E~@Gj@CvAI`AG`AGTARA^ClAGbAGh@CjBMtAIx@E~AILAfCOvAI`AGjBK|BMZAjBKjBK`@E^AXCl@Ed@CpAGj@CZCX?NA\\\\Ab@?j@?j@?|@?t@BL?jADh@DlADj@BbCLb@BD?`@BH?T@T@TBR@T@l@BT@R@T@T@T@j@BT@T@TBT@T@T@T@R@T@T@T@T@XBvAF~FXT@T@T@T@Z@N@R@T@T@T@TBN?D@T@T@R@T@T@j@BzAH'}, 'start_location': {'lat': 41.1062702, 'lng': -75.3985998}, 'travel_mode': 'DRIVING'}, {'distance': {'text': '9.5 km', 'value': 9501}, 'duration': {'text': '5 mins', 'value': 327}, 'end_location': {'lat': 41.0395498, 'lng': -75.3127895}, 'html_instructions': 'Take exit <b>1B</b> on the <b>left</b> to merge onto <b>I-80 E</b> toward <b>Stroudsburg</b>', 'maneuver': 'ramp-left', 'polyline': {'points': 'u}uyFp}dkMX@L@h@BT@V@~@DTBT@T@R@H?`@Bj@B^BP@D?`@Bh@Bh@@T?f@?l@?TATATCTATCTCRCTETCRETGRETGd@MXKPGTIRIPITKRKRKRM@?PMPKRMPMPMROROPOPQPONO`@c@NQPSNQNSDGFKPSLSLSNULULWLULULWJUJSL[JWHWJYJYHWHUH[HYHYHYF[FYNm@H_@H[F[Ps@FYFYFYH[F[HYHa@Lk@H[DUPo@Je@H]FSH_@DOFS@GH_@BIHW?APIPq@f@sBT}@Lg@\\\\uAVcA`A_E`DkM|CeM~AsGVaAZmAPw@\\\\uAj@}B@CZqAFSF[Lc@J_@No@H]F[F[H_@NgAHg@Hq@@MD_@Dc@F_ADu@@[Bc@?W@g@@}@?k@?WAI?M?MAi@Cm@?GCm@?AAECg@Gm@Gq@Gs@]{CIo@MgACQE]Gk@CQAOOkAEa@Gg@CQWsBCWg@iEAIAOe@_EQuAEa@a@oDIm@Is@OuAKw@E]C[Kw@E[E]Iw@E[OqAGi@E[CYE[Io@Iy@C[CWGs@CYA_@Ek@Cc@A[Ey@C_AAa@?]A{@?]?Y?{@?s@?E@[?W@i@?A@W@U?I@[@UBw@@G?K@K@WBY@K?KB[Da@BYJmAHw@Fs@D]BWBYB]BQD_@BYB[Hw@B[D[BWB[BYD]BUHw@BYBWB[BWD]BWFu@DYB[LsAFo@Hw@Fq@LqABWHu@Hw@B[B[Hs@B[Fq@D[BYB[DYB[BYBWD[B[BWB]DWB[B[BYD]BYBYD[BYBYD[BYBYB[DYBYB[B[DW@M@MBYBYD[BY@G@SDYB]D[Fu@Hw@@UFi@BSFq@@OHu@B[D[@MFw@@IBQLsABYDWB]BYD]B[BYD]JkABUD[@Q@GB[Fq@D]BYDYB[B[DWB[Ju@D[DYD[BUF[RkADWDYFYFYDWFYFWFYH[Lk@@CXiAFWHUHYPo@J[FSHUHWJYHWBEHWDMLYJYHUJSHUJWJUJUJWLUJUJYN[JUFOBEJWLWJSJW^y@DIDKJWJUJU@AHQb@cAJULYLUHSJUJUJWLUJWHOJWLWJWXm@L[FKDKJWLUJYP]JWLWJUL[JS@CJUJUJWLWJUJUJULYJUJULWLYJUJULWLYLWHULYLWJUJWBGHQXm@JS@ALWLWLS@EDIRYFMDILSNSLSNUNSNQJMDENSNSNO@ANQNOb@c@PO?A`@]f@a@NMRORORMRMROZQ^SRKZOr@[@AHCFCTIf@QRIDALCtBg@bB_@jAWtAYxCo@|@SnAWl@Mh@MREVGdAUTEFALChB_@TGpAYrBa@jBa@TGXGxCo@JCNE@?f@Kb@Kn@MTEXINCTGrBc@|A[bAUv@Qv@Qt@Qt@O'}, 'start_location': {'lat': 41.0775525, 'lng': -75.3968889}, 'travel_mode': 'DRIVING'}, {'distance': {'text': '0.3 km', 'value': 267}, 'duration': {'text': '1 min', 'value': 29}, 'end_location': {'lat': 41.03892520000001, 'lng': -75.314394}, 'html_instructions': 'Take exit <b>299</b> toward <b>PA-715 N</b>', 'maneuver': 'ramp-right', 'polyline': {'points': 'epnyF|otjMXDN?`@CRA\\\\@N@B?JD@?JBJFFD@@JJ@?DFDF@BFLBN@LBPALARCPGLGLCDGH[f@A@KNIHCDWX'}, 'start_location': {'lat': 41.0395498, 'lng': -75.3127895}, 'travel_mode': 'DRIVING'}, {'distance': {'text': '0.9 km', 'value': 860}, 'duration': {'text': '1 min', 'value': 86}, 'end_location': {'lat': 41.0448491, 'lng': -75.3092606}, 'html_instructions': 'Turn <b>right</b> onto <b>PA-715 N</b>', 'maneuver': 'turn-right', 'polyline': {'points': 'ilnyF|ytjMW[IIQMOOQOuAkAyAmAuBiB][MIQOg@YSMOGYISEIAKAA?QCKAM?OAo@?w@@{@@a@?WAIAC?QCOCQEECSKWMUQQOOOW[[m@GKCICIGOEOESCMCUCOCWIi@?EG_@EYE[@M?E?ECUEi@'}, 'start_location': {'lat': 41.03892520000001, 'lng': -75.314394}, 'travel_mode': 'DRIVING'}, {'distance': {'text': '0.6 km', 'value': 611}, 'duration': {'text': '1 min', 'value': 63}, 'end_location': {'lat': 41.0400162, 'lng': -75.3059797}, 'html_instructions': 'Turn <b>right</b> onto <b>PA-611 S</b>/<wbr/><b>PA-715 N</b><div style=\"font-size:0.9em\">Continue to follow PA-611 S</div>', 'maneuver': 'turn-right', 'polyline': {'points': 'iqoyFzysjMT_A^UDCFC`By@x@e@^Sv@c@`GaDf@YHEl@[|@g@?Ap@]f@WLG^SdAk@^S'}, 'start_location': {'lat': 41.0448491, 'lng': -75.3092606}, 'travel_mode': 'DRIVING'}, {'distance': {'text': '12 m', 'value': 12}, 'duration': {'text': '1 min', 'value': 2}, 'end_location': {'lat': 41.0400214, 'lng': -75.3058417}, 'html_instructions': 'Turn <b>left</b> onto <b>Learn Rd</b>', 'maneuver': 'turn-left', 'polyline': {'points': 'csnyFjesjM?['}, 'start_location': {'lat': 41.0400162, 'lng': -75.3059797}, 'travel_mode': 'DRIVING'}, {'distance': {'text': '24 m', 'value': 24}, 'duration': {'text': '1 min', 'value': 3}, 'end_location': {'lat': 41.0398546, 'lng': -75.3056759}, 'html_instructions': 'Turn <b>right</b> onto <b>Pigeon Way</b><div style=\"font-size:0.9em\">Destination will be on the right</div>', 'maneuver': 'turn-right', 'polyline': {'points': 'csnyFndsjMPKNS'}, 'start_location': {'lat': 41.0400214, 'lng': -75.3058417}, 'travel_mode': 'DRIVING'}], 'traffic_speed_entry': [], 'via_waypoint': []}}, {'lat': 41.4203419, 'lng': -75.6045125, 'dist': 878, 'nearest_ev_station': {'geometry': {'location': {'lat': 41.408969, 'lng': -75.66241219999999}, 'viewport': {'northeast': {'lat': 41.46927895781877, 'lng': -75.60403201048672}, 'southwest': {'lat': 41.33977995459833, 'lng': -75.71983604297823}}}, 'icon': 'https://maps.gstatic.com/mapfiles/place_api/icons/v1/png_71/geocode-71.png', 'icon_background_color': '#7B9EB0', 'icon_mask_base_uri': 'https://maps.gstatic.com/mapfiles/place_api/icons/v2/generic_pinlet', 'name': 'Scranton', 'photos': [{'height': 3024, 'html_attributions': ['<a href=\"https://maps.google.com/maps/contrib/103349665373193525007\">alla Kushner</a>'], 'photo_reference': 'ATplDJaePCNlybYez8zfN62kaGGlxY3RA51ZWRmNVG9fm9p7yMeV-W3tQ7QOsMZhR5orK2Xu26ymzwi4y7QypEuV_fpuZd868PEp-pkGj_M-S-zYbty_thdJEsP_ItuUwptFT-mEeRbj6Mf_v1tVLDIPgL79Q5NIdqXZ04Zi7Y-GNu8idEwS', 'width': 3024}], 'place_id': 'ChIJu0tIdzrZxIkR6PqbqyB58v8', 'reference': 'ChIJu0tIdzrZxIkR6PqbqyB58v8', 'scope': 'GOOGLE', 'types': ['locality', 'political'], 'vicinity': 'Scranton'}, 'nearest_ev_station_distance': 7194, 'nearest_ev_route_segment': {'distance': {'text': '7.2 km', 'value': 7194}, 'duration': {'text': '7 mins', 'value': 447}, 'end_address': '501 Linden St, Scranton, PA 18503, USA', 'end_location': {'lat': 41.4090286, 'lng': -75.6625068}, 'start_address': 'I-84, Dunmore, PA 18512, USA', 'start_location': {'lat': 41.4203419, 'lng': -75.6045125}, 'steps': [{'distance': {'text': '1.9 km', 'value': 1878}, 'duration': {'text': '1 min', 'value': 71}, 'end_location': {'lat': 41.4111339, 'lng': -75.6195338}, 'html_instructions': 'Head <b>northwest</b>', 'polyline': {'points': 'c|x{FdomlMIRKFMJSPSPIHEBEF_@b@GJORQZIPGNGLITIZGNI^G\\\\EXCNAJAPAJ?BCN?L?DAPAV?L?Z@T?R@HB`@BZ?@Hh@Hb@H`@Lb@L\\\\HRDLHNHLDH@@?B@@JNNRVXHJNNRNZV\\\\Td@\\\\LH|@l@j@b@RNRPTNPNHH^Z\\\\ZXVxBtBd@d@v@t@dC`CzAxAz@x@fD`D|AxArAnAPP|@z@fB`Bv@r@l@l@RT^`@`@f@@B`@f@d@p@Zh@f@v@LTXj@Zn@Rb@JXHRLZ@@LJ'}, 'start_location': {'lat': 41.4203419, 'lng': -75.6045125}, 'travel_mode': 'DRIVING'}, {'distance': {'text': '2.5 km', 'value': 2525}, 'duration': {'text': '1 min', 'value': 88}, 'end_location': {'lat': 41.3972083, 'lng': -75.6424423}, 'html_instructions': 'Merge onto <b>I-81 S</b>', 'maneuver': 'merge', 'polyline': {'points': 'qbw{F`mplMHVL^Rl@HZHVJZPn@Nd@FPRv@DJTd@b@zAVx@Tt@b@|A`@tAb@vAHXRp@b@xADLDPJZ\\\\jADNJXFVTt@Nh@L`@Rp@J^Rn@X~@BJHRHZV|@HRDNJ^Vx@FTHVJ\\\\HXLb@HXHV\\\\hATv@`@nAPh@Xp@N^LTR`@PZPZLRLPBFNRLPPRNRDFHF@B\\\\^RRRPNLPNNJPNDBd@ZVPZRf@XNHXPRLRL`@Rx@f@r@b@VNTNd@VLH`@X~@p@RR`@\\\\b@b@PNPR^`@NPn@x@NRNPLRPVl@z@^h@LTPTJNNTLPLRPT?@LPNTLRRXJNNTNR^h@x@lANTNVHLDHJPDFFLJRJTLTJXLXHTJVL^DNJXHXFTH\\\\HZ@FDTHZF\\\\DXVzA'}, 'start_location': {'lat': 41.4111339, 'lng': -75.6195338}, 'travel_mode': 'DRIVING'}, {'distance': {'text': '0.3 km', 'value': 333}, 'duration': {'text': '1 min', 'value': 15}, 'end_location': {'lat': 41.3972535, 'lng': -75.6463582}, 'html_instructions': 'Take exit <b>185</b> for <b>President Biden Expressway</b>', 'maneuver': 'ramp-right', 'polyline': {'points': 'qkt{Ff|tlMGT?@?FBTHl@@LBN@XBZDn@B^@^@\\\\@n@?P@L?^Ad@?HABAj@ANEz@CTIx@EZANGp@'}, 'start_location': {'lat': 41.3972083, 'lng': -75.6424423}, 'travel_mode': 'DRIVING'}, {'distance': {'text': '1.4 km', 'value': 1397}, 'duration': {'text': '1 min', 'value': 68}, 'end_location': {'lat': 41.4041734, 'lng': -75.6598767}, 'html_instructions': 'Continue onto <b>President Biden Expy</b>', 'polyline': {'points': 'ykt{FvtulM[xC}@tGKb@Wz@Sl@Un@Sd@CB]p@g@x@w@fAGJ]f@W^[f@QZW`@?@Yj@CDa@bAKVKXMb@Sn@Wr@Un@Q^Q^c@z@g@|@GNU^W`@yAzBq@bAy@nA[h@KPMPu@hAyA`CUl@O`@ADENGVEP?@AFCXAJAJEZ?D?@AFAPAP?@ARATE^Kb@KTINKLC@QNQJQHGH'}, 'start_location': {'lat': 41.3972535, 'lng': -75.6463582}, 'travel_mode': 'DRIVING'}, {'distance': {'text': '0.2 km', 'value': 247}, 'duration': {'text': '1 min', 'value': 22}, 'end_location': {'lat': 41.4061713, 'lng': -75.6608024}, 'html_instructions': 'Slight <b>right</b> onto <b>US-11 N</b> (signs for <b>Central City</b>/<wbr/><b>University</b>/<wbr/><b>Colleges</b>)', 'maneuver': 'turn-slight-right', 'polyline': {'points': 'awu{FfixlMq@BQ@C@I?OBI@}@JuAJYFKBKFUPMLGLGLi@`A'}, 'start_location': {'lat': 41.4041734, 'lng': -75.6598767}, 'travel_mode': 'DRIVING'}, {'distance': {'text': '32 m', 'value': 32}, 'duration': {'text': '1 min', 'value': 4}, 'end_location': {'lat': 41.406428, 'lng': -75.6609576}, 'html_instructions': 'Slight <b>right</b> toward <b>Jefferson Ave</b>', 'maneuver': 'turn-slight-right', 'polyline': {'points': 'qcv{F~nxlMKHIFIDKDG@'}, 'start_location': {'lat': 41.4061713, 'lng': -75.6608024}, 'travel_mode': 'DRIVING'}, {'distance': {'text': '0.3 km', 'value': 329}, 'duration': {'text': '1 min', 'value': 75}, 'end_location': {'lat': 41.408751, 'lng': -75.6586038}, 'html_instructions': 'Continue straight onto <b>Jefferson Ave</b>', 'maneuver': 'straight', 'polyline': {'points': 'eev{F~oxlMO?EAa@IOOo@w@oByB{AiBKK]c@w@}@Y_@OQ'}, 'start_location': {'lat': 41.406428, 'lng': -75.6609576}, 'travel_mode': 'DRIVING'}, {'distance': {'text': '0.3 km', 'value': 267}, 'duration': {'text': '1 min', 'value': 58}, 'end_location': {'lat': 41.4102968, 'lng': -75.6610479}, 'html_instructions': 'Turn <b>left</b> onto <b>Mulberry St</b>', 'maneuver': 'turn-left', 'polyline': {'points': 'usv{FfaxlMWd@o@hAMVKRWd@Q\\\\g@|@{@|AWb@m@hA'}, 'start_location': {'lat': 41.408751, 'lng': -75.6586038}, 'travel_mode': 'DRIVING'}, {'distance': {'text': '0.2 km', 'value': 186}, 'duration': {'text': '1 min', 'value': 46}, 'end_location': {'lat': 41.4090286, 'lng': -75.6625068}, 'html_instructions': 'Turn <b>left</b> onto <b>N Washington Ave</b><div style=\"font-size:0.9em\">Destination will be on the left</div>', 'maneuver': 'turn-left', 'polyline': {'points': 'k}v{FppxlMhFjGRV'}, 'start_location': {'lat': 41.4102968, 'lng': -75.6610479}, 'travel_mode': 'DRIVING'}], 'traffic_speed_entry': [], 'via_waypoint': []}}, {'lat': 41.4259279, 'lng': -75.6117058, 'dist': 93501, 'nearest_ev_station': {'geometry': {'location': {'lat': 41.408969, 'lng': -75.66241219999999}, 'viewport': {'northeast': {'lat': 41.46927895781877, 'lng': -75.60403201048672}, 'southwest': {'lat': 41.33977995459833, 'lng': -75.71983604297823}}}, 'icon': 'https://maps.gstatic.com/mapfiles/place_api/icons/v1/png_71/geocode-71.png', 'icon_background_color': '#7B9EB0', 'icon_mask_base_uri': 'https://maps.gstatic.com/mapfiles/place_api/icons/v2/generic_pinlet', 'name': 'Scranton', 'photos': [{'height': 3024, 'html_attributions': ['<a href=\"https://maps.google.com/maps/contrib/103349665373193525007\">alla Kushner</a>'], 'photo_reference': 'ATplDJYxbKD2dTv7sKsc3nrfYrOlWv7o_7TplPVhiLgeTjiO1idH6xik4HeZR1w6rsOgb5fij0GWmpRSKX4ZQl-OPbYkltMwPfxURSw6yBYjG2hNdCxmy6botJx5GwYEXWNiGFgz0oR-MO0X8AbNdMSUZOURbsh-S6SbwEPh1HwPqAW937sG', 'width': 3024}], 'place_id': 'ChIJu0tIdzrZxIkR6PqbqyB58v8', 'reference': 'ChIJu0tIdzrZxIkR6PqbqyB58v8', 'scope': 'GOOGLE', 'types': ['locality', 'political'], 'vicinity': 'Scranton'}, 'nearest_ev_station_distance': 12689, 'nearest_ev_route_segment': {'distance': {'text': '12.7 km', 'value': 12689}, 'duration': {'text': '11 mins', 'value': 657}, 'end_address': '501 Linden St, Scranton, PA 18503, USA', 'end_location': {'lat': 41.4090286, 'lng': -75.6625068}, 'start_address': 'I-81, Dunmore, PA 18512, USA', 'start_location': {'lat': 41.4259279, 'lng': -75.6117058}, 'steps': [{'distance': {'text': '6.0 km', 'value': 5963}, 'duration': {'text': '4 mins', 'value': 222}, 'end_location': {'lat': 41.457193, 'lng': -75.6612731}, 'html_instructions': 'Head <b>northwest</b> on <b>I-81 N</b>', 'polyline': {'points': 'a_z{Fd|nlMo@bB_@~@gArCGPO^MZKXc@rAy@vBM`@CFO^Wn@}@|BSj@[v@ITKVCFc@fAm@zAYv@Sh@KTa@dAs@jBy@vBgBpEABYv@IRKXIPKVKXADMVKXGPKVKVc@hAELUh@Un@Wn@[x@CFO^O^Qb@ABKXKXUj@Qd@O\\\\GRO^GNO`@IPCHIRGNABGLCJGLO^M\\\\Uj@KXIRCFKXMXEJQ^GLS`@GLILINIJQVGHGJKLSV[ZQNKHEDGDIHMHGFEBIFSJA@EBULUJOHOFQFSFOFMBKBODSDi@FM@UBA?]B[?W?Y?KAO?MAk@GMAWC]GUCGAYEYEMAm@Ic@Gg@Ga@GQC]EUEa@Eq@IQC[Gi@GMAAAo@IGAMAm@I[E]GQCKAUCa@GUE_@EIAUCMA[CM?MAMA_@AC?c@?Y@]@_@@G?[DE?UBOBG@]FWFC?WFMDUF_@LC@e@PUJUJMFSJc@VOHOJKHIDKHKHUPUTMJC@QRSRA?MRKLKN?@IHEHMNGHEFINQVILA@GN[j@ADOZEFSd@KTIRM\\\\KXCDGREJSh@?@O^K\\\\GPCFO`@Un@[|@[|@c@pAMXGTO\\\\[|@AFGNKVOd@KXUp@MZO`@[~@EJe@rACDYx@a@jAUp@KVOb@IVQd@EL_@bAIXKXIVKXQr@IXGZIZGXEZGZEZEXAJCNE\\\\EZCZEZC\\\\CZCZCT?DC\\\\C`@CZCZC\\\\CT?DCZAJAPCZCZC\\\\AZCZC\\\\CT?@KrAEb@EZCX?@EZEXG\\\\EVGXGZGZIZIX?@IVIVIXKXIVADIPKXITKVCDIRKV_@`ACFKTKXKVMVKVKVKVCDGPKVWn@Yn@Uj@Yr@ELQ`@KXABIRYn@KVKVKVKXKVCHQf@KVIXKVIXIXIXIXIXIXIXGZIXGXADGTGXGZGXGZEXEVGXG^E\\\\EVG\\\\AHIj@Kr@g@pDU`B[|BUzAo@pEUzASrAWjBKr@G\\\\Kt@Ij@'}, 'start_location': {'lat': 41.4259279, 'lng': -75.6117058}, 'travel_mode': 'DRIVING'}, {'distance': {'text': '0.4 km', 'value': 375}, 'duration': {'text': '1 min', 'value': 39}, 'end_location': {'lat': 41.4582293, 'lng': -75.6592579}, 'html_instructions': 'Take exit <b>191B</b> for <b>US-11 S</b> toward <b>Scranton Expwy</b>', 'maneuver': 'ramp-right', 'polyline': {'points': 'mb`|F|qxlMKJA@GPEJEHIJCDC@EBEBGBC@E@E@E?E?G?G?A?GAEAECGCECGEEEGG?ACAACEKCG?AEIGSQk@?AMa@Ok@Qi@YeAKY?ACMCKAKAG?I@G?EBG?EBG@E@C@CBC@CBCBEDCHEFCFAD?B?B?B@LB@@NA'}, 'start_location': {'lat': 41.457193, 'lng': -75.6612731}, 'travel_mode': 'DRIVING'}, {'distance': {'text': '0.4 km', 'value': 404}, 'duration': {'text': '1 min', 'value': 22}, 'end_location': {'lat': 41.4553321, 'lng': -75.6621042}, 'html_instructions': 'Merge onto <b>Scranton Carbondale Hwy</b>', 'maneuver': 'merge', 'polyline': {'points': '}h`|FjexlMhAt@n@`@d@Z^TXRDBNJXPZTPPPNPPPPNPDFHJNRNTHJDFR\\\\Xb@h@z@RZDBHNHH'}, 'start_location': {'lat': 41.4582293, 'lng': -75.6592579}, 'travel_mode': 'DRIVING'}, {'distance': {'text': '0.5 km', 'value': 544}, 'duration': {'text': '1 min', 'value': 27}, 'end_location': {'lat': 41.45193700000001, 'lng': -75.66668229999999}, 'html_instructions': 'Take the <b>US-11 S</b> exit on the <b>left</b>', 'maneuver': 'ramp-left', 'polyline': {'points': 'yv_|FbwxlMVd@LVFLJTN\\\\HTLZDPPh@DJNf@Pd@Rf@N^LNNTBDRTBDf@h@f@h@^`@?@l@p@RR\\\\^t@x@r@v@n@p@h@l@PJ'}, 'start_location': {'lat': 41.4553321, 'lng': -75.6621042}, 'travel_mode': 'DRIVING'}, {'distance': {'text': '5.2 km', 'value': 5217}, 'duration': {'text': '5 mins', 'value': 300}, 'end_location': {'lat': 41.4102968, 'lng': -75.6610479}, 'html_instructions': 'Continue onto <b>US-11 S</b>', 'polyline': {'points': 'sa_|FvsylMHHTV@@NNPNb@`@PNRLDB^Xd@ZPLRLBBNHPLRLPLRLPLf@ZHF\\\\RJHj@^d@ZPLJFFDRLRLPLTLb@ZRLPJPLh@\\\\NJPJBBPLRLXPp@b@d@Z@@PJRLd@ZRLRLHDFDRJTLPHRJTHHBHBTHRFTDTDLBZFP@XBT@N@X?H?F?L?N?FAL?PCTCXCREVEB?NERETGTIRIBANGRKRKRMRKRMBALKROPMd@]PMPONKf@a@ROJIDCPOPORMPOJIFEPOPMPOPORMBELIPORORO@ANKPOPMPOPMHGHGPMRMRMDEJGRKRKRKRITIRGRGTGTERERCVCHAHAD?NATATAT?L?^@R@PBB?TBRBTDTDRFRF@?RFRHTHRHRJRHRJz@`@TLRHRJRJRJRJ\\\\NHDPHTLHB^PPJRHHDFBTLPH@?RJh@V@?bBx@NFRJPHB@NFTH@@B@LDD@LFD@NDB@RFJBF@d@LF@XFJBHBH@XFf@JF@f@JPDtAXVF|@PPD@?h@Lj@Jh@JVDD@PBB@@?N@?@D?@?@@@?J@R@TBR@@?R?T@R?V?VAT?`@Cn@G^Et@IXE~@KPCNCFAVCNAJAFAJAZAT?J?J?D?T?J?F@P@D?P@L@H@ZDD?H@H@H@D@d@DH@F@ZDj@FRBVBPBT@T@T@V?D?N?T?B?LAF?JAH?z@Gd@EfAIH?JATCF?PANAl@GTATCj@EF?JAVCTATCh@ETCD?LAVC\\\\CLARA`AINAXC@?dAIn@EXE\\\\Cf@E@?TC@?TCLCD?RETETEPGPEFCRIFCFCRIRIHEBAHGVMFGDALKDEB?j@c@Z]`@a@\\\\_@PULQ\\\\k@Vc@PYBErBwD^s@\\\\s@f@_Af@_AtAcCnA}BbAoBVe@v@uAfA{BjAgC@[|@aBv@uAj@gA'}, 'start_location': {'lat': 41.45193700000001, 'lng': -75.66668229999999}, 'travel_mode': 'DRIVING'}, {'distance': {'text': '0.2 km', 'value': 186}, 'duration': {'text': '1 min', 'value': 47}, 'end_location': {'lat': 41.4090286, 'lng': -75.6625068}, 'html_instructions': 'Turn <b>right</b> onto <b>N Washington Ave</b><div style=\"font-size:0.9em\">Destination will be on the left</div>', 'maneuver': 'turn-right', 'polyline': {'points': 'k}v{FppxlMhFjGRV'}, 'start_location': {'lat': 41.4102968, 'lng': -75.6610479}, 'travel_mode': 'DRIVING'}], 'traffic_speed_entry': [], 'via_waypoint': []}}, {'lat': 42.1153809, 'lng': -75.9059406, 'dist': 3711, 'nearest_ev_station': {'geometry': {'location': {'lat': 42.09868669999999, 'lng': -75.91797380000001}, 'viewport': {'northeast': {'lat': 42.13177503552981, 'lng': -75.85702294791386}, 'southwest': {'lat': 42.07186194836596, 'lng': -75.95014989429161}}}, 'icon': 'https://maps.gstatic.com/mapfiles/place_api/icons/v1/png_71/geocode-71.png', 'icon_background_color': '#7B9EB0', 'icon_mask_base_uri': 'https://maps.gstatic.com/mapfiles/place_api/icons/v2/generic_pinlet', 'name': 'Binghamton', 'photos': [{'height': 5344, 'html_attributions': ['<a href=\"https://maps.google.com/maps/contrib/101156353252697193594\">Chuck Metcalfe</a>'], 'photo_reference': 'ATplDJbFzcDWAsYiPXigCsIvTcj4_-jqEMDKf_gU2JjFvTcp5Nui7ga040fpgsPGZW1Pb7csPMEIL2Wenv0x37sPTPnATLqoyg8EuDKzqWu8jiwwyFQDrh2WqD1s8X6LzJs6f2TbEWJPl3Qce5XhiTI1RwQsYuY2qbBlAxHnILFWQ8hTDoJ4', 'width': 3006}], 'place_id': 'ChIJ0bet33Lv2okRfzPt9wOXjwY', 'reference': 'ChIJ0bet33Lv2okRfzPt9wOXjwY', 'scope': 'GOOGLE', 'types': ['locality', 'political'], 'vicinity': 'Binghamton'}, 'nearest_ev_station_distance': 4608, 'nearest_ev_route_segment': {'distance': {'text': '4.6 km', 'value': 4608}, 'duration': {'text': '6 mins', 'value': 367}, 'end_address': '19 NY-17C, Binghamton, NY 13905, USA', 'end_location': {'lat': 42.0988558, 'lng': -75.9179143}, 'start_address': 'I-81, Binghamton, NY 13901, USA', 'start_location': {'lat': 42.1153809, 'lng': -75.9059406}, 'steps': [{'distance': {'text': '1.2 km', 'value': 1181}, 'duration': {'text': '1 min', 'value': 46}, 'end_location': {'lat': 42.12408569999999, 'lng': -75.90544969999999}, 'html_instructions': 'Head <b>west</b> on <b>I-81 N</b>', 'polyline': {'points': 'ct``GbkhnMEVCVKx@G\\\\G\\\\IZCLCJCJELCLCDADIVCHGNGNEJEFCFCDEFGLSZU^UZOPIFc@^ABKHQJIHGBC@KFOHSHSHSFODUDE@OBQD]BU@U?W?SAUAUAUESEUESGUIUIA?QIMGSMWOYQQMMIMIWQGE_@Yw@i@c@[]WUMGESOe@]OKGEa@Y_@WA?c@[a@[oA{@iBoAUOQKQMSMSMMGQKGEw@a@'}, 'start_location': {'lat': 42.1153809, 'lng': -75.9059406}, 'travel_mode': 'DRIVING'}, {'distance': {'text': '0.3 km', 'value': 303}, 'duration': {'text': '1 min', 'value': 26}, 'end_location': {'lat': 42.123461, 'lng': -75.9042827}, 'html_instructions': 'Take exit <b>5</b> for <b>US-11</b>/<wbr/><b>Front St</b> toward <b>Broome C C</b>', 'maneuver': 'ramp-right', 'polyline': {'points': 'qjb`G`hhnMKYAAOMKKGIGIEGEGCGACCIACCICMCI?CAKAM?M?A?A?M@M@M?C@A?A@EDODQHQHKJMLIHGHCHELCH?LAH@J@HBJDB@BBLJJH?@BB@DBFBN@D?H?HAJAN'}, 'start_location': {'lat': 42.12408569999999, 'lng': -75.90544969999999}, 'travel_mode': 'DRIVING'}, {'distance': {'text': '3.1 km', 'value': 3093}, 'duration': {'text': '5 mins', 'value': 288}, 'end_location': {'lat': 42.09878519999999, 'lng': -75.9175497}, 'html_instructions': 'At the traffic circle, take the <b>2nd</b> exit onto <b>US-11 S</b>/<wbr/><b>Front St</b>', 'maneuver': 'roundabout-right', 'polyline': {'points': 'sfb`Gv`hnMA@A@A@A@A@?@A@?@A@?BA@?B?BA@?B?B?@@B?@?B@B?@@@?B@@@@@B@@@@@?@@@@@?@@B?@?PFFBN@J?D?NAJCPGNKj@Uv@O`@Af@@B?RBRBXF\\\\LVJRJB@RLRN@@RLdAt@dAr@RLZVtB|Al@b@NJTPFD^V^XTNx@d@ZPVLNFVL^Lb@Pj@RfA^B@~@ZdA\\\\LDxBr@FB~Af@`@Lb@N^N`@NHBVL^P~BjAHDZP^R^RJDHDJFjBbAVJJF`@P^R^Rf@Tx@`@b@Tt@^b@T`@T^RNHFFJHNLJNNVFJFJJXHTJ`@T~@FTJ^`@bBZhARz@HX@FBHBHBDBFBD@DBBFLLLFFDDFBFBHDPD^F|HtA`@FpCf@RDZFXDhB\\\\x@Nb@H^Fh@LPB^H\\\\F`@Hr@Pj@JhB\\\\~Bb@h@J\\\\HjATlBd@^H`@JjAXx@PbAV'}, 'start_location': {'lat': 42.123461, 'lng': -75.9042827}, 'travel_mode': 'DRIVING'}, {'distance': {'text': '31 m', 'value': 31}, 'duration': {'text': '1 min', 'value': 7}, 'end_location': {'lat': 42.0988558, 'lng': -75.9179143}, 'html_instructions': 'Turn <b>right</b> onto <b>Main St</b><div style=\"font-size:0.9em\">Destination will be on the left</div>', 'maneuver': 'turn-right', 'polyline': {'points': 'ml}_GtsjnMMfA'}, 'start_location': {'lat': 42.09878519999999, 'lng': -75.9175497}, 'travel_mode': 'DRIVING'}], 'traffic_speed_entry': [], 'via_waypoint': []}}, {'lat': 42.1199771, 'lng': -75.9462015, 'dist': 8576, 'nearest_ev_station': {'geometry': {'location': {'lat': 42.09868669999999, 'lng': -75.91797380000001}, 'viewport': {'northeast': {'lat': 42.13177503552981, 'lng': -75.85702294791386}, 'southwest': {'lat': 42.07186194836596, 'lng': -75.95014989429161}}}, 'icon': 'https://maps.gstatic.com/mapfiles/place_api/icons/v1/png_71/geocode-71.png', 'icon_background_color': '#7B9EB0', 'icon_mask_base_uri': 'https://maps.gstatic.com/mapfiles/place_api/icons/v2/generic_pinlet', 'name': 'Binghamton', 'photos': [{'height': 5344, 'html_attributions': ['<a href=\"https://maps.google.com/maps/contrib/101156353252697193594\">Chuck Metcalfe</a>'], 'photo_reference': 'ATplDJZIh5eSR_ATKXq8NXkvRXmSY3u6Ihc0FbpX7F7A5O0lb7fiSOVnkaDDKi4HrBiQVLFaiwMgashCS_6ojqdGqLVVGYnN9EeFVcquUrpAgI39tISb4WLS-UtHk1T_D5T2nf33BoTwu1Qc5BUjeKYv_rJmFYg-NCRZnuGnXuVgATSZk4Uh', 'width': 3006}], 'place_id': 'ChIJ0bet33Lv2okRfzPt9wOXjwY', 'reference': 'ChIJ0bet33Lv2okRfzPt9wOXjwY', 'scope': 'GOOGLE', 'types': ['locality', 'political'], 'vicinity': 'Binghamton'}, 'nearest_ev_station_distance': 5923, 'nearest_ev_route_segment': {'distance': {'text': '5.9 km', 'value': 5923}, 'duration': {'text': '7 mins', 'value': 402}, 'end_address': '19 NY-17C, Binghamton, NY 13905, USA', 'end_location': {'lat': 42.0988558, 'lng': -75.9179143}, 'start_address': 'Southern Tier Expy, Binghamton, NY 13905, USA', 'start_location': {'lat': 42.1199771, 'lng': -75.9462015}, 'steps': [{'distance': {'text': '0.3 km', 'value': 339}, 'duration': {'text': '1 min', 'value': 26}, 'end_location': {'lat': 42.1209549, 'lng': -75.9459768}, 'html_instructions': 'Head <b>northwest</b> on <b>Exit 71S</b> toward <b>Airport Rd</b>', 'polyline': {'points': '{pa`GvfpnMKN?@A@AXAVATAVCPCPGTOXMRWROHKBKBM@O@KAKCIEIEQKGGMOEMIOEMCMCQ?MAK@QBODQ@EBIJOLKJILGDGBG@G@K'}, 'start_location': {'lat': 42.1199771, 'lng': -75.9462015}, 'travel_mode': 'DRIVING'}, {'distance': {'text': '0.2 km', 'value': 169}, 'duration': {'text': '1 min', 'value': 18}, 'end_location': {'lat': 42.1194433, 'lng': -75.9459167}, 'html_instructions': 'Turn <b>right</b> onto <b>Airport Rd</b>', 'maneuver': 'turn-right', 'polyline': {'points': '}va`GjepnMPAZA`ACd@AxBI\\\\F'}, 'start_location': {'lat': 42.1209549, 'lng': -75.9459768}, 'travel_mode': 'DRIVING'}, {'distance': {'text': '0.4 km', 'value': 429}, 'duration': {'text': '1 min', 'value': 37}, 'end_location': {'lat': 42.1198359, 'lng': -75.9470299}, 'html_instructions': 'Turn <b>right</b> onto the ramp to <b>Binghamton</b>', 'maneuver': 'ramp-right', 'polyline': {'points': 'oma`G~dpnMBZDj@DZBFFXHVDHFLLNBDJJ^b@DFTX@BBFDFBJ@J@L@P?PANCJAHAFELELA@GJIHGDC@KFA?IDMBI@M?KAKEECIEKICCACGICIEII[CSCOCWIcACe@?CACMO'}, 'start_location': {'lat': 42.1194433, 'lng': -75.9459167}, 'travel_mode': 'DRIVING'}, {'distance': {'text': '3.0 km', 'value': 2953}, 'duration': {'text': '2 mins', 'value': 110}, 'end_location': {'lat': 42.1113337, 'lng': -75.9138754}, 'html_instructions': 'Merge onto <b>I-86 E</b>', 'maneuver': 'merge', 'polyline': {'points': '_pa`G|kpnM?W?YA[?[?U?C@[@a@@_@@_@BY?ED[B[D[BYBKBOD[F[FWLk@BKHYJYHYJUFQVm@DIJUNYDKDGLULUDGHMLSNULUDIFINWLUNUBEHMLUJOBELUNWLSNULULUNUBGFKLULULWJU@ANYLUJUBGFOLWJUJU@CJWJWJWJWJUJ[JWJWBIFOHWJYDMDKHYHYJWFW@AHYRs@HW?CHYHYFYH[FU?CH[FYF[@EFSFY@KDOF[DW@CDYDQ@IF[@IBQF[D[F[DY@OBMD[@CBWD_@Ju@B[D[?GBUD[@U@GB[Fs@@EB[B]@[?CBYB]@WB[?CBWB_@@M@MBa@@WB]B[@U@UBYB[@[B]@M@ODy@B[?ABYDy@B_@@G@SB]@WBa@B[Be@@MBe@@MBUB[?K@QBe@B[@E@]B[Be@BW?CBa@Ba@BWBe@@W@CBc@B]@[Dc@@U@EBe@B[?ABa@B[BSFg@HeAHw@Dg@Fg@BSBUD[Hu@J{@LaANgAJ{@Hk@?AXuBLcAHk@d@oDTiBPoALcAJw@BWJo@LcAJ}@D[DYBWB[B]@]?G@U@[?c@'}, 'start_location': {'lat': 42.1198359, 'lng': -75.9470299}, 'travel_mode': 'DRIVING'}, {'distance': {'text': '0.3 km', 'value': 330}, 'duration': {'text': '1 min', 'value': 27}, 'end_location': {'lat': 42.1120061, 'lng': -75.91015639999999}, 'html_instructions': 'Take exit <b>72-72B</b> toward <b>Front St</b>', 'maneuver': 'ramp-right', 'polyline': {'points': 'yz_`Gv|inMH]?WA]Aa@AO?MAI?GIkAEe@G_@Gm@Ie@Ia@Ka@Mg@Qc@Se@O_@?AIOCKCMAM?a@@GJa@'}, 'start_location': {'lat': 42.1113337, 'lng': -75.9138754}, 'travel_mode': 'DRIVING'}, {'distance': {'text': '1.7 km', 'value': 1672}, 'duration': {'text': '3 mins', 'value': 177}, 'end_location': {'lat': 42.09878519999999, 'lng': -75.9175497}, 'html_instructions': 'Turn <b>right</b> onto <b>Front St</b>', 'maneuver': 'turn-right', 'polyline': {'points': 'a_``GneinMVJJF`@P^R^Rf@Tx@`@b@Tt@^b@T`@T^RNHFFJHNLJNNVFJFJJXHTJ`@T~@FTJ^`@bBZhARz@HX@FBHBHBDBFBD@DBBFLLLFFDDFBFBHDPD^F|HtA`@FpCf@RDZFXDhB\\\\x@Nb@H^Fh@LPB^H\\\\F`@Hr@Pj@JhB\\\\~Bb@h@J\\\\HjATlBd@^H`@JjAXx@PbAV'}, 'start_location': {'lat': 42.1120061, 'lng': -75.91015639999999}, 'travel_mode': 'DRIVING'}, {'distance': {'text': '31 m', 'value': 31}, 'duration': {'text': '1 min', 'value': 7}, 'end_location': {'lat': 42.0988558, 'lng': -75.9179143}, 'html_instructions': 'Turn <b>right</b> onto <b>Main St</b><div style=\"font-size:0.9em\">Destination will be on the left</div>', 'maneuver': 'turn-right', 'polyline': {'points': 'ml}_GtsjnMMfA'}, 'start_location': {'lat': 42.09878519999999, 'lng': -75.9175497}, 'travel_mode': 'DRIVING'}], 'traffic_speed_entry': [], 'via_waypoint': []}}, {'lat': 42.0926669, 'lng': -76.03810639999999, 'dist': 518}, {'lat': 42.0918825, 'lng': -76.0442944, 'dist': 521}, {'lat': 42.0911563, 'lng': -76.0432905, 'dist': 9309}, {'lat': 42.1197995, 'lng': -75.9478328, 'dist': 3019}, {'lat': 42.1113337, 'lng': -75.9138754, 'dist': 330}, {'lat': 42.1120061, 'lng': -75.91015639999999, 'dist': 1672}, {'lat': 42.09878519999999, 'lng': -75.9175497, 'dist': 31}, {'lat': 42.0988558, 'lng': -75.9179143, 'dist': 31, 'nearest_ev_station': {'geometry': {'location': {'lat': 42.09868669999999, 'lng': -75.91797380000001}, 'viewport': {'northeast': {'lat': 42.13177503552981, 'lng': -75.85702294791386}, 'southwest': {'lat': 42.07186194836596, 'lng': -75.95014989429161}}}, 'icon': 'https://maps.gstatic.com/mapfiles/place_api/icons/v1/png_71/geocode-71.png', 'icon_background_color': '#7B9EB0', 'icon_mask_base_uri': 'https://maps.gstatic.com/mapfiles/place_api/icons/v2/generic_pinlet', 'name': 'Binghamton', 'photos': [{'height': 5344, 'html_attributions': ['<a href=\"https://maps.google.com/maps/contrib/101156353252697193594\">Chuck Metcalfe</a>'], 'photo_reference': 'ATplDJbyt7lFF6M28lOAtE89jLyWHk_g3282dPrL2A5L78-A0uoULuXlsUM2BfUBkwt0aR3uy_RIEovCXV95_fiHMAB6HpRUI5p0HVaC3XecMNGpC5pl0cW-yg9RvjYEvJfhJ7o9nnUf9GMZawDre4En2f0zyoKY6uRP1C6Vh_lbyKq5df6K', 'width': 3006}], 'place_id': 'ChIJ0bet33Lv2okRfzPt9wOXjwY', 'reference': 'ChIJ0bet33Lv2okRfzPt9wOXjwY', 'scope': 'GOOGLE', 'types': ['locality', 'political'], 'vicinity': 'Binghamton'}, 'nearest_ev_station_distance': 0, 'nearest_ev_route_segment': {'distance': {'text': '1 m', 'value': 0}, 'duration': {'text': '1 min', 'value': 0}, 'end_address': '19 NY-17C, Binghamton, NY 13905, USA', 'end_location': {'lat': 42.0988558, 'lng': -75.9179143}, 'start_address': '19 NY-17C, Binghamton, NY 13905, USA', 'start_location': {'lat': 42.0988558, 'lng': -75.9179143}, 'steps': [{'distance': {'text': '1 m', 'value': 0}, 'duration': {'text': '1 min', 'value': 0}, 'end_location': {'lat': 42.0988558, 'lng': -75.9179143}, 'html_instructions': 'Head on <b>Main St</b>', 'polyline': {'points': '{l}_G|ujnM'}, 'start_location': {'lat': 42.0988558, 'lng': -75.9179143}, 'travel_mode': 'DRIVING'}], 'traffic_speed_entry': [], 'via_waypoint': []}}, {'lat': 42.09878519999999, 'lng': -75.9175497, 'dist': 544, 'nearest_ev_station': {'geometry': {'location': {'lat': 42.09868669999999, 'lng': -75.91797380000001}, 'viewport': {'northeast': {'lat': 42.13177503552981, 'lng': -75.85702294791386}, 'southwest': {'lat': 42.07186194836596, 'lng': -75.95014989429161}}}, 'icon': 'https://maps.gstatic.com/mapfiles/place_api/icons/v1/png_71/geocode-71.png', 'icon_background_color': '#7B9EB0', 'icon_mask_base_uri': 'https://maps.gstatic.com/mapfiles/place_api/icons/v2/generic_pinlet', 'name': 'Binghamton', 'photos': [{'height': 5344, 'html_attributions': ['<a href=\"https://maps.google.com/maps/contrib/101156353252697193594\">Chuck Metcalfe</a>'], 'photo_reference': 'ATplDJbL6xg54ypiOZnJlaunl3GBTsQ-_l_R7HCCel_CLnDrLsPnumAL5pS-El2XYr1Zq11UjvrffiXcWE6SAXKxnO6JFOdLUY69PmVOQd5tu1UDyvlPZ7zC15eKdmbODIlAVJ3SN95Gpe5Yv8Yu29D1AJyTh3OheecB7Fir2RIASmBc4KYh', 'width': 3006}], 'place_id': 'ChIJ0bet33Lv2okRfzPt9wOXjwY', 'reference': 'ChIJ0bet33Lv2okRfzPt9wOXjwY', 'scope': 'GOOGLE', 'types': ['locality', 'political'], 'vicinity': 'Binghamton'}, 'nearest_ev_station_distance': 31, 'nearest_ev_route_segment': {'distance': {'text': '31 m', 'value': 31}, 'duration': {'text': '1 min', 'value': 5}, 'end_address': '19 NY-17C, Binghamton, NY 13905, USA', 'end_location': {'lat': 42.0988558, 'lng': -75.9179143}, 'start_address': '13 Main St, Binghamton, NY 13905, USA', 'start_location': {'lat': 42.09878519999999, 'lng': -75.9175497}, 'steps': [{'distance': {'text': '31 m', 'value': 31}, 'duration': {'text': '1 min', 'value': 5}, 'end_location': {'lat': 42.0988558, 'lng': -75.9179143}, 'html_instructions': 'Head <b>west</b> on <b>Main St</b>', 'polyline': {'points': 'ml}_GtsjnMMfA'}, 'start_location': {'lat': 42.09878519999999, 'lng': -75.9175497}, 'travel_mode': 'DRIVING'}], 'traffic_speed_entry': [], 'via_waypoint': []}}, {'lat': 42.10354969999999, 'lng': -75.9160747, 'dist': 554, 'nearest_ev_station': {'geometry': {'location': {'lat': 42.09868669999999, 'lng': -75.91797380000001}, 'viewport': {'northeast': {'lat': 42.13177503552981, 'lng': -75.85702294791386}, 'southwest': {'lat': 42.07186194836596, 'lng': -75.95014989429161}}}, 'icon': 'https://maps.gstatic.com/mapfiles/place_api/icons/v1/png_71/geocode-71.png', 'icon_background_color': '#7B9EB0', 'icon_mask_base_uri': 'https://maps.gstatic.com/mapfiles/place_api/icons/v2/generic_pinlet', 'name': 'Binghamton', 'photos': [{'height': 5344, 'html_attributions': ['<a href=\"https://maps.google.com/maps/contrib/101156353252697193594\">Chuck Metcalfe</a>'], 'photo_reference': 'ATplDJYOjeq4BETqvbL162R_yQ2AvQl1c7ic3eS1D3cBebk0u79BrJ9UTwaYrkvEyDZmDKf9Hj20MaXHcAOoiW0GUTK7gkuJNhraDLABuzt6ZoU8lOg67c7JiXy4CZwjoub_buTF2hjObIM7IfuMKZSHDmmswGedJqviHN9Cvy077BdmGo_G', 'width': 3006}], 'place_id': 'ChIJ0bet33Lv2okRfzPt9wOXjwY', 'reference': 'ChIJ0bet33Lv2okRfzPt9wOXjwY', 'scope': 'GOOGLE', 'types': ['locality', 'political'], 'vicinity': 'Binghamton'}, 'nearest_ev_station_distance': 575, 'nearest_ev_route_segment': {'distance': {'text': '0.6 km', 'value': 575}, 'duration': {'text': '1 min', 'value': 71}, 'end_address': '19 NY-17C, Binghamton, NY 13905, USA', 'end_location': {'lat': 42.0988558, 'lng': -75.9179143}, 'start_address': '2 Clinton St, Binghamton, NY 13905, USA', 'start_location': {'lat': 42.10354969999999, 'lng': -75.9160747}, 'steps': [{'distance': {'text': '0.5 km', 'value': 544}, 'duration': {'text': '1 min', 'value': 64}, 'end_location': {'lat': 42.09878519999999, 'lng': -75.9175497}, 'html_instructions': 'Head <b>south</b> on <b>Front St</b> toward <b>Gerard Ave</b>', 'polyline': {'points': 'ej~_GljjnM^H\\\\F`@Hr@Pj@JhB\\\\~Bb@h@J\\\\HjATlBd@^H`@JjAXx@PbAV'}, 'start_location': {'lat': 42.10354969999999, 'lng': -75.9160747}, 'travel_mode': 'DRIVING'}, {'distance': {'text': '31 m', 'value': 31}, 'duration': {'text': '1 min', 'value': 7}, 'end_location': {'lat': 42.0988558, 'lng': -75.9179143}, 'html_instructions': 'Turn <b>right</b> onto <b>Main St</b><div style=\"font-size:0.9em\">Destination will be on the left</div>', 'maneuver': 'turn-right', 'polyline': {'points': 'ml}_GtsjnMMfA'}, 'start_location': {'lat': 42.09878519999999, 'lng': -75.9175497}, 'travel_mode': 'DRIVING'}], 'traffic_speed_entry': [], 'via_waypoint': []}}, {'lat': 42.1083906, 'lng': -75.9146069, 'dist': 356, 'nearest_ev_station': {'geometry': {'location': {'lat': 42.09868669999999, 'lng': -75.91797380000001}, 'viewport': {'northeast': {'lat': 42.13177503552981, 'lng': -75.85702294791386}, 'southwest': {'lat': 42.07186194836596, 'lng': -75.95014989429161}}}, 'icon': 'https://maps.gstatic.com/mapfiles/place_api/icons/v1/png_71/geocode-71.png', 'icon_background_color': '#7B9EB0', 'icon_mask_base_uri': 'https://maps.gstatic.com/mapfiles/place_api/icons/v2/generic_pinlet', 'name': 'Binghamton', 'photos': [{'height': 5344, 'html_attributions': ['<a href=\"https://maps.google.com/maps/contrib/101156353252697193594\">Chuck Metcalfe</a>'], 'photo_reference': 'ATplDJb-SxB2mkma1lFwXDl0G_k-fHJq0KBJqgghnkZAc9lqPmTIaGfcZMNFMtHVxk5k1uYFom71wpZ3iIlWj6Z8YUd5UxRZRA3tdt4fBXYFImQ57XuT-R6RD-s5Asx9vI1JCE38knhQxTWXzgT6Eh_E6LOXhJ18HFYUGLo0Q12tYsWf-nVu', 'width': 3006}], 'place_id': 'ChIJ0bet33Lv2okRfzPt9wOXjwY', 'reference': 'ChIJ0bet33Lv2okRfzPt9wOXjwY', 'scope': 'GOOGLE', 'types': ['locality', 'political'], 'vicinity': 'Binghamton'}, 'nearest_ev_station_distance': 1128, 'nearest_ev_route_segment': {'distance': {'text': '1.1 km', 'value': 1128}, 'duration': {'text': '2 mins', 'value': 131}, 'end_address': '19 NY-17C, Binghamton, NY 13905, USA', 'end_location': {'lat': 42.0988558, 'lng': -75.9179143}, 'start_address': '281 Front St, Binghamton, NY 13905, USA', 'start_location': {'lat': 42.1083906, 'lng': -75.9146069}, 'steps': [{'distance': {'text': '1.1 km', 'value': 1097}, 'duration': {'text': '2 mins', 'value': 124}, 'end_location': {'lat': 42.09878519999999, 'lng': -75.9175497}, 'html_instructions': 'Head <b>southwest</b> on <b>Front St</b> toward <b>Gaines St</b>', 'polyline': {'points': 'mh_`GhajnMLLFFDDFBFBHDPD^F|HtA`@FpCf@RDZFXDhB\\\\x@Nb@H^Fh@LPB^H\\\\F`@Hr@Pj@JhB\\\\~Bb@h@J\\\\HjATlBd@^H`@JjAXx@PbAV'}, 'start_location': {'lat': 42.1083906, 'lng': -75.9146069}, 'travel_mode': 'DRIVING'}, {'distance': {'text': '31 m', 'value': 31}, 'duration': {'text': '1 min', 'value': 7}, 'end_location': {'lat': 42.0988558, 'lng': -75.9179143}, 'html_instructions': 'Turn <b>right</b> onto <b>Main St</b><div style=\"font-size:0.9em\">Destination will be on the left</div>', 'maneuver': 'turn-right', 'polyline': {'points': 'ml}_GtsjnMMfA'}, 'start_location': {'lat': 42.09878519999999, 'lng': -75.9175497}, 'travel_mode': 'DRIVING'}], 'traffic_speed_entry': [], 'via_waypoint': []}}, {'lat': 42.1113924, 'lng': -75.91563839999999, 'dist': 1004, 'nearest_ev_station': {'geometry': {'location': {'lat': 42.09868669999999, 'lng': -75.91797380000001}, 'viewport': {'northeast': {'lat': 42.13177503552981, 'lng': -75.85702294791386}, 'southwest': {'lat': 42.07186194836596, 'lng': -75.95014989429161}}}, 'icon': 'https://maps.gstatic.com/mapfiles/place_api/icons/v1/png_71/geocode-71.png', 'icon_background_color': '#7B9EB0', 'icon_mask_base_uri': 'https://maps.gstatic.com/mapfiles/place_api/icons/v2/generic_pinlet', 'name': 'Binghamton', 'photos': [{'height': 5344, 'html_attributions': ['<a href=\"https://maps.google.com/maps/contrib/101156353252697193594\">Chuck Metcalfe</a>'], 'photo_reference': 'ATplDJZLHhVp4B1jQ0avlqLnXnVpe0GzdJEoJ3TQNtwcdU7_hmftUZ4doLXLJrX_IaYqpuHvbIPEh-aRhbfvk--hrQgvIJRiGBzELb80JozNcIFJZJSw-_5MYpzemvgEsJN41aOdEbo-gtUpN8gKTokIpsrFWr99_BS3rKMSB7CBpRKwKndA', 'width': 3006}], 'place_id': 'ChIJ0bet33Lv2okRfzPt9wOXjwY', 'reference': 'ChIJ0bet33Lv2okRfzPt9wOXjwY', 'scope': 'GOOGLE', 'types': ['locality', 'political'], 'vicinity': 'Binghamton'}, 'nearest_ev_station_distance': 1484, 'nearest_ev_route_segment': {'distance': {'text': '1.5 km', 'value': 1484}, 'duration': {'text': '3 mins', 'value': 172}, 'end_address': '19 NY-17C, Binghamton, NY 13905, USA', 'end_location': {'lat': 42.0988558, 'lng': -75.9179143}, 'start_address': '65 Prospect St, Binghamton, NY 13905, USA', 'start_location': {'lat': 42.1113924, 'lng': -75.91563839999999}, 'steps': [{'distance': {'text': '0.4 km', 'value': 356}, 'duration': {'text': '1 min', 'value': 39}, 'end_location': {'lat': 42.1083906, 'lng': -75.9146069}, 'html_instructions': 'Head <b>south</b> on <b>Karlada Dr</b> toward <b>Front St</b>', 'polyline': {'points': 'e{_`GvgjnMb@EJATCLAx@IJAb@ETA@AJAb@EVAJAx@Ib@EJANCF?DADAVEJATGHANGLK@ENWj@_A'}, 'start_location': {'lat': 42.1113924, 'lng': -75.91563839999999}, 'travel_mode': 'DRIVING'}, {'distance': {'text': '1.1 km', 'value': 1097}, 'duration': {'text': '2 mins', 'value': 126}, 'end_location': {'lat': 42.09878519999999, 'lng': -75.9175497}, 'html_instructions': 'Turn <b>right</b> onto <b>Front St</b>', 'maneuver': 'turn-right', 'polyline': {'points': 'mh_`GhajnMLLFFDDFBFBHDPD^F|HtA`@FpCf@RDZFXDhB\\\\x@Nb@H^Fh@LPB^H\\\\F`@Hr@Pj@JhB\\\\~Bb@h@J\\\\HjATlBd@^H`@JjAXx@PbAV'}, 'start_location': {'lat': 42.1083906, 'lng': -75.9146069}, 'travel_mode': 'DRIVING'}, {'distance': {'text': '31 m', 'value': 31}, 'duration': {'text': '1 min', 'value': 7}, 'end_location': {'lat': 42.0988558, 'lng': -75.9179143}, 'html_instructions': 'Turn <b>right</b> onto <b>Main St</b><div style=\"font-size:0.9em\">Destination will be on the left</div>', 'maneuver': 'turn-right', 'polyline': {'points': 'ml}_GtsjnMMfA'}, 'start_location': {'lat': 42.09878519999999, 'lng': -75.9175497}, 'travel_mode': 'DRIVING'}], 'traffic_speed_entry': [], 'via_waypoint': []}}, {'lat': 42.1132411, 'lng': -75.9275382, 'dist': 494, 'nearest_ev_station': {'geometry': {'location': {'lat': 42.09868669999999, 'lng': -75.91797380000001}, 'viewport': {'northeast': {'lat': 42.13177503552981, 'lng': -75.85702294791386}, 'southwest': {'lat': 42.07186194836596, 'lng': -75.95014989429161}}}, 'icon': 'https://maps.gstatic.com/mapfiles/place_api/icons/v1/png_71/geocode-71.png', 'icon_background_color': '#7B9EB0', 'icon_mask_base_uri': 'https://maps.gstatic.com/mapfiles/place_api/icons/v2/generic_pinlet', 'name': 'Binghamton', 'photos': [{'height': 5344, 'html_attributions': ['<a href=\"https://maps.google.com/maps/contrib/101156353252697193594\">Chuck Metcalfe</a>'], 'photo_reference': 'ATplDJa28Tve0egP1Iesmb0xoHnRc8GuTYb6NhBzocCT-qDbfg7tIGIOpheVihndsYUbJhHlLzPUhmCrtDLoH_WB-JAB8x_rLKTfTwJcmPmIfrLrHTWXlgcdWrqr268hE7-cYQ7w_WsTiP6LNfqvq01Ht1Yeqg8GEX_S0Wl7BDmZErvJKKlu', 'width': 3006}], 'place_id': 'ChIJ0bet33Lv2okRfzPt9wOXjwY', 'reference': 'ChIJ0bet33Lv2okRfzPt9wOXjwY', 'scope': 'GOOGLE', 'types': ['locality', 'political'], 'vicinity': 'Binghamton'}, 'nearest_ev_station_distance': 2488, 'nearest_ev_route_segment': {'distance': {'text': '2.5 km', 'value': 2488}, 'duration': {'text': '4 mins', 'value': 254}, 'end_address': '19 NY-17C, Binghamton, NY 13905, USA', 'end_location': {'lat': 42.0988558, 'lng': -75.9179143}, 'start_address': '159 Prospect St, Binghamton, NY 13905, USA', 'start_location': {'lat': 42.1132411, 'lng': -75.9275382}, 'steps': [{'distance': {'text': '1.0 km', 'value': 1004}, 'duration': {'text': '1 min', 'value': 81}, 'end_location': {'lat': 42.1113924, 'lng': -75.91563839999999}, 'html_instructions': 'Head <b>east</b> on <b>Prospect St</b> toward <b>Mygatt St</b>', 'polyline': {'points': 'wf``GbrlnMBa@JiBJ{ADo@?GDe@Bm@Dm@@UBa@B[B[FcA@Q@WDu@Bo@@QB]DaABs@H{ABY@]BS@M@MFi@`@gDTwBFo@XmCP}AFm@Fo@j@iF@CP}AVsBVwB'}, 'start_location': {'lat': 42.1132411, 'lng': -75.9275382}, 'travel_mode': 'DRIVING'}, {'distance': {'text': '0.4 km', 'value': 356}, 'duration': {'text': '1 min', 'value': 40}, 'end_location': {'lat': 42.1083906, 'lng': -75.9146069}, 'html_instructions': 'Turn <b>right</b> onto <b>Karlada Dr</b>', 'maneuver': 'turn-right', 'polyline': {'points': 'e{_`GvgjnMb@EJATCLAx@IJAb@ETA@AJAb@EVAJAx@Ib@EJANCF?DADAVEJATGHANGLK@ENWj@_A'}, 'start_location': {'lat': 42.1113924, 'lng': -75.91563839999999}, 'travel_mode': 'DRIVING'}, {'distance': {'text': '1.1 km', 'value': 1097}, 'duration': {'text': '2 mins', 'value': 126}, 'end_location': {'lat': 42.09878519999999, 'lng': -75.9175497}, 'html_instructions': 'Turn <b>right</b> onto <b>Front St</b>', 'maneuver': 'turn-right', 'polyline': {'points': 'mh_`GhajnMLLFFDDFBFBHDPD^F|HtA`@FpCf@RDZFXDhB\\\\x@Nb@H^Fh@LPB^H\\\\F`@Hr@Pj@JhB\\\\~Bb@h@J\\\\HjATlBd@^H`@JjAXx@PbAV'}, 'start_location': {'lat': 42.1083906, 'lng': -75.9146069}, 'travel_mode': 'DRIVING'}, {'distance': {'text': '31 m', 'value': 31}, 'duration': {'text': '1 min', 'value': 7}, 'end_location': {'lat': 42.0988558, 'lng': -75.9179143}, 'html_instructions': 'Turn <b>right</b> onto <b>Main St</b><div style=\"font-size:0.9em\">Destination will be on the left</div>', 'maneuver': 'turn-right', 'polyline': {'points': 'ml}_GtsjnMMfA'}, 'start_location': {'lat': 42.09878519999999, 'lng': -75.9175497}, 'travel_mode': 'DRIVING'}], 'traffic_speed_entry': [], 'via_waypoint': []}}, {'lat': 42.1143697, 'lng': -75.9322614, 'dist': 1331, 'nearest_ev_station': {'geometry': {'location': {'lat': 42.09868669999999, 'lng': -75.91797380000001}, 'viewport': {'northeast': {'lat': 42.13177503552981, 'lng': -75.85702294791386}, 'southwest': {'lat': 42.07186194836596, 'lng': -75.95014989429161}}}, 'icon': 'https://maps.gstatic.com/mapfiles/place_api/icons/v1/png_71/geocode-71.png', 'icon_background_color': '#7B9EB0', 'icon_mask_base_uri': 'https://maps.gstatic.com/mapfiles/place_api/icons/v2/generic_pinlet', 'name': 'Binghamton', 'photos': [{'height': 5344, 'html_attributions': ['<a href=\"https://maps.google.com/maps/contrib/101156353252697193594\">Chuck Metcalfe</a>'], 'photo_reference': 'ATplDJZ-9h6-vJTMLDzAMgrMx7Embuliz9pYBGmpCWLOFnYXsOqvaHe-lH3zZ9qhVR1DHT4_AhtF4DDXpYA0eVEGMyLTm2ejPiLPuNINVYQYYPdVQqEcE57Eewh8GHkM43PZ2MOnXZM7ZeRFOtWvQClBGzfE6LAq3egnBw648XK6q8KpYDbS', 'width': 3006}], 'place_id': 'ChIJ0bet33Lv2okRfzPt9wOXjwY', 'reference': 'ChIJ0bet33Lv2okRfzPt9wOXjwY', 'scope': 'GOOGLE', 'types': ['locality', 'political'], 'vicinity': 'Binghamton'}, 'nearest_ev_station_distance': 7254, 'nearest_ev_route_segment': {'distance': {'text': '7.3 km', 'value': 7254}, 'duration': {'text': '8 mins', 'value': 452}, 'end_address': '19 NY-17C, Binghamton, NY 13905, USA', 'end_location': {'lat': 42.0988558, 'lng': -75.9179143}, 'start_address': '229 Prospect St, Binghamton, NY 13905, USA', 'start_location': {'lat': 42.1143697, 'lng': -75.9322614}, 'steps': [{'distance': {'text': '1.3 km', 'value': 1331}, 'duration': {'text': '1 min', 'value': 49}, 'end_location': {'lat': 42.1199771, 'lng': -75.9462015}, 'html_instructions': 'Head <b>west</b> on <b>I-86</b>', 'polyline': {'points': 'ym``GromnMCRC\\\\CZEZC\\\\EZEZC\\\\EZEZEZ?@EXEZG\\\\EX?BGVE\\\\GXG\\\\AJCLGZCLCLGZGT?BIZGZGV?@IZGXEPCFIZGXIZIXIXIZIXSn@KZKZGPADKXKXIVCFGNMZIVKVKVMV?@KVKVYn@EHGLKTMVMVKRINCDMVMTMVMTCDINMTIJMTA@KROTMTMRKNCDMTEHIJMTGHGJMTMRMRABMROTEHU`@CDKPMTEJEJMVMVKVKVM`@GPIXABGTGTQt@CPMv@Il@?@E`@CRANANC\\\\A\\\\Cr@'}, 'start_location': {'lat': 42.1143697, 'lng': -75.9322614}, 'travel_mode': 'DRIVING'}, {'distance': {'text': '0.3 km', 'value': 339}, 'duration': {'text': '1 min', 'value': 27}, 'end_location': {'lat': 42.1209549, 'lng': -75.9459768}, 'html_instructions': 'Take exit <b>71S</b> toward <b>Johnson City</b>', 'maneuver': 'ramp-right', 'polyline': {'points': '{pa`GvfpnMKN?@A@AXAVATAVCPCPGTOXMRWROHKBKBM@O@KAKCIEIEQKGGMOEMIOEMCMCQ?MAK@QBODQ@EBIJOLKJILGDGBG@G@K'}, 'start_location': {'lat': 42.1199771, 'lng': -75.9462015}, 'travel_mode': 'DRIVING'}, {'distance': {'text': '0.2 km', 'value': 169}, 'duration': {'text': '1 min', 'value': 18}, 'end_location': {'lat': 42.1194433, 'lng': -75.9459167}, 'html_instructions': 'Turn <b>right</b> onto <b>Airport Rd</b>', 'maneuver': 'turn-right', 'polyline': {'points': '}va`GjepnMPAZA`ACd@AxBI\\\\F'}, 'start_location': {'lat': 42.1209549, 'lng': -75.9459768}, 'travel_mode': 'DRIVING'}, {'distance': {'text': '0.4 km', 'value': 429}, 'duration': {'text': '1 min', 'value': 37}, 'end_location': {'lat': 42.1198359, 'lng': -75.9470299}, 'html_instructions': 'Turn <b>right</b> onto the ramp to <b>Binghamton</b>', 'maneuver': 'ramp-right', 'polyline': {'points': 'oma`G~dpnMBZDj@DZBFFXHVDHFLLNBDJJ^b@DFTX@BBFDFBJ@J@L@P?PANCJAHAFELELA@GJIHGDC@KFA?IDMBI@M?KAKEECIEKICCACGICIEII[CSCOCWIcACe@?CACMO'}, 'start_location': {'lat': 42.1194433, 'lng': -75.9459167}, 'travel_mode': 'DRIVING'}, {'distance': {'text': '3.0 km', 'value': 2953}, 'duration': {'text': '2 mins', 'value': 110}, 'end_location': {'lat': 42.1113337, 'lng': -75.9138754}, 'html_instructions': 'Merge onto <b>I-86 E</b>', 'maneuver': 'merge', 'polyline': {'points': '_pa`G|kpnM?W?YA[?[?U?C@[@a@@_@@_@BY?ED[B[D[BYBKBOD[F[FWLk@BKHYJYHYJUFQVm@DIJUNYDKDGLULUDGHMLSNULUDIFINWLUNUBEHMLUJOBELUNWLSNULULUNUBGFKLULULWJU@ANYLUJUBGFOLWJUJU@CJWJWJWJWJUJ[JWJWBIFOHWJYDMDKHYHYJWFW@AHYRs@HW?CHYHYFYH[FU?CH[FYF[@EFSFY@KDOF[DW@CDYDQ@IF[@IBQF[D[F[DY@OBMD[@CBWD_@Ju@B[D[?GBUD[@U@GB[Fs@@EB[B]@[?CBYB]@WB[?CBWB_@@M@MBa@@WB]B[@U@UBYB[@[B]@M@ODy@B[?ABYDy@B_@@G@SB]@WBa@B[Be@@MBe@@MBUB[?K@QBe@B[@E@]B[Be@BW?CBa@Ba@BWBe@@W@CBc@B]@[Dc@@U@EBe@B[?ABa@B[BSFg@HeAHw@Dg@Fg@BSBUD[Hu@J{@LaANgAJ{@Hk@?AXuBLcAHk@d@oDTiBPoALcAJw@BWJo@LcAJ}@D[DYBWB[B]@]?G@U@[?c@'}, 'start_location': {'lat': 42.1198359, 'lng': -75.9470299}, 'travel_mode': 'DRIVING'}, {'distance': {'text': '0.3 km', 'value': 330}, 'duration': {'text': '1 min', 'value': 27}, 'end_location': {'lat': 42.1120061, 'lng': -75.91015639999999}, 'html_instructions': 'Take exit <b>72-72B</b> toward <b>Front St</b>', 'maneuver': 'ramp-right', 'polyline': {'points': 'yz_`Gv|inMH]?WA]Aa@AO?MAI?GIkAEe@G_@Gm@Ie@Ia@Ka@Mg@Qc@Se@O_@?AIOCKCMAM?a@@GJa@'}, 'start_location': {'lat': 42.1113337, 'lng': -75.9138754}, 'travel_mode': 'DRIVING'}, {'distance': {'text': '1.7 km', 'value': 1672}, 'duration': {'text': '3 mins', 'value': 177}, 'end_location': {'lat': 42.09878519999999, 'lng': -75.9175497}, 'html_instructions': 'Turn <b>right</b> onto <b>Front St</b>', 'maneuver': 'turn-right', 'polyline': {'points': 'a_``GneinMVJJF`@P^R^Rf@Tx@`@b@Tt@^b@T`@T^RNHFFJHNLJNNVFJFJJXHTJ`@T~@FTJ^`@bBZhARz@HX@FBHBHBDBFBD@DBBFLLLFFDDFBFBHDPD^F|HtA`@FpCf@RDZFXDhB\\\\x@Nb@H^Fh@LPB^H\\\\F`@Hr@Pj@JhB\\\\~Bb@h@J\\\\HjATlBd@^H`@JjAXx@PbAV'}, 'start_location': {'lat': 42.1120061, 'lng': -75.91015639999999}, 'travel_mode': 'DRIVING'}, {'distance': {'text': '31 m', 'value': 31}, 'duration': {'text': '1 min', 'value': 7}, 'end_location': {'lat': 42.0988558, 'lng': -75.9179143}, 'html_instructions': 'Turn <b>right</b> onto <b>Main St</b><div style=\"font-size:0.9em\">Destination will be on the left</div>', 'maneuver': 'turn-right', 'polyline': {'points': 'ml}_GtsjnMMfA'}, 'start_location': {'lat': 42.09878519999999, 'lng': -75.9175497}, 'travel_mode': 'DRIVING'}], 'traffic_speed_entry': [], 'via_waypoint': []}}, {'lat': 42.1199771, 'lng': -75.9462015, 'dist': 8576, 'nearest_ev_station': {'geometry': {'location': {'lat': 42.09868669999999, 'lng': -75.91797380000001}, 'viewport': {'northeast': {'lat': 42.13177503552981, 'lng': -75.85702294791386}, 'southwest': {'lat': 42.07186194836596, 'lng': -75.95014989429161}}}, 'icon': 'https://maps.gstatic.com/mapfiles/place_api/icons/v1/png_71/geocode-71.png', 'icon_background_color': '#7B9EB0', 'icon_mask_base_uri': 'https://maps.gstatic.com/mapfiles/place_api/icons/v2/generic_pinlet', 'name': 'Binghamton', 'photos': [{'height': 5344, 'html_attributions': ['<a href=\"https://maps.google.com/maps/contrib/101156353252697193594\">Chuck Metcalfe</a>'], 'photo_reference': 'ATplDJYnmHjpH6TgERh8Jjj2s5vjjJVFCsdOTg9PQHTjbNyO258qApOYtO84xoCR84arfU2JCqdfvY9HLpDvlTSQ2bR5NG429zoxZiN9IC3i3ap01RIzq6-4HsVo7bftbqlTRgW36HNXeKSB0OxbSKrAAsnb7KQc_xVtgP_vE1s9xssL_NUI', 'width': 3006}], 'place_id': 'ChIJ0bet33Lv2okRfzPt9wOXjwY', 'reference': 'ChIJ0bet33Lv2okRfzPt9wOXjwY', 'scope': 'GOOGLE', 'types': ['locality', 'political'], 'vicinity': 'Binghamton'}, 'nearest_ev_station_distance': 5923, 'nearest_ev_route_segment': {'distance': {'text': '5.9 km', 'value': 5923}, 'duration': {'text': '7 mins', 'value': 402}, 'end_address': '19 NY-17C, Binghamton, NY 13905, USA', 'end_location': {'lat': 42.0988558, 'lng': -75.9179143}, 'start_address': 'Southern Tier Expy, Binghamton, NY 13905, USA', 'start_location': {'lat': 42.1199771, 'lng': -75.9462015}, 'steps': [{'distance': {'text': '0.3 km', 'value': 339}, 'duration': {'text': '1 min', 'value': 26}, 'end_location': {'lat': 42.1209549, 'lng': -75.9459768}, 'html_instructions': 'Head <b>northwest</b> on <b>Exit 71S</b> toward <b>Airport Rd</b>', 'polyline': {'points': '{pa`GvfpnMKN?@A@AXAVATAVCPCPGTOXMRWROHKBKBM@O@KAKCIEIEQKGGMOEMIOEMCMCQ?MAK@QBODQ@EBIJOLKJILGDGBG@G@K'}, 'start_location': {'lat': 42.1199771, 'lng': -75.9462015}, 'travel_mode': 'DRIVING'}, {'distance': {'text': '0.2 km', 'value': 169}, 'duration': {'text': '1 min', 'value': 18}, 'end_location': {'lat': 42.1194433, 'lng': -75.9459167}, 'html_instructions': 'Turn <b>right</b> onto <b>Airport Rd</b>', 'maneuver': 'turn-right', 'polyline': {'points': '}va`GjepnMPAZA`ACd@AxBI\\\\F'}, 'start_location': {'lat': 42.1209549, 'lng': -75.9459768}, 'travel_mode': 'DRIVING'}, {'distance': {'text': '0.4 km', 'value': 429}, 'duration': {'text': '1 min', 'value': 37}, 'end_location': {'lat': 42.1198359, 'lng': -75.9470299}, 'html_instructions': 'Turn <b>right</b> onto the ramp to <b>Binghamton</b>', 'maneuver': 'ramp-right', 'polyline': {'points': 'oma`G~dpnMBZDj@DZBFFXHVDHFLLNBDJJ^b@DFTX@BBFDFBJ@J@L@P?PANCJAHAFELELA@GJIHGDC@KFA?IDMBI@M?KAKEECIEKICCACGICIEII[CSCOCWIcACe@?CACMO'}, 'start_location': {'lat': 42.1194433, 'lng': -75.9459167}, 'travel_mode': 'DRIVING'}, {'distance': {'text': '3.0 km', 'value': 2953}, 'duration': {'text': '2 mins', 'value': 110}, 'end_location': {'lat': 42.1113337, 'lng': -75.9138754}, 'html_instructions': 'Merge onto <b>I-86 E</b>', 'maneuver': 'merge', 'polyline': {'points': '_pa`G|kpnM?W?YA[?[?U?C@[@a@@_@@_@BY?ED[B[D[BYBKBOD[F[FWLk@BKHYJYHYJUFQVm@DIJUNYDKDGLULUDGHMLSNULUDIFINWLUNUBEHMLUJOBELUNWLSNULULUNUBGFKLULULWJU@ANYLUJUBGFOLWJUJU@CJWJWJWJWJUJ[JWJWBIFOHWJYDMDKHYHYJWFW@AHYRs@HW?CHYHYFYH[FU?CH[FYF[@EFSFY@KDOF[DW@CDYDQ@IF[@IBQF[D[F[DY@OBMD[@CBWD_@Ju@B[D[?GBUD[@U@GB[Fs@@EB[B]@[?CBYB]@WB[?CBWB_@@M@MBa@@WB]B[@U@UBYB[@[B]@M@ODy@B[?ABYDy@B_@@G@SB]@WBa@B[Be@@MBe@@MBUB[?K@QBe@B[@E@]B[Be@BW?CBa@Ba@BWBe@@W@CBc@B]@[Dc@@U@EBe@B[?ABa@B[BSFg@HeAHw@Dg@Fg@BSBUD[Hu@J{@LaANgAJ{@Hk@?AXuBLcAHk@d@oDTiBPoALcAJw@BWJo@LcAJ}@D[DYBWB[B]@]?G@U@[?c@'}, 'start_location': {'lat': 42.1198359, 'lng': -75.9470299}, 'travel_mode': 'DRIVING'}, {'distance': {'text': '0.3 km', 'value': 330}, 'duration': {'text': '1 min', 'value': 27}, 'end_location': {'lat': 42.1120061, 'lng': -75.91015639999999}, 'html_instructions': 'Take exit <b>72-72B</b> toward <b>Front St</b>', 'maneuver': 'ramp-right', 'polyline': {'points': 'yz_`Gv|inMH]?WA]Aa@AO?MAI?GIkAEe@G_@Gm@Ie@Ia@Ka@Mg@Qc@Se@O_@?AIOCKCMAM?a@@GJa@'}, 'start_location': {'lat': 42.1113337, 'lng': -75.9138754}, 'travel_mode': 'DRIVING'}, {'distance': {'text': '1.7 km', 'value': 1672}, 'duration': {'text': '3 mins', 'value': 177}, 'end_location': {'lat': 42.09878519999999, 'lng': -75.9175497}, 'html_instructions': 'Turn <b>right</b> onto <b>Front St</b>', 'maneuver': 'turn-right', 'polyline': {'points': 'a_``GneinMVJJF`@P^R^Rf@Tx@`@b@Tt@^b@T`@T^RNHFFJHNLJNNVFJFJJXHTJ`@T~@FTJ^`@bBZhARz@HX@FBHBHBDBFBD@DBBFLLLFFDDFBFBHDPD^F|HtA`@FpCf@RDZFXDhB\\\\x@Nb@H^Fh@LPB^H\\\\F`@Hr@Pj@JhB\\\\~Bb@h@J\\\\HjATlBd@^H`@JjAXx@PbAV'}, 'start_location': {'lat': 42.1120061, 'lng': -75.91015639999999}, 'travel_mode': 'DRIVING'}, {'distance': {'text': '31 m', 'value': 31}, 'duration': {'text': '1 min', 'value': 7}, 'end_location': {'lat': 42.0988558, 'lng': -75.9179143}, 'html_instructions': 'Turn <b>right</b> onto <b>Main St</b><div style=\"font-size:0.9em\">Destination will be on the left</div>', 'maneuver': 'turn-right', 'polyline': {'points': 'ml}_GtsjnMMfA'}, 'start_location': {'lat': 42.09878519999999, 'lng': -75.9175497}, 'travel_mode': 'DRIVING'}], 'traffic_speed_entry': [], 'via_waypoint': []}}, {'lat': 42.0926669, 'lng': -76.03810639999999, 'dist': 50391, 'nearest_ev_station': {'geometry': {'location': {'lat': 42.09868669999999, 'lng': -75.91797380000001}, 'viewport': {'northeast': {'lat': 42.13177503552981, 'lng': -75.85702294791386}, 'southwest': {'lat': 42.07186194836596, 'lng': -75.95014989429161}}}, 'icon': 'https://maps.gstatic.com/mapfiles/place_api/icons/v1/png_71/geocode-71.png', 'icon_background_color': '#7B9EB0', 'icon_mask_base_uri': 'https://maps.gstatic.com/mapfiles/place_api/icons/v2/generic_pinlet', 'name': 'Binghamton', 'photos': [{'height': 5344, 'html_attributions': ['<a href=\"https://maps.google.com/maps/contrib/101156353252697193594\">Chuck Metcalfe</a>'], 'photo_reference': 'ATplDJZqvNmrYKbsT0Llz3g_2-x5oAO9V_ZXtoSUuyyzBnHrQZ3_6EO0Yzx-lK0lBDKnGITpuedyq4Abfv6ZMM3DcrfAVOCZeokRJ-IK1tPbziE8FnhYnT9Nb42rwjsSu52e-yE1IULvhgxWVIYUeVCAfsQcvkJfOvJzPMyXLFh_a6GilpTI', 'width': 3006}], 'place_id': 'ChIJ0bet33Lv2okRfzPt9wOXjwY', 'reference': 'ChIJ0bet33Lv2okRfzPt9wOXjwY', 'scope': 'GOOGLE', 'types': ['locality', 'political'], 'vicinity': 'Binghamton'}, 'nearest_ev_station_distance': 15400, 'nearest_ev_route_segment': {'distance': {'text': '15.4 km', 'value': 15400}, 'duration': {'text': '12 mins', 'value': 712}, 'end_address': '19 NY-17C, Binghamton, NY 13905, USA', 'end_location': {'lat': 42.0988558, 'lng': -75.9179143}, 'start_address': '860 Vestal Rd, Vestal, NY 13850, USA', 'start_location': {'lat': 42.0926669, 'lng': -76.03810639999999}, 'steps': [{'distance': {'text': '0.5 km', 'value': 518}, 'duration': {'text': '1 min', 'value': 18}, 'end_location': {'lat': 42.0918825, 'lng': -76.0442944}, 'html_instructions': 'Head <b>west</b> on <b>NY-17 W</b>', 'polyline': {'points': 'ef|_GdeboMBXDZBX?@@HBZ?@?@?HH~@?@?D@PB`@BZB\\\\B\\\\@ZBZ?@BZB\\\\BZB\\\\@ZFz@BZB\\\\@ZB\\\\@NDj@?B@VBVDr@@JB\\\\B\\\\@PBd@?BJtA@ZDf@F|@'}, 'start_location': {'lat': 42.0926669, 'lng': -76.03810639999999}, 'travel_mode': 'DRIVING'}, {'distance': {'text': '0.5 km', 'value': 521}, 'duration': {'text': '1 min', 'value': 32}, 'end_location': {'lat': 42.0911563, 'lng': -76.0432905}, 'html_instructions': 'Take exit <b>67S</b> to merge onto <b>NY-26 S</b>/<wbr/><b>State Rte 26 S</b> toward <b>NY-434</b>/<wbr/><b>Vestal</b>', 'maneuver': 'ramp-right', 'polyline': {'points': 'ga|_GxkcoME`@?H?H?NAHAJA@AJAJCHEJCHCFCB?@CDEDCDEDGFCBIFIBKBKBM@C?C?E?MAIAICICKGECEEIIIIIOGQGQEQAQAMAM@O?O@MBQBMBG@GFMFKDGFI@A@CDCFGLEHEFEDEDGpAO\\\\Ah@I`@MpBY'}, 'start_location': {'lat': 42.0918825, 'lng': -76.0442944}, 'travel_mode': 'DRIVING'}, {'distance': {'text': '9.3 km', 'value': 9309}, 'duration': {'text': '6 mins', 'value': 339}, 'end_location': {'lat': 42.1197995, 'lng': -75.9478328}, 'html_instructions': 'Merge onto <b>NY-17 E</b> via the ramp to <b>Binghamton</b>', 'maneuver': 'ramp-right', 'polyline': {'points': 'w|{_GpecoMJH@?@?N?J@J@D@JDJFHFDBBBFHBBDDFNFPDN?@DV@R?R?PATCLCNENELIPGJKHIHIFKDIBKBI@G@A?IAK?AAKACAQIIGIGGGA?CEGIISGMCMAGCOAAMWIuACe@CYIwAEc@IoACe@ASC]C[Ca@AYC[C]Gy@?AAYCU?GC]C[C]A[AEAWC[C]C_@GgAIaAAQ?EAKAWG}@AMCMC[Iy@E[?AGYE[G]ESESCOGWIYGY?ACIEOAA?AIUIYCGUq@ACQc@MYKWMUMWMSOYOWCGW_@OUOS}@qAMUOSQW{@oAAA]g@OSEGGMOSGIACEEOUCEKMIMCGOQ?AOUOSOSKQCCMSOUAAMQOUGIEIOSOUc@m@]g@e@s@m@{@SYS[IKa@m@]g@_@k@ACa@s@U_@EGGMMUKSAAKWGKEKMWCGAEQc@Qe@M[ISQi@IUCI[_ASo@So@Y}@Uo@IY{@kCEMKYIWQi@CIUs@EKAEACg@}ACIYw@IWCIOg@IWKYGQAGUs@KYMc@Qg@k@eBGUWw@IQAGUm@Qi@GKIYo@aBGKEKg@kAEMO]MUMWKWMUMWMUMWMUMWMUOWMUMSMUMUOUMUOUMSOUMUOUKSACA?KQOWMUOSMWOUMUOSMUMUOUCCIQOUMSOUMUMUKQCCMUOUMUEGGKOUMUOUMUOUMUOSMWOSMUMU]k@OUMSMUOUCGIMOUS]IMMUOSKSQWMUMSOWMUOUMSKQCCMUOUMUMUOUMUOSMUOWMSMUOUMUOUMUOUMUOSMUOWMUMSOUMUMSKOCGOS?AMS]k@MUOUEIGKMSOUMUOUCGIMOUMUOUMUc@s@Ua@OUOUMUMUACYg@MWMUMUOWMUKWKOAEMWMUMWKWMUMWKWMWGOCEKYEGGOKWKWMWKWKYKWKWKWKYACISKYKWKYIWKYKYIWKYIYIYKYIYIYKWI[IYIYIYIYIYI[IWI[G[EKCMIYG[IYGYI[G[GYI[G[?AGWG[GYG[G[G[G[G[E[GYG[G_@EWE[G[E[E]G[E[E[E[E[E[E]E[E[G]{@uGo@aFY{BEUE]E[E[E[E]EYG]E[E]E[AOCME[E[CQMcAE[G]E[CYEYCU?KCKE[Ge@OiAK{@Im@Im@G_@CWWoBKu@Ga@E]UgBIi@e@sDAGGg@Kq@Gc@McAIo@E_@WkBE[E[Ee@Ea@MgAAKEe@Eo@CUO_CCWIyACk@?KAI?QCq@G_DAY?UAg@A]?Y?_@?]?y@?C?c@?Y?U@c@?Q?SBqABcA?_@@]Bi@Ba@?UHyADqADy@Bs@DaAFeABo@@S?CJ_CTiFF_BDy@NoDDkAFkAFeBV{FBi@F{ADmAB}@@KBgA@]?OBgB@u@?Q?[?M@[?]?Q?M?]?y@?Y?}@?EAQ?m@A[AmA?EAu@A]Ay@I{CAo@Am@Ao@Ak@EkBAQA}@C{ACe@Ao@CwACgAAm@A]?QCqA?ACy@Ao@AQCgBEoB?ECaAAe@A]Ak@EeBE}B?GAA?]AI?KCkA'}, 'start_location': {'lat': 42.0911563, 'lng': -76.0432905}, 'travel_mode': 'DRIVING'}, {'distance': {'text': '3.0 km', 'value': 3019}, 'duration': {'text': '2 mins', 'value': 112}, 'end_location': {'lat': 42.1113337, 'lng': -75.9138754}, 'html_instructions': 'Continue onto <b>I-86 E</b>/<wbr/><b>NY-17 E</b>', 'polyline': {'points': 'woa`G|ppnMCaBC}@?W?YA[?[?U?C@[@a@@_@@_@BY?ED[B[D[BYBKBOD[F[FWLk@BKHYJYHYJUFQVm@DIJUNYDKDGLULUDGHMLSNULUDIFINWLUNUBEHMLUJOBELUNWLSNULULUNUBGFKLULULWJU@ANYLUJUBGFOLWJUJU@CJWJWJWJWJUJ[JWJWBIFOHWJYDMDKHYHYJWFW@AHYRs@HW?CHYHYFYH[FU?CH[FYF[@EFSFY@KDOF[DW@CDYDQ@IF[@IBQF[D[F[DY@OBMD[@CBWD_@Ju@B[D[?GBUD[@U@GB[Fs@@EB[B]@[?CBYB]@WB[?CBWB_@@M@MBa@@WB]B[@U@UBYB[@[B]@M@ODy@B[?ABYDy@B_@@G@SB]@WBa@B[Be@@MBe@@MBUB[?K@QBe@B[@E@]B[Be@BW?CBa@Ba@BWBe@@W@CBc@B]@[Dc@@U@EBe@B[?ABa@B[BSFg@HeAHw@Dg@Fg@BSBUD[Hu@J{@LaANgAJ{@Hk@?AXuBLcAHk@d@oDTiBPoALcAJw@BWJo@LcAJ}@D[DYBWB[B]@]?G@U@[?c@'}, 'start_location': {'lat': 42.1197995, 'lng': -75.9478328}, 'travel_mode': 'DRIVING'}, {'distance': {'text': '0.3 km', 'value': 330}, 'duration': {'text': '1 min', 'value': 27}, 'end_location': {'lat': 42.1120061, 'lng': -75.91015639999999}, 'html_instructions': 'Take exit <b>72-72B</b> toward <b>Front St</b>', 'maneuver': 'ramp-right', 'polyline': {'points': 'yz_`Gv|inMH]?WA]Aa@AO?MAI?GIkAEe@G_@Gm@Ie@Ia@Ka@Mg@Qc@Se@O_@?AIOCKCMAM?a@@GJa@'}, 'start_location': {'lat': 42.1113337, 'lng': -75.9138754}, 'travel_mode': 'DRIVING'}, {'distance': {'text': '1.7 km', 'value': 1672}, 'duration': {'text': '3 mins', 'value': 177}, 'end_location': {'lat': 42.09878519999999, 'lng': -75.9175497}, 'html_instructions': 'Turn <b>right</b> onto <b>Front St</b>', 'maneuver': 'turn-right', 'polyline': {'points': 'a_``GneinMVJJF`@P^R^Rf@Tx@`@b@Tt@^b@T`@T^RNHFFJHNLJNNVFJFJJXHTJ`@T~@FTJ^`@bBZhARz@HX@FBHBHBDBFBD@DBBFLLLFFDDFBFBHDPD^F|HtA`@FpCf@RDZFXDhB\\\\x@Nb@H^Fh@LPB^H\\\\F`@Hr@Pj@JhB\\\\~Bb@h@J\\\\HjATlBd@^H`@JjAXx@PbAV'}, 'start_location': {'lat': 42.1120061, 'lng': -75.91015639999999}, 'travel_mode': 'DRIVING'}, {'distance': {'text': '31 m', 'value': 31}, 'duration': {'text': '1 min', 'value': 7}, 'end_location': {'lat': 42.0988558, 'lng': -75.9179143}, 'html_instructions': 'Turn <b>right</b> onto <b>Main St</b><div style=\"font-size:0.9em\">Destination will be on the left</div>', 'maneuver': 'turn-right', 'polyline': {'points': 'ml}_GtsjnMMfA'}, 'start_location': {'lat': 42.09878519999999, 'lng': -75.9175497}, 'travel_mode': 'DRIVING'}], 'traffic_speed_entry': [], 'via_waypoint': []}}, {'lat': 42.0002243, 'lng': -76.52970599999999, 'dist': 98101, 'nearest_ev_station': {'geometry': {'location': {'lat': 41.9789631, 'lng': -76.51549899999999}, 'viewport': {'northeast': {'lat': 41.99987704389807, 'lng': -76.50467302283063}, 'southwest': {'lat': 41.9724970116186, 'lng': -76.53678588544938}}}, 'icon': 'https://maps.gstatic.com/mapfiles/place_api/icons/v1/png_71/geocode-71.png', 'icon_background_color': '#7B9EB0', 'icon_mask_base_uri': 'https://maps.gstatic.com/mapfiles/place_api/icons/v2/generic_pinlet', 'name': 'Sayre', 'photos': [{'height': 1908, 'html_attributions': ['<a href=\"https://maps.google.com/maps/contrib/103339891864974358915\">ruth Smith</a>'], 'photo_reference': 'ATplDJb_V_K3gROgMp1e8fltlYS4JlY0PNdsJ5_gutCj6vTitwuZzssE2rwZEDtI7dVoehh8DXr6tOk_jm3eq9YG0YzSHulwPULa5Zb5kuf11MZYkRLLXPFyRL-eb086Qb_NYPGesoA_MG0zCtu3lFe3cm8DZ3wNhqi3fLYAKXZTC0EzTb9o', 'width': 4032}], 'place_id': 'ChIJ2SpkAmQJ0IkRe0EJ4d-zQ18', 'reference': 'ChIJ2SpkAmQJ0IkRe0EJ4d-zQ18', 'scope': 'GOOGLE', 'types': ['locality', 'political'], 'vicinity': 'Sayre'}, 'nearest_ev_station_distance': 5567, 'nearest_ev_route_segment': {'distance': {'text': '5.6 km', 'value': 5567}, 'duration': {'text': '8 mins', 'value': 464}, 'end_address': '96 W Hayden St, Sayre, PA 18840, USA', 'end_location': {'lat': 41.9790068, 'lng': -76.5154889}, 'start_address': 'NY-17, Waverly, NY 14892, USA', 'start_location': {'lat': 42.0002243, 'lng': -76.52970599999999}, 'steps': [{'distance': {'text': '1.1 km', 'value': 1135}, 'duration': {'text': '1 min', 'value': 39}, 'end_location': {'lat': 41.9987872, 'lng': -76.54329090000002}, 'html_instructions': 'Head <b>west</b> on <b>I-86 W</b><div style=\"font-size:0.9em\">Entering Pennsylvania</div>', 'polyline': {'points': 'kdj_GtebrM?^@p@Bx@?FB`ABj@@\\\\Br@F|@@^BTJbBDn@JbB?BHnAN|BF~@B^Bb@@HDn@Dt@Dp@Fz@HfADp@@VHdADx@PbCDn@@ZFz@Fv@NhCJ`BFt@Dz@Fv@Bl@Bl@D~@DjA@h@@n@?D@v@?^?Z'}, 'start_location': {'lat': 42.0002243, 'lng': -76.52970599999999}, 'travel_mode': 'DRIVING'}, {'distance': {'text': '0.3 km', 'value': 262}, 'duration': {'text': '1 min', 'value': 23}, 'end_location': {'lat': 41.9999667, 'lng': -76.5454316}, 'html_instructions': 'Take the exit toward <b>W Bradford St</b>/<wbr/><b>Leprino Ave</b>/<wbr/><b>Yanuzzi Drive</b>', 'maneuver': 'ramp-right', 'polyline': {'points': 'm{i_GpzdrMIZ?@?n@?VAXANAPARIz@?BCTERCPG\\\\?@ELIRMRGFA@EDIFGDGBE@?@A?I@G@I@A?G?cAG'}, 'start_location': {'lat': 41.9987872, 'lng': -76.54329090000002}, 'travel_mode': 'DRIVING'}, {'distance': {'text': '0.9 km', 'value': 890}, 'duration': {'text': '1 min', 'value': 83}, 'end_location': {'lat': 42.0001147, 'lng': -76.5351788}, 'html_instructions': 'Turn <b>right</b> onto <b>W Bradford St</b>/<wbr/><b>Leprino Ave</b>/<wbr/><b>Yanuzzi Drive</b><div style=\"font-size:0.9em\">Continue to follow W Bradford St/<wbr/>Yanuzzi Drive</div><div style=\"font-size:0.9em\">Entering New York</div>', 'maneuver': 'turn-right', 'polyline': {'points': 'ybj_G|gerMDa@BWBS@OD[BQ@ABOFOBG@CFIJQZg@X_@Xg@J[BIBCBO@M@M@I?K?SAOEo@KgB@u@?K?QA_@I}ASyCG_AA_@Ak@?CAo@Co@Ag@KgB?C]iDi@_FGo@YkCO}A'}, 'start_location': {'lat': 41.9999667, 'lng': -76.5454316}, 'travel_mode': 'DRIVING'}, {'distance': {'text': '0.7 km', 'value': 701}, 'duration': {'text': '1 min', 'value': 59}, 'end_location': {'lat': 41.9956718, 'lng': -76.52995849999999}, 'html_instructions': 'Turn <b>right</b> at the 2nd cross street onto <b>N Keystone Ave</b><div style=\"font-size:0.9em\">Entering Pennsylvania</div>', 'maneuver': 'turn-right', 'polyline': {'points': 'ucj_GzgcrMd@[\\\\UPIJIXSJI`DwBNMn@aAh@eAZiAPeADc@J_ANq@HUBITa@p@_BJK`@a@FGBAFADAh@?bACRANADCLKHIVo@Xo@FOJK'}, 'start_location': {'lat': 42.0001147, 'lng': -76.5351788}, 'travel_mode': 'DRIVING'}, {'distance': {'text': '0.4 km', 'value': 360}, 'duration': {'text': '1 min', 'value': 39}, 'end_location': {'lat': 41.9956204, 'lng': -76.526082}, 'html_instructions': 'Turn <b>left</b> onto <b>Bradford St</b>', 'maneuver': 'turn-left', 'polyline': {'points': '}gi_GfgbrMc@gACIWo@Sa@KW_@iACQCKAK?UDe@R{@@Ad@gBd@qBb@oBFS'}, 'start_location': {'lat': 41.9956718, 'lng': -76.52995849999999}, 'travel_mode': 'DRIVING'}, {'distance': {'text': '1.8 km', 'value': 1770}, 'duration': {'text': '2 mins', 'value': 148}, 'end_location': {'lat': 41.9820992, 'lng': -76.5149876}, 'html_instructions': 'Turn <b>right</b> onto <b>N Lehigh Ave</b>', 'maneuver': 'turn-right', 'polyline': {'points': 'sgi_G~narMP@^Wt@m@\\\\YvC_CxAmA^Yz@s@fA_AdByAjByAxAqA\\\\[\\\\YJIl@e@l@g@TQNMXUDCzAiAvBeB|@u@lAcAdCqBvBoBrBaBPOBAd@a@\\\\Yp@i@@CjByAXU`@]xAmA|@s@JKPMfA_AbAy@d@[|@u@TO\\\\Sn@]JC@AJAJ?d@F'}, 'start_location': {'lat': 41.9956204, 'lng': -76.526082}, 'travel_mode': 'DRIVING'}, {'distance': {'text': '0.4 km', 'value': 373}, 'duration': {'text': '1 min', 'value': 33}, 'end_location': {'lat': 41.9788831, 'lng': -76.5145852}, 'html_instructions': 'Turn <b>left</b> onto <b>S Lehigh Ave</b>', 'maneuver': 'turn-left', 'polyline': {'points': 'csf_Gti_rM@SFKHK@?JGHEHC@ARGREb@IZE~AOHA\\\\CFALAL?H?X?ZBT@L@d@Bb@DZB@?jBP'}, 'start_location': {'lat': 41.9820992, 'lng': -76.5149876}, 'travel_mode': 'DRIVING'}, {'distance': {'text': '76 m', 'value': 76}, 'duration': {'text': '1 min', 'value': 40}, 'end_location': {'lat': 41.9790068, 'lng': -76.5154889}, 'html_instructions': 'Turn <b>right</b> onto <b>W Hayden St</b><div style=\"font-size:0.9em\">Destination will be on the left</div>', 'maneuver': 'turn-right', 'polyline': {'points': '__f_Gdg_rMGl@Gz@IhA'}, 'start_location': {'lat': 41.9788831, 'lng': -76.5145852}, 'travel_mode': 'DRIVING'}], 'traffic_speed_entry': [], 'via_waypoint': []}}, {'lat': 42.3851571, 'lng': -77.3755408, 'dist': 52843, 'nearest_ev_station': {'geometry': {'location': {'lat': 42.3370164, 'lng': -77.31775770000002}, 'viewport': {'northeast': {'lat': 42.35311483085977, 'lng': -77.29469101908435}, 'southwest': {'lat': 42.32250505705201, 'lng': -77.34345607269188}}}, 'icon': 'https://maps.gstatic.com/mapfiles/place_api/icons/v1/png_71/geocode-71.png', 'icon_background_color': '#7B9EB0', 'icon_mask_base_uri': 'https://maps.gstatic.com/mapfiles/place_api/icons/v2/generic_pinlet', 'name': 'Bath', 'photos': [{'height': 3456, 'html_attributions': ['<a href=\"https://maps.google.com/maps/contrib/118363966369741368056\">tim osborn</a>'], 'photo_reference': 'ATplDJZwHUUt5KOG8uklWDTb2I0gHshxRCAzyqGkfE765HkcdV_bnL6hbzxlSBf0ykviHvwHLYkLvJ_rbVJiEHInA1f3GXofnWCuTeVrEqP5xzQOBhUXwuWk1gyLo6HP5ITOG1w5YwwE7Ho6lBCW_Fii4ABK3JqI_iYwFRYzC15tjpnVrYjk', 'width': 4608}], 'place_id': 'ChIJI6BbgBOu0YkRn8C-n0QStng', 'reference': 'ChIJI6BbgBOu0YkRn8C-n0QStng', 'scope': 'GOOGLE', 'types': ['locality', 'political'], 'vicinity': 'Bath'}, 'nearest_ev_station_distance': 14411, 'nearest_ev_route_segment': {'distance': {'text': '14.4 km', 'value': 14411}, 'duration': {'text': '11 mins', 'value': 638}, 'end_address': '54 Liberty St, Bath, NY 14810, USA', 'end_location': {'lat': 42.3370007, 'lng': -77.3177594}, 'start_address': '7903 Avoca Back Rd, Bath, NY 14810, USA', 'start_location': {'lat': 42.3851571, 'lng': -77.3755408}, 'steps': [{'distance': {'text': '2.6 km', 'value': 2588}, 'duration': {'text': '1 min', 'value': 84}, 'end_location': {'lat': 42.3981235, 'lng': -77.4016594}, 'html_instructions': 'Head <b>northwest</b> on <b>I-390 N</b>', 'polyline': {'points': 'gjuaGblgwMUp@c@lAITIVKXKX_@fACFGPKXKXIRKZEJy@~B{@dCQd@s@pBSl@O^CHGRm@bBcBxEQh@qC~HUn@k@~Au@xBGNWt@}@fCM^KVKXADELCDIX[z@M^Un@A@Yx@e@rAKZQf@KXKXKXIVKVKXENEHIXKVKVIXKVKXIVKXKXITA@IXKVKXKXITKXM\\\\IRa@jAA@gApCKTkAtCc@`AMXYn@MVOXs@zAMTKTGNEHMTMVKTMVEHGLKTMTKRABMVS`@y@bBQ\\\\KRMVKTOXMVKTMVMTMVKTMTMVKTMVMTKVOVKTMVMVMTMXMTKTMVMTMXKTMTMVQ\\\\GNINOXUd@EJ[n@'}, 'start_location': {'lat': 42.3851571, 'lng': -77.3755408}, 'travel_mode': 'DRIVING'}, {'distance': {'text': '0.5 km', 'value': 459}, 'duration': {'text': '1 min', 'value': 29}, 'end_location': {'lat': 42.401323, 'lng': -77.405163}, 'html_instructions': 'Take exit <b>1</b> toward <b>NY-415</b>/<wbr/><b>Avoca</b>', 'maneuver': 'ramp-right', 'polyline': {'points': 'g{waGjolwMOBGFSZcA|AMROROPKLEFOPSRMLOP[ZKJ}@`AiAjAs@v@YZuAxAA@w@x@'}, 'start_location': {'lat': 42.3981235, 'lng': -77.4016594}, 'travel_mode': 'DRIVING'}, {'distance': {'text': '0.2 km', 'value': 190}, 'duration': {'text': '1 min', 'value': 19}, 'end_location': {'lat': 42.400157, 'lng': -77.4068559}, 'html_instructions': 'Turn <b>left</b> onto <b>NY 961J</b>', 'maneuver': 'turn-left', 'polyline': {'points': 'goxaGfemwMVb@Vb@Vb@PXXb@PZFHPXn@dAVb@'}, 'start_location': {'lat': 42.401323, 'lng': -77.405163}, 'travel_mode': 'DRIVING'}, {'distance': {'text': '2.4 km', 'value': 2364}, 'duration': {'text': '1 min', 'value': 89}, 'end_location': {'lat': 42.3882601, 'lng': -77.3830729}, 'html_instructions': 'Turn <b>left</b> to merge onto <b>I-390 S</b>', 'maneuver': 'ramp-left', 'polyline': {'points': '_hxaGzomwMfAgBLSJSHOZo@DMN]BIL]Vw@d@sAb@oA?CJWDMLa@`@oA@Cl@eBRm@X{@BEPe@L]Na@FMXq@?ADa@JSZo@Vi@Vg@`@y@DK\\\\q@h@iA@?P_@t@{Af@gAFKHQTa@@CVg@`@{@Tc@JW\\\\q@N[HO\\\\s@BEVg@LWRa@P_@Xk@HOj@mAL[JSXo@BERi@Xm@JUL[HSVo@BETm@Rg@N]Tm@@E^aABG@E@ARk@DIPi@BGDKNa@Ro@@Al@gB@A^cATq@Vu@j@aBbCcHJYHWJYJWHW@AHYJYJWHYVq@L[DMZ}@Vs@HWJYJYn@kBRi@vA_EZ}@Vs@d@sA'}, 'start_location': {'lat': 42.400157, 'lng': -77.4068559}, 'travel_mode': 'DRIVING'}, {'distance': {'text': '6.5 km', 'value': 6505}, 'duration': {'text': '4 mins', 'value': 213}, 'end_location': {'lat': 42.3425841, 'lng': -77.3394552}, 'html_instructions': 'Merge onto <b>I-86 E</b>', 'maneuver': 'merge', 'polyline': {'points': 's}uaGd{hwMl@aBRm@Vq@`@iA@Ej@_B?AHSXy@Z}@Pc@HW`@kAHQHMJ[L[d@uAFQb@kAJYJ[L]Pc@?Af@yAXw@@Ah@_BL]?ADMJ[v@{BDGf@yA@El@gB\\\\_AFSXu@J[FKHUFOJYbAsCFSp@mBlAiDv@}B`AqCHSHSFUHSL]La@Na@@C@APk@FQHUDK@CJWTq@HS@EDMh@{ANe@JW@EHSHWVs@HS?CHSRg@^eA`@cARe@JYHSHSFKJUPc@LWRg@@CJULWLYJSPa@N[^w@LULWLUP]FOBCDMFKLUNY@??C\\\\m@^s@d@y@T_@NWHOV_@LUJOR]JOFIFMNS\\\\k@@ABEVa@NSNUFIFIHMJOHKNSb@o@V[JOFI^e@LQPU\\\\a@\\\\c@FIx@_ADEFI^a@HMRSNQPSHGx@}@d@g@LMHIBEBAPQPQPQPONORQNOBCPQNMNO@?RQNMNOLKXUNONMBAPOPOPOROPMPOJIXURMPORMPMROPMLIXQPMRORMNMRMRMPMRK@APKPMRKRMRKRMRM@?RMPKRK@ANIRKRKRKRKBANIRKRKTK@APIRIRKRIVMPIPITKVKNGFCJERITKRIRIRI@?RIRITIRGRGNGXKTGRGTIRGTIRGTGRGTGRETG@APETGTGTGRERGTE@ARERGTETETG@?PETETERCTETETERCBAPCTETERCVERE@?PCj@KTCTERETCTETETETCRETCRETCTETETCPEF?NCj@KRETETCTERETETERETETEREVG`@IFATGRETGRETETGRETGDAr@SRGVILCZIRGp@UHCh@Oz@YB?RIFCNERI`@OFAPGTI@ARIVILGBARIRIl@URKDAHERI|@a@TIFEt@]B?d@UPKRITMRKRIBCDCFCTMRKPKTKRKPMBA`B_ALIt@a@NKDChAq@DCh@[lAs@zA{@DEh@YPKf@[d@YTMd@W`@Wl@]~EuCfAo@~BuAl@_@f@Y\\\\Sx@g@bAk@PMBABAJGBABCJGBA@ANI@AJGBA@APKHEPKr@c@JGXORMJGDCBAd@YTM'}, 'start_location': {'lat': 42.3882601, 'lng': -77.3830729}, 'travel_mode': 'DRIVING'}, {'distance': {'text': '0.3 km', 'value': 337}, 'duration': {'text': '1 min', 'value': 27}, 'end_location': {'lat': 42.34009289999999, 'lng': -77.33999}, 'html_instructions': 'Take exit <b>38</b> for <b>NY-54</b> toward <b>Bath</b>/<wbr/><b>Hammondsport</b>', 'maneuver': 'ramp-right', 'polyline': {'points': 'c`maGrj`wMP@@?f@WRILGPIPIRIPIJE^QPGNGJETGJ?LAN?TDLDF@PJDBNNNNJRJTTx@HVRv@'}, 'start_location': {'lat': 42.3425841, 'lng': -77.3394552}, 'travel_mode': 'DRIVING'}, {'distance': {'text': '1.9 km', 'value': 1949}, 'duration': {'text': '3 mins', 'value': 175}, 'end_location': {'lat': 42.3370138, 'lng': -77.3179846}, 'html_instructions': 'Turn <b>left</b> onto <b>NY-54 N</b>/<wbr/><b>W Washington St</b>', 'maneuver': 'turn-left', 'polyline': {'points': 'qplaG|m`wMLItBkA^STOr@i@RSNONMJORY`@k@HONYDKP_@Vu@Tq@Pu@Hc@DU@GFe@@IBY@UDm@@Q@_@@W?W@_@GgB?E?CEo@Co@QaCAQAMCa@Eo@G_AC]A[Cs@Aa@@c@?CDaABu@@a@@k@@c@?A@a@BwANcHBiABgAL{GJcEVaKLoFFsCD{BFwBJwDHqC@c@H}C'}, 'start_location': {'lat': 42.34009289999999, 'lng': -77.33999}, 'travel_mode': 'DRIVING'}, {'distance': {'text': '19 m', 'value': 19}, 'duration': {'text': '1 min', 'value': 2}, 'end_location': {'lat': 42.3370007, 'lng': -77.3177594}, 'html_instructions': 'Continue straight onto <b>E Washington St</b>', 'maneuver': 'straight', 'polyline': {'points': 'i}kaGjd|vM@k@'}, 'start_location': {'lat': 42.3370138, 'lng': -77.3179846}, 'travel_mode': 'DRIVING'}], 'traffic_speed_entry': [], 'via_waypoint': []}}, {'lat': 42.6678405, 'lng': -77.8123535, 'dist': 308, 'nearest_ev_station': {'geometry': {'location': {'lat': 42.72561839999999, 'lng': -77.8741694}, 'viewport': {'northeast': {'lat': 42.74219102420942, 'lng': -77.85844305711656}, 'southwest': {'lat': 42.70773499407144, 'lng': -77.89249004121183}}}, 'icon': 'https://maps.gstatic.com/mapfiles/place_api/icons/v1/png_71/geocode-71.png', 'icon_background_color': '#7B9EB0', 'icon_mask_base_uri': 'https://maps.gstatic.com/mapfiles/place_api/icons/v2/generic_pinlet', 'name': 'Mount Morris', 'photos': [{'height': 2912, 'html_attributions': ['<a href=\"https://maps.google.com/maps/contrib/114684999067907982861\">Richard K</a>'], 'photo_reference': 'ATplDJblViKF4Nn0d_3VwCWowbNkzMraK2-80my4Fws70bfgkrrqzExiSoJfBCMj0H-pwd5iXGmHcpOpvlV9N_tHFWO-8Jkw5oh1gHmy1jNYGiK8qKkKgLnhF6-CTorz07hItdRAGuqx-HVna699UX3qa8nKSTbEHRyRUp2n7_XRYR-l5D7z', 'width': 5184}], 'place_id': 'ChIJPaX7lqlj0YkRQAQvmRGI4Lg', 'reference': 'ChIJPaX7lqlj0YkRQAQvmRGI4Lg', 'scope': 'GOOGLE', 'types': ['locality', 'political'], 'vicinity': 'Mount Morris'}, 'nearest_ev_station_distance': 8651, 'nearest_ev_route_segment': {'distance': {'text': '8.7 km', 'value': 8651}, 'duration': {'text': '8 mins', 'value': 456}, 'end_address': '52 Main St, Mt Morris, NY 14510, USA', 'end_location': {'lat': 42.7256537, 'lng': -77.87405849999999}, 'start_address': 'I-390, Dansville, NY 14437, USA', 'start_location': {'lat': 42.6678405, 'lng': -77.8123535}, 'steps': [{'distance': {'text': '0.3 km', 'value': 308}, 'duration': {'text': '1 min', 'value': 23}, 'end_location': {'lat': 42.6704148, 'lng': -77.8111335}, 'html_instructions': 'Head <b>northeast</b> on <b>Exit 6</b> toward <b>NY-36 S</b>', 'polyline': {'points': '_qlcGdv|yMUMA?KAI?WCe@EICg@GMCm@M}@SIE]KA?]OOG]S[S]YWUCCAA[_@'}, 'start_location': {'lat': 42.6678405, 'lng': -77.8123535}, 'travel_mode': 'DRIVING'}, {'distance': {'text': '8.3 km', 'value': 8343}, 'duration': {'text': '7 mins', 'value': 433}, 'end_location': {'lat': 42.7256537, 'lng': -77.87405849999999}, 'html_instructions': 'Turn <b>left</b> onto <b>NY-36 N</b><div style=\"font-size:0.9em\">Destination will be on the left</div>', 'maneuver': 'turn-left', 'polyline': {'points': 'aamcGpn|yMQKg@t@_AhA}AjB{A~AuBtBIJOTKJu@n@s@l@_@ZCDYTMJkC|BaDlCCBcCtBuBfBwBjB]ZeA|@_BxAa@`@}@dAo@`AOZU`@Yj@Uh@CFUf@KTg@jAg@jAk@tAi@nAe@nAi@xAK\\\\{@hCw@dCmAtDw@~BQd@CHq@fBe@jA]x@Wh@oAtCmBhEYp@i@hAUh@MXITMZOb@[fAa@|A_@vAQr@Od@Of@K\\\\Ul@g@jAy@lBgD|H}ApDQb@KXCFWr@A?g@zA_@jAW`AYjAOj@CLOr@UjA]lBSnASpAk@rDI`@k@xDo@`E?@Kl@Kl@UzASlAMr@S|@Kd@IXYhASn@KVOh@Sd@Wp@Wj@c@`A_@r@mCfFwAhC}@zAo@bAq@`AyAlBsB~BiEzE{K~L[\\\\YZ{@~@a@f@gAlAw@t@m@d@e@^q@b@i@\\\\c@Tw@\\\\_Bj@OFyDdAUF_AV{IdCiCr@w@Tm@RGBQFOFA?]Ni@Ts@^YPOJUNc@^i@b@_EjDCDYTkExD}ArAaAz@WT_DnCQLKJ_BrA_Ar@uAbAqAx@q@^a@TiDdBsAr@i@XwGdDaAd@aEtBsFnCyBhAGBy@b@MFoCtAeD`BeBz@eErBiAl@aBv@u@`@wCzA_Ad@}At@eBz@aAd@uAr@'}, 'start_location': {'lat': 42.6704148, 'lng': -77.8111335}, 'travel_mode': 'DRIVING'}], 'traffic_speed_entry': [], 'via_waypoint': []}}, {'lat': 42.6704148, 'lng': -77.8111335, 'dist': 8372, 'nearest_ev_station': {'geometry': {'location': {'lat': 42.72561839999999, 'lng': -77.8741694}, 'viewport': {'northeast': {'lat': 42.74219102420942, 'lng': -77.85844305711656}, 'southwest': {'lat': 42.70773499407144, 'lng': -77.89249004121183}}}, 'icon': 'https://maps.gstatic.com/mapfiles/place_api/icons/v1/png_71/geocode-71.png', 'icon_background_color': '#7B9EB0', 'icon_mask_base_uri': 'https://maps.gstatic.com/mapfiles/place_api/icons/v2/generic_pinlet', 'name': 'Mount Morris', 'photos': [{'height': 2912, 'html_attributions': ['<a href=\"https://maps.google.com/maps/contrib/114684999067907982861\">Richard K</a>'], 'photo_reference': 'ATplDJZgL83hthWtXQDP7wQdglNtorOidGM_j61-znu4H_6YkBsN0AWS258Fz-ptOxO15eY8dFhGjqCGH-4Q51O_xXbyCIamgGw8bXlzhZgYINv47QwYTX_nfkisBWKsI35GC4w_gfUFYJsUm-X-QSEbc1FBI1hf4ovtyHatI9Ly7Otxfkgp', 'width': 5184}], 'place_id': 'ChIJPaX7lqlj0YkRQAQvmRGI4Lg', 'reference': 'ChIJPaX7lqlj0YkRQAQvmRGI4Lg', 'scope': 'GOOGLE', 'types': ['locality', 'political'], 'vicinity': 'Mount Morris'}, 'nearest_ev_station_distance': 8343, 'nearest_ev_route_segment': {'distance': {'text': '8.3 km', 'value': 8343}, 'duration': {'text': '7 mins', 'value': 431}, 'end_address': '52 Main St, Mt Morris, NY 14510, USA', 'end_location': {'lat': 42.7256537, 'lng': -77.87405849999999}, 'start_address': '7343 Sonyea Rd, Dansville, NY 14437, USA', 'start_location': {'lat': 42.6704148, 'lng': -77.8111335}, 'steps': [{'distance': {'text': '8.3 km', 'value': 8343}, 'duration': {'text': '7 mins', 'value': 431}, 'end_location': {'lat': 42.7256537, 'lng': -77.87405849999999}, 'html_instructions': 'Head <b>northeast</b> on <b>NY-36 N</b> toward <b>NY-36 N</b><div style=\"font-size:0.9em\">Destination will be on the left</div>', 'polyline': {'points': 'aamcGpn|yMQKg@t@_AhA}AjB{A~AuBtBIJOTKJu@n@s@l@_@ZCDYTMJkC|BaDlCCBcCtBuBfBwBjB]ZeA|@_BxAa@`@}@dAo@`AOZU`@Yj@Uh@CFUf@KTg@jAg@jAk@tAi@nAe@nAi@xAK\\\\{@hCw@dCmAtDw@~BQd@CHq@fBe@jA]x@Wh@oAtCmBhEYp@i@hAUh@MXITMZOb@[fAa@|A_@vAQr@Od@Of@K\\\\Ul@g@jAy@lBgD|H}ApDQb@KXCFWr@A?g@zA_@jAW`AYjAOj@CLOr@UjA]lBSnASpAk@rDI`@k@xDo@`E?@Kl@Kl@UzASlAMr@S|@Kd@IXYhASn@KVOh@Sd@Wp@Wj@c@`A_@r@mCfFwAhC}@zAo@bAq@`AyAlBsB~BiEzE{K~L[\\\\YZ{@~@a@f@gAlAw@t@m@d@e@^q@b@i@\\\\c@Tw@\\\\_Bj@OFyDdAUF_AV{IdCiCr@w@Tm@RGBQFOFA?]Ni@Ts@^YPOJUNc@^i@b@_EjDCDYTkExD}ArAaAz@WT_DnCQLKJ_BrA_Ar@uAbAqAx@q@^a@TiDdBsAr@i@XwGdDaAd@aEtBsFnCyBhAGBy@b@MFoCtAeD`BeBz@eErBiAl@aBv@u@`@wCzA_Ad@}At@eBz@aAd@uAr@'}, 'start_location': {'lat': 42.6704148, 'lng': -77.8111335}, 'travel_mode': 'DRIVING'}], 'traffic_speed_entry': [], 'via_waypoint': []}}, {'lat': 42.7258868, 'lng': -77.8741958, 'dist': 3537, 'nearest_ev_station': {'geometry': {'location': {'lat': 42.795896, 'lng': -77.816947}, 'viewport': {'northeast': {'lat': 42.81463184306893, 'lng': -77.78568995833722}, 'southwest': {'lat': 42.78739599612651, 'lng': -77.83132804900163}}}, 'icon': 'https://maps.gstatic.com/mapfiles/place_api/icons/v1/png_71/geocode-71.png', 'icon_background_color': '#7B9EB0', 'icon_mask_base_uri': 'https://maps.gstatic.com/mapfiles/place_api/icons/v2/generic_pinlet', 'name': 'Geneseo', 'photos': [{'height': 1350, 'html_attributions': ['<a href=\"https://maps.google.com/maps/contrib/118054077694690796938\">santiago aguilera</a>'], 'photo_reference': 'ATplDJbL8gLq4GaCQGcS73DFAmqTWczyywkhWIDJJz2qNI9aUa3OD84I02t1kbhrF7nNbDIKoWHXcBP-cEalO0Waj-E-XSvF_UfNzkW3dnZbVk9zRrD6CU34DVEDrRb9aXO6LX2mRfzng_UhNS7R26lQabOAtLCCVwPT6bclPXMqceZLv_H6', 'width': 1080}], 'place_id': 'ChIJU7Sa7Fpm0YkRfv73Tmdqbeo', 'reference': 'ChIJU7Sa7Fpm0YkRfv73Tmdqbeo', 'scope': 'GOOGLE', 'types': ['locality', 'political'], 'vicinity': 'Geneseo'}, 'nearest_ev_station_distance': 10188, 'nearest_ev_route_segment': {'distance': {'text': '10.2 km', 'value': 10188}, 'duration': {'text': '10 mins', 'value': 571}, 'end_address': '92 Main St, Geneseo, NY 14454, USA', 'end_location': {'lat': 42.79588709999999, 'lng': -77.81687289999999}, 'start_address': '46 E State St, Mt Morris, NY 14510, USA', 'start_location': {'lat': 42.7258868, 'lng': -77.8741958}, 'steps': [{'distance': {'text': '0.6 km', 'value': 629}, 'duration': {'text': '1 min', 'value': 61}, 'end_location': {'lat': 42.7281357, 'lng': -77.8671356}, 'html_instructions': 'Head <b>northeast</b> on <b>E State St</b> toward <b>O’Connell Ave</b>', 'polyline': {'points': 'y{wcGvxhzMm@oC_@{AG_@YmAScAk@mCKg@Ou@S_AGY}@_EUcA]aBQs@]_BOm@Ic@]sA'}, 'start_location': {'lat': 42.7258868, 'lng': -77.8741958}, 'travel_mode': 'DRIVING'}, {'distance': {'text': '4.4 km', 'value': 4422}, 'duration': {'text': '4 mins', 'value': 220}, 'end_location': {'lat': 42.7532077, 'lng': -77.83509939999999}, 'html_instructions': 'Continue onto <b>Mt Morris Geneseo Rd</b>', 'polyline': {'points': '{ixcGrlgzMYsA_@aBS_AAA[wAG[qA{FS}@EQm@oCw@iDaBmH}Jad@uDqPeBuHiBeImAoF{FuVsB_J}A{HGW]uAMm@AC[uAOk@Mk@Mm@Mk@Ic@Me@CMKYSm@EOKYKSm@}@AAU_@UYOOc@a@MIGGWOCC]Qo@[UKc@IUEMAG?m@GmBCuAA_A?u@@gA?oCAm@?iCA_A?kB?oC@s@?[?M?I@G@_EAiC@iB@{B@c@@sDB}ABo@CeA?uAGSCg@Ca@E_@EIAq@Kw@MwCw@EAK?'}, 'start_location': {'lat': 42.7281357, 'lng': -77.8671356}, 'travel_mode': 'DRIVING'}, {'distance': {'text': '3.7 km', 'value': 3728}, 'duration': {'text': '3 mins', 'value': 170}, 'end_location': {'lat': 42.7852202, 'lng': -77.8238052}, 'html_instructions': 'Continue onto <b>NY-63 N</b>', 'polyline': {'points': 'qf}cGjdazMeBk@oEyAcBk@c@OEAuAe@ICa@M{Ag@KCUIKECA{DsAm@ScA_@WKa@QIEA?y@c@y@c@KIUOGEa@Yg@_@q@m@ECm@i@EE_@]SQu@s@e@a@cA_Aq@m@e@[a@Wg@WQIQGMEEACAEAKCg@KYEUCe@GsDKg@Ai@Ci@?g@A_EC_AA]AmAA_AC}EIe@AU?aDGeBEsDG}@E]Cm@E]EYEWE_@GCAWGc@Ki@MWI]K_@MYKQGe@SAA_@Qk@YSMYOWOQKg@Ye@Qo@SQGc@MCAi@OUGWEKC{@QUEUCA?c@GuAQw@KOA}C_@g@Ga@Gc@ECAcAKa@GA?a@Es@IiBWc@Gi@KqA[EAk@Oi@Qe@Oi@SiCeAyB_Ao@YeDyAeBu@kCgA'}, 'start_location': {'lat': 42.7532077, 'lng': -77.83509939999999}, 'travel_mode': 'DRIVING'}, {'distance': {'text': '1.2 km', 'value': 1155}, 'duration': {'text': '1 min', 'value': 78}, 'end_location': {'lat': 42.7936354, 'lng': -77.8173951}, 'html_instructions': 'Continue straight onto <b>US-20A E</b>', 'maneuver': 'straight', 'polyline': {'points': 'sncdGx}~yMGE}Aq@uLeFg@UcJ}DwB_AeCeAAAYKmDyAAA_@O_@Q}Ao@gBy@Iu@ESCK?EAC?ECS?[Am@Am@?I?g@?q@?[@a@'}, 'start_location': {'lat': 42.7852202, 'lng': -77.8238052}, 'travel_mode': 'DRIVING'}, {'distance': {'text': '0.3 km', 'value': 254}, 'duration': {'text': '1 min', 'value': 42}, 'end_location': {'lat': 42.79588709999999, 'lng': -77.81687289999999}, 'html_instructions': 'Turn <b>left</b> onto <b>Main St</b><div style=\"font-size:0.9em\">Destination will be on the left</div>', 'maneuver': 'turn-left', 'polyline': {'points': 'gcedGvu}yMcC_@o@KqAQmBYEAgAO'}, 'start_location': {'lat': 42.7936354, 'lng': -77.8173951}, 'travel_mode': 'DRIVING'}], 'traffic_speed_entry': [], 'via_waypoint': []}}, {'lat': 42.75629960000001, 'lng': -77.88465819999999, 'dist': 3625, 'nearest_ev_station': {'geometry': {'location': {'lat': 42.795896, 'lng': -77.816947}, 'viewport': {'northeast': {'lat': 42.81463184306893, 'lng': -77.78568995833722}, 'southwest': {'lat': 42.78739599612651, 'lng': -77.83132804900163}}}, 'icon': 'https://maps.gstatic.com/mapfiles/place_api/icons/v1/png_71/geocode-71.png', 'icon_background_color': '#7B9EB0', 'icon_mask_base_uri': 'https://maps.gstatic.com/mapfiles/place_api/icons/v2/generic_pinlet', 'name': 'Geneseo', 'photos': [{'height': 1350, 'html_attributions': ['<a href=\"https://maps.google.com/maps/contrib/118054077694690796938\">santiago aguilera</a>'], 'photo_reference': 'ATplDJbwPlZltEjnmuMrj6ecf-Z246gMmga1I0Fi8Y5DrlF4cgfEeOwoosqZfHQgx0aLULrn8w6UMyqJ8jZX1DxAjJiZP6_GNsZ6C0Q8dimNpeU8WLQHzswDS7QpEAhAa10_HXBVpgH0qNcD78Zvvc4ueooOy4OsOYS5dNHI0Y7_4bEpRsql', 'width': 1080}], 'place_id': 'ChIJU7Sa7Fpm0YkRfv73Tmdqbeo', 'reference': 'ChIJU7Sa7Fpm0YkRfv73Tmdqbeo', 'scope': 'GOOGLE', 'types': ['locality', 'political'], 'vicinity': 'Geneseo'}, 'nearest_ev_station_distance': 8868, 'nearest_ev_route_segment': {'distance': {'text': '8.9 km', 'value': 8868}, 'duration': {'text': '9 mins', 'value': 536}, 'end_address': '92 Main St, Geneseo, NY 14454, USA', 'end_location': {'lat': 42.79588709999999, 'lng': -77.81687289999999}, 'start_address': '5485 Mt Morris Rd, Mt Morris, NY 14510, USA', 'start_location': {'lat': 42.75629960000001, 'lng': -77.88465819999999}, 'steps': [{'distance': {'text': '0.6 km', 'value': 620}, 'duration': {'text': '1 min', 'value': 48}, 'end_location': {'lat': 42.75631, 'lng': -77.8770595}, 'html_instructions': 'Head <b>east</b> on <b>Perry Rd</b> toward <b>Wheelock Rd</b>', 'polyline': {'points': '{y}cGbzjzM?}B?u@AqC?cE?{A?kD?}U'}, 'start_location': {'lat': 42.75629960000001, 'lng': -77.88465819999999}, 'travel_mode': 'DRIVING'}, {'distance': {'text': '1.1 km', 'value': 1119}, 'duration': {'text': '1 min', 'value': 66}, 'end_location': {'lat': 42.7660725, 'lng': -77.8744567}, 'html_instructions': 'Turn <b>left</b> onto <b>River Rd</b>', 'maneuver': 'turn-left', 'polyline': {'points': '}y}cGrjizMwDaAsFwAoEkAeAWeAYuGcB{I}B_AUqA[{@Ig@BU?qBl@e@LaCQ'}, 'start_location': {'lat': 42.75631, 'lng': -77.8770595}, 'travel_mode': 'DRIVING'}, {'distance': {'text': '1.9 km', 'value': 1922}, 'duration': {'text': '2 mins', 'value': 95}, 'end_location': {'lat': 42.7665821, 'lng': -77.8509207}, 'html_instructions': 'Turn <b>right</b> at the 1st cross street onto <b>Jones Bridge Rd</b>', 'maneuver': 'turn-right', 'polyline': {'points': '}v_dGjzhzMKuE?QGiDCaBUiNE{G?q@IyOIqUA_EAaAGmPA_B?_@AeEA]?[AgCCuG?Y?YEiM'}, 'start_location': {'lat': 42.7660725, 'lng': -77.8744567}, 'travel_mode': 'DRIVING'}, {'distance': {'text': '1.1 km', 'value': 1130}, 'duration': {'text': '1 min', 'value': 67}, 'end_location': {'lat': 42.77674529999999, 'lng': -77.85127580000001}, 'html_instructions': 'Turn <b>left</b> onto <b>Barrett Rd</b>', 'maneuver': 'turn-left', 'polyline': {'points': 'cz_dGfgdzMaDDiA@aB@yBBuDD}MPmLNW?mCDyBDgED'}, 'start_location': {'lat': 42.7665821, 'lng': -77.8509207}, 'travel_mode': 'DRIVING'}, {'distance': {'text': '2.2 km', 'value': 2242}, 'duration': {'text': '2 mins', 'value': 111}, 'end_location': {'lat': 42.7816423, 'lng': -77.82568770000002}, 'html_instructions': 'Turn <b>right</b> onto <b>US-20A E</b>', 'maneuver': 'turn-right', 'polyline': {'points': 'uyadGnidzMWyKMcEOiHGsCCyBE{BA{AA}@AuA?_B@uBJeF@}@RwL@[BmB@wA?w@?K?c@AK?WA]Cg@Ei@Cc@Ec@Ea@Ea@Gc@EYG[Kk@Q_AGUIUSs@K_@IUIUIUg@}AEIQi@y@}BUq@s@uBSi@sAqDoAqCy@eBmC}FO_@aAsBgAeCC[GWESCQCOG]Gk@'}, 'start_location': {'lat': 42.77674529999999, 'lng': -77.85127580000001}, 'travel_mode': 'DRIVING'}, {'distance': {'text': '0.4 km', 'value': 426}, 'duration': {'text': '1 min', 'value': 29}, 'end_location': {'lat': 42.7852202, 'lng': -77.8238052}, 'html_instructions': 'Turn <b>left</b> to stay on <b>US-20A E</b>', 'maneuver': 'turn-left', 'polyline': {'points': 'gxbdGpi_zMiCeAyB_Ao@YeDyAeBu@kCgA'}, 'start_location': {'lat': 42.7816423, 'lng': -77.82568770000002}, 'travel_mode': 'DRIVING'}, {'distance': {'text': '1.2 km', 'value': 1155}, 'duration': {'text': '1 min', 'value': 78}, 'end_location': {'lat': 42.7936354, 'lng': -77.8173951}, 'html_instructions': 'Continue straight to stay on <b>US-20A E</b>', 'maneuver': 'straight', 'polyline': {'points': 'sncdGx}~yMGE}Aq@uLeFg@UcJ}DwB_AeCeAAAYKmDyAAA_@O_@Q}Ao@gBy@Iu@ESCK?EAC?ECS?[Am@Am@?I?g@?q@?[@a@'}, 'start_location': {'lat': 42.7852202, 'lng': -77.8238052}, 'travel_mode': 'DRIVING'}, {'distance': {'text': '0.3 km', 'value': 254}, 'duration': {'text': '1 min', 'value': 42}, 'end_location': {'lat': 42.79588709999999, 'lng': -77.81687289999999}, 'html_instructions': 'Turn <b>left</b> onto <b>Main St</b><div style=\"font-size:0.9em\">Destination will be on the left</div>', 'maneuver': 'turn-left', 'polyline': {'points': 'gcedGvu}yMcC_@o@KqAQmBYEAgAO'}, 'start_location': {'lat': 42.7936354, 'lng': -77.8173951}, 'travel_mode': 'DRIVING'}], 'traffic_speed_entry': [], 'via_waypoint': []}}, {'lat': 42.7537711, 'lng': -77.928845, 'dist': 56367, 'nearest_ev_station': {'geometry': {'location': {'lat': 42.795896, 'lng': -77.816947}, 'viewport': {'northeast': {'lat': 42.81463184306893, 'lng': -77.78568995833722}, 'southwest': {'lat': 42.78739599612651, 'lng': -77.83132804900163}}}, 'icon': 'https://maps.gstatic.com/mapfiles/place_api/icons/v1/png_71/geocode-71.png', 'icon_background_color': '#7B9EB0', 'icon_mask_base_uri': 'https://maps.gstatic.com/mapfiles/place_api/icons/v2/generic_pinlet', 'name': 'Geneseo', 'photos': [{'height': 1350, 'html_attributions': ['<a href=\"https://maps.google.com/maps/contrib/118054077694690796938\">santiago aguilera</a>'], 'photo_reference': 'ATplDJaWzJpRDbFW6mkFnQQ4PTCOGD-63ZSlYEbbjBTc4gWXo8V_3pMIGoABzLv5Xe0me9ntY3HSsN3tYte2VZgiHNFHMg1yzAU1oSg5eORmgPmMZrz0cvK-maL-owr4j5A6k8mFA38i-lJ01rxPU5WYLwFrlU2yqiAYxXFsEwGxrZj6qOul', 'width': 1080}], 'place_id': 'ChIJU7Sa7Fpm0YkRfv73Tmdqbeo', 'reference': 'ChIJU7Sa7Fpm0YkRfv73Tmdqbeo', 'scope': 'GOOGLE', 'types': ['locality', 'political'], 'vicinity': 'Geneseo'}, 'nearest_ev_station_distance': 11775, 'nearest_ev_route_segment': {'distance': {'text': '11.8 km', 'value': 11775}, 'duration': {'text': '11 mins', 'value': 658}, 'end_address': '92 Main St, Geneseo, NY 14454, USA', 'end_location': {'lat': 42.79588709999999, 'lng': -77.81687289999999}, 'start_address': '2079 Leicester Rd, Leicester, NY 14481, USA', 'start_location': {'lat': 42.7537711, 'lng': -77.928845}, 'steps': [{'distance': {'text': '9.9 km', 'value': 9940}, 'duration': {'text': '8 mins', 'value': 509}, 'end_location': {'lat': 42.7816423, 'lng': -77.82568770000002}, 'html_instructions': 'Head <b>northeast</b> on <b>US-20A E</b> toward <b>Donnelly Ln</b>', 'polyline': {'points': 'aj}cGfnszMa@e@OOk@q@q@s@cDsCoFwE][{@u@{@u@][kHmG][uBkB{BoBkEyDc@_@sCiC][{@w@{@w@[Y][eA_Ao@m@{@w@][CEu@s@][sAqAiBeBMM]]qCmC[[iFeFMKUUwDkDQOsCiCMKm@k@eB}Ao@o@QUQSIKOSIMMSWe@Wi@Se@Sk@Uw@Mm@GWESEQKs@K_AEm@Ey@C_@?o@?{@@u@H{CJaDBcAJiCHiDByA?i@AmA?S?{BAq@AaB?e@?IAq@?o@?S?_ACaFAsCAcDAoACWKmAEq@C[Ce@AcBEyDAgC?s@Ac@@I?Q@O@SJ{@D_@@U?E?I@_@?cCAoD?kB?a@?E?M@g@?]Bc@@_@Du@BYL_BBQd@{DFo@Fc@@KP}AFc@@KVwBHeAB[@G?KRqCNcC?IDq@Bo@b@qGNmCBe@@c@@k@?e@Ae@Ag@C[ASG{@COIi@Ii@Ic@Mc@Qo@Um@_@}@cAcCyBiFc@eAyAiDiCsFIScAuBcAqBUg@k@kA_AoBu@{AQ[KMMMOGMGQGKAAAkCi@YGKCMIECEIEIAIAIAK?kA?[?sA@oF@sF@wI?cE?aB@qC?s@@qCBcE@e@@[Bc@@ODe@Fk@Hy@n@gF@KNgAFk@Fu@F_A@i@@}@A}@Aw@C{@WuIIqCCq@QaGO{EWyKMcEOiHGsCCyBE{BA{AA}@AuA?_B@uBJeF@}@RwL@[BmB@wA?w@?K?c@AK?WA]Cg@Ei@Cc@Ec@Ea@Ea@Gc@EYG[Kk@Q_AGUIUSs@K_@IUIUIUg@}AEIQi@y@}BUq@s@uBSi@sAqDoAqCy@eBmC}FO_@aAsBgAeCC[GWESCQCOG]Gk@'}, 'start_location': {'lat': 42.7537711, 'lng': -77.928845}, 'travel_mode': 'DRIVING'}, {'distance': {'text': '0.4 km', 'value': 426}, 'duration': {'text': '1 min', 'value': 29}, 'end_location': {'lat': 42.7852202, 'lng': -77.8238052}, 'html_instructions': 'Turn <b>left</b> to stay on <b>US-20A E</b>', 'maneuver': 'turn-left', 'polyline': {'points': 'gxbdGpi_zMiCeAyB_Ao@YeDyAeBu@kCgA'}, 'start_location': {'lat': 42.7816423, 'lng': -77.82568770000002}, 'travel_mode': 'DRIVING'}, {'distance': {'text': '1.2 km', 'value': 1155}, 'duration': {'text': '1 min', 'value': 78}, 'end_location': {'lat': 42.7936354, 'lng': -77.8173951}, 'html_instructions': 'Continue straight to stay on <b>US-20A E</b>', 'maneuver': 'straight', 'polyline': {'points': 'sncdGx}~yMGE}Aq@uLeFg@UcJ}DwB_AeCeAAAYKmDyAAA_@O_@Q}Ao@gBy@Iu@ESCK?EAC?ECS?[Am@Am@?I?g@?q@?[@a@'}, 'start_location': {'lat': 42.7852202, 'lng': -77.8238052}, 'travel_mode': 'DRIVING'}, {'distance': {'text': '0.3 km', 'value': 254}, 'duration': {'text': '1 min', 'value': 42}, 'end_location': {'lat': 42.79588709999999, 'lng': -77.81687289999999}, 'html_instructions': 'Turn <b>left</b> onto <b>Main St</b><div style=\"font-size:0.9em\">Destination will be on the left</div>', 'maneuver': 'turn-left', 'polyline': {'points': 'gcedGvu}yMcC_@o@KqAQmBYEAgAO'}, 'start_location': {'lat': 42.7936354, 'lng': -77.8173951}, 'travel_mode': 'DRIVING'}], 'traffic_speed_entry': [], 'via_waypoint': []}}, {'lat': 42.7675038, 'lng': -78.59199339999999, 'dist': 356}, {'lat': 42.77049299999999, 'lng': -78.5921819, 'dist': 17573}, {'lat': 42.8436312, 'lng': -78.7581797, 'dist': 715}, {'lat': 42.8418711, 'lng': -78.75421109999999, 'dist': 665}, {'lat': 42.835897, 'lng': -78.7538886, 'dist': 665, 'nearest_ev_station': {'geometry': {'location': {'lat': 42.88644679999999, 'lng': -78.8783689}, 'viewport': {'northeast': {'lat': 42.96645491324809, 'lng': -78.79515704054361}, 'southwest': {'lat': 42.82602299418375, 'lng': -78.93372757343188}}}, 'icon': 'https://maps.gstatic.com/mapfiles/place_api/icons/v1/png_71/geocode-71.png', 'icon_background_color': '#7B9EB0', 'icon_mask_base_uri': 'https://maps.gstatic.com/mapfiles/place_api/icons/v2/generic_pinlet', 'name': 'Buffalo', 'photos': [{'height': 498, 'html_attributions': ['<a href=\"https://maps.google.com/maps/contrib/108252628278597712087\">Abdulrahman Ghummied</a>'], 'photo_reference': 'ATplDJZk5BAfKu1qRUk0WML6KVEcZaxLX2_PPGbEz8qjFMnrTHCP3QS9isC2HO1qInCV4iQe1Utm4nzpXlvMX7OE65sNHDvuLiz18NSiqBd1LkIGPkS5Q2UjZGKKJIuNRMbnF6rQ3L0VTrP7QB_5EbDTtwAZ4Lv7SE8x4-Uc_qGKPVpLAWSL', 'width': 736}], 'place_id': 'ChIJoeXfUmES04kRcYEfGKUEI5g', 'reference': 'ChIJoeXfUmES04kRcYEfGKUEI5g', 'scope': 'GOOGLE', 'types': ['locality', 'political'], 'vicinity': 'Buffalo'}, 'nearest_ev_station_distance': 16085, 'nearest_ev_route_segment': {'distance': {'text': '16.1 km', 'value': 16085}, 'duration': {'text': '14 mins', 'value': 830}, 'end_address': '1 Niagara Square, Buffalo, NY 14202, USA', 'end_location': {'lat': 42.8865433, 'lng': -78.8787823}, 'start_address': '1311 Union Rd, West Seneca, NY 14224, USA', 'start_location': {'lat': 42.835897, 'lng': -78.7538886}, 'steps': [{'distance': {'text': '0.7 km', 'value': 665}, 'duration': {'text': '1 min', 'value': 76}, 'end_location': {'lat': 42.8418711, 'lng': -78.75421109999999}, 'html_instructions': 'Head <b>north</b> on <b>Union Rd</b> toward <b>Norwood Dr</b>', 'polyline': {'points': 'kkmdGxrt_Nm@@s@Bq@@U?kBDi@ByBDmCFi@Bc@@o@BQ?m@@k@Be@?m@@wADuBBuAB'}, 'start_location': {'lat': 42.835897, 'lng': -78.7538886}, 'travel_mode': 'DRIVING'}, {'distance': {'text': '73 m', 'value': 73}, 'duration': {'text': '1 min', 'value': 12}, 'end_location': {'lat': 42.8420101, 'lng': -78.7549227}, 'html_instructions': 'Turn <b>left</b> onto the <b>NY-400</b> ramp to <b>I-90</b>', 'maneuver': 'ramp-left', 'polyline': {'points': 'upndGxtt_N[@?F@J?R@N?N?J?H?LANAN'}, 'start_location': {'lat': 42.8418711, 'lng': -78.75421109999999}, 'travel_mode': 'DRIVING'}, {'distance': {'text': '3.1 km', 'value': 3058}, 'duration': {'text': '2 mins', 'value': 137}, 'end_location': {'lat': 42.8498136, 'lng': -78.78806089999999}, 'html_instructions': 'Keep <b>left</b> at the fork, follow signs for <b>I-90</b>/<wbr/><b>NY-400 N</b> and merge onto <b>NY-400 N</b>', 'maneuver': 'fork-left', 'polyline': {'points': 'qqndGfyt_N?J?D?B?BAFAFAJCNCHAFEJCFADADEH?@EJEHEHEHABIJEHEBCDEDCBGDEDKHC@QNi@^SNi@^}@p@EBYR]VKFsA`AIFEDGDEBGFEDEDEDCDCDCDGHCHCFADABAFAFAFAD?FAF?@?DAF?H?F?D@D@J?B?DBJBLBLBLBFBFFNHPHV^~@DH@DHPRf@Rh@FNFN?BHVHVBJHX@JHb@BV@B@P@P@N@L@d@?@JXAzA?ZA\\\\?^?X?BA|@?\\\\?^?\\\\?\\\\A^?\\\\?|@?\\\\ArA?b@?\\\\?^A|@?z@A\\\\?d@?V?Z?^?\\\\A\\\\?Z?@?|@AZ?b@?ZA\\\\A\\\\?\\\\A^AZ?@A\\\\AZC\\\\A\\\\ALANC\\\\C\\\\C\\\\E\\\\C^EZE\\\\C\\\\GZ?@EZE\\\\EZCJCNGZG\\\\GZGZGZGZENCJIZADERIV?BIXIZKXIZKVIZKXKXKXKXKZIVKTKZKZKXKX?@Wt@GPCFKXKXIXKXKXKXM`@GPKXKXKXKXIXKXKXIXKVKZKVIXKXKXKXIXKXKXKXENEHIXKXMZIVIXKVQf@EJIXKXKXITABIXWr@KXKXIXEHENKVIXKZKXIXIXIZIZIXGZIZGX?@GZGZGZ?@EZGZE\\\\EZE^EZCZE\\\\CZE\\\\CZC\\\\C\\\\C^?DAVC\\\\Cl@?LA\\\\C\\\\A\\\\A\\\\A\\\\A\\\\A^AZC^AZ?D?TA^'}, 'start_location': {'lat': 42.8420101, 'lng': -78.7549227}, 'travel_mode': 'DRIVING'}, {'distance': {'text': '0.4 km', 'value': 365}, 'duration': {'text': '1 min', 'value': 17}, 'end_location': {'lat': 42.8523155, 'lng': -78.79018719999999}, 'html_instructions': 'At the interchange <b>Interstate 90</b>, keep <b>right</b> and follow signs for <b>Interstate 90</b>/<wbr/><b>Buffalo</b>', 'maneuver': 'ramp-right', 'polyline': {'points': 'ibpdGjh{_NAB?D?B?D?DAH?B?B?BAB?B?BAF?@?DAB?DABAD?BABADAF?DADADCFAFADCFADCFCFCHCDCFCFCDABEFCDABCBA@ABCBCB?@A@A@ABC@?@CBA@C@CBCBCDEBA@EBA@C@CBCBEBA?A@EBC@EBC@E@EBI@C@E@C@G@E@G@G@E@E?G@K@G@_@BC?O@UBU@K@I@[BG@a@DA?SX'}, 'start_location': {'lat': 42.8498136, 'lng': -78.78806089999999}, 'travel_mode': 'DRIVING'}, {'distance': {'text': '2.1 km', 'value': 2139}, 'duration': {'text': '1 min', 'value': 77}, 'end_location': {'lat': 42.8712406, 'lng': -78.7899288}, 'html_instructions': 'Merge onto <b>I-90 E</b>', 'maneuver': 'merge', 'polyline': {'points': '_rpdGtu{_NSBUBUBUDUDSBWFSD[HSFUFMDSFSFUFUFSFUFUHuCx@KBiCt@UHSFA?[DKDUDSFWFK@GBSDg@He@F[Bi@Fc@B]@S@W@G?c@?S?U?I?WAsAAe@AQ?eBEwCEaAAqBCy@AuAC_AAyACI?s@AsACK?u@Au@Aa@AiAAsAC]AK?YAi@CUCWCKA_@GWGUESE}A_@_@Ko@OKC{@U}A]GCyA_@QCoA[ICaAUm@Ok@My@QQE]IMCg@KA?s@M'}, 'start_location': {'lat': 42.8523155, 'lng': -78.79018719999999}, 'travel_mode': 'DRIVING'}, {'distance': {'text': '0.9 km', 'value': 853}, 'duration': {'text': '1 min', 'value': 40}, 'end_location': {'lat': 42.8761856, 'lng': -78.79251529999999}, 'html_instructions': 'Take exit <b>53</b> for <b>I-190</b> toward <b>Downtown Buffalo</b>/<wbr/><b>Niagara Falls</b>', 'maneuver': 'ramp-right', 'polyline': {'points': 'ghtdG`t{_NWYYGKCICGCMGGCEAIEIEKGOIIGIIKGGGIIKKKMEGKMEEMQQUQSGGGKSSIIIIEEA?EEIGIGECECCCKCOIC?GEGAICIAEAWEC?EAI?OAI?I?A?K@K@I?I@C@MBKBUDGBODMFGBQHC@OJIDA@GDURGDUTOPEFGHGJIJEJGJEJGJELGNENEL?BCJENCLCLCNAPCNCVAZC\\\\Ct@Ev@Cd@Cf@E`A?LAVCvAAb@'}, 'start_location': {'lat': 42.8712406, 'lng': -78.7899288}, 'travel_mode': 'DRIVING'}, {'distance': {'text': '7.9 km', 'value': 7859}, 'duration': {'text': '5 mins', 'value': 302}, 'end_location': {'lat': 42.8817268, 'lng': -78.8810562}, 'html_instructions': 'Continue onto <b>I-190 N</b>', 'polyline': {'points': 'egudGfd|_N?b@Az@?fACxB?zAAd@?V?h@AX?P?jAAf@?x@A|@?~@Ax@A~A?t@AvA?z@Al@AnBAdB?f@?XA^?`@CtCAnA?^A~BA~AA`AAfC?\\\\A`D?j@?f@BjCD`C?LJxCNdCF~@HlAXnC?HJn@F`@Hh@Hf@R|@Pt@Lb@Rr@b@tAN`@N^LXTd@Tf@NXT^LTLR\\\\f@T^RXj@z@T\\\\JLd@r@v@hAPXRXLRh@v@R\\\\fA|A|@rAl@|@j@x@NTHL`AvAh@v@l@|@NTLPT\\\\HLb@r@BFfApBh@hAN\\\\L\\\\Rf@Rh@Tn@Vz@BFT|@Pv@Jn@Hn@NfAJlAN`BLhBV`EHtABj@D~@@NJhCDzA?HBx@HtC?lAAZ?JAf@GlAAPCZE\\\\SpBMjAUxBO|ACPAPOxAK`AEb@Gl@ADI`A]`DUbCGj@Gj@k@vFCZa@xDMhAGl@CXE^I|@Gh@MtAEb@OtAARCTGd@E`@AFKhACRYzCABMrAEZE\\\\Gv@Ix@Gf@In@C\\\\QrAAHAHIh@ADCRa@`CUnACLGZCJQv@CNYpAMl@K`@Qz@Mn@ERYzAMt@E\\\\G\\\\E\\\\EZG^CRANMbACRGl@CVE`@EXCd@CXI|@KpAKrAGz@?DCTGz@I~@Ed@En@Iv@C^E\\\\E\\\\Iv@Ed@CVCTC\\\\EZEj@Gj@MnAAFK`AGr@Iv@K`AK`AALCZE^G\\\\G^ETGZG\\\\IZEPELGTIVKZKVABITOZO^S`@c@x@Wf@Q`@KTA@Q\\\\O\\\\KRCDIVSh@K\\\\ADIXGRABGZCHEVGZGVYlBEVE\\\\OjAAJK|@AJGb@CXKbAGl@?@KdAMlACZEXCTGl@ALE`@E^CXAHCVC\\\\CTCNMjAC`@Gl@A@C^CNCZAFCTEh@Gd@KfAIv@Iv@Ix@Iv@Gp@Kx@Kv@Kl@I^I^GTIZENABKZKZM\\\\KVKTABKTKTWh@GN]r@IPO\\\\O^CBGNGPCFCDADMZCHIVEROh@Qp@G\\\\ETOt@EZId@I\\\\ALERCPI\\\\I`@ERKb@ENGTIXM^IRIRGNGPGLYh@Q\\\\MPMRW`@UXa@l@SZORU^MN]f@SXUXOTSV_@h@A@'}, 'start_location': {'lat': 42.8761856, 'lng': -78.79251529999999}, 'travel_mode': 'DRIVING'}, {'distance': {'text': '0.4 km', 'value': 405}, 'duration': {'text': '1 min', 'value': 34}, 'end_location': {'lat': 42.8840002, 'lng': -78.8807492}, 'html_instructions': 'Take exit <b>7</b> for <b>Church St</b> toward <b>Buffalo</b>/<wbr/><b>Outer Hbr</b>', 'maneuver': 'ramp-right', 'polyline': {'points': 'yivdGrmm`NS?m@p@MNCBo@p@[ZC@EDYZUTABOL_@`@MLA?GDEBE@EBE?E@E@K?C?A?A?CAE?GCIAAACAIGKIKSEIEKEMCKCOAWCe@?ICm@AO?KAU?A?M?O?S@S'}, 'start_location': {'lat': 42.8817268, 'lng': -78.8810562}, 'travel_mode': 'DRIVING'}, {'distance': {'text': '0.1 km', 'value': 149}, 'duration': {'text': '1 min', 'value': 28}, 'end_location': {'lat': 42.8836918, 'lng': -78.8789717}, 'html_instructions': 'Continue onto <b>Church St</b>', 'polyline': {'points': '_xvdGtkm`NDi@@EFo@JaAFi@XwC'}, 'start_location': {'lat': 42.8840002, 'lng': -78.8807492}, 'travel_mode': 'DRIVING'}, {'distance': {'text': '0.3 km', 'value': 258}, 'duration': {'text': '1 min', 'value': 56}, 'end_location': {'lat': 42.8859188, 'lng': -78.8781812}, 'html_instructions': 'Turn <b>left</b> onto <b>Delaware Ave</b>', 'maneuver': 'turn-left', 'polyline': {'points': 'avvdGp`m`NU?cASgBa@_ASkCm@IMUMOI'}, 'start_location': {'lat': 42.8836918, 'lng': -78.8789717}, 'travel_mode': 'DRIVING'}, {'distance': {'text': '0.3 km', 'value': 261}, 'duration': {'text': '1 min', 'value': 51}, 'end_location': {'lat': 42.8865433, 'lng': -78.8787823}, 'html_instructions': 'Enter the traffic circle', 'polyline': {'points': '_dwdGr{l`N?M?E?Q?OAI?CCOEMEGAAGGIEQIOGA?UCW@S@IFKFGFCBEFABCFCNG^AHC^?@?P@J@F@F@FBFBF@DBDBDBBJJHDHBHBF@'}, 'start_location': {'lat': 42.8859188, 'lng': -78.8781812}, 'travel_mode': 'DRIVING'}], 'traffic_speed_entry': [], 'via_waypoint': []}}, {'lat': 42.8418711, 'lng': -78.75421109999999, 'dist': 73, 'nearest_ev_station': {'geometry': {'location': {'lat': 42.88644679999999, 'lng': -78.8783689}, 'viewport': {'northeast': {'lat': 42.96645491324809, 'lng': -78.79515704054361}, 'southwest': {'lat': 42.82602299418375, 'lng': -78.93372757343188}}}, 'icon': 'https://maps.gstatic.com/mapfiles/place_api/icons/v1/png_71/geocode-71.png', 'icon_background_color': '#7B9EB0', 'icon_mask_base_uri': 'https://maps.gstatic.com/mapfiles/place_api/icons/v2/generic_pinlet', 'name': 'Buffalo', 'photos': [{'height': 498, 'html_attributions': ['<a href=\"https://maps.google.com/maps/contrib/108252628278597712087\">Abdulrahman Ghummied</a>'], 'photo_reference': 'ATplDJa4nCmiInSMtwZtFEreZ8DBRPXW5S3B6SSxYJI33RFIeaKabTbzZ-MUtnQHsS27KPdLcXss-JFtkVw2ZgQbcEZ35ppUkjaLie77ge5jxYxAzvrt_Ui2Z08XOk5-reBY1v1ydpqU7ThgJ4hGj3-QuFlozIyB_0yxp-5W6wGEK8_5RQ-v', 'width': 736}], 'place_id': 'ChIJoeXfUmES04kRcYEfGKUEI5g', 'reference': 'ChIJoeXfUmES04kRcYEfGKUEI5g', 'scope': 'GOOGLE', 'types': ['locality', 'political'], 'vicinity': 'Buffalo'}, 'nearest_ev_station_distance': 15420, 'nearest_ev_route_segment': {'distance': {'text': '15.4 km', 'value': 15420}, 'duration': {'text': '13 mins', 'value': 750}, 'end_address': '1 Niagara Square, Buffalo, NY 14202, USA', 'end_location': {'lat': 42.8865433, 'lng': -78.8787823}, 'start_address': '1537 Union Rd, West Seneca, NY 14224, USA', 'start_location': {'lat': 42.8418711, 'lng': -78.75421109999999}, 'steps': [{'distance': {'text': '73 m', 'value': 73}, 'duration': {'text': '1 min', 'value': 8}, 'end_location': {'lat': 42.8420101, 'lng': -78.7549227}, 'html_instructions': 'Head <b>north</b> on <b>Union Rd</b>', 'polyline': {'points': 'upndGxtt_N[@?F@J?R@N?N?J?H?LANAN'}, 'start_location': {'lat': 42.8418711, 'lng': -78.75421109999999}, 'travel_mode': 'DRIVING'}, {'distance': {'text': '3.1 km', 'value': 3058}, 'duration': {'text': '2 mins', 'value': 137}, 'end_location': {'lat': 42.8498136, 'lng': -78.78806089999999}, 'html_instructions': 'Keep <b>left</b> at the fork, follow signs for <b>I-90</b>/<wbr/><b>NY-400 N</b> and merge onto <b>NY-400 N</b>', 'maneuver': 'fork-left', 'polyline': {'points': 'qqndGfyt_N?J?D?B?BAFAFAJCNCHAFEJCFADADEH?@EJEHEHEHABIJEHEBCDEDCBGDEDKHC@QNi@^SNi@^}@p@EBYR]VKFsA`AIFEDGDEBGFEDEDEDCDCDCDGHCHCFADABAFAFAFAD?FAF?@?DAF?H?F?D@D@J?B?DBJBLBLBLBFBFFNHPHV^~@DH@DHPRf@Rh@FNFN?BHVHVBJHX@JHb@BV@B@P@P@N@L@d@?@JXAzA?ZA\\\\?^?X?BA|@?\\\\?^?\\\\?\\\\A^?\\\\?|@?\\\\ArA?b@?\\\\?^A|@?z@A\\\\?d@?V?Z?^?\\\\A\\\\?Z?@?|@AZ?b@?ZA\\\\A\\\\?\\\\A^AZ?@A\\\\AZC\\\\A\\\\ALANC\\\\C\\\\C\\\\E\\\\C^EZE\\\\C\\\\GZ?@EZE\\\\EZCJCNGZG\\\\GZGZGZGZENCJIZADERIV?BIXIZKXIZKVIZKXKXKXKXKZIVKTKZKZKXKX?@Wt@GPCFKXKXIXKXKXKXM`@GPKXKXKXKXIXKXKXIXKVKZKVIXKXKXKXIXKXKXKXENEHIXKXMZIVIXKVQf@EJIXKXKXITABIXWr@KXKXIXEHENKVIXKZKXIXIXIZIZIXGZIZGX?@GZGZGZ?@EZGZE\\\\EZE^EZCZE\\\\CZE\\\\CZC\\\\C\\\\C^?DAVC\\\\Cl@?LA\\\\C\\\\A\\\\A\\\\A\\\\A\\\\A^AZC^AZ?D?TA^'}, 'start_location': {'lat': 42.8420101, 'lng': -78.7549227}, 'travel_mode': 'DRIVING'}, {'distance': {'text': '0.4 km', 'value': 365}, 'duration': {'text': '1 min', 'value': 17}, 'end_location': {'lat': 42.8523155, 'lng': -78.79018719999999}, 'html_instructions': 'At the interchange <b>Interstate 90</b>, keep <b>right</b> and follow signs for <b>Interstate 90</b>/<wbr/><b>Buffalo</b>', 'maneuver': 'ramp-right', 'polyline': {'points': 'ibpdGjh{_NAB?D?B?D?DAH?B?B?BAB?B?BAF?@?DAB?DABAD?BABADAF?DADADCFAFADCFADCFCFCHCDCFCFCDABEFCDABCBA@ABCBCB?@A@A@ABC@?@CBA@C@CBCBCDEBA@EBA@C@CBCBEBA?A@EBC@EBC@E@EBI@C@E@C@G@E@G@G@E@E?G@K@G@_@BC?O@UBU@K@I@[BG@a@DA?SX'}, 'start_location': {'lat': 42.8498136, 'lng': -78.78806089999999}, 'travel_mode': 'DRIVING'}, {'distance': {'text': '2.1 km', 'value': 2139}, 'duration': {'text': '1 min', 'value': 77}, 'end_location': {'lat': 42.8712406, 'lng': -78.7899288}, 'html_instructions': 'Merge onto <b>I-90 E</b>', 'maneuver': 'merge', 'polyline': {'points': '_rpdGtu{_NSBUBUBUDUDSBWFSD[HSFUFMDSFSFUFUFSFUFUHuCx@KBiCt@UHSFA?[DKDUDSFWFK@GBSDg@He@F[Bi@Fc@B]@S@W@G?c@?S?U?I?WAsAAe@AQ?eBEwCEaAAqBCy@AuAC_AAyACI?s@AsACK?u@Au@Aa@AiAAsAC]AK?YAi@CUCWCKA_@GWGUESE}A_@_@Ko@OKC{@U}A]GCyA_@QCoA[ICaAUm@Ok@My@QQE]IMCg@KA?s@M'}, 'start_location': {'lat': 42.8523155, 'lng': -78.79018719999999}, 'travel_mode': 'DRIVING'}, {'distance': {'text': '0.9 km', 'value': 853}, 'duration': {'text': '1 min', 'value': 40}, 'end_location': {'lat': 42.8761856, 'lng': -78.79251529999999}, 'html_instructions': 'Take exit <b>53</b> for <b>I-190</b> toward <b>Downtown Buffalo</b>/<wbr/><b>Niagara Falls</b>', 'maneuver': 'ramp-right', 'polyline': {'points': 'ghtdG`t{_NWYYGKCICGCMGGCEAIEIEKGOIIGIIKGGGIIKKKMEGKMEEMQQUQSGGGKSSIIIIEEA?EEIGIGECECCCKCOIC?GEGAICIAEAWEC?EAI?OAI?I?A?K@K@I?I@C@MBKBUDGBODMFGBQHC@OJIDA@GDURGDUTOPEFGHGJIJEJGJEJGJELGNENEL?BCJENCLCLCNAPCNCVAZC\\\\Ct@Ev@Cd@Cf@E`A?LAVCvAAb@'}, 'start_location': {'lat': 42.8712406, 'lng': -78.7899288}, 'travel_mode': 'DRIVING'}, {'distance': {'text': '7.9 km', 'value': 7859}, 'duration': {'text': '5 mins', 'value': 302}, 'end_location': {'lat': 42.8817268, 'lng': -78.8810562}, 'html_instructions': 'Continue onto <b>I-190 N</b>', 'polyline': {'points': 'egudGfd|_N?b@Az@?fACxB?zAAd@?V?h@AX?P?jAAf@?x@A|@?~@Ax@A~A?t@AvA?z@Al@AnBAdB?f@?XA^?`@CtCAnA?^A~BA~AA`AAfC?\\\\A`D?j@?f@BjCD`C?LJxCNdCF~@HlAXnC?HJn@F`@Hh@Hf@R|@Pt@Lb@Rr@b@tAN`@N^LXTd@Tf@NXT^LTLR\\\\f@T^RXj@z@T\\\\JLd@r@v@hAPXRXLRh@v@R\\\\fA|A|@rAl@|@j@x@NTHL`AvAh@v@l@|@NTLPT\\\\HLb@r@BFfApBh@hAN\\\\L\\\\Rf@Rh@Tn@Vz@BFT|@Pv@Jn@Hn@NfAJlAN`BLhBV`EHtABj@D~@@NJhCDzA?HBx@HtC?lAAZ?JAf@GlAAPCZE\\\\SpBMjAUxBO|ACPAPOxAK`AEb@Gl@ADI`A]`DUbCGj@Gj@k@vFCZa@xDMhAGl@CXE^I|@Gh@MtAEb@OtAARCTGd@E`@AFKhACRYzCABMrAEZE\\\\Gv@Ix@Gf@In@C\\\\QrAAHAHIh@ADCRa@`CUnACLGZCJQv@CNYpAMl@K`@Qz@Mn@ERYzAMt@E\\\\G\\\\E\\\\EZG^CRANMbACRGl@CVE`@EXCd@CXI|@KpAKrAGz@?DCTGz@I~@Ed@En@Iv@C^E\\\\E\\\\Iv@Ed@CVCTC\\\\EZEj@Gj@MnAAFK`AGr@Iv@K`AK`AALCZE^G\\\\G^ETGZG\\\\IZEPELGTIVKZKVABITOZO^S`@c@x@Wf@Q`@KTA@Q\\\\O\\\\KRCDIVSh@K\\\\ADIXGRABGZCHEVGZGVYlBEVE\\\\OjAAJK|@AJGb@CXKbAGl@?@KdAMlACZEXCTGl@ALE`@E^CXAHCVC\\\\CTCNMjAC`@Gl@A@C^CNCZAFCTEh@Gd@KfAIv@Iv@Ix@Iv@Gp@Kx@Kv@Kl@I^I^GTIZENABKZKZM\\\\KVKTABKTKTWh@GN]r@IPO\\\\O^CBGNGPCFCDADMZCHIVEROh@Qp@G\\\\ETOt@EZId@I\\\\ALERCPI\\\\I`@ERKb@ENGTIXM^IRIRGNGPGLYh@Q\\\\MPMRW`@UXa@l@SZORU^MN]f@SXUXOTSV_@h@A@'}, 'start_location': {'lat': 42.8761856, 'lng': -78.79251529999999}, 'travel_mode': 'DRIVING'}, {'distance': {'text': '0.4 km', 'value': 405}, 'duration': {'text': '1 min', 'value': 34}, 'end_location': {'lat': 42.8840002, 'lng': -78.8807492}, 'html_instructions': 'Take exit <b>7</b> for <b>Church St</b> toward <b>Buffalo</b>/<wbr/><b>Outer Hbr</b>', 'maneuver': 'ramp-right', 'polyline': {'points': 'yivdGrmm`NS?m@p@MNCBo@p@[ZC@EDYZUTABOL_@`@MLA?GDEBE@EBE?E@E@K?C?A?A?CAE?GCIAAACAIGKIKSEIEKEMCKCOAWCe@?ICm@AO?KAU?A?M?O?S@S'}, 'start_location': {'lat': 42.8817268, 'lng': -78.8810562}, 'travel_mode': 'DRIVING'}, {'distance': {'text': '0.1 km', 'value': 149}, 'duration': {'text': '1 min', 'value': 28}, 'end_location': {'lat': 42.8836918, 'lng': -78.8789717}, 'html_instructions': 'Continue onto <b>Church St</b>', 'polyline': {'points': '_xvdGtkm`NDi@@EFo@JaAFi@XwC'}, 'start_location': {'lat': 42.8840002, 'lng': -78.8807492}, 'travel_mode': 'DRIVING'}, {'distance': {'text': '0.3 km', 'value': 258}, 'duration': {'text': '1 min', 'value': 56}, 'end_location': {'lat': 42.8859188, 'lng': -78.8781812}, 'html_instructions': 'Turn <b>left</b> onto <b>Delaware Ave</b>', 'maneuver': 'turn-left', 'polyline': {'points': 'avvdGp`m`NU?cASgBa@_ASkCm@IMUMOI'}, 'start_location': {'lat': 42.8836918, 'lng': -78.8789717}, 'travel_mode': 'DRIVING'}, {'distance': {'text': '0.3 km', 'value': 261}, 'duration': {'text': '1 min', 'value': 51}, 'end_location': {'lat': 42.8865433, 'lng': -78.8787823}, 'html_instructions': 'Enter the traffic circle', 'polyline': {'points': '_dwdGr{l`N?M?E?Q?OAI?CCOEMEGAAGGIEQIOGA?UCW@S@IFKFGFCBEFABCFCNG^AHC^?@?P@J@F@F@FBFBF@DBDBDBBJJHDHBHBF@'}, 'start_location': {'lat': 42.8859188, 'lng': -78.8781812}, 'travel_mode': 'DRIVING'}], 'traffic_speed_entry': [], 'via_waypoint': []}}, {'lat': 42.8420101, 'lng': -78.7549227, 'dist': 3058, 'nearest_ev_station': {'geometry': {'location': {'lat': 42.88644679999999, 'lng': -78.8783689}, 'viewport': {'northeast': {'lat': 42.96645491324809, 'lng': -78.79515704054361}, 'southwest': {'lat': 42.82602299418375, 'lng': -78.93372757343188}}}, 'icon': 'https://maps.gstatic.com/mapfiles/place_api/icons/v1/png_71/geocode-71.png', 'icon_background_color': '#7B9EB0', 'icon_mask_base_uri': 'https://maps.gstatic.com/mapfiles/place_api/icons/v2/generic_pinlet', 'name': 'Buffalo', 'photos': [{'height': 498, 'html_attributions': ['<a href=\"https://maps.google.com/maps/contrib/108252628278597712087\">Abdulrahman Ghummied</a>'], 'photo_reference': 'ATplDJb2XnEoTnZ30LbbhmPGmGvIh_26xkqxMpa6UolqTC6fcUq3Q7QnPryFyQvVfE9yTDvj1zrAO7zxZD0pSehyrS2fEoNKK2r-mkrFcoledolorwG5gSEjb3OiZKsZNxsliJ4Epbf8r-B_eleOLPPOOoSlgk-ywH8LzI6KYDCEXWfH8TpZ', 'width': 736}], 'place_id': 'ChIJoeXfUmES04kRcYEfGKUEI5g', 'reference': 'ChIJoeXfUmES04kRcYEfGKUEI5g', 'scope': 'GOOGLE', 'types': ['locality', 'political'], 'vicinity': 'Buffalo'}, 'nearest_ev_station_distance': 15348, 'nearest_ev_route_segment': {'distance': {'text': '15.3 km', 'value': 15348}, 'duration': {'text': '12 mins', 'value': 742}, 'end_address': '1 Niagara Square, Buffalo, NY 14202, USA', 'end_location': {'lat': 42.8865433, 'lng': -78.8787823}, 'start_address': '1530 Union Rd, West Seneca, NY 14224, USA', 'start_location': {'lat': 42.8420101, 'lng': -78.7549227}, 'steps': [{'distance': {'text': '0.8 km', 'value': 755}, 'duration': {'text': '1 min', 'value': 51}, 'end_location': {'lat': 42.84368420000001, 'lng': -78.7617716}, 'html_instructions': 'Head <b>west</b>', 'polyline': {'points': 'qqndGfyt_N?J?D?B?BAFAFAJCNCHAFEJCFADADEH?@EJEHEHEHABIJEHEBCDEDCBGDEDKHC@QNi@^SNi@^}@p@EBYR]VKFsA`AIFEDGDEBGFEDEDEDCDCDCDGHCHCFADABAFAFAFAD?FAF?@?DAF?H?F?D@D@J?B?DBJBLBLBLBFBFFNHPHV^~@DH@DHPRf@Rh@FNFN?BHVHVBJHX@JHb@BV@B@P@P@N@L@d@?@JX'}, 'start_location': {'lat': 42.8420101, 'lng': -78.7549227}, 'travel_mode': 'DRIVING'}, {'distance': {'text': '2.3 km', 'value': 2304}, 'duration': {'text': '1 min', 'value': 86}, 'end_location': {'lat': 42.8498136, 'lng': -78.78806089999999}, 'html_instructions': 'Merge onto <b>NY-400 N</b>', 'maneuver': 'merge', 'polyline': {'points': '_|ndG`dv_NAzA?ZA\\\\?^?X?BA|@?\\\\?^?\\\\?\\\\A^?\\\\?|@?\\\\ArA?b@?\\\\?^A|@?z@A\\\\?d@?V?Z?^?\\\\A\\\\?Z?@?|@AZ?b@?ZA\\\\A\\\\?\\\\A^AZ?@A\\\\AZC\\\\A\\\\ALANC\\\\C\\\\C\\\\E\\\\C^EZE\\\\C\\\\GZ?@EZE\\\\EZCJCNGZG\\\\GZGZGZGZENCJIZADERIV?BIXIZKXIZKVIZKXKXKXKXKZIVKTKZKZKXKX?@Wt@GPCFKXKXIXKXKXKXM`@GPKXKXKXKXIXKXKXIXKVKZKVIXKXKXKXIXKXKXKXENEHIXKXMZIVIXKVQf@EJIXKXKXITABIXWr@KXKXIXEHENKVIXKZKXIXIXIZIZIXGZIZGX?@GZGZGZ?@EZGZE\\\\EZE^EZCZE\\\\CZE\\\\CZC\\\\C\\\\C^?DAVC\\\\Cl@?LA\\\\C\\\\A\\\\A\\\\A\\\\A\\\\A^AZC^AZ?D?TA^'}, 'start_location': {'lat': 42.84368420000001, 'lng': -78.7617716}, 'travel_mode': 'DRIVING'}, {'distance': {'text': '0.4 km', 'value': 365}, 'duration': {'text': '1 min', 'value': 17}, 'end_location': {'lat': 42.8523155, 'lng': -78.79018719999999}, 'html_instructions': 'At the interchange <b>Interstate 90</b>, keep <b>right</b> and follow signs for <b>Interstate 90</b>/<wbr/><b>Buffalo</b>', 'maneuver': 'ramp-right', 'polyline': {'points': 'ibpdGjh{_NAB?D?B?D?DAH?B?B?BAB?B?BAF?@?DAB?DABAD?BABADAF?DADADCFAFADCFADCFCFCHCDCFCFCDABEFCDABCBA@ABCBCB?@A@A@ABC@?@CBA@C@CBCBCDEBA@EBA@C@CBCBEBA?A@EBC@EBC@E@EBI@C@E@C@G@E@G@G@E@E?G@K@G@_@BC?O@UBU@K@I@[BG@a@DA?SX'}, 'start_location': {'lat': 42.8498136, 'lng': -78.78806089999999}, 'travel_mode': 'DRIVING'}, {'distance': {'text': '2.1 km', 'value': 2139}, 'duration': {'text': '1 min', 'value': 77}, 'end_location': {'lat': 42.8712406, 'lng': -78.7899288}, 'html_instructions': 'Merge onto <b>I-90 E</b>', 'maneuver': 'merge', 'polyline': {'points': '_rpdGtu{_NSBUBUBUDUDSBWFSD[HSFUFMDSFSFUFUFSFUFUHuCx@KBiCt@UHSFA?[DKDUDSFWFK@GBSDg@He@F[Bi@Fc@B]@S@W@G?c@?S?U?I?WAsAAe@AQ?eBEwCEaAAqBCy@AuAC_AAyACI?s@AsACK?u@Au@Aa@AiAAsAC]AK?YAi@CUCWCKA_@GWGUESE}A_@_@Ko@OKC{@U}A]GCyA_@QCoA[ICaAUm@Ok@My@QQE]IMCg@KA?s@M'}, 'start_location': {'lat': 42.8523155, 'lng': -78.79018719999999}, 'travel_mode': 'DRIVING'}, {'distance': {'text': '0.9 km', 'value': 853}, 'duration': {'text': '1 min', 'value': 40}, 'end_location': {'lat': 42.8761856, 'lng': -78.79251529999999}, 'html_instructions': 'Take exit <b>53</b> for <b>I-190</b> toward <b>Downtown Buffalo</b>/<wbr/><b>Niagara Falls</b>', 'maneuver': 'ramp-right', 'polyline': {'points': 'ghtdG`t{_NWYYGKCICGCMGGCEAIEIEKGOIIGIIKGGGIIKKKMEGKMEEMQQUQSGGGKSSIIIIEEA?EEIGIGECECCCKCOIC?GEGAICIAEAWEC?EAI?OAI?I?A?K@K@I?I@C@MBKBUDGBODMFGBQHC@OJIDA@GDURGDUTOPEFGHGJIJEJGJEJGJELGNENEL?BCJENCLCLCNAPCNCVAZC\\\\Ct@Ev@Cd@Cf@E`A?LAVCvAAb@'}, 'start_location': {'lat': 42.8712406, 'lng': -78.7899288}, 'travel_mode': 'DRIVING'}, {'distance': {'text': '7.9 km', 'value': 7859}, 'duration': {'text': '5 mins', 'value': 302}, 'end_location': {'lat': 42.8817268, 'lng': -78.8810562}, 'html_instructions': 'Continue onto <b>I-190 N</b>', 'polyline': {'points': 'egudGfd|_N?b@Az@?fACxB?zAAd@?V?h@AX?P?jAAf@?x@A|@?~@Ax@A~A?t@AvA?z@Al@AnBAdB?f@?XA^?`@CtCAnA?^A~BA~AA`AAfC?\\\\A`D?j@?f@BjCD`C?LJxCNdCF~@HlAXnC?HJn@F`@Hh@Hf@R|@Pt@Lb@Rr@b@tAN`@N^LXTd@Tf@NXT^LTLR\\\\f@T^RXj@z@T\\\\JLd@r@v@hAPXRXLRh@v@R\\\\fA|A|@rAl@|@j@x@NTHL`AvAh@v@l@|@NTLPT\\\\HLb@r@BFfApBh@hAN\\\\L\\\\Rf@Rh@Tn@Vz@BFT|@Pv@Jn@Hn@NfAJlAN`BLhBV`EHtABj@D~@@NJhCDzA?HBx@HtC?lAAZ?JAf@GlAAPCZE\\\\SpBMjAUxBO|ACPAPOxAK`AEb@Gl@ADI`A]`DUbCGj@Gj@k@vFCZa@xDMhAGl@CXE^I|@Gh@MtAEb@OtAARCTGd@E`@AFKhACRYzCABMrAEZE\\\\Gv@Ix@Gf@In@C\\\\QrAAHAHIh@ADCRa@`CUnACLGZCJQv@CNYpAMl@K`@Qz@Mn@ERYzAMt@E\\\\G\\\\E\\\\EZG^CRANMbACRGl@CVE`@EXCd@CXI|@KpAKrAGz@?DCTGz@I~@Ed@En@Iv@C^E\\\\E\\\\Iv@Ed@CVCTC\\\\EZEj@Gj@MnAAFK`AGr@Iv@K`AK`AALCZE^G\\\\G^ETGZG\\\\IZEPELGTIVKZKVABITOZO^S`@c@x@Wf@Q`@KTA@Q\\\\O\\\\KRCDIVSh@K\\\\ADIXGRABGZCHEVGZGVYlBEVE\\\\OjAAJK|@AJGb@CXKbAGl@?@KdAMlACZEXCTGl@ALE`@E^CXAHCVC\\\\CTCNMjAC`@Gl@A@C^CNCZAFCTEh@Gd@KfAIv@Iv@Ix@Iv@Gp@Kx@Kv@Kl@I^I^GTIZENABKZKZM\\\\KVKTABKTKTWh@GN]r@IPO\\\\O^CBGNGPCFCDADMZCHIVEROh@Qp@G\\\\ETOt@EZId@I\\\\ALERCPI\\\\I`@ERKb@ENGTIXM^IRIRGNGPGLYh@Q\\\\MPMRW`@UXa@l@SZORU^MN]f@SXUXOTSV_@h@A@'}, 'start_location': {'lat': 42.8761856, 'lng': -78.79251529999999}, 'travel_mode': 'DRIVING'}, {'distance': {'text': '0.4 km', 'value': 405}, 'duration': {'text': '1 min', 'value': 34}, 'end_location': {'lat': 42.8840002, 'lng': -78.8807492}, 'html_instructions': 'Take exit <b>7</b> for <b>Church St</b> toward <b>Buffalo</b>/<wbr/><b>Outer Hbr</b>', 'maneuver': 'ramp-right', 'polyline': {'points': 'yivdGrmm`NS?m@p@MNCBo@p@[ZC@EDYZUTABOL_@`@MLA?GDEBE@EBE?E@E@K?C?A?A?CAE?GCIAAACAIGKIKSEIEKEMCKCOAWCe@?ICm@AO?KAU?A?M?O?S@S'}, 'start_location': {'lat': 42.8817268, 'lng': -78.8810562}, 'travel_mode': 'DRIVING'}, {'distance': {'text': '0.1 km', 'value': 149}, 'duration': {'text': '1 min', 'value': 28}, 'end_location': {'lat': 42.8836918, 'lng': -78.8789717}, 'html_instructions': 'Continue onto <b>Church St</b>', 'polyline': {'points': '_xvdGtkm`NDi@@EFo@JaAFi@XwC'}, 'start_location': {'lat': 42.8840002, 'lng': -78.8807492}, 'travel_mode': 'DRIVING'}, {'distance': {'text': '0.3 km', 'value': 258}, 'duration': {'text': '1 min', 'value': 56}, 'end_location': {'lat': 42.8859188, 'lng': -78.8781812}, 'html_instructions': 'Turn <b>left</b> onto <b>Delaware Ave</b>', 'maneuver': 'turn-left', 'polyline': {'points': 'avvdGp`m`NU?cASgBa@_ASkCm@IMUMOI'}, 'start_location': {'lat': 42.8836918, 'lng': -78.8789717}, 'travel_mode': 'DRIVING'}, {'distance': {'text': '0.3 km', 'value': 261}, 'duration': {'text': '1 min', 'value': 51}, 'end_location': {'lat': 42.8865433, 'lng': -78.8787823}, 'html_instructions': 'Enter the traffic circle', 'polyline': {'points': '_dwdGr{l`N?M?E?Q?OAI?CCOEMEGAAGGIEQIOGA?UCW@S@IFKFGFCBEFABCFCNG^AHC^?@?P@J@F@F@FBFBF@DBDBDBBJJHDHBHBF@'}, 'start_location': {'lat': 42.8859188, 'lng': -78.8781812}, 'travel_mode': 'DRIVING'}], 'traffic_speed_entry': [], 'via_waypoint': []}}, {'lat': 42.8498136, 'lng': -78.78806089999999, 'dist': 365, 'nearest_ev_station': {'geometry': {'location': {'lat': 42.88644679999999, 'lng': -78.8783689}, 'viewport': {'northeast': {'lat': 42.96645491324809, 'lng': -78.79515704054361}, 'southwest': {'lat': 42.82602299418375, 'lng': -78.93372757343188}}}, 'icon': 'https://maps.gstatic.com/mapfiles/place_api/icons/v1/png_71/geocode-71.png', 'icon_background_color': '#7B9EB0', 'icon_mask_base_uri': 'https://maps.gstatic.com/mapfiles/place_api/icons/v2/generic_pinlet', 'name': 'Buffalo', 'photos': [{'height': 498, 'html_attributions': ['<a href=\"https://maps.google.com/maps/contrib/108252628278597712087\">Abdulrahman Ghummied</a>'], 'photo_reference': 'ATplDJZovMgv41a5g26ltgashOx1F1vlNL_OZmy5PKKn9LOxbsCFvmRDsc9nHlPlzLeNeAMRNUixz3ErFIpES04TPrDOuu0xhRl2hM1FTFsWRHEOWR8oJgJyrqrCiFEb07W5R4KHPu5dXIfEfaPa12YYq4hi3DTKrfbn1LtsvC3Xj6uAIgX5', 'width': 736}], 'place_id': 'ChIJoeXfUmES04kRcYEfGKUEI5g', 'reference': 'ChIJoeXfUmES04kRcYEfGKUEI5g', 'scope': 'GOOGLE', 'types': ['locality', 'political'], 'vicinity': 'Buffalo'}, 'nearest_ev_station_distance': 12289, 'nearest_ev_route_segment': {'distance': {'text': '12.3 km', 'value': 12289}, 'duration': {'text': '10 mins', 'value': 605}, 'end_address': '1 Niagara Square, Buffalo, NY 14202, USA', 'end_location': {'lat': 42.8865433, 'lng': -78.8787823}, 'start_address': 'NY-400, West Seneca, NY 14224, USA', 'start_location': {'lat': 42.8498136, 'lng': -78.78806089999999}, 'steps': [{'distance': {'text': '0.4 km', 'value': 365}, 'duration': {'text': '1 min', 'value': 17}, 'end_location': {'lat': 42.8523155, 'lng': -78.79018719999999}, 'html_instructions': 'Head <b>west</b> on <b>Exit Interstate 90</b>', 'polyline': {'points': 'ibpdGjh{_NAB?D?B?D?DAH?B?B?BAB?B?BAF?@?DAB?DABAD?BABADAF?DADADCFAFADCFADCFCFCHCDCFCFCDABEFCDABCBA@ABCBCB?@A@A@ABC@?@CBA@C@CBCBCDEBA@EBA@C@CBCBEBA?A@EBC@EBC@E@EBI@C@E@C@G@E@G@G@E@E?G@K@G@_@BC?O@UBU@K@I@[BG@a@DA?SX'}, 'start_location': {'lat': 42.8498136, 'lng': -78.78806089999999}, 'travel_mode': 'DRIVING'}, {'distance': {'text': '2.1 km', 'value': 2139}, 'duration': {'text': '1 min', 'value': 77}, 'end_location': {'lat': 42.8712406, 'lng': -78.7899288}, 'html_instructions': 'Merge onto <b>I-90 E</b>', 'maneuver': 'merge', 'polyline': {'points': '_rpdGtu{_NSBUBUBUDUDSBWFSD[HSFUFMDSFSFUFUFSFUFUHuCx@KBiCt@UHSFA?[DKDUDSFWFK@GBSDg@He@F[Bi@Fc@B]@S@W@G?c@?S?U?I?WAsAAe@AQ?eBEwCEaAAqBCy@AuAC_AAyACI?s@AsACK?u@Au@Aa@AiAAsAC]AK?YAi@CUCWCKA_@GWGUESE}A_@_@Ko@OKC{@U}A]GCyA_@QCoA[ICaAUm@Ok@My@QQE]IMCg@KA?s@M'}, 'start_location': {'lat': 42.8523155, 'lng': -78.79018719999999}, 'travel_mode': 'DRIVING'}, {'distance': {'text': '0.9 km', 'value': 853}, 'duration': {'text': '1 min', 'value': 40}, 'end_location': {'lat': 42.8761856, 'lng': -78.79251529999999}, 'html_instructions': 'Take exit <b>53</b> for <b>I-190</b> toward <b>Downtown Buffalo</b>/<wbr/><b>Niagara Falls</b>', 'maneuver': 'ramp-right', 'polyline': {'points': 'ghtdG`t{_NWYYGKCICGCMGGCEAIEIEKGOIIGIIKGGGIIKKKMEGKMEEMQQUQSGGGKSSIIIIEEA?EEIGIGECECCCKCOIC?GEGAICIAEAWEC?EAI?OAI?I?A?K@K@I?I@C@MBKBUDGBODMFGBQHC@OJIDA@GDURGDUTOPEFGHGJIJEJGJEJGJELGNENEL?BCJENCLCLCNAPCNCVAZC\\\\Ct@Ev@Cd@Cf@E`A?LAVCvAAb@'}, 'start_location': {'lat': 42.8712406, 'lng': -78.7899288}, 'travel_mode': 'DRIVING'}, {'distance': {'text': '7.9 km', 'value': 7859}, 'duration': {'text': '5 mins', 'value': 302}, 'end_location': {'lat': 42.8817268, 'lng': -78.8810562}, 'html_instructions': 'Continue onto <b>I-190 N</b>', 'polyline': {'points': 'egudGfd|_N?b@Az@?fACxB?zAAd@?V?h@AX?P?jAAf@?x@A|@?~@Ax@A~A?t@AvA?z@Al@AnBAdB?f@?XA^?`@CtCAnA?^A~BA~AA`AAfC?\\\\A`D?j@?f@BjCD`C?LJxCNdCF~@HlAXnC?HJn@F`@Hh@Hf@R|@Pt@Lb@Rr@b@tAN`@N^LXTd@Tf@NXT^LTLR\\\\f@T^RXj@z@T\\\\JLd@r@v@hAPXRXLRh@v@R\\\\fA|A|@rAl@|@j@x@NTHL`AvAh@v@l@|@NTLPT\\\\HLb@r@BFfApBh@hAN\\\\L\\\\Rf@Rh@Tn@Vz@BFT|@Pv@Jn@Hn@NfAJlAN`BLhBV`EHtABj@D~@@NJhCDzA?HBx@HtC?lAAZ?JAf@GlAAPCZE\\\\SpBMjAUxBO|ACPAPOxAK`AEb@Gl@ADI`A]`DUbCGj@Gj@k@vFCZa@xDMhAGl@CXE^I|@Gh@MtAEb@OtAARCTGd@E`@AFKhACRYzCABMrAEZE\\\\Gv@Ix@Gf@In@C\\\\QrAAHAHIh@ADCRa@`CUnACLGZCJQv@CNYpAMl@K`@Qz@Mn@ERYzAMt@E\\\\G\\\\E\\\\EZG^CRANMbACRGl@CVE`@EXCd@CXI|@KpAKrAGz@?DCTGz@I~@Ed@En@Iv@C^E\\\\E\\\\Iv@Ed@CVCTC\\\\EZEj@Gj@MnAAFK`AGr@Iv@K`AK`AALCZE^G\\\\G^ETGZG\\\\IZEPELGTIVKZKVABITOZO^S`@c@x@Wf@Q`@KTA@Q\\\\O\\\\KRCDIVSh@K\\\\ADIXGRABGZCHEVGZGVYlBEVE\\\\OjAAJK|@AJGb@CXKbAGl@?@KdAMlACZEXCTGl@ALE`@E^CXAHCVC\\\\CTCNMjAC`@Gl@A@C^CNCZAFCTEh@Gd@KfAIv@Iv@Ix@Iv@Gp@Kx@Kv@Kl@I^I^GTIZENABKZKZM\\\\KVKTABKTKTWh@GN]r@IPO\\\\O^CBGNGPCFCDADMZCHIVEROh@Qp@G\\\\ETOt@EZId@I\\\\ALERCPI\\\\I`@ERKb@ENGTIXM^IRIRGNGPGLYh@Q\\\\MPMRW`@UXa@l@SZORU^MN]f@SXUXOTSV_@h@A@'}, 'start_location': {'lat': 42.8761856, 'lng': -78.79251529999999}, 'travel_mode': 'DRIVING'}, {'distance': {'text': '0.4 km', 'value': 405}, 'duration': {'text': '1 min', 'value': 34}, 'end_location': {'lat': 42.8840002, 'lng': -78.8807492}, 'html_instructions': 'Take exit <b>7</b> for <b>Church St</b> toward <b>Buffalo</b>/<wbr/><b>Outer Hbr</b>', 'maneuver': 'ramp-right', 'polyline': {'points': 'yivdGrmm`NS?m@p@MNCBo@p@[ZC@EDYZUTABOL_@`@MLA?GDEBE@EBE?E@E@K?C?A?A?CAE?GCIAAACAIGKIKSEIEKEMCKCOAWCe@?ICm@AO?KAU?A?M?O?S@S'}, 'start_location': {'lat': 42.8817268, 'lng': -78.8810562}, 'travel_mode': 'DRIVING'}, {'distance': {'text': '0.1 km', 'value': 149}, 'duration': {'text': '1 min', 'value': 28}, 'end_location': {'lat': 42.8836918, 'lng': -78.8789717}, 'html_instructions': 'Continue onto <b>Church St</b>', 'polyline': {'points': '_xvdGtkm`NDi@@EFo@JaAFi@XwC'}, 'start_location': {'lat': 42.8840002, 'lng': -78.8807492}, 'travel_mode': 'DRIVING'}, {'distance': {'text': '0.3 km', 'value': 258}, 'duration': {'text': '1 min', 'value': 56}, 'end_location': {'lat': 42.8859188, 'lng': -78.8781812}, 'html_instructions': 'Turn <b>left</b> onto <b>Delaware Ave</b>', 'maneuver': 'turn-left', 'polyline': {'points': 'avvdGp`m`NU?cASgBa@_ASkCm@IMUMOI'}, 'start_location': {'lat': 42.8836918, 'lng': -78.8789717}, 'travel_mode': 'DRIVING'}, {'distance': {'text': '0.3 km', 'value': 261}, 'duration': {'text': '1 min', 'value': 51}, 'end_location': {'lat': 42.8865433, 'lng': -78.8787823}, 'html_instructions': 'Enter the traffic circle', 'polyline': {'points': '_dwdGr{l`N?M?E?Q?OAI?CCOEMEGAAGGIEQIOGA?UCW@S@IFKFGFCBEFABCFCNG^AHC^?@?P@J@F@F@FBFBF@DBDBDBBJJHDHBHBF@'}, 'start_location': {'lat': 42.8859188, 'lng': -78.8781812}, 'travel_mode': 'DRIVING'}], 'traffic_speed_entry': [], 'via_waypoint': []}}, {'lat': 42.8523155, 'lng': -78.79018719999999, 'dist': 2139, 'nearest_ev_station': {'geometry': {'location': {'lat': 42.88644679999999, 'lng': -78.8783689}, 'viewport': {'northeast': {'lat': 42.96645491324809, 'lng': -78.79515704054361}, 'southwest': {'lat': 42.82602299418375, 'lng': -78.93372757343188}}}, 'icon': 'https://maps.gstatic.com/mapfiles/place_api/icons/v1/png_71/geocode-71.png', 'icon_background_color': '#7B9EB0', 'icon_mask_base_uri': 'https://maps.gstatic.com/mapfiles/place_api/icons/v2/generic_pinlet', 'name': 'Buffalo', 'photos': [{'height': 498, 'html_attributions': ['<a href=\"https://maps.google.com/maps/contrib/108252628278597712087\">Abdulrahman Ghummied</a>'], 'photo_reference': 'ATplDJbUa42dx2pV-95jBmvI28G15kFmwgG14mgCX9igdCi7NtNiRCkzPr5MMR09Zqnk_yuXPjtRpUrnAcBr37C-ScSdntqZB2BzhEYCTKmEYb_CJdyQcJhqcSbYkjcY3ebt-66dZ6PrHN780B4xzpVbdT_l7WlMoqNkjZ2TpV9nfUWvzQda', 'width': 736}], 'place_id': 'ChIJoeXfUmES04kRcYEfGKUEI5g', 'reference': 'ChIJoeXfUmES04kRcYEfGKUEI5g', 'scope': 'GOOGLE', 'types': ['locality', 'political'], 'vicinity': 'Buffalo'}, 'nearest_ev_station_distance': 11924, 'nearest_ev_route_segment': {'distance': {'text': '11.9 km', 'value': 11924}, 'duration': {'text': '10 mins', 'value': 588}, 'end_address': '1 Niagara Square, Buffalo, NY 14202, USA', 'end_location': {'lat': 42.8865433, 'lng': -78.8787823}, 'start_address': 'MILE MARKER, 427 .8 90, Buffalo, NY 14224, USA', 'start_location': {'lat': 42.8523155, 'lng': -78.79018719999999}, 'steps': [{'distance': {'text': '2.1 km', 'value': 2139}, 'duration': {'text': '1 min', 'value': 77}, 'end_location': {'lat': 42.8712406, 'lng': -78.7899288}, 'html_instructions': 'Head <b>north</b> on <b>I-90 E</b>', 'polyline': {'points': '_rpdGtu{_NSBUBUBUDUDSBWFSD[HSFUFMDSFSFUFUFSFUFUHuCx@KBiCt@UHSFA?[DKDUDSFWFK@GBSDg@He@F[Bi@Fc@B]@S@W@G?c@?S?U?I?WAsAAe@AQ?eBEwCEaAAqBCy@AuAC_AAyACI?s@AsACK?u@Au@Aa@AiAAsAC]AK?YAi@CUCWCKA_@GWGUESE}A_@_@Ko@OKC{@U}A]GCyA_@QCoA[ICaAUm@Ok@My@QQE]IMCg@KA?s@M'}, 'start_location': {'lat': 42.8523155, 'lng': -78.79018719999999}, 'travel_mode': 'DRIVING'}, {'distance': {'text': '0.9 km', 'value': 853}, 'duration': {'text': '1 min', 'value': 40}, 'end_location': {'lat': 42.8761856, 'lng': -78.79251529999999}, 'html_instructions': 'Take exit <b>53</b> for <b>I-190</b> toward <b>Downtown Buffalo</b>/<wbr/><b>Niagara Falls</b>', 'maneuver': 'ramp-right', 'polyline': {'points': 'ghtdG`t{_NWYYGKCICGCMGGCEAIEIEKGOIIGIIKGGGIIKKKMEGKMEEMQQUQSGGGKSSIIIIEEA?EEIGIGECECCCKCOIC?GEGAICIAEAWEC?EAI?OAI?I?A?K@K@I?I@C@MBKBUDGBODMFGBQHC@OJIDA@GDURGDUTOPEFGHGJIJEJGJEJGJELGNENEL?BCJENCLCLCNAPCNCVAZC\\\\Ct@Ev@Cd@Cf@E`A?LAVCvAAb@'}, 'start_location': {'lat': 42.8712406, 'lng': -78.7899288}, 'travel_mode': 'DRIVING'}, {'distance': {'text': '7.9 km', 'value': 7859}, 'duration': {'text': '5 mins', 'value': 302}, 'end_location': {'lat': 42.8817268, 'lng': -78.8810562}, 'html_instructions': 'Continue onto <b>I-190 N</b>', 'polyline': {'points': 'egudGfd|_N?b@Az@?fACxB?zAAd@?V?h@AX?P?jAAf@?x@A|@?~@Ax@A~A?t@AvA?z@Al@AnBAdB?f@?XA^?`@CtCAnA?^A~BA~AA`AAfC?\\\\A`D?j@?f@BjCD`C?LJxCNdCF~@HlAXnC?HJn@F`@Hh@Hf@R|@Pt@Lb@Rr@b@tAN`@N^LXTd@Tf@NXT^LTLR\\\\f@T^RXj@z@T\\\\JLd@r@v@hAPXRXLRh@v@R\\\\fA|A|@rAl@|@j@x@NTHL`AvAh@v@l@|@NTLPT\\\\HLb@r@BFfApBh@hAN\\\\L\\\\Rf@Rh@Tn@Vz@BFT|@Pv@Jn@Hn@NfAJlAN`BLhBV`EHtABj@D~@@NJhCDzA?HBx@HtC?lAAZ?JAf@GlAAPCZE\\\\SpBMjAUxBO|ACPAPOxAK`AEb@Gl@ADI`A]`DUbCGj@Gj@k@vFCZa@xDMhAGl@CXE^I|@Gh@MtAEb@OtAARCTGd@E`@AFKhACRYzCABMrAEZE\\\\Gv@Ix@Gf@In@C\\\\QrAAHAHIh@ADCRa@`CUnACLGZCJQv@CNYpAMl@K`@Qz@Mn@ERYzAMt@E\\\\G\\\\E\\\\EZG^CRANMbACRGl@CVE`@EXCd@CXI|@KpAKrAGz@?DCTGz@I~@Ed@En@Iv@C^E\\\\E\\\\Iv@Ed@CVCTC\\\\EZEj@Gj@MnAAFK`AGr@Iv@K`AK`AALCZE^G\\\\G^ETGZG\\\\IZEPELGTIVKZKVABITOZO^S`@c@x@Wf@Q`@KTA@Q\\\\O\\\\KRCDIVSh@K\\\\ADIXGRABGZCHEVGZGVYlBEVE\\\\OjAAJK|@AJGb@CXKbAGl@?@KdAMlACZEXCTGl@ALE`@E^CXAHCVC\\\\CTCNMjAC`@Gl@A@C^CNCZAFCTEh@Gd@KfAIv@Iv@Ix@Iv@Gp@Kx@Kv@Kl@I^I^GTIZENABKZKZM\\\\KVKTABKTKTWh@GN]r@IPO\\\\O^CBGNGPCFCDADMZCHIVEROh@Qp@G\\\\ETOt@EZId@I\\\\ALERCPI\\\\I`@ERKb@ENGTIXM^IRIRGNGPGLYh@Q\\\\MPMRW`@UXa@l@SZORU^MN]f@SXUXOTSV_@h@A@'}, 'start_location': {'lat': 42.8761856, 'lng': -78.79251529999999}, 'travel_mode': 'DRIVING'}, {'distance': {'text': '0.4 km', 'value': 405}, 'duration': {'text': '1 min', 'value': 34}, 'end_location': {'lat': 42.8840002, 'lng': -78.8807492}, 'html_instructions': 'Take exit <b>7</b> for <b>Church St</b> toward <b>Buffalo</b>/<wbr/><b>Outer Hbr</b>', 'maneuver': 'ramp-right', 'polyline': {'points': 'yivdGrmm`NS?m@p@MNCBo@p@[ZC@EDYZUTABOL_@`@MLA?GDEBE@EBE?E@E@K?C?A?A?CAE?GCIAAACAIGKIKSEIEKEMCKCOAWCe@?ICm@AO?KAU?A?M?O?S@S'}, 'start_location': {'lat': 42.8817268, 'lng': -78.8810562}, 'travel_mode': 'DRIVING'}, {'distance': {'text': '0.1 km', 'value': 149}, 'duration': {'text': '1 min', 'value': 28}, 'end_location': {'lat': 42.8836918, 'lng': -78.8789717}, 'html_instructions': 'Continue onto <b>Church St</b>', 'polyline': {'points': '_xvdGtkm`NDi@@EFo@JaAFi@XwC'}, 'start_location': {'lat': 42.8840002, 'lng': -78.8807492}, 'travel_mode': 'DRIVING'}, {'distance': {'text': '0.3 km', 'value': 258}, 'duration': {'text': '1 min', 'value': 56}, 'end_location': {'lat': 42.8859188, 'lng': -78.8781812}, 'html_instructions': 'Turn <b>left</b> onto <b>Delaware Ave</b>', 'maneuver': 'turn-left', 'polyline': {'points': 'avvdGp`m`NU?cASgBa@_ASkCm@IMUMOI'}, 'start_location': {'lat': 42.8836918, 'lng': -78.8789717}, 'travel_mode': 'DRIVING'}, {'distance': {'text': '0.3 km', 'value': 261}, 'duration': {'text': '1 min', 'value': 51}, 'end_location': {'lat': 42.8865433, 'lng': -78.8787823}, 'html_instructions': 'Enter the traffic circle', 'polyline': {'points': '_dwdGr{l`N?M?E?Q?OAI?CCOEMEGAAGGIEQIOGA?UCW@S@IFKFGFCBEFABCFCNG^AHC^?@?P@J@F@F@FBFBF@DBDBDBBJJHDHBHBF@'}, 'start_location': {'lat': 42.8859188, 'lng': -78.8781812}, 'travel_mode': 'DRIVING'}], 'traffic_speed_entry': [], 'via_waypoint': []}}, {'lat': 42.8712406, 'lng': -78.7899288, 'dist': 853, 'nearest_ev_station': {'geometry': {'location': {'lat': 42.88644679999999, 'lng': -78.8783689}, 'viewport': {'northeast': {'lat': 42.96645491324809, 'lng': -78.79515704054361}, 'southwest': {'lat': 42.82602299418375, 'lng': -78.93372757343188}}}, 'icon': 'https://maps.gstatic.com/mapfiles/place_api/icons/v1/png_71/geocode-71.png', 'icon_background_color': '#7B9EB0', 'icon_mask_base_uri': 'https://maps.gstatic.com/mapfiles/place_api/icons/v2/generic_pinlet', 'name': 'Buffalo', 'photos': [{'height': 498, 'html_attributions': ['<a href=\"https://maps.google.com/maps/contrib/108252628278597712087\">Abdulrahman Ghummied</a>'], 'photo_reference': 'ATplDJaTxaUPsTb0m_J_52mPQl1VyygGyMSXucCYZm7wFvr03o04p9OvjEfW9l2g4JV0qenJsNwLWR5QYAI6V6zZ-paN2KPN_FxkkVSmKdwLkxYaiv7YNUmc2GwxBv9fxLm47vopeIzFNBsXvaavFDuVjE4VmbYmaTmAwPomovhfz1RsJ-JV', 'width': 736}], 'place_id': 'ChIJoeXfUmES04kRcYEfGKUEI5g', 'reference': 'ChIJoeXfUmES04kRcYEfGKUEI5g', 'scope': 'GOOGLE', 'types': ['locality', 'political'], 'vicinity': 'Buffalo'}, 'nearest_ev_station_distance': 9785, 'nearest_ev_route_segment': {'distance': {'text': '9.8 km', 'value': 9785}, 'duration': {'text': '9 mins', 'value': 511}, 'end_address': '1 Niagara Square, Buffalo, NY 14202, USA', 'end_location': {'lat': 42.8865433, 'lng': -78.8787823}, 'start_address': '29 Harlem Rd, Cheektowaga, NY 14206, USA', 'start_location': {'lat': 42.8712406, 'lng': -78.7899288}, 'steps': [{'distance': {'text': '0.9 km', 'value': 853}, 'duration': {'text': '1 min', 'value': 40}, 'end_location': {'lat': 42.8761856, 'lng': -78.79251529999999}, 'html_instructions': 'Head <b>northeast</b> on <b>Exit 53</b>', 'polyline': {'points': 'ghtdG`t{_NWYYGKCICGCMGGCEAIEIEKGOIIGIIKGGGIIKKKMEGKMEEMQQUQSGGGKSSIIIIEEA?EEIGIGECECCCKCOIC?GEGAICIAEAWEC?EAI?OAI?I?A?K@K@I?I@C@MBKBUDGBODMFGBQHC@OJIDA@GDURGDUTOPEFGHGJIJEJGJEJGJELGNENEL?BCJENCLCLCNAPCNCVAZC\\\\Ct@Ev@Cd@Cf@E`A?LAVCvAAb@'}, 'start_location': {'lat': 42.8712406, 'lng': -78.7899288}, 'travel_mode': 'DRIVING'}, {'distance': {'text': '7.9 km', 'value': 7859}, 'duration': {'text': '5 mins', 'value': 302}, 'end_location': {'lat': 42.8817268, 'lng': -78.8810562}, 'html_instructions': 'Continue onto <b>I-190 N</b>', 'polyline': {'points': 'egudGfd|_N?b@Az@?fACxB?zAAd@?V?h@AX?P?jAAf@?x@A|@?~@Ax@A~A?t@AvA?z@Al@AnBAdB?f@?XA^?`@CtCAnA?^A~BA~AA`AAfC?\\\\A`D?j@?f@BjCD`C?LJxCNdCF~@HlAXnC?HJn@F`@Hh@Hf@R|@Pt@Lb@Rr@b@tAN`@N^LXTd@Tf@NXT^LTLR\\\\f@T^RXj@z@T\\\\JLd@r@v@hAPXRXLRh@v@R\\\\fA|A|@rAl@|@j@x@NTHL`AvAh@v@l@|@NTLPT\\\\HLb@r@BFfApBh@hAN\\\\L\\\\Rf@Rh@Tn@Vz@BFT|@Pv@Jn@Hn@NfAJlAN`BLhBV`EHtABj@D~@@NJhCDzA?HBx@HtC?lAAZ?JAf@GlAAPCZE\\\\SpBMjAUxBO|ACPAPOxAK`AEb@Gl@ADI`A]`DUbCGj@Gj@k@vFCZa@xDMhAGl@CXE^I|@Gh@MtAEb@OtAARCTGd@E`@AFKhACRYzCABMrAEZE\\\\Gv@Ix@Gf@In@C\\\\QrAAHAHIh@ADCRa@`CUnACLGZCJQv@CNYpAMl@K`@Qz@Mn@ERYzAMt@E\\\\G\\\\E\\\\EZG^CRANMbACRGl@CVE`@EXCd@CXI|@KpAKrAGz@?DCTGz@I~@Ed@En@Iv@C^E\\\\E\\\\Iv@Ed@CVCTC\\\\EZEj@Gj@MnAAFK`AGr@Iv@K`AK`AALCZE^G\\\\G^ETGZG\\\\IZEPELGTIVKZKVABITOZO^S`@c@x@Wf@Q`@KTA@Q\\\\O\\\\KRCDIVSh@K\\\\ADIXGRABGZCHEVGZGVYlBEVE\\\\OjAAJK|@AJGb@CXKbAGl@?@KdAMlACZEXCTGl@ALE`@E^CXAHCVC\\\\CTCNMjAC`@Gl@A@C^CNCZAFCTEh@Gd@KfAIv@Iv@Ix@Iv@Gp@Kx@Kv@Kl@I^I^GTIZENABKZKZM\\\\KVKTABKTKTWh@GN]r@IPO\\\\O^CBGNGPCFCDADMZCHIVEROh@Qp@G\\\\ETOt@EZId@I\\\\ALERCPI\\\\I`@ERKb@ENGTIXM^IRIRGNGPGLYh@Q\\\\MPMRW`@UXa@l@SZORU^MN]f@SXUXOTSV_@h@A@'}, 'start_location': {'lat': 42.8761856, 'lng': -78.79251529999999}, 'travel_mode': 'DRIVING'}, {'distance': {'text': '0.4 km', 'value': 405}, 'duration': {'text': '1 min', 'value': 34}, 'end_location': {'lat': 42.8840002, 'lng': -78.8807492}, 'html_instructions': 'Take exit <b>7</b> for <b>Church St</b> toward <b>Buffalo</b>/<wbr/><b>Outer Hbr</b>', 'maneuver': 'ramp-right', 'polyline': {'points': 'yivdGrmm`NS?m@p@MNCBo@p@[ZC@EDYZUTABOL_@`@MLA?GDEBE@EBE?E@E@K?C?A?A?CAE?GCIAAACAIGKIKSEIEKEMCKCOAWCe@?ICm@AO?KAU?A?M?O?S@S'}, 'start_location': {'lat': 42.8817268, 'lng': -78.8810562}, 'travel_mode': 'DRIVING'}, {'distance': {'text': '0.1 km', 'value': 149}, 'duration': {'text': '1 min', 'value': 28}, 'end_location': {'lat': 42.8836918, 'lng': -78.8789717}, 'html_instructions': 'Continue onto <b>Church St</b>', 'polyline': {'points': '_xvdGtkm`NDi@@EFo@JaAFi@XwC'}, 'start_location': {'lat': 42.8840002, 'lng': -78.8807492}, 'travel_mode': 'DRIVING'}, {'distance': {'text': '0.3 km', 'value': 258}, 'duration': {'text': '1 min', 'value': 56}, 'end_location': {'lat': 42.8859188, 'lng': -78.8781812}, 'html_instructions': 'Turn <b>left</b> onto <b>Delaware Ave</b>', 'maneuver': 'turn-left', 'polyline': {'points': 'avvdGp`m`NU?cASgBa@_ASkCm@IMUMOI'}, 'start_location': {'lat': 42.8836918, 'lng': -78.8789717}, 'travel_mode': 'DRIVING'}, {'distance': {'text': '0.3 km', 'value': 261}, 'duration': {'text': '1 min', 'value': 51}, 'end_location': {'lat': 42.8865433, 'lng': -78.8787823}, 'html_instructions': 'Enter the traffic circle', 'polyline': {'points': '_dwdGr{l`N?M?E?Q?OAI?CCOEMEGAAGGIEQIOGA?UCW@S@IFKFGFCBEFABCFCNG^AHC^?@?P@J@F@F@FBFBF@DBDBDBBJJHDHBHBF@'}, 'start_location': {'lat': 42.8859188, 'lng': -78.8781812}, 'travel_mode': 'DRIVING'}], 'traffic_speed_entry': [], 'via_waypoint': []}}, {'lat': 42.8761856, 'lng': -78.79251529999999, 'dist': 7859, 'nearest_ev_station': {'geometry': {'location': {'lat': 42.88644679999999, 'lng': -78.8783689}, 'viewport': {'northeast': {'lat': 42.96645491324809, 'lng': -78.79515704054361}, 'southwest': {'lat': 42.82602299418375, 'lng': -78.93372757343188}}}, 'icon': 'https://maps.gstatic.com/mapfiles/place_api/icons/v1/png_71/geocode-71.png', 'icon_background_color': '#7B9EB0', 'icon_mask_base_uri': 'https://maps.gstatic.com/mapfiles/place_api/icons/v2/generic_pinlet', 'name': 'Buffalo', 'photos': [{'height': 498, 'html_attributions': ['<a href=\"https://maps.google.com/maps/contrib/108252628278597712087\">Abdulrahman Ghummied</a>'], 'photo_reference': 'ATplDJajRvwN0awcrRz2vDeDRw93FO01m4V2C06HMHJWx7zNnbfXAdj1kQ__ntOVF0P3hPHsN0GOU4UrshBNOpVs4YySfwSaGaeVqamqBDz9vwnG-BebZw50LcVm7QduROWF3Fwmk4QBNqSowh8k5Ym3d42tvibRldaKNKK5UPu-YEsaHGys', 'width': 736}], 'place_id': 'ChIJoeXfUmES04kRcYEfGKUEI5g', 'reference': 'ChIJoeXfUmES04kRcYEfGKUEI5g', 'scope': 'GOOGLE', 'types': ['locality', 'political'], 'vicinity': 'Buffalo'}, 'nearest_ev_station_distance': 8932, 'nearest_ev_route_segment': {'distance': {'text': '8.9 km', 'value': 8932}, 'duration': {'text': '8 mins', 'value': 471}, 'end_address': '1 Niagara Square, Buffalo, NY 14202, USA', 'end_location': {'lat': 42.8865433, 'lng': -78.8787823}, 'start_address': '617 Dingens St, Cheektowaga, NY 14206, USA', 'start_location': {'lat': 42.8761856, 'lng': -78.79251529999999}, 'steps': [{'distance': {'text': '7.9 km', 'value': 7859}, 'duration': {'text': '5 mins', 'value': 302}, 'end_location': {'lat': 42.8817268, 'lng': -78.8810562}, 'html_instructions': 'Head <b>west</b> on <b>I-190 N</b>', 'polyline': {'points': 'egudGfd|_N?b@Az@?fACxB?zAAd@?V?h@AX?P?jAAf@?x@A|@?~@Ax@A~A?t@AvA?z@Al@AnBAdB?f@?XA^?`@CtCAnA?^A~BA~AA`AAfC?\\\\A`D?j@?f@BjCD`C?LJxCNdCF~@HlAXnC?HJn@F`@Hh@Hf@R|@Pt@Lb@Rr@b@tAN`@N^LXTd@Tf@NXT^LTLR\\\\f@T^RXj@z@T\\\\JLd@r@v@hAPXRXLRh@v@R\\\\fA|A|@rAl@|@j@x@NTHL`AvAh@v@l@|@NTLPT\\\\HLb@r@BFfApBh@hAN\\\\L\\\\Rf@Rh@Tn@Vz@BFT|@Pv@Jn@Hn@NfAJlAN`BLhBV`EHtABj@D~@@NJhCDzA?HBx@HtC?lAAZ?JAf@GlAAPCZE\\\\SpBMjAUxBO|ACPAPOxAK`AEb@Gl@ADI`A]`DUbCGj@Gj@k@vFCZa@xDMhAGl@CXE^I|@Gh@MtAEb@OtAARCTGd@E`@AFKhACRYzCABMrAEZE\\\\Gv@Ix@Gf@In@C\\\\QrAAHAHIh@ADCRa@`CUnACLGZCJQv@CNYpAMl@K`@Qz@Mn@ERYzAMt@E\\\\G\\\\E\\\\EZG^CRANMbACRGl@CVE`@EXCd@CXI|@KpAKrAGz@?DCTGz@I~@Ed@En@Iv@C^E\\\\E\\\\Iv@Ed@CVCTC\\\\EZEj@Gj@MnAAFK`AGr@Iv@K`AK`AALCZE^G\\\\G^ETGZG\\\\IZEPELGTIVKZKVABITOZO^S`@c@x@Wf@Q`@KTA@Q\\\\O\\\\KRCDIVSh@K\\\\ADIXGRABGZCHEVGZGVYlBEVE\\\\OjAAJK|@AJGb@CXKbAGl@?@KdAMlACZEXCTGl@ALE`@E^CXAHCVC\\\\CTCNMjAC`@Gl@A@C^CNCZAFCTEh@Gd@KfAIv@Iv@Ix@Iv@Gp@Kx@Kv@Kl@I^I^GTIZENABKZKZM\\\\KVKTABKTKTWh@GN]r@IPO\\\\O^CBGNGPCFCDADMZCHIVEROh@Qp@G\\\\ETOt@EZId@I\\\\ALERCPI\\\\I`@ERKb@ENGTIXM^IRIRGNGPGLYh@Q\\\\MPMRW`@UXa@l@SZORU^MN]f@SXUXOTSV_@h@A@'}, 'start_location': {'lat': 42.8761856, 'lng': -78.79251529999999}, 'travel_mode': 'DRIVING'}, {'distance': {'text': '0.4 km', 'value': 405}, 'duration': {'text': '1 min', 'value': 34}, 'end_location': {'lat': 42.8840002, 'lng': -78.8807492}, 'html_instructions': 'Take exit <b>7</b> for <b>Church St</b> toward <b>Buffalo</b>/<wbr/><b>Outer Hbr</b>', 'maneuver': 'ramp-right', 'polyline': {'points': 'yivdGrmm`NS?m@p@MNCBo@p@[ZC@EDYZUTABOL_@`@MLA?GDEBE@EBE?E@E@K?C?A?A?CAE?GCIAAACAIGKIKSEIEKEMCKCOAWCe@?ICm@AO?KAU?A?M?O?S@S'}, 'start_location': {'lat': 42.8817268, 'lng': -78.8810562}, 'travel_mode': 'DRIVING'}, {'distance': {'text': '0.1 km', 'value': 149}, 'duration': {'text': '1 min', 'value': 28}, 'end_location': {'lat': 42.8836918, 'lng': -78.8789717}, 'html_instructions': 'Continue onto <b>Church St</b>', 'polyline': {'points': '_xvdGtkm`NDi@@EFo@JaAFi@XwC'}, 'start_location': {'lat': 42.8840002, 'lng': -78.8807492}, 'travel_mode': 'DRIVING'}, {'distance': {'text': '0.3 km', 'value': 258}, 'duration': {'text': '1 min', 'value': 56}, 'end_location': {'lat': 42.8859188, 'lng': -78.8781812}, 'html_instructions': 'Turn <b>left</b> onto <b>Delaware Ave</b>', 'maneuver': 'turn-left', 'polyline': {'points': 'avvdGp`m`NU?cASgBa@_ASkCm@IMUMOI'}, 'start_location': {'lat': 42.8836918, 'lng': -78.8789717}, 'travel_mode': 'DRIVING'}, {'distance': {'text': '0.3 km', 'value': 261}, 'duration': {'text': '1 min', 'value': 51}, 'end_location': {'lat': 42.8865433, 'lng': -78.8787823}, 'html_instructions': 'Enter the traffic circle', 'polyline': {'points': '_dwdGr{l`N?M?E?Q?OAI?CCOEMEGAAGGIEQIOGA?UCW@S@IFKFGFCBEFABCFCNG^AHC^?@?P@J@F@F@FBFBF@DBDBDBBJJHDHBHBF@'}, 'start_location': {'lat': 42.8859188, 'lng': -78.8781812}, 'travel_mode': 'DRIVING'}], 'traffic_speed_entry': [], 'via_waypoint': []}}, {'lat': 42.8817268, 'lng': -78.8810562, 'dist': 405, 'nearest_ev_station': {'geometry': {'location': {'lat': 42.88644679999999, 'lng': -78.8783689}, 'viewport': {'northeast': {'lat': 42.96645491324809, 'lng': -78.79515704054361}, 'southwest': {'lat': 42.82602299418375, 'lng': -78.93372757343188}}}, 'icon': 'https://maps.gstatic.com/mapfiles/place_api/icons/v1/png_71/geocode-71.png', 'icon_background_color': '#7B9EB0', 'icon_mask_base_uri': 'https://maps.gstatic.com/mapfiles/place_api/icons/v2/generic_pinlet', 'name': 'Buffalo', 'photos': [{'height': 498, 'html_attributions': ['<a href=\"https://maps.google.com/maps/contrib/108252628278597712087\">Abdulrahman Ghummied</a>'], 'photo_reference': 'ATplDJbRKAOX_Hj8H0dZ3Tx9YCfEEWuWLnOB8VciaY0xoaSY-B9SCl6paKTosP-oGVOUx55pYDiNJ5-Da98R3MLOAtxAk7wpHNqIWKMWNlFJLaXN4Bx4ccSiOpS1etLMVLN1rutftj8O5x21iMtXu1zbCPhrUzoSx7X0Jg_QwHGuGZkMJcPK', 'width': 736}], 'place_id': 'ChIJoeXfUmES04kRcYEfGKUEI5g', 'reference': 'ChIJoeXfUmES04kRcYEfGKUEI5g', 'scope': 'GOOGLE', 'types': ['locality', 'political'], 'vicinity': 'Buffalo'}, 'nearest_ev_station_distance': 1073, 'nearest_ev_route_segment': {'distance': {'text': '1.1 km', 'value': 1073}, 'duration': {'text': '3 mins', 'value': 169}, 'end_address': '1 Niagara Square, Buffalo, NY 14202, USA', 'end_location': {'lat': 42.8865433, 'lng': -78.8787823}, 'start_address': '120 Church St, Buffalo, NY 14202, USA', 'start_location': {'lat': 42.8817268, 'lng': -78.8810562}, 'steps': [{'distance': {'text': '0.4 km', 'value': 405}, 'duration': {'text': '1 min', 'value': 34}, 'end_location': {'lat': 42.8840002, 'lng': -78.8807492}, 'html_instructions': 'Head <b>north</b> on <b>Exit 7</b>', 'polyline': {'points': 'yivdGrmm`NS?m@p@MNCBo@p@[ZC@EDYZUTABOL_@`@MLA?GDEBE@EBE?E@E@K?C?A?A?CAE?GCIAAACAIGKIKSEIEKEMCKCOAWCe@?ICm@AO?KAU?A?M?O?S@S'}, 'start_location': {'lat': 42.8817268, 'lng': -78.8810562}, 'travel_mode': 'DRIVING'}, {'distance': {'text': '0.1 km', 'value': 149}, 'duration': {'text': '1 min', 'value': 28}, 'end_location': {'lat': 42.8836918, 'lng': -78.8789717}, 'html_instructions': 'Continue onto <b>Church St</b>', 'polyline': {'points': '_xvdGtkm`NDi@@EFo@JaAFi@XwC'}, 'start_location': {'lat': 42.8840002, 'lng': -78.8807492}, 'travel_mode': 'DRIVING'}, {'distance': {'text': '0.3 km', 'value': 258}, 'duration': {'text': '1 min', 'value': 56}, 'end_location': {'lat': 42.8859188, 'lng': -78.8781812}, 'html_instructions': 'Turn <b>left</b> onto <b>Delaware Ave</b>', 'maneuver': 'turn-left', 'polyline': {'points': 'avvdGp`m`NU?cASgBa@_ASkCm@IMUMOI'}, 'start_location': {'lat': 42.8836918, 'lng': -78.8789717}, 'travel_mode': 'DRIVING'}, {'distance': {'text': '0.3 km', 'value': 261}, 'duration': {'text': '1 min', 'value': 51}, 'end_location': {'lat': 42.8865433, 'lng': -78.8787823}, 'html_instructions': 'Enter the traffic circle', 'polyline': {'points': '_dwdGr{l`N?M?E?Q?OAI?CCOEMEGAAGGIEQIOGA?UCW@S@IFKFGFCBEFABCFCNG^AHC^?@?P@J@F@F@FBFBF@DBDBDBBJJHDHBHBF@'}, 'start_location': {'lat': 42.8859188, 'lng': -78.8781812}, 'travel_mode': 'DRIVING'}], 'traffic_speed_entry': [], 'via_waypoint': []}}, {'lat': 42.8840002, 'lng': -78.8807492, 'dist': 149, 'nearest_ev_station': {'geometry': {'location': {'lat': 42.88644679999999, 'lng': -78.8783689}, 'viewport': {'northeast': {'lat': 42.96645491324809, 'lng': -78.79515704054361}, 'southwest': {'lat': 42.82602299418375, 'lng': -78.93372757343188}}}, 'icon': 'https://maps.gstatic.com/mapfiles/place_api/icons/v1/png_71/geocode-71.png', 'icon_background_color': '#7B9EB0', 'icon_mask_base_uri': 'https://maps.gstatic.com/mapfiles/place_api/icons/v2/generic_pinlet', 'name': 'Buffalo', 'photos': [{'height': 498, 'html_attributions': ['<a href=\"https://maps.google.com/maps/contrib/108252628278597712087\">Abdulrahman Ghummied</a>'], 'photo_reference': 'ATplDJakS94tqplERalwBqzDteuSXqgT8pFmCVbSPl94_eY4JHuoskFgS49RQiPONkgODtMpPs0uHBrDe-_U4AKwhppqlgbtqwa3ZcFxZ8XdJpLE4bOlic5QTuF9QORZAC4k0kGKJJ_SzC2rP2XpeM9A8ZrDMAxxyLKNMJ5R5t4X1WTzqovt', 'width': 736}], 'place_id': 'ChIJoeXfUmES04kRcYEfGKUEI5g', 'reference': 'ChIJoeXfUmES04kRcYEfGKUEI5g', 'scope': 'GOOGLE', 'types': ['locality', 'political'], 'vicinity': 'Buffalo'}, 'nearest_ev_station_distance': 668, 'nearest_ev_route_segment': {'distance': {'text': '0.7 km', 'value': 668}, 'duration': {'text': '2 mins', 'value': 133}, 'end_address': '1 Niagara Square, Buffalo, NY 14202, USA', 'end_location': {'lat': 42.8865433, 'lng': -78.8787823}, 'start_address': '9 Church St, Buffalo, NY 14202, USA', 'start_location': {'lat': 42.8840002, 'lng': -78.8807492}, 'steps': [{'distance': {'text': '0.1 km', 'value': 149}, 'duration': {'text': '1 min', 'value': 26}, 'end_location': {'lat': 42.8836918, 'lng': -78.8789717}, 'html_instructions': 'Head <b>east</b> on <b>Church St</b> toward <b>Lower Terrace</b>', 'polyline': {'points': '_xvdGtkm`NDi@@EFo@JaAFi@XwC'}, 'start_location': {'lat': 42.8840002, 'lng': -78.8807492}, 'travel_mode': 'DRIVING'}, {'distance': {'text': '0.3 km', 'value': 258}, 'duration': {'text': '1 min', 'value': 56}, 'end_location': {'lat': 42.8859188, 'lng': -78.8781812}, 'html_instructions': 'Turn <b>left</b> onto <b>Delaware Ave</b>', 'maneuver': 'turn-left', 'polyline': {'points': 'avvdGp`m`NU?cASgBa@_ASkCm@IMUMOI'}, 'start_location': {'lat': 42.8836918, 'lng': -78.8789717}, 'travel_mode': 'DRIVING'}, {'distance': {'text': '0.3 km', 'value': 261}, 'duration': {'text': '1 min', 'value': 51}, 'end_location': {'lat': 42.8865433, 'lng': -78.8787823}, 'html_instructions': 'Enter the traffic circle', 'polyline': {'points': '_dwdGr{l`N?M?E?Q?OAI?CCOEMEGAAGGIEQIOGA?UCW@S@IFKFGFCBEFABCFCNG^AHC^?@?P@J@F@F@FBFBF@DBDBDBBJJHDHBHBF@'}, 'start_location': {'lat': 42.8859188, 'lng': -78.8781812}, 'travel_mode': 'DRIVING'}], 'traffic_speed_entry': [], 'via_waypoint': []}}, {'lat': 42.8836918, 'lng': -78.8789717, 'dist': 258, 'nearest_ev_station': {'geometry': {'location': {'lat': 42.88644679999999, 'lng': -78.8783689}, 'viewport': {'northeast': {'lat': 42.96645491324809, 'lng': -78.79515704054361}, 'southwest': {'lat': 42.82602299418375, 'lng': -78.93372757343188}}}, 'icon': 'https://maps.gstatic.com/mapfiles/place_api/icons/v1/png_71/geocode-71.png', 'icon_background_color': '#7B9EB0', 'icon_mask_base_uri': 'https://maps.gstatic.com/mapfiles/place_api/icons/v2/generic_pinlet', 'name': 'Buffalo', 'photos': [{'height': 498, 'html_attributions': ['<a href=\"https://maps.google.com/maps/contrib/108252628278597712087\">Abdulrahman Ghummied</a>'], 'photo_reference': 'ATplDJZFIs8H2YRWSrTroMC0lh4-WmbAgyRYMy_K15YLXIKAh2Rp5Tv07TcAtANlKIyhIs-sMKfLAGp6bR301K6Fe5In5SqRbzR5tiyeM9ouG0mEvUULTeRNT_yleirS6BDyt-gsNeTDM_5xFch5Hmh6cR5l9XHMmrynZMqT711bWdLAhGDD', 'width': 736}], 'place_id': 'ChIJoeXfUmES04kRcYEfGKUEI5g', 'reference': 'ChIJoeXfUmES04kRcYEfGKUEI5g', 'scope': 'GOOGLE', 'types': ['locality', 'political'], 'vicinity': 'Buffalo'}, 'nearest_ev_station_distance': 519, 'nearest_ev_route_segment': {'distance': {'text': '0.5 km', 'value': 519}, 'duration': {'text': '2 mins', 'value': 107}, 'end_address': '1 Niagara Square, Buffalo, NY 14202, USA', 'end_location': {'lat': 42.8865433, 'lng': -78.8787823}, 'start_address': '8 Delaware Ave, Buffalo, NY 14202, USA', 'start_location': {'lat': 42.8836918, 'lng': -78.8789717}, 'steps': [{'distance': {'text': '0.3 km', 'value': 258}, 'duration': {'text': '1 min', 'value': 56}, 'end_location': {'lat': 42.8859188, 'lng': -78.8781812}, 'html_instructions': 'Head <b>north</b> on <b>Delaware Ave</b> toward <b>Church St</b>', 'polyline': {'points': 'avvdGp`m`NU?cASgBa@_ASkCm@IMUMOI'}, 'start_location': {'lat': 42.8836918, 'lng': -78.8789717}, 'travel_mode': 'DRIVING'}, {'distance': {'text': '0.3 km', 'value': 261}, 'duration': {'text': '1 min', 'value': 51}, 'end_location': {'lat': 42.8865433, 'lng': -78.8787823}, 'html_instructions': 'Enter the traffic circle', 'polyline': {'points': '_dwdGr{l`N?M?E?Q?OAI?CCOEMEGAAGGIEQIOGA?UCW@S@IFKFGFCBEFABCFCNG^AHC^?@?P@J@F@F@FBFBF@DBDBDBBJJHDHBHBF@'}, 'start_location': {'lat': 42.8859188, 'lng': -78.8781812}, 'travel_mode': 'DRIVING'}], 'traffic_speed_entry': [], 'via_waypoint': []}}, {'lat': 42.8859188, 'lng': -78.8781812, 'dist': 261, 'nearest_ev_station': {'geometry': {'location': {'lat': 42.88644679999999, 'lng': -78.8783689}, 'viewport': {'northeast': {'lat': 42.96645491324809, 'lng': -78.79515704054361}, 'southwest': {'lat': 42.82602299418375, 'lng': -78.93372757343188}}}, 'icon': 'https://maps.gstatic.com/mapfiles/place_api/icons/v1/png_71/geocode-71.png', 'icon_background_color': '#7B9EB0', 'icon_mask_base_uri': 'https://maps.gstatic.com/mapfiles/place_api/icons/v2/generic_pinlet', 'name': 'Buffalo', 'photos': [{'height': 498, 'html_attributions': ['<a href=\"https://maps.google.com/maps/contrib/108252628278597712087\">Abdulrahman Ghummied</a>'], 'photo_reference': 'ATplDJY9ytVq4fcE7VFIHXqbUBuRIbTX-eVuZ9TKA1DkURCBCtOxRP0-YMy9rbnBbnEZ6lt_wckScOrdSX9ZJQ8keHsAiDTU-S68-H53iZq9P02Fj_h14g7GkMChTSJ-SKWM-a2XNXIl5P1JcdK1v5Lagr3O6Q_WYsIp3TKTwrPRhYJVNI__', 'width': 736}], 'place_id': 'ChIJoeXfUmES04kRcYEfGKUEI5g', 'reference': 'ChIJoeXfUmES04kRcYEfGKUEI5g', 'scope': 'GOOGLE', 'types': ['locality', 'political'], 'vicinity': 'Buffalo'}, 'nearest_ev_station_distance': 261, 'nearest_ev_route_segment': {'distance': {'text': '0.3 km', 'value': 261}, 'duration': {'text': '1 min', 'value': 51}, 'end_address': '1 Niagara Square, Buffalo, NY 14202, USA', 'end_location': {'lat': 42.8865433, 'lng': -78.8787823}, 'start_address': 'Delaware Ave Niagara Square North, Buffalo, NY 14202, USA', 'start_location': {'lat': 42.8859188, 'lng': -78.8781812}, 'steps': [{'distance': {'text': '0.3 km', 'value': 261}, 'duration': {'text': '1 min', 'value': 51}, 'end_location': {'lat': 42.8865433, 'lng': -78.8787823}, 'html_instructions': 'Head <b>east</b> toward <b>Niagara St</b>', 'polyline': {'points': '_dwdGr{l`N?M?E?Q?OAI?CCOEMEGAAGGIEQIOGA?UCW@S@IFKFGFCBEFABCFCNG^AHC^?@?P@J@F@F@FBFBF@DBDBDBBJJHDHBHBF@'}, 'start_location': {'lat': 42.8859188, 'lng': -78.8781812}, 'travel_mode': 'DRIVING'}], 'traffic_speed_entry': [], 'via_waypoint': []}}]\n"
     ]
    }
   ],
   "source": [
    "# Exmaple usage\n",
    "start = (40.743462, -74.029068)  \n",
    "\n",
    "# end = (40.783611, -74.698120)  # Chester, NJ\n",
    "\n",
    "# end = (28.538336,  -81.379234) # Orlando, FL\n",
    "\n",
    "end = (42.886448, -78.878372) # Buffalo, NY\n",
    "\n",
    "\n",
    "\n",
    "ev_route_planner = EVRoutePlanner(api_key, start, end, 300000)  # 320 km range\n",
    "route = ev_route_planner.calculate_route()\n",
    "print(route)\n"
   ]
  },
  {
   "cell_type": "code",
   "execution_count": 9,
   "metadata": {},
   "outputs": [
    {
     "data": {
      "application/vnd.plotly.v1+json": {
       "config": {
        "plotlyServerURL": "https://plot.ly"
       },
       "data": [
        {
         "hovertemplate": "lat=%{lat}<br>lon=%{lon}<extra></extra>",
         "lat": [
          40.7434694,
          40.7437773,
          40.7359385,
          40.7368213,
          40.7362133,
          40.7321369,
          40.7319276,
          40.7313096,
          40.7393459,
          40.7392083,
          40.7467093,
          40.7496648,
          40.85903039999999,
          40.9816374,
          40.9853357,
          41.0700082,
          41.0771771,
          41.4203419,
          41.4259279,
          42.1153809,
          42.1199771,
          42.0926669,
          42.0918825,
          42.0911563,
          42.1197995,
          42.1113337,
          42.1120061,
          42.09878519999999,
          42.0988558,
          42.09878519999999,
          42.10354969999999,
          42.1083906,
          42.1113924,
          42.1132411,
          42.1143697,
          42.1199771,
          42.0926669,
          42.0002243,
          42.3851571,
          42.6678405,
          42.6704148,
          42.7258868,
          42.75629960000001,
          42.7537711,
          42.7675038,
          42.77049299999999,
          42.8436312,
          42.8418711,
          42.835897,
          42.8418711,
          42.8420101,
          42.8498136,
          42.8523155,
          42.8712406,
          42.8761856,
          42.8817268,
          42.8840002,
          42.8836918,
          42.8859188
         ],
         "legendgroup": "",
         "line": {
          "color": "#636efa"
         },
         "lon": [
          -74.02906639999999,
          -74.0308202,
          -74.0331996,
          -74.03925219999999,
          -74.04336529999999,
          -74.0444018,
          -74.04635809999999,
          -74.05010829999999,
          -74.0647102,
          -74.0744335,
          -74.0960099,
          -74.1203428,
          -74.3652898,
          -75.1372741,
          -75.1382996,
          -75.39047359999999,
          -75.3941399,
          -75.6045125,
          -75.6117058,
          -75.9059406,
          -75.9462015,
          -76.03810639999999,
          -76.0442944,
          -76.0432905,
          -75.9478328,
          -75.9138754,
          -75.91015639999999,
          -75.9175497,
          -75.9179143,
          -75.9175497,
          -75.9160747,
          -75.9146069,
          -75.91563839999999,
          -75.9275382,
          -75.9322614,
          -75.9462015,
          -76.03810639999999,
          -76.52970599999999,
          -77.3755408,
          -77.8123535,
          -77.8111335,
          -77.8741958,
          -77.88465819999999,
          -77.928845,
          -78.59199339999999,
          -78.5921819,
          -78.7581797,
          -78.75421109999999,
          -78.7538886,
          -78.75421109999999,
          -78.7549227,
          -78.78806089999999,
          -78.79018719999999,
          -78.7899288,
          -78.79251529999999,
          -78.8810562,
          -78.8807492,
          -78.8789717,
          -78.8781812
         ],
         "mode": "lines",
         "name": "",
         "showlegend": false,
         "subplot": "mapbox",
         "type": "scattermapbox"
        },
        {
         "hoverinfo": "text",
         "lat": [
          40.743462,
          42.886448
         ],
         "lon": [
          -74.029068,
          -78.878372
         ],
         "marker": {
          "size": 10
         },
         "mode": "markers",
         "text": [
          "Start",
          "End"
         ],
         "type": "scattermapbox"
        },
        {
         "hoverinfo": "text",
         "lat": [
          42.0988558,
          42.835897
         ],
         "lon": [
          -75.9179143,
          -78.7538886
         ],
         "marker": {
          "color": "red",
          "size": 10
         },
         "mode": "markers",
         "text": [
          "Charging Station"
         ],
         "type": "scattermapbox"
        },
        {
         "hoverinfo": "text",
         "lat": [],
         "lon": [],
         "marker": {
          "color": "blue",
          "size": 9
         },
         "mode": "markers",
         "text": [
          "All Stations"
         ],
         "type": "scattermapbox"
        }
       ],
       "layout": {
        "legend": {
         "tracegroupgap": 0
        },
        "mapbox": {
         "center": {
          "lat": 41.954033252542374,
          "lon": -76.39428092542371
         },
         "domain": {
          "x": [
           0,
           1
          ],
          "y": [
           0,
           1
          ]
         },
         "style": "open-street-map",
         "zoom": 10
        },
        "margin": {
         "t": 60
        },
        "template": {
         "data": {
          "bar": [
           {
            "error_x": {
             "color": "#2a3f5f"
            },
            "error_y": {
             "color": "#2a3f5f"
            },
            "marker": {
             "line": {
              "color": "#E5ECF6",
              "width": 0.5
             },
             "pattern": {
              "fillmode": "overlay",
              "size": 10,
              "solidity": 0.2
             }
            },
            "type": "bar"
           }
          ],
          "barpolar": [
           {
            "marker": {
             "line": {
              "color": "#E5ECF6",
              "width": 0.5
             },
             "pattern": {
              "fillmode": "overlay",
              "size": 10,
              "solidity": 0.2
             }
            },
            "type": "barpolar"
           }
          ],
          "carpet": [
           {
            "aaxis": {
             "endlinecolor": "#2a3f5f",
             "gridcolor": "white",
             "linecolor": "white",
             "minorgridcolor": "white",
             "startlinecolor": "#2a3f5f"
            },
            "baxis": {
             "endlinecolor": "#2a3f5f",
             "gridcolor": "white",
             "linecolor": "white",
             "minorgridcolor": "white",
             "startlinecolor": "#2a3f5f"
            },
            "type": "carpet"
           }
          ],
          "choropleth": [
           {
            "colorbar": {
             "outlinewidth": 0,
             "ticks": ""
            },
            "type": "choropleth"
           }
          ],
          "contour": [
           {
            "colorbar": {
             "outlinewidth": 0,
             "ticks": ""
            },
            "colorscale": [
             [
              0,
              "#0d0887"
             ],
             [
              0.1111111111111111,
              "#46039f"
             ],
             [
              0.2222222222222222,
              "#7201a8"
             ],
             [
              0.3333333333333333,
              "#9c179e"
             ],
             [
              0.4444444444444444,
              "#bd3786"
             ],
             [
              0.5555555555555556,
              "#d8576b"
             ],
             [
              0.6666666666666666,
              "#ed7953"
             ],
             [
              0.7777777777777778,
              "#fb9f3a"
             ],
             [
              0.8888888888888888,
              "#fdca26"
             ],
             [
              1,
              "#f0f921"
             ]
            ],
            "type": "contour"
           }
          ],
          "contourcarpet": [
           {
            "colorbar": {
             "outlinewidth": 0,
             "ticks": ""
            },
            "type": "contourcarpet"
           }
          ],
          "heatmap": [
           {
            "colorbar": {
             "outlinewidth": 0,
             "ticks": ""
            },
            "colorscale": [
             [
              0,
              "#0d0887"
             ],
             [
              0.1111111111111111,
              "#46039f"
             ],
             [
              0.2222222222222222,
              "#7201a8"
             ],
             [
              0.3333333333333333,
              "#9c179e"
             ],
             [
              0.4444444444444444,
              "#bd3786"
             ],
             [
              0.5555555555555556,
              "#d8576b"
             ],
             [
              0.6666666666666666,
              "#ed7953"
             ],
             [
              0.7777777777777778,
              "#fb9f3a"
             ],
             [
              0.8888888888888888,
              "#fdca26"
             ],
             [
              1,
              "#f0f921"
             ]
            ],
            "type": "heatmap"
           }
          ],
          "heatmapgl": [
           {
            "colorbar": {
             "outlinewidth": 0,
             "ticks": ""
            },
            "colorscale": [
             [
              0,
              "#0d0887"
             ],
             [
              0.1111111111111111,
              "#46039f"
             ],
             [
              0.2222222222222222,
              "#7201a8"
             ],
             [
              0.3333333333333333,
              "#9c179e"
             ],
             [
              0.4444444444444444,
              "#bd3786"
             ],
             [
              0.5555555555555556,
              "#d8576b"
             ],
             [
              0.6666666666666666,
              "#ed7953"
             ],
             [
              0.7777777777777778,
              "#fb9f3a"
             ],
             [
              0.8888888888888888,
              "#fdca26"
             ],
             [
              1,
              "#f0f921"
             ]
            ],
            "type": "heatmapgl"
           }
          ],
          "histogram": [
           {
            "marker": {
             "pattern": {
              "fillmode": "overlay",
              "size": 10,
              "solidity": 0.2
             }
            },
            "type": "histogram"
           }
          ],
          "histogram2d": [
           {
            "colorbar": {
             "outlinewidth": 0,
             "ticks": ""
            },
            "colorscale": [
             [
              0,
              "#0d0887"
             ],
             [
              0.1111111111111111,
              "#46039f"
             ],
             [
              0.2222222222222222,
              "#7201a8"
             ],
             [
              0.3333333333333333,
              "#9c179e"
             ],
             [
              0.4444444444444444,
              "#bd3786"
             ],
             [
              0.5555555555555556,
              "#d8576b"
             ],
             [
              0.6666666666666666,
              "#ed7953"
             ],
             [
              0.7777777777777778,
              "#fb9f3a"
             ],
             [
              0.8888888888888888,
              "#fdca26"
             ],
             [
              1,
              "#f0f921"
             ]
            ],
            "type": "histogram2d"
           }
          ],
          "histogram2dcontour": [
           {
            "colorbar": {
             "outlinewidth": 0,
             "ticks": ""
            },
            "colorscale": [
             [
              0,
              "#0d0887"
             ],
             [
              0.1111111111111111,
              "#46039f"
             ],
             [
              0.2222222222222222,
              "#7201a8"
             ],
             [
              0.3333333333333333,
              "#9c179e"
             ],
             [
              0.4444444444444444,
              "#bd3786"
             ],
             [
              0.5555555555555556,
              "#d8576b"
             ],
             [
              0.6666666666666666,
              "#ed7953"
             ],
             [
              0.7777777777777778,
              "#fb9f3a"
             ],
             [
              0.8888888888888888,
              "#fdca26"
             ],
             [
              1,
              "#f0f921"
             ]
            ],
            "type": "histogram2dcontour"
           }
          ],
          "mesh3d": [
           {
            "colorbar": {
             "outlinewidth": 0,
             "ticks": ""
            },
            "type": "mesh3d"
           }
          ],
          "parcoords": [
           {
            "line": {
             "colorbar": {
              "outlinewidth": 0,
              "ticks": ""
             }
            },
            "type": "parcoords"
           }
          ],
          "pie": [
           {
            "automargin": true,
            "type": "pie"
           }
          ],
          "scatter": [
           {
            "fillpattern": {
             "fillmode": "overlay",
             "size": 10,
             "solidity": 0.2
            },
            "type": "scatter"
           }
          ],
          "scatter3d": [
           {
            "line": {
             "colorbar": {
              "outlinewidth": 0,
              "ticks": ""
             }
            },
            "marker": {
             "colorbar": {
              "outlinewidth": 0,
              "ticks": ""
             }
            },
            "type": "scatter3d"
           }
          ],
          "scattercarpet": [
           {
            "marker": {
             "colorbar": {
              "outlinewidth": 0,
              "ticks": ""
             }
            },
            "type": "scattercarpet"
           }
          ],
          "scattergeo": [
           {
            "marker": {
             "colorbar": {
              "outlinewidth": 0,
              "ticks": ""
             }
            },
            "type": "scattergeo"
           }
          ],
          "scattergl": [
           {
            "marker": {
             "colorbar": {
              "outlinewidth": 0,
              "ticks": ""
             }
            },
            "type": "scattergl"
           }
          ],
          "scattermapbox": [
           {
            "marker": {
             "colorbar": {
              "outlinewidth": 0,
              "ticks": ""
             }
            },
            "type": "scattermapbox"
           }
          ],
          "scatterpolar": [
           {
            "marker": {
             "colorbar": {
              "outlinewidth": 0,
              "ticks": ""
             }
            },
            "type": "scatterpolar"
           }
          ],
          "scatterpolargl": [
           {
            "marker": {
             "colorbar": {
              "outlinewidth": 0,
              "ticks": ""
             }
            },
            "type": "scatterpolargl"
           }
          ],
          "scatterternary": [
           {
            "marker": {
             "colorbar": {
              "outlinewidth": 0,
              "ticks": ""
             }
            },
            "type": "scatterternary"
           }
          ],
          "surface": [
           {
            "colorbar": {
             "outlinewidth": 0,
             "ticks": ""
            },
            "colorscale": [
             [
              0,
              "#0d0887"
             ],
             [
              0.1111111111111111,
              "#46039f"
             ],
             [
              0.2222222222222222,
              "#7201a8"
             ],
             [
              0.3333333333333333,
              "#9c179e"
             ],
             [
              0.4444444444444444,
              "#bd3786"
             ],
             [
              0.5555555555555556,
              "#d8576b"
             ],
             [
              0.6666666666666666,
              "#ed7953"
             ],
             [
              0.7777777777777778,
              "#fb9f3a"
             ],
             [
              0.8888888888888888,
              "#fdca26"
             ],
             [
              1,
              "#f0f921"
             ]
            ],
            "type": "surface"
           }
          ],
          "table": [
           {
            "cells": {
             "fill": {
              "color": "#EBF0F8"
             },
             "line": {
              "color": "white"
             }
            },
            "header": {
             "fill": {
              "color": "#C8D4E3"
             },
             "line": {
              "color": "white"
             }
            },
            "type": "table"
           }
          ]
         },
         "layout": {
          "annotationdefaults": {
           "arrowcolor": "#2a3f5f",
           "arrowhead": 0,
           "arrowwidth": 1
          },
          "autotypenumbers": "strict",
          "coloraxis": {
           "colorbar": {
            "outlinewidth": 0,
            "ticks": ""
           }
          },
          "colorscale": {
           "diverging": [
            [
             0,
             "#8e0152"
            ],
            [
             0.1,
             "#c51b7d"
            ],
            [
             0.2,
             "#de77ae"
            ],
            [
             0.3,
             "#f1b6da"
            ],
            [
             0.4,
             "#fde0ef"
            ],
            [
             0.5,
             "#f7f7f7"
            ],
            [
             0.6,
             "#e6f5d0"
            ],
            [
             0.7,
             "#b8e186"
            ],
            [
             0.8,
             "#7fbc41"
            ],
            [
             0.9,
             "#4d9221"
            ],
            [
             1,
             "#276419"
            ]
           ],
           "sequential": [
            [
             0,
             "#0d0887"
            ],
            [
             0.1111111111111111,
             "#46039f"
            ],
            [
             0.2222222222222222,
             "#7201a8"
            ],
            [
             0.3333333333333333,
             "#9c179e"
            ],
            [
             0.4444444444444444,
             "#bd3786"
            ],
            [
             0.5555555555555556,
             "#d8576b"
            ],
            [
             0.6666666666666666,
             "#ed7953"
            ],
            [
             0.7777777777777778,
             "#fb9f3a"
            ],
            [
             0.8888888888888888,
             "#fdca26"
            ],
            [
             1,
             "#f0f921"
            ]
           ],
           "sequentialminus": [
            [
             0,
             "#0d0887"
            ],
            [
             0.1111111111111111,
             "#46039f"
            ],
            [
             0.2222222222222222,
             "#7201a8"
            ],
            [
             0.3333333333333333,
             "#9c179e"
            ],
            [
             0.4444444444444444,
             "#bd3786"
            ],
            [
             0.5555555555555556,
             "#d8576b"
            ],
            [
             0.6666666666666666,
             "#ed7953"
            ],
            [
             0.7777777777777778,
             "#fb9f3a"
            ],
            [
             0.8888888888888888,
             "#fdca26"
            ],
            [
             1,
             "#f0f921"
            ]
           ]
          },
          "colorway": [
           "#636efa",
           "#EF553B",
           "#00cc96",
           "#ab63fa",
           "#FFA15A",
           "#19d3f3",
           "#FF6692",
           "#B6E880",
           "#FF97FF",
           "#FECB52"
          ],
          "font": {
           "color": "#2a3f5f"
          },
          "geo": {
           "bgcolor": "white",
           "lakecolor": "white",
           "landcolor": "#E5ECF6",
           "showlakes": true,
           "showland": true,
           "subunitcolor": "white"
          },
          "hoverlabel": {
           "align": "left"
          },
          "hovermode": "closest",
          "mapbox": {
           "style": "light"
          },
          "paper_bgcolor": "white",
          "plot_bgcolor": "#E5ECF6",
          "polar": {
           "angularaxis": {
            "gridcolor": "white",
            "linecolor": "white",
            "ticks": ""
           },
           "bgcolor": "#E5ECF6",
           "radialaxis": {
            "gridcolor": "white",
            "linecolor": "white",
            "ticks": ""
           }
          },
          "scene": {
           "xaxis": {
            "backgroundcolor": "#E5ECF6",
            "gridcolor": "white",
            "gridwidth": 2,
            "linecolor": "white",
            "showbackground": true,
            "ticks": "",
            "zerolinecolor": "white"
           },
           "yaxis": {
            "backgroundcolor": "#E5ECF6",
            "gridcolor": "white",
            "gridwidth": 2,
            "linecolor": "white",
            "showbackground": true,
            "ticks": "",
            "zerolinecolor": "white"
           },
           "zaxis": {
            "backgroundcolor": "#E5ECF6",
            "gridcolor": "white",
            "gridwidth": 2,
            "linecolor": "white",
            "showbackground": true,
            "ticks": "",
            "zerolinecolor": "white"
           }
          },
          "shapedefaults": {
           "line": {
            "color": "#2a3f5f"
           }
          },
          "ternary": {
           "aaxis": {
            "gridcolor": "white",
            "linecolor": "white",
            "ticks": ""
           },
           "baxis": {
            "gridcolor": "white",
            "linecolor": "white",
            "ticks": ""
           },
           "bgcolor": "#E5ECF6",
           "caxis": {
            "gridcolor": "white",
            "linecolor": "white",
            "ticks": ""
           }
          },
          "title": {
           "x": 0.05
          },
          "xaxis": {
           "automargin": true,
           "gridcolor": "white",
           "linecolor": "white",
           "ticks": "",
           "title": {
            "standoff": 15
           },
           "zerolinecolor": "white",
           "zerolinewidth": 2
          },
          "yaxis": {
           "automargin": true,
           "gridcolor": "white",
           "linecolor": "white",
           "ticks": "",
           "title": {
            "standoff": 15
           },
           "zerolinecolor": "white",
           "zerolinewidth": 2
          }
         }
        }
       }
      }
     },
     "metadata": {},
     "output_type": "display_data"
    }
   ],
   "source": [
    "# Plot the route on a map\n",
    "\n",
    "fig = px.line_mapbox(\n",
    "    lat=[node['lat'] for node in route],\n",
    "    lon=[node['lng'] for node in route],\n",
    "    zoom=10\n",
    ")\n",
    "\n",
    "fig.add_trace(go.Scattermapbox(\n",
    "    lat=[start[0], end[0]],\n",
    "    lon=[start[1], end[1]],\n",
    "    mode=\"markers\",\n",
    "    marker=go.scattermapbox.Marker(size=10),\n",
    "    text=[\"Start\", \"End\"],\n",
    "    hoverinfo=\"text\"\n",
    "))\n",
    "\n",
    "# Show the charging stations on the map\n",
    "fig.add_trace(go.Scattermapbox(\n",
    "    lat=[station['lat'] for station in ev_route_planner.charging_stations],\n",
    "    lon=[station['lng'] for station in ev_route_planner.charging_stations],\n",
    "    mode=\"markers\",\n",
    "    marker=go.scattermapbox.Marker(size=10, color=\"red\"),\n",
    "    text=[\"Charging Station\"],\n",
    "    hoverinfo=\"text\"\n",
    "))\n",
    "\n",
    "# Show all stations on the map\n",
    "fig.add_trace(go.Scattermapbox(\n",
    "    lat=[station['lat'] for station in ev_route_planner.all_stations],\n",
    "    lon=[station['lng'] for station in ev_route_planner.all_stations],\n",
    "    mode=\"markers\",\n",
    "    marker=go.scattermapbox.Marker(size=9, color=\"blue\"),\n",
    "    text=[\"All Stations\"],\n",
    "    hoverinfo=\"text\"\n",
    "))\n",
    "\n",
    "fig.update_layout(mapbox_style=\"open-street-map\")\n",
    "fig.show()"
   ]
  },
  {
   "cell_type": "code",
   "execution_count": 56,
   "metadata": {},
   "outputs": [
    {
     "data": {
      "text/plain": [
       "1440"
      ]
     },
     "execution_count": 56,
     "metadata": {},
     "output_type": "execute_result"
    }
   ],
   "source": [
    "len(ev_route_planner.all_stations)"
   ]
  },
  {
   "cell_type": "code",
   "execution_count": null,
   "metadata": {},
   "outputs": [],
   "source": []
  }
 ],
 "metadata": {
  "kernelspec": {
   "display_name": "Python 3",
   "language": "python",
   "name": "python3"
  },
  "language_info": {
   "codemirror_mode": {
    "name": "ipython",
    "version": 3
   },
   "file_extension": ".py",
   "mimetype": "text/x-python",
   "name": "python",
   "nbconvert_exporter": "python",
   "pygments_lexer": "ipython3",
   "version": "3.11.6"
  }
 },
 "nbformat": 4,
 "nbformat_minor": 2
}
